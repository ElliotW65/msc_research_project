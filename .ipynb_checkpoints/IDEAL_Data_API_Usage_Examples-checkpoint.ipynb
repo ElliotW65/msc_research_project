{
 "cells": [
  {
   "cell_type": "code",
   "execution_count": 1,
   "metadata": {
    "scrolled": true
   },
   "outputs": [
    {
     "name": "stdout",
     "output_type": "stream",
     "text": [
      "Populating the interactive namespace from numpy and matplotlib\n"
     ]
    }
   ],
   "source": [
    "%pylab inline"
   ]
  },
  {
   "cell_type": "code",
   "execution_count": 2,
   "metadata": {},
   "outputs": [],
   "source": [
    "import numpy as np\n",
    "import pandas as pd\n",
    "\n",
    "from IdealDataInterface import IdealDataInterface"
   ]
  },
  {
   "cell_type": "markdown",
   "metadata": {},
   "source": [
    "### Specify the folder where your sensor data is"
   ]
  },
  {
   "cell_type": "code",
   "execution_count": 3,
   "metadata": {},
   "outputs": [
    {
     "name": "stdout",
     "output_type": "stream",
     "text": [
      "Found entries for 1592 sensor readings.\n"
     ]
    }
   ],
   "source": [
    "folder_path = 'D:\\Documents\\MSc Project\\IDEAL Data\\sensordata'\n",
    "ideal = IdealDataInterface(folder_path)"
   ]
  },
  {
   "cell_type": "markdown",
   "metadata": {},
   "source": [
    "### Which room types are available?"
   ]
  },
  {
   "cell_type": "code",
   "execution_count": 4,
   "metadata": {
    "scrolled": true
   },
   "outputs": [
    {
     "data": {
      "text/plain": [
       "room_type\n",
       "hall             212\n",
       "kitchen          127\n",
       "outside          107\n",
       "utility           75\n",
       "livingroom        35\n",
       "bedroom           30\n",
       "other             27\n",
       "bathroom          12\n",
       "kitchenliving      8\n",
       "cupboard           6\n",
       "study              5\n",
       "diningroom         4\n",
       "Name: Number of rooms, dtype: int64"
      ]
     },
     "execution_count": 4,
     "metadata": {},
     "output_type": "execute_result"
    }
   ],
   "source": [
    "ideal.room_types()"
   ]
  },
  {
   "cell_type": "code",
   "execution_count": 5,
   "metadata": {},
   "outputs": [
    {
     "name": "stdout",
     "output_type": "stream",
     "text": [
      "<class 'IdealDataInterface.IdealDataInterface'>\n"
     ]
    }
   ],
   "source": [
    "print(type(ideal))"
   ]
  },
  {
   "cell_type": "markdown",
   "metadata": {},
   "source": [
    "### What categories are available?"
   ]
  },
  {
   "cell_type": "code",
   "execution_count": 6,
   "metadata": {},
   "outputs": [
    {
     "data": {
      "text/html": [
       "<div>\n",
       "<style scoped>\n",
       "    .dataframe tbody tr th:only-of-type {\n",
       "        vertical-align: middle;\n",
       "    }\n",
       "\n",
       "    .dataframe tbody tr th {\n",
       "        vertical-align: top;\n",
       "    }\n",
       "\n",
       "    .dataframe thead th {\n",
       "        text-align: right;\n",
       "    }\n",
       "</style>\n",
       "<table border=\"1\" class=\"dataframe\">\n",
       "  <thead>\n",
       "    <tr style=\"text-align: right;\">\n",
       "      <th></th>\n",
       "      <th>category</th>\n",
       "      <th>subtype</th>\n",
       "    </tr>\n",
       "  </thead>\n",
       "  <tbody>\n",
       "    <tr>\n",
       "      <th>0</th>\n",
       "      <td>gas-pulse</td>\n",
       "      <td>gas</td>\n",
       "    </tr>\n",
       "    <tr>\n",
       "      <th>1</th>\n",
       "      <td>tempprobe</td>\n",
       "      <td>central-heating-return</td>\n",
       "    </tr>\n",
       "    <tr>\n",
       "      <th>2</th>\n",
       "      <td>tempprobe</td>\n",
       "      <td>central-heating-flow</td>\n",
       "    </tr>\n",
       "    <tr>\n",
       "      <th>3</th>\n",
       "      <td>tempprobe</td>\n",
       "      <td>hot-water-cold-pipe</td>\n",
       "    </tr>\n",
       "    <tr>\n",
       "      <th>4</th>\n",
       "      <td>tempprobe</td>\n",
       "      <td>hot-water-hot-pipe</td>\n",
       "    </tr>\n",
       "    <tr>\n",
       "      <th>5</th>\n",
       "      <td>electric-mains</td>\n",
       "      <td>electric-combined</td>\n",
       "    </tr>\n",
       "    <tr>\n",
       "      <th>6</th>\n",
       "      <td>electric-subcircuit</td>\n",
       "      <td>mains</td>\n",
       "    </tr>\n",
       "    <tr>\n",
       "      <th>7</th>\n",
       "      <td>electric-subcircuit</td>\n",
       "      <td>cooker</td>\n",
       "    </tr>\n",
       "    <tr>\n",
       "      <th>8</th>\n",
       "      <td>electric-subcircuit</td>\n",
       "      <td>shower</td>\n",
       "    </tr>\n",
       "    <tr>\n",
       "      <th>9</th>\n",
       "      <td>electric-subcircuit</td>\n",
       "      <td>unlabelled</td>\n",
       "    </tr>\n",
       "    <tr>\n",
       "      <th>10</th>\n",
       "      <td>electric-subcircuit</td>\n",
       "      <td>heating</td>\n",
       "    </tr>\n",
       "    <tr>\n",
       "      <th>11</th>\n",
       "      <td>electric-subcircuit</td>\n",
       "      <td>water-heater</td>\n",
       "    </tr>\n",
       "    <tr>\n",
       "      <th>12</th>\n",
       "      <td>electric-subcircuit</td>\n",
       "      <td>oven</td>\n",
       "    </tr>\n",
       "    <tr>\n",
       "      <th>13</th>\n",
       "      <td>electric-subcircuit</td>\n",
       "      <td>induction-hob</td>\n",
       "    </tr>\n",
       "    <tr>\n",
       "      <th>14</th>\n",
       "      <td>electric-subcircuit</td>\n",
       "      <td>utility-room-sockets</td>\n",
       "    </tr>\n",
       "    <tr>\n",
       "      <th>15</th>\n",
       "      <td>electric-subcircuit</td>\n",
       "      <td>sockets1</td>\n",
       "    </tr>\n",
       "    <tr>\n",
       "      <th>16</th>\n",
       "      <td>electric-subcircuit</td>\n",
       "      <td>sockets2</td>\n",
       "    </tr>\n",
       "  </tbody>\n",
       "</table>\n",
       "</div>"
      ],
      "text/plain": [
       "               category                 subtype\n",
       "0             gas-pulse                     gas\n",
       "1             tempprobe  central-heating-return\n",
       "2             tempprobe    central-heating-flow\n",
       "3             tempprobe     hot-water-cold-pipe\n",
       "4             tempprobe      hot-water-hot-pipe\n",
       "5        electric-mains       electric-combined\n",
       "6   electric-subcircuit                   mains\n",
       "7   electric-subcircuit                  cooker\n",
       "8   electric-subcircuit                  shower\n",
       "9   electric-subcircuit              unlabelled\n",
       "10  electric-subcircuit                 heating\n",
       "11  electric-subcircuit            water-heater\n",
       "12  electric-subcircuit                    oven\n",
       "13  electric-subcircuit           induction-hob\n",
       "14  electric-subcircuit    utility-room-sockets\n",
       "15  electric-subcircuit                sockets1\n",
       "16  electric-subcircuit                sockets2"
      ]
     },
     "execution_count": 6,
     "metadata": {},
     "output_type": "execute_result"
    }
   ],
   "source": [
    "ideal.categories()"
   ]
  },
  {
   "cell_type": "markdown",
   "metadata": {},
   "source": [
    "### Search for some sensors"
   ]
  },
  {
   "cell_type": "code",
   "execution_count": 7,
   "metadata": {},
   "outputs": [
    {
     "data": {
      "text/html": [
       "<div>\n",
       "<style scoped>\n",
       "    .dataframe tbody tr th:only-of-type {\n",
       "        vertical-align: middle;\n",
       "    }\n",
       "\n",
       "    .dataframe tbody tr th {\n",
       "        vertical-align: top;\n",
       "    }\n",
       "\n",
       "    .dataframe thead th {\n",
       "        text-align: right;\n",
       "    }\n",
       "</style>\n",
       "<table border=\"1\" class=\"dataframe\">\n",
       "  <thead>\n",
       "    <tr style=\"text-align: right;\">\n",
       "      <th></th>\n",
       "      <th>homeid</th>\n",
       "      <th>roomid</th>\n",
       "      <th>room_type</th>\n",
       "      <th>category</th>\n",
       "      <th>subtype</th>\n",
       "      <th>sensorid</th>\n",
       "    </tr>\n",
       "  </thead>\n",
       "  <tbody>\n",
       "    <tr>\n",
       "      <th>0</th>\n",
       "      <td>100</td>\n",
       "      <td>1038</td>\n",
       "      <td>livingroom</td>\n",
       "      <td>electric-mains</td>\n",
       "      <td>electric-combined</td>\n",
       "      <td>4472</td>\n",
       "    </tr>\n",
       "    <tr>\n",
       "      <th>1</th>\n",
       "      <td>101</td>\n",
       "      <td>1045</td>\n",
       "      <td>hall</td>\n",
       "      <td>electric-mains</td>\n",
       "      <td>electric-combined</td>\n",
       "      <td>4512c4517</td>\n",
       "    </tr>\n",
       "    <tr>\n",
       "      <th>2</th>\n",
       "      <td>102</td>\n",
       "      <td>1053</td>\n",
       "      <td>hall</td>\n",
       "      <td>electric-mains</td>\n",
       "      <td>electric-combined</td>\n",
       "      <td>4571c4575</td>\n",
       "    </tr>\n",
       "    <tr>\n",
       "      <th>3</th>\n",
       "      <td>105</td>\n",
       "      <td>1111</td>\n",
       "      <td>hall</td>\n",
       "      <td>electric-mains</td>\n",
       "      <td>electric-combined</td>\n",
       "      <td>5093c5097</td>\n",
       "    </tr>\n",
       "    <tr>\n",
       "      <th>4</th>\n",
       "      <td>106</td>\n",
       "      <td>1086</td>\n",
       "      <td>hall</td>\n",
       "      <td>electric-mains</td>\n",
       "      <td>electric-combined</td>\n",
       "      <td>4891c4895</td>\n",
       "    </tr>\n",
       "    <tr>\n",
       "      <th>...</th>\n",
       "      <td>...</td>\n",
       "      <td>...</td>\n",
       "      <td>...</td>\n",
       "      <td>...</td>\n",
       "      <td>...</td>\n",
       "      <td>...</td>\n",
       "    </tr>\n",
       "    <tr>\n",
       "      <th>249</th>\n",
       "      <td>94</td>\n",
       "      <td>990</td>\n",
       "      <td>hall</td>\n",
       "      <td>electric-mains</td>\n",
       "      <td>electric-combined</td>\n",
       "      <td>3991c3995</td>\n",
       "    </tr>\n",
       "    <tr>\n",
       "      <th>250</th>\n",
       "      <td>96</td>\n",
       "      <td>997</td>\n",
       "      <td>livingroom</td>\n",
       "      <td>electric-mains</td>\n",
       "      <td>electric-combined</td>\n",
       "      <td>4121c4125</td>\n",
       "    </tr>\n",
       "    <tr>\n",
       "      <th>251</th>\n",
       "      <td>97</td>\n",
       "      <td>1010</td>\n",
       "      <td>hall</td>\n",
       "      <td>electric-mains</td>\n",
       "      <td>electric-combined</td>\n",
       "      <td>4238c4242</td>\n",
       "    </tr>\n",
       "    <tr>\n",
       "      <th>252</th>\n",
       "      <td>98</td>\n",
       "      <td>1019</td>\n",
       "      <td>hall</td>\n",
       "      <td>electric-mains</td>\n",
       "      <td>electric-combined</td>\n",
       "      <td>4306c4310</td>\n",
       "    </tr>\n",
       "    <tr>\n",
       "      <th>253</th>\n",
       "      <td>99</td>\n",
       "      <td>1027</td>\n",
       "      <td>outside</td>\n",
       "      <td>electric-mains</td>\n",
       "      <td>electric-combined</td>\n",
       "      <td>4385c4390</td>\n",
       "    </tr>\n",
       "  </tbody>\n",
       "</table>\n",
       "<p>254 rows × 6 columns</p>\n",
       "</div>"
      ],
      "text/plain": [
       "    homeid roomid   room_type        category            subtype   sensorid\n",
       "0      100   1038  livingroom  electric-mains  electric-combined       4472\n",
       "1      101   1045        hall  electric-mains  electric-combined  4512c4517\n",
       "2      102   1053        hall  electric-mains  electric-combined  4571c4575\n",
       "3      105   1111        hall  electric-mains  electric-combined  5093c5097\n",
       "4      106   1086        hall  electric-mains  electric-combined  4891c4895\n",
       "..     ...    ...         ...             ...                ...        ...\n",
       "249     94    990        hall  electric-mains  electric-combined  3991c3995\n",
       "250     96    997  livingroom  electric-mains  electric-combined  4121c4125\n",
       "251     97   1010        hall  electric-mains  electric-combined  4238c4242\n",
       "252     98   1019        hall  electric-mains  electric-combined  4306c4310\n",
       "253     99   1027     outside  electric-mains  electric-combined  4385c4390\n",
       "\n",
       "[254 rows x 6 columns]"
      ]
     },
     "execution_count": 7,
     "metadata": {},
     "output_type": "execute_result"
    }
   ],
   "source": [
    "ideal.view(category='electric-mains')"
   ]
  },
  {
   "cell_type": "code",
   "execution_count": 8,
   "metadata": {},
   "outputs": [
    {
     "data": {
      "text/html": [
       "<div>\n",
       "<style scoped>\n",
       "    .dataframe tbody tr th:only-of-type {\n",
       "        vertical-align: middle;\n",
       "    }\n",
       "\n",
       "    .dataframe tbody tr th {\n",
       "        vertical-align: top;\n",
       "    }\n",
       "\n",
       "    .dataframe thead th {\n",
       "        text-align: right;\n",
       "    }\n",
       "</style>\n",
       "<table border=\"1\" class=\"dataframe\">\n",
       "  <thead>\n",
       "    <tr style=\"text-align: right;\">\n",
       "      <th></th>\n",
       "      <th>homeid</th>\n",
       "      <th>roomid</th>\n",
       "      <th>room_type</th>\n",
       "      <th>category</th>\n",
       "      <th>subtype</th>\n",
       "      <th>sensorid</th>\n",
       "    </tr>\n",
       "  </thead>\n",
       "  <tbody>\n",
       "  </tbody>\n",
       "</table>\n",
       "</div>"
      ],
      "text/plain": [
       "Empty DataFrame\n",
       "Columns: [homeid, roomid, room_type, category, subtype, sensorid]\n",
       "Index: []"
      ]
     },
     "execution_count": 8,
     "metadata": {},
     "output_type": "execute_result"
    }
   ],
   "source": [
    "ideal.view(homeid=59, subtype='sink')"
   ]
  },
  {
   "cell_type": "code",
   "execution_count": 9,
   "metadata": {},
   "outputs": [
    {
     "data": {
      "text/plain": [
       "1"
      ]
     },
     "execution_count": 9,
     "metadata": {},
     "output_type": "execute_result"
    }
   ],
   "source": [
    "data = ideal.get(homeid=59, subtype='electric-combined')\n",
    "\n",
    "len(data)"
   ]
  },
  {
   "cell_type": "code",
   "execution_count": 10,
   "metadata": {},
   "outputs": [
    {
     "data": {
      "text/plain": [
       "dict_keys(['homeid', 'roomid', 'room_type', 'category', 'subtype', 'sensorid', 'readings'])"
      ]
     },
     "execution_count": 10,
     "metadata": {},
     "output_type": "execute_result"
    }
   ],
   "source": [
    "# Each item in data is a dictionary\n",
    "data[0].keys()"
   ]
  },
  {
   "cell_type": "markdown",
   "metadata": {},
   "source": [
    "### Resample the temperature readings and combine them in one DataFrame"
   ]
  },
  {
   "cell_type": "code",
   "execution_count": 11,
   "metadata": {},
   "outputs": [
    {
     "data": {
      "text/plain": [
       "'electric-combined'"
      ]
     },
     "execution_count": 11,
     "metadata": {},
     "output_type": "execute_result"
    }
   ],
   "source": [
    "data[0]['subtype']"
   ]
  },
  {
   "cell_type": "code",
   "execution_count": 12,
   "metadata": {},
   "outputs": [],
   "source": [
    "#assert data[0]['subtype'] == 'sink'\n",
    "\n",
    "ts_hot_water = data[0]['readings']\n",
    "ts_sink = data[0]['readings']"
   ]
  },
  {
   "cell_type": "code",
   "execution_count": 13,
   "metadata": {},
   "outputs": [
    {
     "data": {
      "text/plain": [
       "time\n",
       "2016-10-06 09:03:13      0\n",
       "2016-10-06 09:03:14    228\n",
       "2016-10-06 09:03:17     75\n",
       "2016-10-06 09:03:18    226\n",
       "2016-10-06 09:03:20    233\n",
       "                      ... \n",
       "2018-01-28 07:56:49    107\n",
       "2018-01-28 07:56:50    107\n",
       "2018-01-28 07:56:51    107\n",
       "2018-01-28 07:56:52    107\n",
       "2018-01-28 07:56:53    107\n",
       "Name: electric-combined, Length: 36342296, dtype: int64"
      ]
     },
     "execution_count": 13,
     "metadata": {},
     "output_type": "execute_result"
    }
   ],
   "source": [
    "ts_hot_water"
   ]
  },
  {
   "cell_type": "code",
   "execution_count": null,
   "metadata": {},
   "outputs": [],
   "source": []
  },
  {
   "cell_type": "code",
   "execution_count": 14,
   "metadata": {},
   "outputs": [],
   "source": [
    "ts_hot_water = ts_hot_water.resample('60min').mean()\n",
    "ts_sink = ts_sink.resample('60min').mean()"
   ]
  },
  {
   "cell_type": "code",
   "execution_count": null,
   "metadata": {},
   "outputs": [],
   "source": []
  },
  {
   "cell_type": "code",
   "execution_count": null,
   "metadata": {},
   "outputs": [],
   "source": []
  },
  {
   "cell_type": "code",
   "execution_count": 15,
   "metadata": {},
   "outputs": [
    {
     "data": {
      "text/plain": [
       "time\n",
       "2016-10-06 09:00:00    235.402892\n",
       "2016-10-06 10:00:00    241.304051\n",
       "2016-10-06 11:00:00    592.700785\n",
       "2016-10-06 12:00:00    226.969376\n",
       "2016-10-06 13:00:00    143.886535\n",
       "                          ...    \n",
       "2018-01-28 03:00:00    128.287778\n",
       "2018-01-28 04:00:00    125.961832\n",
       "2018-01-28 05:00:00    123.076642\n",
       "2018-01-28 06:00:00    144.816393\n",
       "2018-01-28 07:00:00    146.810332\n",
       "Freq: 60T, Name: electric-combined, Length: 11495, dtype: float64"
      ]
     },
     "execution_count": 15,
     "metadata": {},
     "output_type": "execute_result"
    }
   ],
   "source": [
    "ts_hot_water"
   ]
  },
  {
   "cell_type": "code",
   "execution_count": 16,
   "metadata": {},
   "outputs": [
    {
     "data": {
      "text/html": [
       "<div>\n",
       "<style scoped>\n",
       "    .dataframe tbody tr th:only-of-type {\n",
       "        vertical-align: middle;\n",
       "    }\n",
       "\n",
       "    .dataframe tbody tr th {\n",
       "        vertical-align: top;\n",
       "    }\n",
       "\n",
       "    .dataframe thead th {\n",
       "        text-align: right;\n",
       "    }\n",
       "</style>\n",
       "<table border=\"1\" class=\"dataframe\">\n",
       "  <thead>\n",
       "    <tr style=\"text-align: right;\">\n",
       "      <th></th>\n",
       "      <th>electric-combined</th>\n",
       "    </tr>\n",
       "    <tr>\n",
       "      <th>time</th>\n",
       "      <th></th>\n",
       "    </tr>\n",
       "  </thead>\n",
       "  <tbody>\n",
       "    <tr>\n",
       "      <th>2016-10-06 09:00:00</th>\n",
       "      <td>0.235403</td>\n",
       "    </tr>\n",
       "    <tr>\n",
       "      <th>2016-10-06 10:00:00</th>\n",
       "      <td>0.241304</td>\n",
       "    </tr>\n",
       "    <tr>\n",
       "      <th>2016-10-06 11:00:00</th>\n",
       "      <td>0.592701</td>\n",
       "    </tr>\n",
       "    <tr>\n",
       "      <th>2016-10-06 12:00:00</th>\n",
       "      <td>0.226969</td>\n",
       "    </tr>\n",
       "    <tr>\n",
       "      <th>2016-10-06 13:00:00</th>\n",
       "      <td>0.143887</td>\n",
       "    </tr>\n",
       "  </tbody>\n",
       "</table>\n",
       "</div>"
      ],
      "text/plain": [
       "                     electric-combined\n",
       "time                                  \n",
       "2016-10-06 09:00:00           0.235403\n",
       "2016-10-06 10:00:00           0.241304\n",
       "2016-10-06 11:00:00           0.592701\n",
       "2016-10-06 12:00:00           0.226969\n",
       "2016-10-06 13:00:00           0.143887"
      ]
     },
     "execution_count": 16,
     "metadata": {},
     "output_type": "execute_result"
    }
   ],
   "source": [
    "ts_combined = pd.concat([ts_hot_water], axis=1)\n",
    "\n",
    "ts_combined /= 1000\n",
    "\n",
    "ts_combined.head()"
   ]
  },
  {
   "cell_type": "code",
   "execution_count": 17,
   "metadata": {},
   "outputs": [
    {
     "name": "stdout",
     "output_type": "stream",
     "text": [
      "<class 'pandas.core.frame.DataFrame'>\n",
      "DatetimeIndex: 11495 entries, 2016-10-06 09:00:00 to 2018-01-28 07:00:00\n",
      "Freq: 60T\n",
      "Data columns (total 1 columns):\n",
      " #   Column             Non-Null Count  Dtype  \n",
      "---  ------             --------------  -----  \n",
      " 0   electric-combined  11237 non-null  float64\n",
      "dtypes: float64(1)\n",
      "memory usage: 179.6 KB\n"
     ]
    }
   ],
   "source": [
    "ts_combined.info()"
   ]
  },
  {
   "cell_type": "code",
   "execution_count": 18,
   "metadata": {},
   "outputs": [
    {
     "data": {
      "text/html": [
       "<div>\n",
       "<style scoped>\n",
       "    .dataframe tbody tr th:only-of-type {\n",
       "        vertical-align: middle;\n",
       "    }\n",
       "\n",
       "    .dataframe tbody tr th {\n",
       "        vertical-align: top;\n",
       "    }\n",
       "\n",
       "    .dataframe thead th {\n",
       "        text-align: right;\n",
       "    }\n",
       "</style>\n",
       "<table border=\"1\" class=\"dataframe\">\n",
       "  <thead>\n",
       "    <tr style=\"text-align: right;\">\n",
       "      <th></th>\n",
       "      <th>electric-combined</th>\n",
       "    </tr>\n",
       "  </thead>\n",
       "  <tbody>\n",
       "    <tr>\n",
       "      <th>count</th>\n",
       "      <td>11237.000000</td>\n",
       "    </tr>\n",
       "    <tr>\n",
       "      <th>mean</th>\n",
       "      <td>0.276167</td>\n",
       "    </tr>\n",
       "    <tr>\n",
       "      <th>std</th>\n",
       "      <td>0.224695</td>\n",
       "    </tr>\n",
       "    <tr>\n",
       "      <th>min</th>\n",
       "      <td>0.002000</td>\n",
       "    </tr>\n",
       "    <tr>\n",
       "      <th>25%</th>\n",
       "      <td>0.146919</td>\n",
       "    </tr>\n",
       "    <tr>\n",
       "      <th>50%</th>\n",
       "      <td>0.173432</td>\n",
       "    </tr>\n",
       "    <tr>\n",
       "      <th>75%</th>\n",
       "      <td>0.330153</td>\n",
       "    </tr>\n",
       "    <tr>\n",
       "      <th>max</th>\n",
       "      <td>2.212775</td>\n",
       "    </tr>\n",
       "  </tbody>\n",
       "</table>\n",
       "</div>"
      ],
      "text/plain": [
       "       electric-combined\n",
       "count       11237.000000\n",
       "mean            0.276167\n",
       "std             0.224695\n",
       "min             0.002000\n",
       "25%             0.146919\n",
       "50%             0.173432\n",
       "75%             0.330153\n",
       "max             2.212775"
      ]
     },
     "execution_count": 18,
     "metadata": {},
     "output_type": "execute_result"
    }
   ],
   "source": [
    "ts_combined.describe()"
   ]
  },
  {
   "cell_type": "markdown",
   "metadata": {},
   "source": [
    "### Have a peek into how that looks"
   ]
  },
  {
   "cell_type": "code",
   "execution_count": 19,
   "metadata": {},
   "outputs": [
    {
     "data": {
      "image/png": "[encoded data removed]",
      "text/plain": [
       "<Figure size 864x396 with 1 Axes>"
      ]
     },
     "metadata": {
      "needs_background": "light"
     },
     "output_type": "display_data"
    }
   ],
   "source": [
    "fig, ax = plt.subplots(figsize=(12,5.5))\n",
    "\n",
    "idx = (ts_combined.index >= '2017-05-21') & (ts_combined.index < '2017-05-22')\n",
    "\n",
    "ts_combined[idx].plot(ax=ax);"
   ]
  },
  {
   "cell_type": "code",
   "execution_count": 20,
   "metadata": {},
   "outputs": [
    {
     "data": {
      "text/html": [
       "<div>\n",
       "<style scoped>\n",
       "    .dataframe tbody tr th:only-of-type {\n",
       "        vertical-align: middle;\n",
       "    }\n",
       "\n",
       "    .dataframe tbody tr th {\n",
       "        vertical-align: top;\n",
       "    }\n",
       "\n",
       "    .dataframe thead th {\n",
       "        text-align: right;\n",
       "    }\n",
       "</style>\n",
       "<table border=\"1\" class=\"dataframe\">\n",
       "  <thead>\n",
       "    <tr style=\"text-align: right;\">\n",
       "      <th></th>\n",
       "      <th>electric-combined</th>\n",
       "    </tr>\n",
       "    <tr>\n",
       "      <th>time</th>\n",
       "      <th></th>\n",
       "    </tr>\n",
       "  </thead>\n",
       "  <tbody>\n",
       "    <tr>\n",
       "      <th>2017-05-21 00:00:00</th>\n",
       "      <td>NaN</td>\n",
       "    </tr>\n",
       "    <tr>\n",
       "      <th>2017-05-21 01:00:00</th>\n",
       "      <td>NaN</td>\n",
       "    </tr>\n",
       "    <tr>\n",
       "      <th>2017-05-21 02:00:00</th>\n",
       "      <td>NaN</td>\n",
       "    </tr>\n",
       "    <tr>\n",
       "      <th>2017-05-21 03:00:00</th>\n",
       "      <td>0.305000</td>\n",
       "    </tr>\n",
       "    <tr>\n",
       "      <th>2017-05-21 04:00:00</th>\n",
       "      <td>NaN</td>\n",
       "    </tr>\n",
       "    <tr>\n",
       "      <th>2017-05-21 05:00:00</th>\n",
       "      <td>0.132333</td>\n",
       "    </tr>\n",
       "    <tr>\n",
       "      <th>2017-05-21 06:00:00</th>\n",
       "      <td>0.143000</td>\n",
       "    </tr>\n",
       "    <tr>\n",
       "      <th>2017-05-21 07:00:00</th>\n",
       "      <td>0.243697</td>\n",
       "    </tr>\n",
       "    <tr>\n",
       "      <th>2017-05-21 08:00:00</th>\n",
       "      <td>0.376605</td>\n",
       "    </tr>\n",
       "    <tr>\n",
       "      <th>2017-05-21 09:00:00</th>\n",
       "      <td>0.332499</td>\n",
       "    </tr>\n",
       "    <tr>\n",
       "      <th>2017-05-21 10:00:00</th>\n",
       "      <td>1.544000</td>\n",
       "    </tr>\n",
       "    <tr>\n",
       "      <th>2017-05-21 11:00:00</th>\n",
       "      <td>0.165263</td>\n",
       "    </tr>\n",
       "    <tr>\n",
       "      <th>2017-05-21 12:00:00</th>\n",
       "      <td>0.272866</td>\n",
       "    </tr>\n",
       "    <tr>\n",
       "      <th>2017-05-21 13:00:00</th>\n",
       "      <td>0.149625</td>\n",
       "    </tr>\n",
       "    <tr>\n",
       "      <th>2017-05-21 14:00:00</th>\n",
       "      <td>0.155364</td>\n",
       "    </tr>\n",
       "    <tr>\n",
       "      <th>2017-05-21 15:00:00</th>\n",
       "      <td>0.170512</td>\n",
       "    </tr>\n",
       "    <tr>\n",
       "      <th>2017-05-21 16:00:00</th>\n",
       "      <td>0.181333</td>\n",
       "    </tr>\n",
       "    <tr>\n",
       "      <th>2017-05-21 17:00:00</th>\n",
       "      <td>0.736081</td>\n",
       "    </tr>\n",
       "    <tr>\n",
       "      <th>2017-05-21 18:00:00</th>\n",
       "      <td>1.156959</td>\n",
       "    </tr>\n",
       "    <tr>\n",
       "      <th>2017-05-21 19:00:00</th>\n",
       "      <td>0.522951</td>\n",
       "    </tr>\n",
       "    <tr>\n",
       "      <th>2017-05-21 20:00:00</th>\n",
       "      <td>0.295126</td>\n",
       "    </tr>\n",
       "    <tr>\n",
       "      <th>2017-05-21 21:00:00</th>\n",
       "      <td>0.176500</td>\n",
       "    </tr>\n",
       "    <tr>\n",
       "      <th>2017-05-21 22:00:00</th>\n",
       "      <td>0.172700</td>\n",
       "    </tr>\n",
       "    <tr>\n",
       "      <th>2017-05-21 23:00:00</th>\n",
       "      <td>0.226962</td>\n",
       "    </tr>\n",
       "  </tbody>\n",
       "</table>\n",
       "</div>"
      ],
      "text/plain": [
       "                     electric-combined\n",
       "time                                  \n",
       "2017-05-21 00:00:00                NaN\n",
       "2017-05-21 01:00:00                NaN\n",
       "2017-05-21 02:00:00                NaN\n",
       "2017-05-21 03:00:00           0.305000\n",
       "2017-05-21 04:00:00                NaN\n",
       "2017-05-21 05:00:00           0.132333\n",
       "2017-05-21 06:00:00           0.143000\n",
       "2017-05-21 07:00:00           0.243697\n",
       "2017-05-21 08:00:00           0.376605\n",
       "2017-05-21 09:00:00           0.332499\n",
       "2017-05-21 10:00:00           1.544000\n",
       "2017-05-21 11:00:00           0.165263\n",
       "2017-05-21 12:00:00           0.272866\n",
       "2017-05-21 13:00:00           0.149625\n",
       "2017-05-21 14:00:00           0.155364\n",
       "2017-05-21 15:00:00           0.170512\n",
       "2017-05-21 16:00:00           0.181333\n",
       "2017-05-21 17:00:00           0.736081\n",
       "2017-05-21 18:00:00           1.156959\n",
       "2017-05-21 19:00:00           0.522951\n",
       "2017-05-21 20:00:00           0.295126\n",
       "2017-05-21 21:00:00           0.176500\n",
       "2017-05-21 22:00:00           0.172700\n",
       "2017-05-21 23:00:00           0.226962"
      ]
     },
     "execution_count": 20,
     "metadata": {},
     "output_type": "execute_result"
    }
   ],
   "source": [
    "ts_combined[(ts_combined.index >= '2017-05-21') & (ts_combined.index < '2017-05-22')]"
   ]
  },
  {
   "cell_type": "code",
   "execution_count": null,
   "metadata": {},
   "outputs": [],
   "source": []
  }
 ],
 "metadata": {
  "kernelspec": {
   "display_name": "Python 3",
   "language": "python",
   "name": "python3"
  },
  "language_info": {
   "codemirror_mode": {
    "name": "ipython",
    "version": 3
   },
   "file_extension": ".py",
   "mimetype": "text/x-python",
   "name": "python",
   "nbconvert_exporter": "python",
   "pygments_lexer": "ipython3",
   "version": "3.8.3"
  }
 },
 "nbformat": 4,
 "nbformat_minor": 2
}
