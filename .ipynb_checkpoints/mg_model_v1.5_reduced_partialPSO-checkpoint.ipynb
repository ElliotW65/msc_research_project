{
 "cells": [
  {
   "cell_type": "code",
   "execution_count": 1,
   "metadata": {},
   "outputs": [],
   "source": [
    "import pickle\n",
    "import mesa\n",
    "import mesa.time\n",
    "import numpy as np\n",
    "import pandas as pd\n",
    "import random\n",
    "import matplotlib.pyplot as plt\n",
    "import networkx as nx\n",
    "import math\n",
    "\n",
    "from scipy.stats import beta\n",
    "from scipy.stats import weibull_min as wei\n",
    "from scipy.special import gamma\n",
    "import geopandas as gp\n",
    "from mesa.space import NetworkGrid\n",
    "from shapely.geometry import Point\n",
    "\n",
    "import pyswarms as ps\n",
    "from pyswarms.utils.functions import single_obj as fx\n",
    "\n",
    "import pymoo\n",
    "from pymoo.algorithms.soo.nonconvex.pso import PSO, PSOAnimation\n",
    "from pymoo.optimize import minimize\n",
    "from pymoo.core.problem import Problem\n",
    "from pymoo.core.problem import ElementwiseProblem\n",
    "from pymoo.termination import get_termination\n",
    "from pymoo.termination.default import DefaultSingleObjectiveTermination\n",
    "\n",
    "import os\n",
    "os.environ['NUMEXPR_MAX_THREADS'] = '1000'\n",
    "import time\n",
    "\n",
    "\n",
    "from pymoo.algorithms.moo.nsga2 import NSGA2\n",
    "from pymoo.visualization.scatter import Scatter"
   ]
  },
  {
   "cell_type": "code",
   "execution_count": 2,
   "metadata": {},
   "outputs": [],
   "source": [
    "df = pickle.load(open(\"D:/Documents/MSc Project/data/aggregated_data.p\", 'rb'))"
   ]
  },
  {
   "cell_type": "code",
   "execution_count": 3,
   "metadata": {},
   "outputs": [],
   "source": [
    "solar_data = pickle.load(open(\"D:/Documents/MSc Project/data/solar_data.p\", 'rb'))"
   ]
  },
  {
   "cell_type": "code",
   "execution_count": 4,
   "metadata": {},
   "outputs": [],
   "source": [
    "wind_data = pickle.load(open(\"D:/Documents/MSc Project/data/wind_data.p\", 'rb'))"
   ]
  },
  {
   "cell_type": "code",
   "execution_count": 5,
   "metadata": {},
   "outputs": [],
   "source": [
    "gas_price_data = pd.read_csv(\"D:/Documents/MSc Project/data/ng_prices.csv\")"
   ]
  },
  {
   "cell_type": "code",
   "execution_count": 6,
   "metadata": {},
   "outputs": [],
   "source": [
    "G = nx.read_gpickle(\"D:/Documents/MSc Project/data/graph.p\")"
   ]
  },
  {
   "cell_type": "code",
   "execution_count": 7,
   "metadata": {},
   "outputs": [],
   "source": [
    "nodes = {0: {\"type\": \"home\"},\n",
    "             1: {\"type\": \"leisure\"},\n",
    "             2: {\"type\": \"work\"},\n",
    "             3: {\"type\": \"other\"},\n",
    "             4: {\"type\": \"leisure\"},\n",
    "             5: {\"type\": \"work\"}}"
   ]
  },
  {
   "cell_type": "code",
   "execution_count": 8,
   "metadata": {},
   "outputs": [],
   "source": [
    "edges = {(0, 1):{\"weight\": 4},\n",
    "        (0, 3):{\"weight\": 4},\n",
    "        (0, 2):{\"weight\": 3},\n",
    "        (0, 4):{\"weight\": 3},\n",
    "        (0, 5):{\"weight\": 5},\n",
    "        (1, 3):{\"weight\": 3},\n",
    "        (4, 2):{\"weight\": 4},\n",
    "        (5, 4):{\"weight\": 2},\n",
    "        (5, 2):{\"weight\": 2}}"
   ]
  },
  {
   "cell_type": "code",
   "execution_count": 9,
   "metadata": {},
   "outputs": [],
   "source": [
    "nx.set_node_attributes(G, nodes)"
   ]
  },
  {
   "cell_type": "code",
   "execution_count": 10,
   "metadata": {},
   "outputs": [],
   "source": [
    "nx.set_edge_attributes(G, edges)"
   ]
  },
  {
   "cell_type": "code",
   "execution_count": 11,
   "metadata": {},
   "outputs": [],
   "source": [
    "activities = {\"Home\": {\"node\": \"home\", \"time\" : 0},\n",
    "             \"Shopping\": {\"node\": \"leisure\", \"time\" : 2},\n",
    "             \"Other\": {\"node\": \"other\", \"time\" : 1},\n",
    "             \"Sport\": {\"node\": \"leisure\", \"time\" : 2},\n",
    "             \"Work1\": {\"node\": \"work\", \"time\" : 4},\n",
    "             \"Work2\": {\"node\": \"work\", \"time\" : 4},\n",
    "             \"Food\": {\"node\": \"leisure\", \"time\" : 1}}"
   ]
  },
  {
   "cell_type": "code",
   "execution_count": 29,
   "metadata": {},
   "outputs": [],
   "source": [
    "class RESAgent(mesa.Agent):\n",
    "    \n",
    "    'An agent for the renewable energy sources in the microgrid.'\n",
    "    \n",
    "    def __init__(self, model,pv_size, num_wt):\n",
    "        super().__init__(self, model)\n",
    "        \n",
    "        self.month = self.model.month\n",
    "        self.day = self.model.day\n",
    "        self.hour = self.model.hour\n",
    "        \n",
    "        self.solar_data = None\n",
    "        self.wind_data = None\n",
    "        self.name = \"RES_Agent\"\n",
    "        self.num_panels = pv_size\n",
    "        self.panel_size = 1.76774\n",
    "        self.panel_efficiency = 0.26\n",
    "        \n",
    "        self.wt_rated_power = 5.6\n",
    "        self.wt_rated_ws = 11\n",
    "        self.wt_cut_in = 2.5\n",
    "        self.wt = num_wt\n",
    "        \n",
    "    def update_params(self):\n",
    "        'Function to update the month, day and hour parameters'\n",
    "        self.month = self.model.month\n",
    "        self.day = self.model.day\n",
    "        self.hour = self.model.hour\n",
    "        \n",
    "    def update_solar_and_wind_data(self):\n",
    "        'Function to update the data in the time step'\n",
    "\n",
    "        self.solar_data = self.model.solar_data[self.month][self.hour]\n",
    "        self.wind_data = self.model.wind_data[self.month][self.hour]\n",
    "        \n",
    "    def get_solar_value(self):\n",
    "        'Function to return the expected value from the beta distribution generated using historic data'\n",
    "\n",
    "        cut = self.solar_data\n",
    "        \n",
    "        if not cut.sum() > 0:\n",
    "            return 0\n",
    "\n",
    "        norm_max = cut.max()\n",
    "        norm_min= cut.min()\n",
    "\n",
    "        'Normalise the data with min max normalisation'\n",
    "        cut = (cut - norm_min) / (norm_max - norm_min)\n",
    "\n",
    "        mean = cut.mean()\n",
    "        sd = cut.std()\n",
    "        \n",
    "        if mean < 0.025:\n",
    "            return 0\n",
    "\n",
    "        b = (1-mean)*((mean*(1+mean)/(sd**2))-1)\n",
    "        a = mean*b/1-mean\n",
    "\n",
    "        result = beta.rvs(a,b)\n",
    "\n",
    "        'Reverse normalisation to get value in W/m2'\n",
    "        result = result * (norm_max - norm_min) + norm_min\n",
    "\n",
    "        return result\n",
    "    \n",
    "    def get_wind_value(self):\n",
    "        'Function to return the expected value from the beta distribution generated using historic data'\n",
    "\n",
    "        cut = self.wind_data\n",
    "\n",
    "        sd = cut.std()\n",
    "\n",
    "        mean = cut.mean()\n",
    "\n",
    "        shape = (sd/mean)**-1.086\n",
    "\n",
    "        scale = mean/gamma(1+1/shape)\n",
    "\n",
    "        rs = wei.rvs(shape, scale=scale)\n",
    "\n",
    "        return rs\n",
    "    \n",
    "    def get_wt_output(self, ws):\n",
    "        'Function to calculate the output of the wind turbine given the input wind speed'\n",
    "        \n",
    "        power = 0\n",
    "        \n",
    "        if ws < self.wt_cut_in:\n",
    "            return 0\n",
    "        elif ws > self.wt_cut_in and ws < self.wt_rated_ws:\n",
    "            return ((ws-self.wt_cut_in)/(self.wt_rated_ws - self.wt_cut_in))\n",
    "        elif ws >= self.wt_rated_ws:\n",
    "            return self.wt_rated_power\n",
    "        else:\n",
    "            return \"Error\"\n",
    "    \n",
    "        \n",
    "    def step(self):\n",
    "        self.update_params()\n",
    "        self.update_solar_and_wind_data()\n",
    "        irr = self.get_solar_value()\n",
    "        wind_speed = self.get_wind_value()\n",
    "        wt_gen = self.get_wt_output(wind_speed)*self.wt\n",
    "        pv_gen = ((irr * self.panel_size * self.panel_efficiency)*self.num_panels)/1000\n",
    "        self.model.schedule.agents[34].update_pv(pv_gen)\n",
    "        self.model.schedule.agents[34].update_wt(wt_gen)\n",
    "        self.model.solar_gen[self.month][self.day].append(pv_gen)\n",
    "        self.model.wind_gen[self.month][self.day].append(wt_gen)\n"
   ]
  },
  {
   "cell_type": "code",
   "execution_count": 30,
   "metadata": {},
   "outputs": [],
   "source": [
    "class DGAgent(mesa.Agent):\n",
    "    \n",
    "    'An agent for the non-renewable energy sources in the microgrid.'\n",
    "    \n",
    "    def __init__(self, model,pv_size, num_wt):\n",
    "        super().__init__(self, model)\n",
    "        self.month = self.model.month\n",
    "        self.day = self.model.day\n",
    "        self.hour = self.model.hour\n",
    "        self.name = \"DG_Agent\"\n",
    "        \n",
    "    def fuel_consumption(self, price, power):\n",
    "        'Function to calculate the cost of fuel used by the fuel cell'\n",
    "        return price*power/0.56\n"
   ]
  },
  {
   "cell_type": "code",
   "execution_count": 311,
   "metadata": {},
   "outputs": [],
   "source": [
    "class BatteryAgent(mesa.Agent):\n",
    "    \n",
    "    'An agent to control the battery.'\n",
    "    \n",
    "    def __init__(self, model, capacity):\n",
    "        super().__init__(self, model)\n",
    "        self.month = self.model.month\n",
    "        self.day = self.model.day\n",
    "        self.hour = self.model.hour\n",
    "        self.name = \"Battery_Agent\"\n",
    "        self.eff = 0.98\n",
    "        self.cap = capacity\n",
    "        self.soc = 0.8\n",
    "        \n",
    "    def update_params(self):\n",
    "        'Function to update the month, day and hour parameters'\n",
    "        self.month = self.model.month\n",
    "        self.day = self.model.day\n",
    "        self.hour = self.model.hour\n",
    "        \n",
    "    def update_charge(self, power):\n",
    "        if power > 0 and self.soc < 0.8:\n",
    "            update = self.soc + 1/self.eff*power*1/self.cap\n",
    "            \n",
    "            if update > 0.8:\n",
    "#                 used_power = self.excess_power(self.soc, 0.8)\n",
    "#                 surplus_power = power - used_power\n",
    "#                 self.soc -= self.eff*-used_power*1/self.cap\n",
    "#                 return surplus_power * -1\n",
    "                \n",
    "                \n",
    "                surplus = update - 0.8\n",
    "                surplus_power = self.excess_power(surplus, 0)\n",
    "                power = power - surplus_power\n",
    "                self.soc += 1/self.eff*power*1/self.cap\n",
    "                self.soc = np.round(self.soc,3)\n",
    "                return surplus_power\n",
    "            else:\n",
    "                self.soc += 1/self.eff*power*1/self.cap\n",
    "                self.soc = np.round(self.soc,3)\n",
    "                return None\n",
    "            \n",
    "        elif power < 0 and self.soc > 0.2:\n",
    "            update = self.soc - self.eff*-power*1/self.cap\n",
    "            \n",
    "            if update < 0.2:\n",
    "                used_power = self.excess_power(0.2, self.soc)\n",
    "                surplus_power = power - used_power\n",
    "                self.soc -= self.eff*-used_power*1/self.cap\n",
    "                return surplus_power * -1\n",
    "            else:\n",
    "                self.soc -= self.eff*-power*1/self.cap\n",
    "                return None\n",
    "        else:\n",
    "            return power\n",
    "        \n",
    "    def excess_power(self, soc_pone, soc):\n",
    "\n",
    "        return (soc_pone-soc/1)*self.cap*0.98\n",
    "            \n",
    "    def get_soc(self):\n",
    "        return self.soc\n",
    "        \n",
    "    def step(self):\n",
    "        #print(\"Charge: \", self.soc)\n",
    "        self.update_params()\n",
    "        self.model.schedule.agents[34].update_bess_soc(self.soc)\n"
   ]
  },
  {
   "cell_type": "code",
   "execution_count": 312,
   "metadata": {},
   "outputs": [],
   "source": [
    "class ResiLoadAgent(mesa.Agent):\n",
    "    \n",
    "    'An agent for the residential loads in the microgrid'\n",
    "    \n",
    "    def __init__(self, model, df):\n",
    "        super().__init__(self, model)\n",
    "        self.month = self.model.month\n",
    "        self.day = self.model.day\n",
    "        self.hour = self.model.hour\n",
    "        self.day = 0\n",
    "        self.month = self.model.month\n",
    "        self.name = \"Resi_Load_Agent\"\n",
    "        self.df = df\n",
    "        self.houses = self.df.keys()\n",
    "        self.total_load = 0\n",
    "        #print(\"Houses: \", self.houses)\n",
    "        \n",
    "    def update_params(self):\n",
    "        'Function to update the month, day and hour parameters'\n",
    "        self.month = self.model.month\n",
    "        self.day = self.model.day\n",
    "        self.hour = self.model.hour\n",
    "        \n",
    "    def update_load_data(self):\n",
    "        'Function to update the data in the dataframe to the latest days'\n",
    "        for i in self.houses:\n",
    "            self.df[i] = self.model.resi_df_format[i]\n",
    "            \n",
    "    def update_day(self):\n",
    "        'Update to whether weekday or weekend data is being taken'\n",
    "        self.day += 1 if self.day == 0 else -1\n",
    "        self.month += 1 if self.day == 1 else 0\n",
    "        \n",
    "    def sum_load(self):\n",
    "        'Function to calculate the total load for the current time period'\n",
    "        #self.total_load += 1\n",
    "        \n",
    "        for i in self.houses:\n",
    "            self.total_load += self.df[i].iloc[self.hour].values[0]\n",
    "\n",
    "    \n",
    "    \n",
    "    \n",
    "    def step(self):\n",
    "        self.update_params()\n",
    "        self.total_load = 0\n",
    "        self.update_load_data()\n",
    "        self.sum_load()\n",
    "        self.model.schedule.agents[34].update_resi_load(self.total_load)\n",
    "        self.update_day()\n",
    "        self.model.resi_cons[self.month][self.day].append(self.total_load)\n",
    "        \n",
    "    \n",
    "        \n",
    "        "
   ]
  },
  {
   "cell_type": "code",
   "execution_count": 313,
   "metadata": {},
   "outputs": [],
   "source": [
    "class EVAgent(mesa.Agent):\n",
    "    \n",
    "    'An agent to control the electric vehicles'\n",
    "    \n",
    "    def __init__(self, model, activities, name):\n",
    "        super().__init__(self, model)\n",
    "        G = self.model.graph\n",
    "        \n",
    "        self.month = self.model.month\n",
    "        self.day = self.model.day\n",
    "        self.hour = self.model.hour\n",
    "        \n",
    "        self.SOC = 60.0\n",
    "        self.SOC_perc = 0\n",
    "        self.get_soc_perc()\n",
    "        self.charge = False\n",
    "        self.discharge = False\n",
    "        self.location = 0\n",
    "        self.distance_travelled = 0\n",
    "        self.battery_soc = None\n",
    "        self.activity_dict = activities\n",
    "        self.activities = None\n",
    "        self.activity_counter = 0\n",
    "        self.current_activity = \"Home\"\n",
    "        self.move_check = False\n",
    "        self.activity_timer = 0\n",
    "        self.name = name\n",
    "        self.leave_time = self.leave_time()\n",
    "        \n",
    "    def update_params(self):\n",
    "        'Function to update the month, day and hour parameters'\n",
    "        self.month = self.model.month\n",
    "        self.day = self.model.day\n",
    "        self.hour = self.model.hour\n",
    "        \n",
    "        \n",
    "    def random_exclude(self, n, end, start = 0):\n",
    "        return list(range(1,n)) + list(range(n+1, end))\n",
    "    \n",
    "    def get_day(self):\n",
    "        'Function to plan the day'\n",
    "        time, activities = self.plan_day()\n",
    "        \n",
    "        while time > 10:\n",
    "            time, activities = self.plan_day()\n",
    "        \n",
    "            \n",
    "        return activities\n",
    "    \n",
    "    def plan_day(self):\n",
    "        'Function to select the activites to be done that day'\n",
    "        num_activities = len(self.activity_dict)\n",
    "        probs = [0.08, 0.08,0.08,0.08, 0.3, 0.3, 0.08]\n",
    "        n = np.random.choice(np.arange(3, 6))\n",
    "        choices = np.random.choice(list(self.activity_dict.keys()), size=n, replace=False, p=probs)\n",
    "        time = sum([self.activity_dict.get(x)['time'] for x in choices])\n",
    "        \n",
    "        return time, choices\n",
    "    \n",
    "    def find_node(self, activity):\n",
    "        'Function to find nodes that match the activity'\n",
    "        \n",
    "        for i in G.nodes():\n",
    "            value = self.activity_dict[activity]['node']\n",
    "            if G.nodes[i]['type'] == value:\n",
    "                return i\n",
    "            \n",
    "    def get_path(self, start, end):\n",
    "        'Function to return the shortest path from the starting node to the end node specified'\n",
    "        return nx.shortest_path(G,source=start,target=end)\n",
    "\n",
    "    \n",
    "    def get_distance(self, path):\n",
    "        'Function to compute the distance of the path specified'\n",
    "        \n",
    "        distance = 0\n",
    "        \n",
    "        for i in range(len(path)-1):\n",
    "            distance += G.edges[path[i], path[i+1]]['weight']\n",
    "            \n",
    "        return distance\n",
    "    \n",
    "    def leave_time(self):\n",
    "        'Function to decide a time to leave in the morning between 6 and 10 based on prob dist'\n",
    "        \n",
    "        return np.random.choice(np.arange(6, 10), p=[0.15, 0.35, 0.35, 0.15])\n",
    "    \n",
    "    def update_soc(self, distance):\n",
    "        'Function to calculate the SOC of the battery after the most recent trip'\n",
    "        \n",
    "        p_used = distance * 0.24\n",
    "        \n",
    "        self.SOC = self.SOC - p_used + 1 * (0.2 * 0 - 1/0.2 * 0)\n",
    "        \n",
    "        if self.SOC <= 20:\n",
    "            self.charge = True\n",
    "            print(self.name, \" Needs Charging\")\n",
    "            \n",
    "    def V2G(self, v2g_charge):\n",
    "        'Funciton to reduce the EVs SOC by the amount taken for V2G'\n",
    "        self.SOC -= v2g_charge\n",
    "        self.get_soc_perc()\n",
    "            \n",
    "    def get_soc_perc(self):\n",
    "        'Function that updates the SOC as a percentage'\n",
    "        \n",
    "        self.SOC_perc = self.SOC / 75 *100\n",
    "            \n",
    "    def charging_check(self):\n",
    "        'Function to determine whether the EV is chargin or not'\n",
    "        if self.SOC_perc >= 100:\n",
    "            self.charge = False\n",
    "        elif self.SOC_perc < 80 and self.current_activity == \"Home\" or self.SOC_perc < 80 and self.current_activity == \"Work\" :\n",
    "            self.charge = True\n",
    "        elif self.current_activity == \"Home\" or self.current_activity == \"Work1\" or self.current_activity == \"Work2\" :\n",
    "            self.discharge = True\n",
    "        else:\n",
    "            self.charge = False\n",
    "            self.discharge = False\n",
    "            \n",
    "    def update_EV_charge(self, power):\n",
    "        'Function to charge the EV'\n",
    "        \n",
    "        self.SOC += power\n",
    "        self.get_soc_perc()\n",
    "        \n",
    "    def discharge_EV(self, power):\n",
    "        'Function to discharge the EV'\n",
    "        self.SOC -= power\n",
    "        self.get_soc_perc()\n",
    "        \n",
    "    def move_function(self):\n",
    "        'Function to determine the '\n",
    "    \n",
    "    \n",
    "    def move(self, next_activity):\n",
    "        'Function to move the EV agent'\n",
    "        \n",
    "        destination = self.find_node(next_activity)\n",
    "        path = self.get_path(self.location, destination)\n",
    "        \n",
    "        if path == -1:\n",
    "            while path == -1:\n",
    "                destination = self.find_node(next_activity)\n",
    "                path = self.get_path(self.location, destination)\n",
    "                \n",
    "        distance = self.get_distance(path)       \n",
    "        self.distance_travelled += distance\n",
    "        self.update_soc(distance)\n",
    "        self.get_soc_perc()\n",
    "        self.location = destination\n",
    "        self.model.graph.move_agent(self, self.location)\n",
    "        \n",
    "        \n",
    "    def step(self):\n",
    "        \n",
    "        self.update_params()\n",
    "        \n",
    "        if self.hour == 0:\n",
    "            if self.current_activity != 'Home':\n",
    "                self.move('Home')\n",
    "                \n",
    "            self.activities = self.get_day()\n",
    "            self.activity_counter = 0\n",
    "        \n",
    "        self.charging_check()\n",
    "        \n",
    "        if self.leave_time == self.hour:\n",
    "            self.move_check = True\n",
    "            \n",
    "        if self.charge or self.discharge:\n",
    "            #print(self.name, \" : Charge: \", self.SOC)\n",
    "            \n",
    "            self.model.schedule.agents[33].update_demand(7.104, self.SOC, self.name)\n",
    "        \n",
    "        if self.move_check:\n",
    "            \n",
    "            self.move_check = False\n",
    "            \n",
    "            if self.activity_counter >= len(self.activities):\n",
    "                next_activity = \"Home\"\n",
    "            else:\n",
    "                next_activity = self.activities[self.activity_counter]\n",
    "            \n",
    "            self.move(next_activity)\n",
    "            \n",
    "            self.current_activity = next_activity\n",
    "            self.activity_timer = self.activity_dict[self.current_activity]['time'] + 1\n",
    "            \n",
    "            self.activity_counter += 1\n",
    "    \n",
    "            \n",
    "        self.activity_timer -= 1\n",
    "        \n",
    "        if self.activity_timer == 0 and self.activity_counter <= len(self.activities):\n",
    "            self.move_check = True\n",
    "            \n",
    "            \n"
   ]
  },
  {
   "cell_type": "code",
   "execution_count": 314,
   "metadata": {},
   "outputs": [],
   "source": [
    "class EVAggregatorAgent(mesa.Agent):\n",
    "    \n",
    "    'Agent to aggregate data from the EVs'\n",
    "    \n",
    "    def __init__(self, model):\n",
    "        super().__init__(self, model)\n",
    "        self.month = self.model.month\n",
    "        self.day = self.model.day\n",
    "        self.hour = self.model.hour\n",
    "        self.name = \"EV_Aggregator_Agent\"\n",
    "        self.EV_demand = {}\n",
    "        self.EV_SOC = {}\n",
    "        self.EV_status = {}\n",
    "        \n",
    "    def update_params(self):\n",
    "        'Function to update the month, day and hour parameters'\n",
    "        self.month = self.model.month\n",
    "        self.day = self.model.day\n",
    "        self.hour = self.model.hour\n",
    "        \n",
    "    def update_demand(self, demand, soc, id):\n",
    "        'Function to update the total EV demand, called by EV agents'\n",
    "        \n",
    "        self.EV_status[id] = {'name': id, \"soc\": soc, \"demand\": demand}        \n",
    "#         self.EV_demand[id] = demand\n",
    "#         self.EV_SOC[id] = soc\n",
    "        \n",
    "    def step(self):\n",
    "        self.update_params()\n",
    "        self.model.schedule.agents[34].update_EV_load(self.EV_status)\n",
    "        self.EV_status = {}\n",
    "#         self.EV_demand = []\n",
    "#         self.EV_SOC = []\n",
    " \n"
   ]
  },
  {
   "cell_type": "code",
   "execution_count": 315,
   "metadata": {},
   "outputs": [],
   "source": [
    "class ControlAgent(mesa.Agent):\n",
    "    \n",
    "    'An agent to control the microgrid.'\n",
    "    \n",
    "    def __init__(self, model):\n",
    "        super().__init__(self, model)\n",
    "        self.month = self.model.month\n",
    "        self.day = self.model.day\n",
    "        self.hour = self.model.hour\n",
    "        self.name = \"Control_Agent\"\n",
    "        self.pv_output = 0\n",
    "        self.wt_output = 0\n",
    "        self.total_resi_load = 0\n",
    "        self.EV_status = None\n",
    "        self.total_EV_load = 0\n",
    "        self.total_demand = 0\n",
    "        self.total_gen = 0\n",
    "        self.resi = []\n",
    "        self.ev = []\n",
    "        self.vf = np.vectorize(self.array_charge)\n",
    "        self.bess_soc = 0\n",
    "        \n",
    "    def update_params(self):\n",
    "        'Function to update the month, day and hour parameters'\n",
    "        self.month = self.model.month\n",
    "        self.day = self.model.day\n",
    "        self.hour = self.model.hour\n",
    "        \n",
    "    def update_pv(self, new_pv):\n",
    "        self.pv_output = new_pv\n",
    "        \n",
    "    def update_wt(self, new_wt):\n",
    "        self.wt_output = new_wt\n",
    "        \n",
    "    def update_resi_load(self, load):\n",
    "        self.total_resi_load = load\n",
    "        \n",
    "    def update_EV_load(self, status):\n",
    "        self.EV_status = status\n",
    "        \n",
    "    def update_bess_soc(self, soc):\n",
    "        self.bess_soc = soc\n",
    "        \n",
    "    def add_charge_flag(self):\n",
    "        'Function to add a charge or discharge flag to the dictionary of EVs that want to charge'\n",
    "        for i in self.EV_status:\n",
    "            if self.EV_status[i][\"soc\"] / 75 >= 1:\n",
    "                self.EV_status[i][\"flag\"] = 0\n",
    "            elif self.EV_status[i][\"soc\"] / 75 < 0.5 or self.hour < 9:\n",
    "                self.EV_status[i][\"flag\"] = 1\n",
    "            else:\n",
    "                self.EV_status[i][\"flag\"] = np.random.choice([1,-1], p=[0.2,0.8])\n",
    "                #self.EV_status[i][\"flag\"] = -1\n",
    "                \n",
    "    def required_EV_charge(self, soc):\n",
    "        'Function to return the amount of charge needed'\n",
    "        perc = soc/60\n",
    "        remaining = 60 - soc\n",
    "        \n",
    "        if remaining < 7.104:\n",
    "            return remaining\n",
    "        else:\n",
    "            return 7.104\n",
    "        \n",
    "    def required_EV_discharge(self, soc, proposed_dis):\n",
    "        'Function to return the amount of charge needed'\n",
    "        post_dis = soc - proposed_dis\n",
    "        perc = post_dis /75\n",
    "        \n",
    "        if perc < 0.5:\n",
    "            return (soc - 37.5)*-1\n",
    "        else:\n",
    "            return proposed_dis *-1\n",
    "        \n",
    "        \n",
    "        \n",
    "    def obj_function(self, x, demand, charges):\n",
    "        'Objective function of charging PSO algorithm'\n",
    "        perc = x/charges*100\n",
    "        value = abs(demand-np.sum(x,axis=1)) + np.var(perc, axis=1)\n",
    "        return value\n",
    "    \n",
    "    def PSO_optimisation(self, deficit):\n",
    "        'Function to run the PSO charging algorithm'\n",
    "        \n",
    "        discharging_EVs = [i[\"soc\"] for i in self.EV_status.values() if i[\"flag\"] < 0]\n",
    "        \n",
    "        \n",
    "        \n",
    "        num_EVs = len(discharging_EVs)\n",
    "        \n",
    "        params = {'c1': 0.3, 'c2': 0.5, 'w':0.7}\n",
    "        bounds = (np.full(num_EVs,0), np.full(num_EVs,7))\n",
    "        optimizer = ps.single.GlobalBestPSO(n_particles=50, dimensions=num_EVs, options=params, bounds=bounds)\n",
    "        cost, pos = optimizer.optimize(self.obj_function, iters=50, demand=deficit, charges=np.array(discharging_EVs), verbose=False)\n",
    "\n",
    "        return pos\n",
    "    \n",
    "    def update_charges(self):\n",
    "        'Function to update the charges of the EVs'\n",
    "        \n",
    "        reformat = np.array(list(self.EV_status.values()))\n",
    "        vf = np.frompyfunc(self.array_charge,1,0)\n",
    "        vf(reformat)\n",
    "        \n",
    "        \n",
    "    def array_charge(self, i):\n",
    "        \n",
    "        next((x.update_EV_charge(i['power']) for x in self.model.schedule.agents if x.name == i['name']), None)\n",
    "        \n",
    "    def fuel_consumption(self,price, power):\n",
    "        'Function to calculate the cost of fuel used by the fuel cell'\n",
    "        return price*power/0.56\n",
    "    \n",
    "    def fc_emissions(self,power):\n",
    "        return power/0.56*0.184\n",
    "    \n",
    "    def grid_emissions(self,power):\n",
    "        return power*0.555\n",
    "            \n",
    "            \n",
    "        \n",
    "    def step(self):\n",
    "        \n",
    "        self.update_params()\n",
    "\n",
    "        self.total_EV_load = sum(i[\"demand\"] for i in self.EV_status.values())\n",
    "        self.total_demand = self.total_resi_load + self.total_EV_load\n",
    "        self.total_gen = self.pv_output + self.wt_output\n",
    "        deficit = self.total_demand - self.total_gen\n",
    "        \n",
    "        if deficit > 0 and self.bess_soc > 0.2:\n",
    "            surplus = self.model.schedule.agents[0].update_charge(deficit * -1)\n",
    "            if not surplus == None:\n",
    "                deficit = surplus\n",
    "            else:\n",
    "                deficit = 0\n",
    "                \n",
    "        \n",
    "        \n",
    "        if len(self.EV_status) > 0:\n",
    "            '*MOVE TO FUNCTION*'\n",
    "            self.add_charge_flag()\n",
    "        \n",
    "            if deficit > 0 and self.hour > 8:\n",
    "\n",
    "                'Update EV demand after removing cars with <50% charge'    \n",
    "                self.total_EV_load = sum(i[\"demand\"] for i in self.EV_status.values() if i[\"flag\"] > 0)\n",
    "\n",
    "                deficit = deficit - sum(i[\"demand\"] for i in self.EV_status.values() if i[\"flag\"] < 0)\n",
    "\n",
    "                \n",
    "\n",
    "                if deficit > 0 and sum(i[\"demand\"] for i in self.EV_status.values() if i[\"flag\"] < 0) > 0:\n",
    "                    V2G_charges = self.PSO_optimisation(deficit)\n",
    "                    self.total_gen += V2G_charges.sum()\n",
    "                    deficit -= V2G_charges.sum()\n",
    "            \n",
    "            fc_use = 0\n",
    "            fc_cost = 0\n",
    "            fc_ems = 0\n",
    "                    \n",
    "            if deficit > 0:\n",
    "                if deficit > self.model.fc_capacity:\n",
    "                    deficit -= self.model.fc_capacity\n",
    "                    fc_use = self.model.fc_capacity\n",
    "                    self.total_gen += fc_use\n",
    "                    fc_cost = self.fuel_consumption(5.4, fc_use)\n",
    "                    fc_ems = self.fc_emissions(fc_use)\n",
    "                else:\n",
    "                    fc_use = deficit\n",
    "                    self.total_gen += fc_use\n",
    "                    fc_cost = self.fuel_consumption(5.4, fc_use)\n",
    "                    fc_ems = self.fc_emissions(fc_use)\n",
    "                    deficit = 0\n",
    "                    \n",
    "            grid_purchase = 0\n",
    "            grid_ems = 0\n",
    "                    \n",
    "            if deficit > 0:\n",
    "                grid_purchase = deficit\n",
    "                grid_ems = self.grid_emissions(grid_purchase)\n",
    "                \n",
    "            if deficit < 0:\n",
    "                surplus = self.model.schedule.agents[0].update_charge(deficit*-1)\n",
    "                #If surplus not None sell to grid\n",
    "        \n",
    "            for i in range(len(self.EV_status)):\n",
    "                k = list(self.EV_status.keys())\n",
    "                k_counter = 0\n",
    "                EV = self.EV_status[k[i]]\n",
    "                if EV[\"flag\"] < 0 and deficit > 0:\n",
    "                    EV[\"power\"] = self.required_EV_discharge(EV[\"soc\"],V2G_charges[k_counter])\n",
    "                    k_counter += 1\n",
    "                elif EV[\"flag\"] < 0:\n",
    "                    EV[\"power\"] = self.required_EV_charge(EV[\"soc\"])\n",
    "                elif EV[\"flag\"] >= 0:\n",
    "                    EV[\"power\"] = self.required_EV_charge(EV[\"soc\"])\n",
    "\n",
    "                    \n",
    "            \n",
    "            self.update_charges()\n",
    "    \n",
    "                    \n",
    "            \n",
    "        \n",
    "\n",
    "        \n",
    "        self.model.EV_charge[self.month][self.day].append(self.total_EV_load)\n",
    "        self.model.production[self.month][self.day].append(self.total_gen)\n",
    "        self.model.cons[self.month][self.day].append(deficit)\n",
    "        self.model.fc_use[self.month][self.day].append(fc_use)\n",
    "        self.model.fc_ems[self.month][self.day].append(fc_ems)\n",
    "        self.model.grid_use[self.month][self.day].append(grid_purchase)\n",
    "        self.model.grid_ems[self.month][self.day].append(grid_ems)\n",
    "\n",
    "        \n"
   ]
  },
  {
   "cell_type": "code",
   "execution_count": 316,
   "metadata": {},
   "outputs": [],
   "source": [
    "class MicrogridModel(mesa.Model):\n",
    "    \n",
    "    'A model to simulate a microgrid.'\n",
    "    \n",
    "    def __init__(self, pv_size, num_wt, fc_cap, bess_cap, irr, ws, df, graph, activities):\n",
    "        self.month = 0\n",
    "        self.day = 0\n",
    "        self.hour = 0\n",
    "        self.panel_size = pv_size\n",
    "        self.wt = num_wt\n",
    "        self.fc_capacity = fc_cap\n",
    "        self.bess_cap = bess_cap\n",
    "        self.solar_data = irr\n",
    "        self.wind_data = ws\n",
    "        self.resi_df = df\n",
    "        self.resi_df_format = {}\n",
    "        self.houses = self.resi_df.keys()\n",
    "        self.graph = NetworkGrid(graph)\n",
    "        self.activities= activities        \n",
    "        \n",
    "        self.solar_gen = {}\n",
    "        self.wind_gen = {}\n",
    "        self.resi_cons = {}\n",
    "        self.EV_charge = {}\n",
    "        self.production = {}\n",
    "        self.cons = {}\n",
    "        self.fc_use = {}\n",
    "        self.fc_ems = {}\n",
    "        self.grid_use = {}\n",
    "        self.grid_ems = {}\n",
    "        self.bess_charges = {}\n",
    "        \n",
    "        self.schedule = mesa.time.BaseScheduler(self)\n",
    "        \n",
    "        self.day = 0\n",
    "        self.month = 0\n",
    "        \n",
    "        self.update_load_data()\n",
    "        \n",
    "        #Create agents\n",
    "        \n",
    "        bess = BatteryAgent(self, self.bess_cap)\n",
    "        res = RESAgent(self, self.panel_size, self.wt)\n",
    "        residential = ResiLoadAgent(self, self.resi_df_format)\n",
    "        evs = [EVAgent(self, activities, \"EV\"+str(i)) for i in range(30)]\n",
    "        ev_agg = EVAggregatorAgent(self)\n",
    "        ctrl = ControlAgent(self)\n",
    "\n",
    "        self.schedule.add(bess)\n",
    "        self.schedule.add(res)\n",
    "        self.schedule.add(residential)\n",
    "        for i in evs:\n",
    "            self.schedule.add(i)\n",
    "            self.graph.place_agent(i, 0)\n",
    "        self.schedule.add(ev_agg)\n",
    "        self.schedule.add(ctrl)\n",
    "\n",
    "        \n",
    "        \n",
    "    def update_date(self):\n",
    "        'Update to whether weekday or weekend data is being taken'\n",
    "        self.month += 1 if self.day == 1 else 0\n",
    "        self.day += 1 if self.day == 0 else -1\n",
    "        \n",
    "    def update_load_data(self):\n",
    "        'Function to update the data in the dataframe to the latest days'\n",
    "        for i in self.houses:\n",
    "            self.resi_df_format[i] = self.resi_df[i][self.month][self.day]\n",
    "            \n",
    "    def get_solar_gen(self):\n",
    "        return self.solar_gen\n",
    "    \n",
    "    def get_wind_gen(self):\n",
    "        return self.wind_gen\n",
    "    \n",
    "    def get_resi_cons(self):\n",
    "        return self.resi_cons\n",
    "    \n",
    "    def get_EV_cons(self):\n",
    "        return self.EV_charge\n",
    "    \n",
    "    def get_production(self):\n",
    "        return self.production\n",
    "    \n",
    "    def get_cons(self):\n",
    "        return self.cons\n",
    "    \n",
    "    def get_fc_use(self):\n",
    "        return self.fc_use\n",
    "\n",
    "    def get_fc_ems(self):\n",
    "        return self.cons\n",
    "\n",
    "    def get_fc_cost(self):\n",
    "        return self.fc_ems\n",
    "\n",
    "    def get_grid_use(self):\n",
    "        return self.grid_use\n",
    "    \n",
    "    def get_bess_charges(self):\n",
    "        return self.bess_charges\n",
    "        \n",
    "        \n",
    "    def step(self):\n",
    "        'Move the model forward by one time step'\n",
    "        self.update_load_data()\n",
    "        #print(\"Data: \", self.resi_df_format)\n",
    "        for m in range(4):\n",
    "            self.month = m\n",
    "            self.solar_gen[self.month] = {}\n",
    "            self.wind_gen[self.month] = {}\n",
    "            self.resi_cons[self.month] = {}\n",
    "            self.EV_charge[self.month] = {}\n",
    "            self.production[self.month] = {}\n",
    "            self.cons[self.month] = {}\n",
    "            self.fc_use[self.month] = {}\n",
    "            self.fc_ems[self.month] = {}\n",
    "            self.grid_use[self.month] = {}\n",
    "            self.grid_ems[self.month] = {}\n",
    "            self.bess_charges[self.month] = {}\n",
    "            #print(\"\\nMonth: \", m)\n",
    "            for d in range(1):\n",
    "                self.day = d\n",
    "                self.solar_gen[self.month][self.day] = []\n",
    "                self.wind_gen[self.month][self.day] = []\n",
    "                self.resi_cons[self.month][self.day] = []\n",
    "                self.EV_charge[self.month][self.day] = []\n",
    "                self.production[self.month][self.day] = []\n",
    "                self.cons[self.month][self.day] = []\n",
    "                self.fc_use[self.month][self.day] = []\n",
    "                self.fc_ems[self.month][self.day] = []\n",
    "                self.grid_use[self.month][self.day] = []\n",
    "                self.grid_ems[self.month][self.day] = []\n",
    "                self.bess_charges[self.month][self.day] = []\n",
    "                \n",
    "                \n",
    "                #print(\"Day: \", m)\n",
    "                for h in range(24):\n",
    "                    self.hour = h\n",
    "                    #print(\"\\nHour: \", h)\n",
    "                    self.schedule.step()\n",
    "                    self.bess_charges[self.month][self.day].append(self.schedule.agents[0].get_soc())\n",
    "        #print(self.deficit)\n",
    "            \n",
    "            \n",
    "    "
   ]
  },
  {
   "cell_type": "code",
   "execution_count": 321,
   "metadata": {
    "scrolled": false
   },
   "outputs": [
    {
     "name": "stdout",
     "output_type": "stream",
     "text": [
      "1.9919991493225098\n"
     ]
    }
   ],
   "source": [
    "empty_model = MicrogridModel(100, 50, 100, 500,solar_data, wind_data, df, G, activities)\n",
    "start = time.time()\n",
    "empty_model.step()\n",
    "end = time.time()\n",
    "print(end - start)"
   ]
  },
  {
   "cell_type": "code",
   "execution_count": 326,
   "metadata": {
    "scrolled": true
   },
   "outputs": [
    {
     "data": {
      "text/plain": [
       "[[0,\n",
       "  100,\n",
       "  100,\n",
       "  100,\n",
       "  100,\n",
       "  100,\n",
       "  100,\n",
       "  100,\n",
       "  100,\n",
       "  8.298938546147383e-05,\n",
       "  11.438878966040178,\n",
       "  0,\n",
       "  0.002719394683140308,\n",
       "  0,\n",
       "  0,\n",
       "  0,\n",
       "  0,\n",
       "  0,\n",
       "  0,\n",
       "  0.0014124194419977698,\n",
       "  0.0012717106897639496,\n",
       "  0,\n",
       "  0.001191214266683005,\n",
       "  0.007412701584243564]]"
      ]
     },
     "execution_count": 326,
     "metadata": {},
     "output_type": "execute_result"
    }
   ],
   "source": [
    "ems = list(empty_model.get_fc_use()[0].values())\n",
    "ems"
   ]
  },
  {
   "cell_type": "code",
   "execution_count": 334,
   "metadata": {
    "scrolled": true
   },
   "outputs": [
    {
     "data": {
      "text/plain": [
       "array([-213.12 , -213.12 , -213.12 , -213.12 , -213.12 , -213.12 ,\n",
       "       -213.12 , -206.016, -177.6  ,  -35.52 ,  -63.936,  -42.624,\n",
       "        -56.832,   -7.104,  -35.52 ,  -42.624,  -28.416,  -42.624,\n",
       "        -42.624,  -28.416,  -21.312,  -49.728,  -49.728,  -42.624])"
      ]
     },
     "execution_count": 334,
     "metadata": {},
     "output_type": "execute_result"
    }
   ],
   "source": [
    "ev = np.array(list(empty_model.get_EV_cons()[0].values()))\n",
    "ev = ev[0]*-1\n",
    "ev"
   ]
  },
  {
   "cell_type": "code",
   "execution_count": 335,
   "metadata": {},
   "outputs": [
    {
     "data": {
      "text/plain": [
       "[<matplotlib.lines.Line2D at 0x27246e36be0>]"
      ]
     },
     "execution_count": 335,
     "metadata": {},
     "output_type": "execute_result"
    },
    {
     "data": {
      "image/png": "[encoded data removed]",
      "text/plain": [
       "<Figure size 432x288 with 1 Axes>"
      ]
     },
     "metadata": {
      "needs_background": "light"
     },
     "output_type": "display_data"
    }
   ],
   "source": [
    "plt.plot(ev)"
   ]
  },
  {
   "cell_type": "code",
   "execution_count": null,
   "metadata": {},
   "outputs": [],
   "source": []
  },
  {
   "cell_type": "code",
   "execution_count": 327,
   "metadata": {},
   "outputs": [
    {
     "data": {
      "text/plain": [
       "[<matplotlib.lines.Line2D at 0x27246ca5640>]"
      ]
     },
     "execution_count": 327,
     "metadata": {},
     "output_type": "execute_result"
    },
    {
     "data": {
      "image/png": "[encoded data removed]",
      "text/plain": [
       "<Figure size 432x288 with 1 Axes>"
      ]
     },
     "metadata": {
      "needs_background": "light"
     },
     "output_type": "display_data"
    }
   ],
   "source": [
    "plt.plot(ems[0])"
   ]
  },
  {
   "cell_type": "code",
   "execution_count": 323,
   "metadata": {},
   "outputs": [],
   "source": [
    "bess = list(empty_model.get_bess_charges()[0].values())"
   ]
  },
  {
   "cell_type": "code",
   "execution_count": 324,
   "metadata": {},
   "outputs": [
    {
     "data": {
      "text/plain": [
       "[0.36785881987593955,\n",
       " 0.20664720926708724,\n",
       " 0.20026322948697667,\n",
       " 0.20001042388768428,\n",
       " 0.20000041278595232,\n",
       " 0.20000001634632372,\n",
       " 0.20000000064731444,\n",
       " 0.20000000002563367,\n",
       " 0.20000000000101512,\n",
       " 0.2000000000000402,\n",
       " 0.2000000000000016,\n",
       " 0.208,\n",
       " 0.20031680000000002,\n",
       " 0.25,\n",
       " 0.225,\n",
       " 0.201,\n",
       " 0.201,\n",
       " 0.2,\n",
       " 0.2,\n",
       " 0.2,\n",
       " 0.2,\n",
       " 0.2,\n",
       " 0.2,\n",
       " 0.2]"
      ]
     },
     "execution_count": 324,
     "metadata": {},
     "output_type": "execute_result"
    }
   ],
   "source": [
    "bess[0]"
   ]
  },
  {
   "cell_type": "code",
   "execution_count": 325,
   "metadata": {
    "scrolled": true
   },
   "outputs": [
    {
     "data": {
      "text/plain": [
       "[<matplotlib.lines.Line2D at 0x27246ba6550>]"
      ]
     },
     "execution_count": 325,
     "metadata": {},
     "output_type": "execute_result"
    },
    {
     "data": {
      "image/png": "[encoded data removed]",
      "text/plain": [
       "<Figure size 432x288 with 1 Axes>"
      ]
     },
     "metadata": {
      "needs_background": "light"
     },
     "output_type": "display_data"
    }
   ],
   "source": [
    "plt.plot(bess[0])"
   ]
  },
  {
   "cell_type": "code",
   "execution_count": 339,
   "metadata": {},
   "outputs": [
    {
     "data": {
      "text/plain": [
       "array([  0.        ,  41.65298347,  81.84862822, 109.26536819,\n",
       "        90.95485075, 124.26008356, 118.75117848, 109.72122661,\n",
       "       105.12998237,   0.        ,   0.        ,   0.        ,\n",
       "         0.        ,   0.        ,   0.        ,   0.        ,\n",
       "         0.        ,   0.        ,   0.        ,   0.        ,\n",
       "         0.        ,   0.        ,   0.        ,   0.        ])"
      ]
     },
     "execution_count": 339,
     "metadata": {},
     "output_type": "execute_result"
    }
   ],
   "source": [
    "grid = np.array(list(empty_model.get_grid_use()[0].values())[0])\n",
    "grid"
   ]
  },
  {
   "cell_type": "code",
   "execution_count": 340,
   "metadata": {},
   "outputs": [
    {
     "data": {
      "text/plain": [
       "[<matplotlib.lines.Line2D at 0x27246f88f70>]"
      ]
     },
     "execution_count": 340,
     "metadata": {},
     "output_type": "execute_result"
    },
    {
     "data": {
      "image/png": "[encoded data removed]",
      "text/plain": [
       "<Figure size 432x288 with 1 Axes>"
      ]
     },
     "metadata": {
      "needs_background": "light"
     },
     "output_type": "display_data"
    }
   ],
   "source": [
    "plt.plot(grid)"
   ]
  },
  {
   "cell_type": "code",
   "execution_count": null,
   "metadata": {},
   "outputs": [],
   "source": []
  },
  {
   "cell_type": "code",
   "execution_count": null,
   "metadata": {},
   "outputs": [],
   "source": [
    "class MicroGridProblem(ElementwiseProblem):\n",
    "    \n",
    "    def __init__(self):\n",
    "        super().__init__(n_var=2, n_obj=2, xl=0.0, xu=100)\n",
    "        \n",
    "    def calculate_cost(self, mg):\n",
    "        solar_gen = mg.get_solar_gen()\n",
    "        wind_gen = mg.get_wind_gen()\n",
    "        \n",
    "        solar_total = self.sum_dict(solar_gen)\n",
    "        wind_total = self.sum_dict(wind_gen)\n",
    "        \n",
    "        solar_total *= 0.2076275\n",
    "        wind_total *= 0.046\n",
    "        \n",
    "        return sum([solar_total, wind_total])\n",
    "    \n",
    "    def calculate_autonomy(self, mg):\n",
    "        prod = self.sum_dict(mg.get_production())\n",
    "        cons = self.sum_dict(mg.get_cons())\n",
    "        \n",
    "        return prod/cons\n",
    "        \n",
    "    \n",
    "    def sum_dict(self, obj):\n",
    "        #print(obj)\n",
    "        return np.concatenate(list(np.array(list(obj.values()))[0].values())).sum() \n",
    "        \n",
    "        \n",
    "        \n",
    "    def _evaluate(self, x, out, *args, **kwargs):\n",
    "        #print(\"X: \", x)\n",
    "        panels = x[0]\n",
    "        turbines = x[1]\n",
    "        #print(turbines)\n",
    "        mg = MicrogridModel(panels, turbines, solar_data, wind_data, df, G, activities)\n",
    "        mg.step()\n",
    "        #print(\"MG Complete\")\n",
    "        #print(\"MG: \", mg)\n",
    "        cost = self.calculate_cost(mg)\n",
    "        auto = self.calculate_autonomy(mg)\n",
    "        out[\"F\"] = [cost, -auto]"
   ]
  },
  {
   "cell_type": "code",
   "execution_count": null,
   "metadata": {},
   "outputs": [],
   "source": [
    "algorithm = NSGA2(pop_size=2)"
   ]
  },
  {
   "cell_type": "code",
   "execution_count": null,
   "metadata": {},
   "outputs": [],
   "source": [
    "problem = MicroGridProblem()"
   ]
  },
  {
   "cell_type": "code",
   "execution_count": null,
   "metadata": {},
   "outputs": [],
   "source": [
    "start = time.time()\n",
    "res = minimize(problem,\n",
    "               algorithm,\n",
    "               ('n_gen', 2),\n",
    "               seed=1,\n",
    "               verbose=False)\n",
    "end = time.time()\n",
    "print(end - start)"
   ]
  },
  {
   "cell_type": "code",
   "execution_count": null,
   "metadata": {},
   "outputs": [],
   "source": [
    "plot = Scatter()\n",
    "plot.add(problem.pareto_front(), plot_type=\"line\", color=\"black\", alpha=0.7)\n",
    "plot.add(res.F, facecolor=\"none\", edgecolor=\"red\")\n",
    "plot.show()"
   ]
  },
  {
   "cell_type": "code",
   "execution_count": null,
   "metadata": {},
   "outputs": [],
   "source": [
    "res.F"
   ]
  },
  {
   "cell_type": "code",
   "execution_count": null,
   "metadata": {},
   "outputs": [],
   "source": [
    "np.round(res.X)"
   ]
  },
  {
   "cell_type": "code",
   "execution_count": null,
   "metadata": {},
   "outputs": [],
   "source": [
    "x = 0.3"
   ]
  },
  {
   "cell_type": "code",
   "execution_count": null,
   "metadata": {},
   "outputs": [],
   "source": [
    "n = -2.063*x**4 + 4.889*x**3 - 4.203*x**2 + 1.378*x + 0.4795"
   ]
  },
  {
   "cell_type": "code",
   "execution_count": null,
   "metadata": {},
   "outputs": [],
   "source": [
    "-2.063*10"
   ]
  },
  {
   "cell_type": "code",
   "execution_count": null,
   "metadata": {},
   "outputs": [],
   "source": [
    "n"
   ]
  },
  {
   "cell_type": "code",
   "execution_count": null,
   "metadata": {},
   "outputs": [],
   "source": [
    "def fuel_consumption(price, power):\n",
    "    'Function to calculate the cost of fuel used by the fuel cell'\n",
    "    return price*power/0.56"
   ]
  },
  {
   "cell_type": "code",
   "execution_count": null,
   "metadata": {},
   "outputs": [],
   "source": [
    "def fc_emissions(power):\n",
    "    return power/0.56*0.184"
   ]
  },
  {
   "cell_type": "code",
   "execution_count": null,
   "metadata": {},
   "outputs": [],
   "source": [
    "def grid_emissions(power):\n",
    "    return power*0.555"
   ]
  },
  {
   "cell_type": "markdown",
   "metadata": {},
   "source": [
    "grid_emissions and fc emmissions from: Emission and economic performance assessment of a solid oxide fuel\n",
    "cell micro-combined heat and power system in a domestic building"
   ]
  },
  {
   "cell_type": "code",
   "execution_count": null,
   "metadata": {},
   "outputs": [],
   "source": [
    "choice = []\n",
    "for i in range(1000):\n",
    "    choice.append(np.random.choice([1,-1], p=[0.2,0.8]))"
   ]
  },
  {
   "cell_type": "code",
   "execution_count": null,
   "metadata": {},
   "outputs": [],
   "source": [
    "plt.hist(choice)"
   ]
  },
  {
   "cell_type": "code",
   "execution_count": null,
   "metadata": {},
   "outputs": [],
   "source": [
    "0.4 + 1/0.98*0.35*1/11"
   ]
  },
  {
   "cell_type": "code",
   "execution_count": null,
   "metadata": {},
   "outputs": [],
   "source": [
    "0.4 - 0.98*0.2*1/1"
   ]
  },
  {
   "cell_type": "code",
   "execution_count": null,
   "metadata": {},
   "outputs": [],
   "source": []
  },
  {
   "cell_type": "code",
   "execution_count": null,
   "metadata": {},
   "outputs": [],
   "source": []
  },
  {
   "cell_type": "code",
   "execution_count": null,
   "metadata": {},
   "outputs": [],
   "source": [
    "(1/98)*20*20/200"
   ]
  },
  {
   "cell_type": "code",
   "execution_count": null,
   "metadata": {},
   "outputs": [],
   "source": [
    "0.7 - 1/0.98*30*1/100"
   ]
  },
  {
   "cell_type": "code",
   "execution_count": null,
   "metadata": {},
   "outputs": [],
   "source": [
    "0.7 + 0.98*15*1/100"
   ]
  },
  {
   "cell_type": "code",
   "execution_count": 305,
   "metadata": {},
   "outputs": [],
   "source": [
    "def update_charge(soc, power):\n",
    "    eff=0.98\n",
    "    if power > 0:\n",
    "        return soc + 1/eff*power*1/500\n",
    "    elif power < 0:\n",
    "        return soc - eff*-power*1/500\n",
    "    "
   ]
  },
  {
   "cell_type": "code",
   "execution_count": null,
   "metadata": {},
   "outputs": [],
   "source": [
    "def reverse(soc_plus_one, soc):\n",
    "    return np.round((soc_plus_one-soc/1)*100/-0.98,2)"
   ]
  },
  {
   "cell_type": "code",
   "execution_count": 130,
   "metadata": {},
   "outputs": [],
   "source": [
    "def add_rev(soc_plus_one, soc):\n",
    "    return (soc_plus_one-soc/1)*100*0.98"
   ]
  },
  {
   "cell_type": "code",
   "execution_count": null,
   "metadata": {},
   "outputs": [],
   "source": [
    "update_charge(20)"
   ]
  },
  {
   "cell_type": "code",
   "execution_count": null,
   "metadata": {},
   "outputs": [],
   "source": [
    "0.5+-1.0204081632653061*20*1/100"
   ]
  },
  {
   "cell_type": "code",
   "execution_count": null,
   "metadata": {},
   "outputs": [],
   "source": [
    "-5*-1"
   ]
  },
  {
   "cell_type": "code",
   "execution_count": null,
   "metadata": {},
   "outputs": [],
   "source": [
    "if not 1 == None:\n",
    "    print(True)"
   ]
  },
  {
   "cell_type": "code",
   "execution_count": null,
   "metadata": {},
   "outputs": [],
   "source": [
    "0.50 - 0.98*20*1/100"
   ]
  },
  {
   "cell_type": "code",
   "execution_count": null,
   "metadata": {},
   "outputs": [],
   "source": []
  },
  {
   "cell_type": "code",
   "execution_count": null,
   "metadata": {},
   "outputs": [],
   "source": [
    "(0.152-0.25/1)*100*0.98"
   ]
  },
  {
   "cell_type": "code",
   "execution_count": null,
   "metadata": {},
   "outputs": [],
   "source": [
    "-0.98*10"
   ]
  },
  {
   "cell_type": "code",
   "execution_count": null,
   "metadata": {},
   "outputs": [],
   "source": [
    "(0.152-0.25/1)*100/-0.98"
   ]
  },
  {
   "cell_type": "code",
   "execution_count": null,
   "metadata": {},
   "outputs": [],
   "source": [
    "reverse(0,-0.5)"
   ]
  },
  {
   "cell_type": "code",
   "execution_count": 308,
   "metadata": {},
   "outputs": [
    {
     "data": {
      "text/plain": [
       "1.0040816326530613"
      ]
     },
     "execution_count": 308,
     "metadata": {},
     "output_type": "execute_result"
    }
   ],
   "source": [
    "update_charge(0.8,100)"
   ]
  },
  {
   "cell_type": "code",
   "execution_count": 310,
   "metadata": {},
   "outputs": [
    {
     "data": {
      "text/plain": [
       "58.800000000000004"
      ]
     },
     "execution_count": 310,
     "metadata": {},
     "output_type": "execute_result"
    }
   ],
   "source": [
    "add_rev(0.8,0.2)"
   ]
  },
  {
   "cell_type": "code",
   "execution_count": 209,
   "metadata": {},
   "outputs": [],
   "source": [
    "power = -223.90380521416995"
   ]
  },
  {
   "cell_type": "code",
   "execution_count": 210,
   "metadata": {},
   "outputs": [
    {
     "data": {
      "text/plain": [
       "-1.3942572910988658"
      ]
     },
     "execution_count": 210,
     "metadata": {},
     "output_type": "execute_result"
    }
   ],
   "source": [
    "update = update_charge(0.8,power)\n",
    "update"
   ]
  },
  {
   "cell_type": "code",
   "execution_count": 211,
   "metadata": {},
   "outputs": [
    {
     "data": {
      "text/plain": [
       "True"
      ]
     },
     "execution_count": 211,
     "metadata": {},
     "output_type": "execute_result"
    }
   ],
   "source": [
    "update < 0.2"
   ]
  },
  {
   "cell_type": "code",
   "execution_count": 212,
   "metadata": {},
   "outputs": [
    {
     "data": {
      "text/plain": [
       "-58.800000000000004"
      ]
     },
     "execution_count": 212,
     "metadata": {},
     "output_type": "execute_result"
    }
   ],
   "source": [
    "needed_power = add_rev(0.2,0.8)\n",
    "needed_power"
   ]
  },
  {
   "cell_type": "code",
   "execution_count": 213,
   "metadata": {},
   "outputs": [
    {
     "data": {
      "text/plain": [
       "-165.10380521416994"
      ]
     },
     "execution_count": 213,
     "metadata": {},
     "output_type": "execute_result"
    }
   ],
   "source": [
    "surplus = power - needed_power\n",
    "surplus"
   ]
  },
  {
   "cell_type": "code",
   "execution_count": null,
   "metadata": {},
   "outputs": [],
   "source": []
  },
  {
   "cell_type": "code",
   "execution_count": null,
   "metadata": {},
   "outputs": [],
   "source": []
  },
  {
   "cell_type": "code",
   "execution_count": 189,
   "metadata": {},
   "outputs": [],
   "source": [
    "surplus = 0.2 + update"
   ]
  },
  {
   "cell_type": "code",
   "execution_count": 190,
   "metadata": {},
   "outputs": [
    {
     "data": {
      "text/plain": [
       "-1.1942572910988658"
      ]
     },
     "execution_count": 190,
     "metadata": {},
     "output_type": "execute_result"
    }
   ],
   "source": [
    "surplus"
   ]
  },
  {
   "cell_type": "code",
   "execution_count": 191,
   "metadata": {},
   "outputs": [],
   "source": [
    "excess = add_rev(-surplus,0)"
   ]
  },
  {
   "cell_type": "code",
   "execution_count": 192,
   "metadata": {},
   "outputs": [
    {
     "data": {
      "text/plain": [
       "117.03721452768885"
      ]
     },
     "execution_count": 192,
     "metadata": {},
     "output_type": "execute_result"
    }
   ],
   "source": [
    "excess"
   ]
  },
  {
   "cell_type": "code",
   "execution_count": 193,
   "metadata": {},
   "outputs": [],
   "source": [
    "power = power + excess"
   ]
  },
  {
   "cell_type": "code",
   "execution_count": 194,
   "metadata": {},
   "outputs": [
    {
     "data": {
      "text/plain": [
       "-106.8665906864811"
      ]
     },
     "execution_count": 194,
     "metadata": {},
     "output_type": "execute_result"
    }
   ],
   "source": [
    "power"
   ]
  },
  {
   "cell_type": "code",
   "execution_count": 196,
   "metadata": {},
   "outputs": [
    {
     "data": {
      "text/plain": [
       "-0.24729258872751458"
      ]
     },
     "execution_count": 196,
     "metadata": {},
     "output_type": "execute_result"
    }
   ],
   "source": [
    "update_charge(0.8,power)"
   ]
  },
  {
   "cell_type": "code",
   "execution_count": null,
   "metadata": {},
   "outputs": [],
   "source": []
  }
 ],
 "metadata": {
  "kernelspec": {
   "display_name": "Python 3",
   "language": "python",
   "name": "python3"
  },
  "language_info": {
   "codemirror_mode": {
    "name": "ipython",
    "version": 3
   },
   "file_extension": ".py",
   "mimetype": "text/x-python",
   "name": "python",
   "nbconvert_exporter": "python",
   "pygments_lexer": "ipython3",
   "version": "3.8.3"
  }
 },
 "nbformat": 4,
 "nbformat_minor": 4
}
