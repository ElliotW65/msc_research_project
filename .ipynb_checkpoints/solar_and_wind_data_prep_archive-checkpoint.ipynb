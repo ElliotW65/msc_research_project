{
 "cells": [
  {
   "cell_type": "code",
   "execution_count": 110,
   "metadata": {},
   "outputs": [],
   "source": [
    "import numpy as np\n",
    "import pandas as pd\n",
    "import datetime as dt\n",
    "from datetime import timedelta\n",
    "from dateutil.relativedelta import relativedelta\n",
    "import matplotlib.pyplot as plt\n",
    "from scipy.stats import beta\n",
    "import scipy.integrate as integrate"
   ]
  },
  {
   "cell_type": "code",
   "execution_count": 2,
   "metadata": {},
   "outputs": [],
   "source": [
    "path = 'C:/Users/Ellio/OneDrive/Documents/Masters/Y2/Dissertation/MSc-Project/data/'\n",
    "file = 'solar_irradiance_edinburgh.csv'\n",
    "filepath = path + file"
   ]
  },
  {
   "cell_type": "code",
   "execution_count": 3,
   "metadata": {},
   "outputs": [
    {
     "data": {
      "text/plain": [
       "'C:/Users/Ellio/OneDrive/Documents/Masters/Y2/Dissertation/MSc-Project/data/solar_irradiance_edinburgh.csv'"
      ]
     },
     "execution_count": 3,
     "metadata": {},
     "output_type": "execute_result"
    }
   ],
   "source": [
    "filepath"
   ]
  },
  {
   "cell_type": "code",
   "execution_count": 4,
   "metadata": {},
   "outputs": [],
   "source": [
    "df = pd.read_csv(filepath)\n",
    "df['time'] = df['time'].apply(lambda x: pd.to_datetime(x[0:4] + \"-\" + x[4:6] + \"-\" + x[6:8] + \" \" + x[9:11] + \":00\"))\n",
    "df.set_index('time', inplace=True)"
   ]
  },
  {
   "cell_type": "code",
   "execution_count": 5,
   "metadata": {},
   "outputs": [
    {
     "data": {
      "text/html": [
       "<div>\n",
       "<style scoped>\n",
       "    .dataframe tbody tr th:only-of-type {\n",
       "        vertical-align: middle;\n",
       "    }\n",
       "\n",
       "    .dataframe tbody tr th {\n",
       "        vertical-align: top;\n",
       "    }\n",
       "\n",
       "    .dataframe thead th {\n",
       "        text-align: right;\n",
       "    }\n",
       "</style>\n",
       "<table border=\"1\" class=\"dataframe\">\n",
       "  <thead>\n",
       "    <tr style=\"text-align: right;\">\n",
       "      <th></th>\n",
       "      <th>G(i)</th>\n",
       "      <th>H_sun</th>\n",
       "      <th>T2m</th>\n",
       "      <th>WS10m</th>\n",
       "      <th>Int</th>\n",
       "    </tr>\n",
       "    <tr>\n",
       "      <th>time</th>\n",
       "      <th></th>\n",
       "      <th></th>\n",
       "      <th></th>\n",
       "      <th></th>\n",
       "      <th></th>\n",
       "    </tr>\n",
       "  </thead>\n",
       "  <tbody>\n",
       "    <tr>\n",
       "      <th>2005-01-01 00:00:00</th>\n",
       "      <td>0.0</td>\n",
       "      <td>0.0</td>\n",
       "      <td>6.71</td>\n",
       "      <td>5.66</td>\n",
       "      <td>0</td>\n",
       "    </tr>\n",
       "    <tr>\n",
       "      <th>2005-01-01 01:00:00</th>\n",
       "      <td>0.0</td>\n",
       "      <td>0.0</td>\n",
       "      <td>6.74</td>\n",
       "      <td>5.59</td>\n",
       "      <td>0</td>\n",
       "    </tr>\n",
       "    <tr>\n",
       "      <th>2005-01-01 02:00:00</th>\n",
       "      <td>0.0</td>\n",
       "      <td>0.0</td>\n",
       "      <td>6.66</td>\n",
       "      <td>5.66</td>\n",
       "      <td>0</td>\n",
       "    </tr>\n",
       "    <tr>\n",
       "      <th>2005-01-01 03:00:00</th>\n",
       "      <td>0.0</td>\n",
       "      <td>0.0</td>\n",
       "      <td>6.60</td>\n",
       "      <td>5.72</td>\n",
       "      <td>0</td>\n",
       "    </tr>\n",
       "    <tr>\n",
       "      <th>2005-01-01 04:00:00</th>\n",
       "      <td>0.0</td>\n",
       "      <td>0.0</td>\n",
       "      <td>6.11</td>\n",
       "      <td>5.59</td>\n",
       "      <td>0</td>\n",
       "    </tr>\n",
       "    <tr>\n",
       "      <th>...</th>\n",
       "      <td>...</td>\n",
       "      <td>...</td>\n",
       "      <td>...</td>\n",
       "      <td>...</td>\n",
       "      <td>...</td>\n",
       "    </tr>\n",
       "    <tr>\n",
       "      <th>2020-12-31 19:00:00</th>\n",
       "      <td>0.0</td>\n",
       "      <td>0.0</td>\n",
       "      <td>3.18</td>\n",
       "      <td>3.72</td>\n",
       "      <td>0</td>\n",
       "    </tr>\n",
       "    <tr>\n",
       "      <th>2020-12-31 20:00:00</th>\n",
       "      <td>0.0</td>\n",
       "      <td>0.0</td>\n",
       "      <td>3.01</td>\n",
       "      <td>3.59</td>\n",
       "      <td>0</td>\n",
       "    </tr>\n",
       "    <tr>\n",
       "      <th>2020-12-31 21:00:00</th>\n",
       "      <td>0.0</td>\n",
       "      <td>0.0</td>\n",
       "      <td>2.81</td>\n",
       "      <td>3.45</td>\n",
       "      <td>0</td>\n",
       "    </tr>\n",
       "    <tr>\n",
       "      <th>2020-12-31 22:00:00</th>\n",
       "      <td>0.0</td>\n",
       "      <td>0.0</td>\n",
       "      <td>2.62</td>\n",
       "      <td>3.38</td>\n",
       "      <td>0</td>\n",
       "    </tr>\n",
       "    <tr>\n",
       "      <th>2020-12-31 23:00:00</th>\n",
       "      <td>0.0</td>\n",
       "      <td>0.0</td>\n",
       "      <td>2.25</td>\n",
       "      <td>3.31</td>\n",
       "      <td>0</td>\n",
       "    </tr>\n",
       "  </tbody>\n",
       "</table>\n",
       "<p>140256 rows × 5 columns</p>\n",
       "</div>"
      ],
      "text/plain": [
       "                     G(i)  H_sun   T2m  WS10m  Int\n",
       "time                                              \n",
       "2005-01-01 00:00:00   0.0    0.0  6.71   5.66    0\n",
       "2005-01-01 01:00:00   0.0    0.0  6.74   5.59    0\n",
       "2005-01-01 02:00:00   0.0    0.0  6.66   5.66    0\n",
       "2005-01-01 03:00:00   0.0    0.0  6.60   5.72    0\n",
       "2005-01-01 04:00:00   0.0    0.0  6.11   5.59    0\n",
       "...                   ...    ...   ...    ...  ...\n",
       "2020-12-31 19:00:00   0.0    0.0  3.18   3.72    0\n",
       "2020-12-31 20:00:00   0.0    0.0  3.01   3.59    0\n",
       "2020-12-31 21:00:00   0.0    0.0  2.81   3.45    0\n",
       "2020-12-31 22:00:00   0.0    0.0  2.62   3.38    0\n",
       "2020-12-31 23:00:00   0.0    0.0  2.25   3.31    0\n",
       "\n",
       "[140256 rows x 5 columns]"
      ]
     },
     "execution_count": 5,
     "metadata": {},
     "output_type": "execute_result"
    }
   ],
   "source": [
    "df"
   ]
  },
  {
   "cell_type": "code",
   "execution_count": 6,
   "metadata": {},
   "outputs": [
    {
     "data": {
      "image/png": "[encoded data removed]",
      "text/plain": [
       "<Figure size 432x288 with 1 Axes>"
      ]
     },
     "metadata": {
      "needs_background": "light"
     },
     "output_type": "display_data"
    }
   ],
   "source": [
    "hist = df['G(i)'].hist(bins=10)"
   ]
  },
  {
   "cell_type": "code",
   "execution_count": null,
   "metadata": {},
   "outputs": [],
   "source": [
    "data[column] = (norm[column] - norm[column].min()) / (norm[column].max() - norm[column].min())\n",
    "norm.describe()"
   ]
  },
  {
   "cell_type": "code",
   "execution_count": null,
   "metadata": {
    "scrolled": true
   },
   "outputs": [],
   "source": [
    "data = (data - data.min()) / (data.max() - data.min())\n",
    "data"
   ]
  },
  {
   "cell_type": "code",
   "execution_count": null,
   "metadata": {
    "scrolled": false
   },
   "outputs": [],
   "source": [
    "a,b,x,y = beta.fit(data, method=\"MM\")"
   ]
  },
  {
   "cell_type": "code",
   "execution_count": null,
   "metadata": {},
   "outputs": [],
   "source": []
  },
  {
   "cell_type": "markdown",
   "metadata": {},
   "source": [
    "NEED TO NORMALISE DATA BEFORE GENERATING SHAPE PERAMETERS OR PDF!!"
   ]
  },
  {
   "cell_type": "code",
   "execution_count": null,
   "metadata": {
    "scrolled": true
   },
   "outputs": [],
   "source": [
    "norm = df.copy()\n",
    "norm"
   ]
  },
  {
   "cell_type": "code",
   "execution_count": null,
   "metadata": {},
   "outputs": [],
   "source": [
    "column = \"G(i)\""
   ]
  },
  {
   "cell_type": "code",
   "execution_count": null,
   "metadata": {},
   "outputs": [],
   "source": [
    "norm[column] = (norm[column] - norm[column].min()) / (norm[column].max() - norm[column].min())\n",
    "norm.describe()"
   ]
  },
  {
   "cell_type": "code",
   "execution_count": null,
   "metadata": {},
   "outputs": [],
   "source": []
  },
  {
   "cell_type": "code",
   "execution_count": null,
   "metadata": {},
   "outputs": [],
   "source": []
  },
  {
   "cell_type": "code",
   "execution_count": null,
   "metadata": {},
   "outputs": [],
   "source": []
  },
  {
   "cell_type": "code",
   "execution_count": null,
   "metadata": {},
   "outputs": [],
   "source": []
  },
  {
   "cell_type": "code",
   "execution_count": null,
   "metadata": {},
   "outputs": [],
   "source": []
  },
  {
   "cell_type": "code",
   "execution_count": 7,
   "metadata": {
    "scrolled": true
   },
   "outputs": [],
   "source": [
    "gi = pd.DataFrame(df['G(i)'])"
   ]
  },
  {
   "cell_type": "code",
   "execution_count": 8,
   "metadata": {},
   "outputs": [],
   "source": [
    "def increment_month(date):\n",
    "    if (date + timedelta(1)).month == date.month:\n",
    "        return date + relativedelta(months=1)\n",
    "    return (date + relativedelta(months=2)).replace(day=1) - timedelta(1)"
   ]
  },
  {
   "cell_type": "code",
   "execution_count": 9,
   "metadata": {},
   "outputs": [],
   "source": [
    "def reformat_solar_data(data):\n",
    "    'Funciton to remort the data to be catergorised into months days and years'\n",
    "    \n",
    "    result = {}\n",
    "    \n",
    "    start = dt.datetime(2005, 1, 1, 0)\n",
    "    end = dt.datetime(2005, 1, 1, 23)\n",
    "    month = dt.datetime(2005, 1, 31, 23)\n",
    "    \n",
    "    frames = []\n",
    "    \n",
    "    #new_df = pd.DataFrame(data[start:end])\n",
    "    \n",
    "    for i in range(12):\n",
    "        result[i] = []\n",
    "\n",
    "        temp_start = start\n",
    "        temp_end = end\n",
    "        temp_month = month\n",
    "\n",
    "        \n",
    "        for x in range(16):\n",
    "            \n",
    "            s = temp_start\n",
    "            e = temp_end\n",
    "            \n",
    "            for n in range(temp_month.day):\n",
    "                \n",
    "                temp_df = data[s:e].copy()\n",
    "                temp_df = temp_df.reset_index()\n",
    "                temp_df = temp_df.rename(columns = {'G(i)': s.date()})\n",
    "                temp_df = temp_df.drop(['time'], axis=1)\n",
    "               #print(temp_df)\n",
    "                temp_df= temp_df.swapaxes(\"index\", \"columns\")\n",
    "                \n",
    "                #print(temp_df)\n",
    "                \n",
    "                result[i].append(temp_df)\n",
    "                \n",
    "                s += relativedelta(days=1)\n",
    "                e += relativedelta(days=1)\n",
    "\n",
    "            \n",
    "            temp_start += relativedelta(years=1)\n",
    "            temp_end += relativedelta(years=1)\n",
    "            temp_month += relativedelta(years=1)\n",
    "            \n",
    "        start = increment_month(start)\n",
    "        end = increment_month(end)\n",
    "        month = increment_month(month)\n",
    "        \n",
    "    return result\n",
    "            \n",
    "        \n",
    "    "
   ]
  },
  {
   "cell_type": "code",
   "execution_count": 10,
   "metadata": {},
   "outputs": [],
   "source": [
    "def concat_months(data):\n",
    "    'Function to concatenate the monthly dataframes into one dataframe'\n",
    "    \n",
    "    for i in data:\n",
    "        data[i] = pd.concat(data[i], axis=0)\n",
    "        \n",
    "    return data"
   ]
  },
  {
   "cell_type": "code",
   "execution_count": 11,
   "metadata": {
    "scrolled": true
   },
   "outputs": [],
   "source": [
    "result = reformat_solar_data(gi)"
   ]
  },
  {
   "cell_type": "code",
   "execution_count": 12,
   "metadata": {},
   "outputs": [],
   "source": [
    "final = concat_months(result)"
   ]
  },
  {
   "cell_type": "code",
   "execution_count": 64,
   "metadata": {},
   "outputs": [],
   "source": [
    "norm = final[11][14].copy()"
   ]
  },
  {
   "cell_type": "code",
   "execution_count": 65,
   "metadata": {},
   "outputs": [],
   "source": [
    "normmax = norm.max()\n",
    "normmin= norm.min()"
   ]
  },
  {
   "cell_type": "code",
   "execution_count": 66,
   "metadata": {
    "scrolled": true
   },
   "outputs": [
    {
     "data": {
      "text/plain": [
       "2005-12-01    0.260773\n",
       "2005-12-02    0.018404\n",
       "2005-12-03    0.050209\n",
       "2005-12-04    0.208470\n",
       "2005-12-05    0.016736\n",
       "                ...   \n",
       "2020-12-27    0.476341\n",
       "2020-12-28    0.167547\n",
       "2020-12-29    0.026782\n",
       "2020-12-30    0.051895\n",
       "2020-12-31    0.168270\n",
       "Name: 14, Length: 496, dtype: float64"
      ]
     },
     "execution_count": 66,
     "metadata": {},
     "output_type": "execute_result"
    }
   ],
   "source": [
    "norm = (norm - normmin) / (normmax - normmin)\n",
    "norm"
   ]
  },
  {
   "cell_type": "code",
   "execution_count": 218,
   "metadata": {},
   "outputs": [],
   "source": [
    "norm = final[10][14].copy()"
   ]
  },
  {
   "cell_type": "code",
   "execution_count": 47,
   "metadata": {},
   "outputs": [
    {
     "data": {
      "text/plain": [
       "count    496.000000\n",
       "mean     123.792077\n",
       "std      126.360875\n",
       "min        0.000000\n",
       "25%       24.380000\n",
       "50%       65.830000\n",
       "75%      203.407500\n",
       "max      539.550000\n",
       "Name: 14, dtype: float64"
      ]
     },
     "execution_count": 47,
     "metadata": {},
     "output_type": "execute_result"
    }
   ],
   "source": [
    "final[11][14].describe()"
   ]
  },
  {
   "cell_type": "code",
   "execution_count": 67,
   "metadata": {},
   "outputs": [],
   "source": [
    "mean = norm.mean()"
   ]
  },
  {
   "cell_type": "code",
   "execution_count": 68,
   "metadata": {},
   "outputs": [],
   "source": [
    "sd = norm.std()"
   ]
  },
  {
   "cell_type": "code",
   "execution_count": 69,
   "metadata": {},
   "outputs": [
    {
     "data": {
      "text/plain": [
       "(0.229435782805863, 0.23419678402297686)"
      ]
     },
     "execution_count": 69,
     "metadata": {},
     "output_type": "execute_result"
    }
   ],
   "source": [
    "mean, sd"
   ]
  },
  {
   "cell_type": "code",
   "execution_count": 32,
   "metadata": {},
   "outputs": [
    {
     "data": {
      "text/plain": [
       "3.1923437278408398"
      ]
     },
     "execution_count": 32,
     "metadata": {},
     "output_type": "execute_result"
    }
   ],
   "source": [
    "b = (1-mean)*((mean*(1+mean)/(sd**2))-1)\n",
    "b"
   ]
  },
  {
   "cell_type": "code",
   "execution_count": 33,
   "metadata": {},
   "outputs": [
    {
     "data": {
      "text/plain": [
       "0.5030020993766869"
      ]
     },
     "execution_count": 33,
     "metadata": {},
     "output_type": "execute_result"
    }
   ],
   "source": [
    "a = mean*b/1-mean\n",
    "a"
   ]
  },
  {
   "cell_type": "code",
   "execution_count": 87,
   "metadata": {},
   "outputs": [
    {
     "data": {
      "text/plain": [
       "0.1361177337373674"
      ]
     },
     "execution_count": 87,
     "metadata": {},
     "output_type": "execute_result"
    }
   ],
   "source": [
    "a/(a+b)"
   ]
  },
  {
   "cell_type": "code",
   "execution_count": 35,
   "metadata": {
    "scrolled": true
   },
   "outputs": [
    {
     "data": {
      "text/plain": [
       "array([           inf,            inf, 8.69466067e+00, 8.69466067e+00,\n",
       "       8.10197972e+00, 8.10197972e+00, 8.10197972e+00, 8.10197972e+00,\n",
       "       8.10197972e+00, 8.10197972e+00, 8.10197972e+00, 8.10197972e+00,\n",
       "       8.10197972e+00, 8.10197972e+00, 8.10197972e+00, 7.61477128e+00,\n",
       "       7.61477128e+00, 7.20080896e+00, 7.20080896e+00, 7.20080896e+00,\n",
       "       7.20080896e+00, 7.20080896e+00, 7.20080896e+00, 7.20080896e+00,\n",
       "       7.20080896e+00, 6.84317761e+00, 6.84317761e+00, 6.52671665e+00,\n",
       "       6.52671665e+00, 6.52671665e+00, 6.52671665e+00, 6.52671665e+00,\n",
       "       6.52671665e+00, 6.24967167e+00, 6.24967167e+00, 6.24967167e+00,\n",
       "       6.24967167e+00, 6.00190492e+00, 6.00190492e+00, 6.00190492e+00,\n",
       "       6.00190492e+00, 5.77614192e+00, 5.77614192e+00, 5.77614192e+00,\n",
       "       5.57348608e+00, 5.57348608e+00, 5.57348608e+00, 5.57348608e+00,\n",
       "       5.57348608e+00, 5.57348608e+00, 5.57348608e+00, 5.57348608e+00,\n",
       "       5.57348608e+00, 5.38830452e+00, 5.38830452e+00, 5.38830452e+00,\n",
       "       5.38830452e+00, 5.38830452e+00, 5.21635138e+00, 5.21635138e+00,\n",
       "       5.21635138e+00, 5.21635138e+00, 5.21635138e+00, 5.21635138e+00,\n",
       "       5.21635138e+00, 5.21635138e+00, 5.05940858e+00, 5.05940858e+00,\n",
       "       5.05940858e+00, 5.05940858e+00, 5.05940858e+00, 5.05940858e+00,\n",
       "       5.05940858e+00, 5.05940858e+00, 5.05940858e+00, 5.05940858e+00,\n",
       "       5.05940858e+00, 5.05940858e+00, 4.91387822e+00, 4.91387822e+00,\n",
       "       4.91387822e+00, 4.91387822e+00, 4.91387822e+00, 4.91387822e+00,\n",
       "       4.77695099e+00, 4.77695099e+00, 4.77695099e+00, 4.65048725e+00,\n",
       "       4.65048725e+00, 4.65048725e+00, 4.65048725e+00, 4.65048725e+00,\n",
       "       4.65048725e+00, 4.53196503e+00, 4.53196503e+00, 4.53196503e+00,\n",
       "       4.53196503e+00, 4.53196503e+00, 4.53196503e+00, 4.53196503e+00,\n",
       "       4.41936088e+00, 4.41936088e+00, 4.41936088e+00, 4.41936088e+00,\n",
       "       4.41936088e+00, 4.41936088e+00, 4.41936088e+00, 4.41936088e+00,\n",
       "       4.41936088e+00, 4.41936088e+00, 4.41936088e+00, 4.31443615e+00,\n",
       "       4.31443615e+00, 4.31443615e+00, 4.31443615e+00, 4.31443615e+00,\n",
       "       4.31443615e+00, 4.21530418e+00, 4.21530418e+00, 4.21530418e+00,\n",
       "       4.12143308e+00, 4.12143308e+00, 4.12143308e+00, 4.12143308e+00,\n",
       "       4.12143308e+00, 4.12143308e+00, 4.12143308e+00, 4.12143308e+00,\n",
       "       4.03139305e+00, 4.03139305e+00, 4.03139305e+00, 4.03139305e+00,\n",
       "       4.03139305e+00, 4.03139305e+00, 4.03139305e+00, 4.03139305e+00,\n",
       "       3.94675023e+00, 3.94675023e+00, 3.94675023e+00, 3.94675023e+00,\n",
       "       3.94675023e+00, 3.94675023e+00, 3.86612825e+00, 3.86612825e+00,\n",
       "       3.86612825e+00, 3.86612825e+00, 3.86612825e+00, 3.86612825e+00,\n",
       "       3.86612825e+00, 3.86612825e+00, 3.86612825e+00, 3.78837173e+00,\n",
       "       3.78837173e+00, 3.78837173e+00, 3.78837173e+00, 3.78837173e+00,\n",
       "       3.78837173e+00, 3.78837173e+00, 3.78837173e+00, 3.78837173e+00,\n",
       "       3.78837173e+00, 3.78837173e+00, 3.78837173e+00, 3.78837173e+00,\n",
       "       3.78837173e+00, 3.71490172e+00, 3.71490172e+00, 3.71490172e+00,\n",
       "       3.71490172e+00, 3.71490172e+00, 3.64458885e+00, 3.64458885e+00,\n",
       "       3.64458885e+00, 3.57647132e+00, 3.57647132e+00, 3.57647132e+00,\n",
       "       3.57647132e+00, 3.51183845e+00, 3.51183845e+00, 3.51183845e+00,\n",
       "       3.44974003e+00, 3.44974003e+00, 3.38935676e+00, 3.30636430e+00,\n",
       "       3.25184298e+00, 3.21075098e+00, 3.20439415e+00, 3.20151354e+00,\n",
       "       3.19921301e+00, 3.16175470e+00, 3.15448577e+00, 3.15448577e+00,\n",
       "       3.14891828e+00, 3.14669709e+00, 3.14669709e+00, 3.14337150e+00,\n",
       "       3.14337150e+00, 3.11866368e+00, 3.11051827e+00, 3.11051827e+00,\n",
       "       3.09596848e+00, 3.09382508e+00, 3.09168478e+00, 3.09115019e+00,\n",
       "       3.09115019e+00, 3.06466486e+00, 3.04640492e+00, 3.02070795e+00,\n",
       "       2.97803677e+00, 2.97803677e+00, 2.93754868e+00, 2.89770143e+00,\n",
       "       2.86898708e+00, 2.64684327e+00, 2.62205174e+00, 2.62205174e+00,\n",
       "       2.61554171e+00, 2.61096511e+00, 2.52969834e+00, 2.41540507e+00,\n",
       "       2.38357842e+00, 2.36858648e+00, 2.34751055e+00, 2.34314971e+00,\n",
       "       2.34004383e+00, 2.33880357e+00, 2.33756450e+00, 2.33262012e+00,\n",
       "       2.32677323e+00, 2.32309412e+00, 2.31668091e+00, 2.31546297e+00,\n",
       "       2.30878492e+00, 2.30878492e+00, 2.30727202e+00, 2.30244273e+00,\n",
       "       2.29343665e+00, 2.28925545e+00, 2.22246369e+00, 2.17309782e+00,\n",
       "       2.13480704e+00, 2.12117145e+00, 2.10871719e+00, 2.10871719e+00,\n",
       "       2.10639598e+00, 2.10176667e+00, 2.09971479e+00, 2.09971479e+00,\n",
       "       2.08646057e+00, 2.08418105e+00, 2.08039128e+00, 2.05863958e+00,\n",
       "       2.02371133e+00, 1.94159539e+00, 1.93934952e+00, 1.92951800e+00,\n",
       "       1.92042979e+00, 1.91800334e+00, 1.91492234e+00, 1.90398406e+00,\n",
       "       1.90267827e+00, 1.89790277e+00, 1.89228391e+00, 1.87028580e+00,\n",
       "       1.77469040e+00, 1.76886285e+00, 1.76847540e+00, 1.76325775e+00,\n",
       "       1.76267949e+00, 1.75863986e+00, 1.75423192e+00, 1.75060346e+00,\n",
       "       1.75060346e+00, 1.74186657e+00, 1.73846607e+00, 1.73846607e+00,\n",
       "       1.73300893e+00, 1.73019658e+00, 1.72851253e+00, 1.71901687e+00,\n",
       "       1.62945049e+00, 1.62859556e+00, 1.62296968e+00, 1.62228971e+00,\n",
       "       1.61062623e+00, 1.61012193e+00, 1.59476889e+00, 1.59079909e+00,\n",
       "       1.58437894e+00, 1.58437894e+00, 1.58437894e+00, 1.51601600e+00,\n",
       "       1.50559424e+00, 1.49693655e+00, 1.49255879e+00, 1.49195638e+00,\n",
       "       1.40088387e+00, 1.38120883e+00, 1.37137763e+00, 1.37137763e+00,\n",
       "       1.37137763e+00, 1.37084167e+00, 1.30964221e+00, 1.27935383e+00,\n",
       "       1.27776587e+00, 1.27484097e+00, 1.25068167e+00, 1.21880049e+00,\n",
       "       1.21136249e+00, 1.20488706e+00, 1.19564778e+00, 1.19441514e+00,\n",
       "       1.18738607e+00, 1.16911069e+00, 1.15956416e+00, 1.14595575e+00,\n",
       "       1.12762770e+00, 1.12668946e+00, 1.12025180e+00, 1.11560725e+00,\n",
       "       1.06640523e+00, 1.06640523e+00, 1.05246811e+00, 1.03723294e+00,\n",
       "       1.02234757e+00, 1.00306547e+00, 9.84111323e-01, 9.69486148e-01,\n",
       "       9.68089556e-01, 9.62006119e-01, 9.44521052e-01, 9.43757893e-01,\n",
       "       9.25895380e-01, 9.19118950e-01, 9.12152302e-01, 8.88340078e-01,\n",
       "       8.88102235e-01, 8.77392225e-01, 8.73567771e-01, 8.43608629e-01,\n",
       "       8.38077014e-01, 8.28084165e-01, 8.16040760e-01, 8.15099724e-01,\n",
       "       8.11634947e-01, 8.09549101e-01, 8.08544143e-01, 8.04608660e-01,\n",
       "       7.99628659e-01, 7.76370895e-01, 7.55142118e-01, 7.51539757e-01,\n",
       "       7.50874564e-01, 7.42149498e-01, 7.15501750e-01, 7.11962610e-01,\n",
       "       7.05685723e-01, 6.83112243e-01, 6.79971437e-01, 6.71168268e-01,\n",
       "       6.65124859e-01, 6.31964440e-01, 6.24923061e-01, 6.23701224e-01,\n",
       "       6.16581889e-01, 6.10408234e-01, 6.09375877e-01, 6.07640854e-01,\n",
       "       5.84610247e-01, 5.81639284e-01, 5.73578900e-01, 5.64354742e-01,\n",
       "       5.59567515e-01, 5.38790852e-01, 5.31653071e-01, 5.30647141e-01,\n",
       "       5.22707645e-01, 5.21622480e-01, 5.19223357e-01, 5.17816670e-01,\n",
       "       5.12733981e-01, 5.12733981e-01, 5.04162078e-01, 5.03933397e-01,\n",
       "       4.92928151e-01, 4.90020100e-01, 4.67070612e-01, 4.55254251e-01,\n",
       "       4.50624346e-01, 4.45581670e-01, 4.38350339e-01, 4.34228124e-01,\n",
       "       4.29459965e-01, 4.24261624e-01, 4.16776245e-01, 4.10167821e-01,\n",
       "       4.07105993e-01, 4.04290575e-01, 3.89052596e-01, 3.82988357e-01,\n",
       "       3.67388468e-01, 3.67388468e-01, 3.59523341e-01, 3.53934516e-01,\n",
       "       3.53083478e-01, 3.48381246e-01, 3.42564940e-01, 3.41636181e-01,\n",
       "       3.31938347e-01, 3.22773952e-01, 3.21192220e-01, 3.17639655e-01,\n",
       "       3.17545756e-01, 3.16295818e-01, 3.14738750e-01, 3.09028967e-01,\n",
       "       2.85014838e-01, 2.75766074e-01, 2.69828168e-01, 2.63171236e-01,\n",
       "       2.61924983e-01, 2.48450948e-01, 2.32432489e-01, 2.31393766e-01,\n",
       "       2.31270334e-01, 2.23445343e-01, 2.18999768e-01, 2.15344018e-01,\n",
       "       2.03510772e-01, 2.02768694e-01, 1.94230355e-01, 1.92622987e-01,\n",
       "       1.85357772e-01, 1.84663013e-01, 1.83592880e-01, 1.79706099e-01,\n",
       "       1.61583986e-01, 1.57216257e-01, 1.53854856e-01, 1.52579421e-01,\n",
       "       1.52303108e-01, 1.48144920e-01, 1.44277227e-01, 1.42351650e-01,\n",
       "       1.39279162e-01, 1.34398889e-01, 1.33033089e-01, 1.31043424e-01,\n",
       "       1.31043424e-01, 1.30445448e-01, 1.29221997e-01, 1.28793958e-01,\n",
       "       1.28006216e-01, 1.16493888e-01, 1.15879469e-01, 1.12357823e-01,\n",
       "       1.02851826e-01, 9.77177944e-02, 9.47427531e-02, 9.14449710e-02,\n",
       "       9.00062060e-02, 8.92017048e-02, 8.78113457e-02, 8.64602937e-02,\n",
       "       8.22287576e-02, 8.11645135e-02, 8.10305809e-02, 7.86676175e-02,\n",
       "       7.81194556e-02, 7.62433608e-02, 7.35688298e-02, 7.16163421e-02,\n",
       "       7.09877626e-02, 6.86724356e-02, 6.42059723e-02, 6.19294849e-02,\n",
       "       6.00864163e-02, 5.87839172e-02, 5.48195442e-02, 5.39941904e-02,\n",
       "       5.39847484e-02, 5.34670007e-02, 4.76479493e-02, 4.64589562e-02,\n",
       "       4.53136710e-02, 4.46129889e-02, 4.40605528e-02, 3.66988462e-02,\n",
       "       3.55452119e-02, 3.24789417e-02, 3.04035540e-02, 3.01639673e-02,\n",
       "       2.75332528e-02, 2.42893554e-02, 4.84740187e-03, 0.00000000e+00])"
      ]
     },
     "execution_count": 35,
     "metadata": {},
     "output_type": "execute_result"
    }
   ],
   "source": [
    "arr = beta.pdf(norm, a, b)\n",
    "arr"
   ]
  },
  {
   "cell_type": "code",
   "execution_count": 84,
   "metadata": {
    "scrolled": false
   },
   "outputs": [
    {
     "data": {
      "text/plain": [
       "0.1361177337373674"
      ]
     },
     "execution_count": 84,
     "metadata": {},
     "output_type": "execute_result"
    }
   ],
   "source": [
    "beta.mean(a,b)"
   ]
  },
  {
   "cell_type": "code",
   "execution_count": 107,
   "metadata": {
    "scrolled": false
   },
   "outputs": [
    {
     "data": {
      "text/plain": [
       "0.14501938843130258"
      ]
     },
     "execution_count": 107,
     "metadata": {},
     "output_type": "execute_result"
    }
   ],
   "source": [
    "beta(a,b).expect(lb=0.1, ub=0.2, conditional=True)"
   ]
  },
  {
   "cell_type": "code",
   "execution_count": 112,
   "metadata": {},
   "outputs": [],
   "source": [
    "betacdf = beta(a,b).cdf"
   ]
  },
  {
   "cell_type": "code",
   "execution_count": 133,
   "metadata": {},
   "outputs": [],
   "source": [
    "one = betacdf(0.1)"
   ]
  },
  {
   "cell_type": "code",
   "execution_count": 134,
   "metadata": {},
   "outputs": [],
   "source": [
    "two = betacdf(0.2) - betacdf(0.1)"
   ]
  },
  {
   "cell_type": "code",
   "execution_count": 135,
   "metadata": {},
   "outputs": [],
   "source": [
    "three = betacdf(0.3) - betacdf(0.2)"
   ]
  },
  {
   "cell_type": "code",
   "execution_count": 136,
   "metadata": {},
   "outputs": [],
   "source": [
    "four = betacdf(0.4) - betacdf(0.3)"
   ]
  },
  {
   "cell_type": "code",
   "execution_count": 137,
   "metadata": {},
   "outputs": [],
   "source": [
    "five = betacdf(0.5) - betacdf(0.4)"
   ]
  },
  {
   "cell_type": "code",
   "execution_count": 138,
   "metadata": {},
   "outputs": [],
   "source": [
    "six = betacdf(0.6) - betacdf(0.5)"
   ]
  },
  {
   "cell_type": "code",
   "execution_count": 139,
   "metadata": {},
   "outputs": [],
   "source": [
    "seven = betacdf(0.7) - betacdf(0.6)"
   ]
  },
  {
   "cell_type": "code",
   "execution_count": 140,
   "metadata": {},
   "outputs": [],
   "source": [
    "eight = betacdf(0.8) - betacdf(0.7)"
   ]
  },
  {
   "cell_type": "code",
   "execution_count": 141,
   "metadata": {},
   "outputs": [],
   "source": [
    "nine = betacdf(0.9) - betacdf(0.8)"
   ]
  },
  {
   "cell_type": "code",
   "execution_count": 142,
   "metadata": {},
   "outputs": [],
   "source": [
    "ten = betacdf(1) - betacdf(0.9)"
   ]
  },
  {
   "cell_type": "code",
   "execution_count": 144,
   "metadata": {},
   "outputs": [
    {
     "data": {
      "text/plain": [
       "1.0"
      ]
     },
     "execution_count": 144,
     "metadata": {},
     "output_type": "execute_result"
    }
   ],
   "source": [
    "one + two + three + four + five + six + seven + eight + nine + ten"
   ]
  },
  {
   "cell_type": "code",
   "execution_count": 155,
   "metadata": {},
   "outputs": [
    {
     "data": {
      "text/plain": [
       "0.03147449478454441"
      ]
     },
     "execution_count": 155,
     "metadata": {},
     "output_type": "execute_result"
    }
   ],
   "source": [
    "expone = beta(a,b).expect(lb=0, ub=0.1, conditional=True)\n",
    "expone"
   ]
  },
  {
   "cell_type": "code",
   "execution_count": 156,
   "metadata": {},
   "outputs": [
    {
     "data": {
      "text/plain": [
       "0.14501938843130258"
      ]
     },
     "execution_count": 156,
     "metadata": {},
     "output_type": "execute_result"
    }
   ],
   "source": [
    "exptwo = beta(a,b).expect(lb=0.1, ub=0.2, conditional=True)\n",
    "exptwo"
   ]
  },
  {
   "cell_type": "code",
   "execution_count": 157,
   "metadata": {},
   "outputs": [
    {
     "data": {
      "text/plain": [
       "0.24590255922704862"
      ]
     },
     "execution_count": 157,
     "metadata": {},
     "output_type": "execute_result"
    }
   ],
   "source": [
    "expthree = beta(a,b).expect(lb=0.2, ub=0.3, conditional=True)\n",
    "expthree"
   ]
  },
  {
   "cell_type": "code",
   "execution_count": 158,
   "metadata": {},
   "outputs": [
    {
     "data": {
      "text/plain": [
       "0.34601450673945244"
      ]
     },
     "execution_count": 158,
     "metadata": {},
     "output_type": "execute_result"
    }
   ],
   "source": [
    "expfour = beta(a,b).expect(lb=0.3, ub=0.4, conditional=True)\n",
    "expfour"
   ]
  },
  {
   "cell_type": "code",
   "execution_count": 159,
   "metadata": {},
   "outputs": [
    {
     "data": {
      "text/plain": [
       "0.44577511245695145"
      ]
     },
     "execution_count": 159,
     "metadata": {},
     "output_type": "execute_result"
    }
   ],
   "source": [
    "expfive = beta(a,b).expect(lb=0.4, ub=0.5, conditional=True)\n",
    "expfive"
   ]
  },
  {
   "cell_type": "code",
   "execution_count": 160,
   "metadata": {},
   "outputs": [
    {
     "data": {
      "text/plain": [
       "0.5452170460102016"
      ]
     },
     "execution_count": 160,
     "metadata": {},
     "output_type": "execute_result"
    }
   ],
   "source": [
    "expsix = beta(a,b).expect(lb=0.5, ub=0.6, conditional=True)\n",
    "expsix"
   ]
  },
  {
   "cell_type": "code",
   "execution_count": 161,
   "metadata": {},
   "outputs": [
    {
     "data": {
      "text/plain": [
       "0.6442010485562099"
      ]
     },
     "execution_count": 161,
     "metadata": {},
     "output_type": "execute_result"
    }
   ],
   "source": [
    "expseven = beta(a,b).expect(lb=0.6, ub=0.7, conditional=True)\n",
    "expseven"
   ]
  },
  {
   "cell_type": "code",
   "execution_count": 162,
   "metadata": {},
   "outputs": [
    {
     "data": {
      "text/plain": [
       "0.7422839862741359"
      ]
     },
     "execution_count": 162,
     "metadata": {},
     "output_type": "execute_result"
    }
   ],
   "source": [
    "expeight = beta(a,b).expect(lb=0.7, ub=0.8, conditional=True)\n",
    "expeight"
   ]
  },
  {
   "cell_type": "code",
   "execution_count": 163,
   "metadata": {},
   "outputs": [
    {
     "data": {
      "text/plain": [
       "0.8379252434149664"
      ]
     },
     "execution_count": 163,
     "metadata": {},
     "output_type": "execute_result"
    }
   ],
   "source": [
    "expnine = beta(a,b).expect(lb=0.8, ub=0.9, conditional=True)\n",
    "expnine"
   ]
  },
  {
   "cell_type": "code",
   "execution_count": 164,
   "metadata": {},
   "outputs": [
    {
     "data": {
      "text/plain": [
       "0.9236672750943372"
      ]
     },
     "execution_count": 164,
     "metadata": {},
     "output_type": "execute_result"
    }
   ],
   "source": [
    "expten = beta(a,b).expect(lb=0.9, ub=1, conditional=True)\n",
    "expten"
   ]
  },
  {
   "cell_type": "code",
   "execution_count": 165,
   "metadata": {},
   "outputs": [
    {
     "data": {
      "text/plain": [
       "0.11569552415541784"
      ]
     },
     "execution_count": 165,
     "metadata": {},
     "output_type": "execute_result"
    }
   ],
   "source": [
    "(one*expone) + (two*exptwo) + (three*expthree) + (four*expfour) + (five*expfive) + (six*expsix) * (seven*expseven) + (eight*expeight) + (nine*expnine) + (ten*expten)"
   ]
  },
  {
   "cell_type": "code",
   "execution_count": null,
   "metadata": {},
   "outputs": [],
   "source": []
  },
  {
   "cell_type": "code",
   "execution_count": null,
   "metadata": {},
   "outputs": [],
   "source": []
  },
  {
   "cell_type": "code",
   "execution_count": null,
   "metadata": {},
   "outputs": [],
   "source": []
  },
  {
   "cell_type": "code",
   "execution_count": 86,
   "metadata": {},
   "outputs": [
    {
     "data": {
      "text/plain": [
       "1.913114388096443"
      ]
     },
     "execution_count": 86,
     "metadata": {},
     "output_type": "execute_result"
    }
   ],
   "source": [
    "beta.pdf(0.1361177337373674, a, b)"
   ]
  },
  {
   "cell_type": "code",
   "execution_count": 43,
   "metadata": {},
   "outputs": [
    {
     "data": {
      "text/plain": [
       "4.192343727840839"
      ]
     },
     "execution_count": 43,
     "metadata": {},
     "output_type": "execute_result"
    }
   ],
   "source": [
    "a/a+b"
   ]
  },
  {
   "cell_type": "code",
   "execution_count": 70,
   "metadata": {
    "scrolled": true
   },
   "outputs": [
    {
     "data": {
      "text/plain": [
       "(0.3337868004974738,\n",
       " 0.9932829172901494,\n",
       " 0.011713464924474098,\n",
       " 0.3967922402641195)"
      ]
     },
     "execution_count": 70,
     "metadata": {},
     "output_type": "execute_result"
    }
   ],
   "source": [
    "beta.fit(norm,loc=mean, scale=sd)"
   ]
  },
  {
   "cell_type": "code",
   "execution_count": 71,
   "metadata": {},
   "outputs": [],
   "source": [
    "a1, b1, loc1, scale1 = beta.fit(norm,loc=mean, scale=sd)"
   ]
  },
  {
   "cell_type": "code",
   "execution_count": 75,
   "metadata": {
    "scrolled": true
   },
   "outputs": [
    {
     "data": {
      "text/plain": [
       "array([       inf,        inf, 6.43969467, 6.43969467, 5.88774879,\n",
       "       5.88774879, 5.88774879, 5.88774879, 5.88774879, 5.88774879,\n",
       "       5.88774879, 5.88774879, 5.88774879, 5.88774879, 5.88774879,\n",
       "       5.44514122, 5.44514122, 5.07734452, 5.07734452, 5.07734452,\n",
       "       5.07734452, 5.07734452, 5.07734452, 5.07734452, 5.07734452,\n",
       "       4.76598456, 4.76598456, 4.49560584, 4.49560584, 4.49560584,\n",
       "       4.49560584, 4.49560584, 4.49560584, 4.2630101 , 4.2630101 ,\n",
       "       4.2630101 , 4.2630101 , 4.05835377, 4.05835377, 4.05835377,\n",
       "       4.05835377, 3.87472146, 3.87472146, 3.87472146, 3.71226622,\n",
       "       3.71226622, 3.71226622, 3.71226622, 3.71226622, 3.71226622,\n",
       "       3.71226622, 3.71226622, 3.71226622, 3.56584391, 3.56584391,\n",
       "       3.56584391, 3.56584391, 3.56584391, 3.43165773, 3.43165773,\n",
       "       3.43165773, 3.43165773, 3.43165773, 3.43165773, 3.43165773,\n",
       "       3.43165773, 3.31071479, 3.31071479, 3.31071479, 3.31071479,\n",
       "       3.31071479, 3.31071479, 3.31071479, 3.31071479, 3.31071479,\n",
       "       3.31071479, 3.31071479, 3.31071479, 3.19990111, 3.19990111,\n",
       "       3.19990111, 3.19990111, 3.19990111, 3.19990111, 3.0968365 ,\n",
       "       3.0968365 , 3.0968365 , 3.00270105, 3.00270105, 3.00270105,\n",
       "       3.00270105, 3.00270105, 3.00270105, 2.91541325, 2.91541325,\n",
       "       2.91541325, 2.91541325, 2.91541325, 2.91541325, 2.91541325,\n",
       "       2.83333876, 2.83333876, 2.83333876, 2.83333876, 2.83333876,\n",
       "       2.83333876, 2.83333876, 2.83333876, 2.83333876, 2.83333876,\n",
       "       2.83333876, 2.75762462, 2.75762462, 2.75762462, 2.75762462,\n",
       "       2.75762462, 2.75762462, 2.68677825, 2.68677825, 2.68677825,\n",
       "       2.6203175 , 2.6203175 , 2.6203175 , 2.6203175 , 2.6203175 ,\n",
       "       2.6203175 , 2.6203175 , 2.6203175 , 2.55715002, 2.55715002,\n",
       "       2.55715002, 2.55715002, 2.55715002, 2.55715002, 2.55715002,\n",
       "       2.55715002, 2.49829522, 2.49829522, 2.49829522, 2.49829522,\n",
       "       2.49829522, 2.49829522, 2.44271721, 2.44271721, 2.44271721,\n",
       "       2.44271721, 2.44271721, 2.44271721, 2.44271721, 2.44271721,\n",
       "       2.44271721, 2.3895651 , 2.3895651 , 2.3895651 , 2.3895651 ,\n",
       "       2.3895651 , 2.3895651 , 2.3895651 , 2.3895651 , 2.3895651 ,\n",
       "       2.3895651 , 2.3895651 , 2.3895651 , 2.3895651 , 2.3895651 ,\n",
       "       2.33975487, 2.33975487, 2.33975487, 2.33975487, 2.33975487,\n",
       "       2.29246439, 2.29246439, 2.29246439, 2.24700842, 2.24700842,\n",
       "       2.24700842, 2.24700842, 2.20420728, 2.20420728, 2.20420728,\n",
       "       2.16339   , 2.16339   , 2.12399022, 2.07031019, 2.03534626,\n",
       "       2.0091536 , 2.00511395, 2.00328446, 2.00182387, 1.97810292,\n",
       "       1.97351314, 1.97351314, 1.97000062, 1.9686    , 1.9686    ,\n",
       "       1.96650372, 1.96650372, 1.95095787, 1.94584396, 1.94584396,\n",
       "       1.93672292, 1.93538074, 1.93404089, 1.93370629, 1.93370629,\n",
       "       1.91715893, 1.90578473, 1.88982537, 1.86344698, 1.86344698,\n",
       "       1.83856089, 1.81420531, 1.79673892, 1.66404135, 1.64950262,\n",
       "       1.64950262, 1.64569399, 1.64301878, 1.59582886, 1.53047633,\n",
       "       1.51249131, 1.50405188, 1.4922228 , 1.48978038, 1.48804192,\n",
       "       1.48734795, 1.4866548 , 1.48389025, 1.48062402, 1.4785704 ,\n",
       "       1.47499367, 1.47431484, 1.47059523, 1.47059523, 1.46975314,\n",
       "       1.46706654, 1.46206216, 1.45974138, 1.42289061, 1.3959239 ,\n",
       "       1.37516579, 1.36780729, 1.36110173, 1.36110173, 1.35985359,\n",
       "       1.35736588, 1.35626389, 1.35626389, 1.3491552 , 1.34793431,\n",
       "       1.34590562, 1.33428834, 1.31572825, 1.27255436, 1.27138266,\n",
       "       1.26625914, 1.26153126, 1.26027031, 1.25867003, 1.25299606,\n",
       "       1.25231949, 1.24984653, 1.24693966, 1.23558842, 1.18680316,\n",
       "       1.18385775, 1.18366204, 1.18102787, 1.18073609, 1.17869868,\n",
       "       1.17647732, 1.17465018, 1.17465018, 1.17025589, 1.16854757,\n",
       "       1.16854757, 1.16580838, 1.16439787, 1.16355361, 1.1587983 ,\n",
       "       1.1143731 , 1.11395278, 1.11118862, 1.11085474, 1.10513461,\n",
       "       1.10488758, 1.09737867, 1.0954408 , 1.09230999, 1.09230999,\n",
       "       1.09230999, 1.05921767, 1.05421209, 1.05006168, 1.04796574,\n",
       "       1.04767747, 1.00449191, 0.99526486, 0.99066786, 0.99066786,\n",
       "       0.99066786, 0.99041751, 0.96200596, 0.9480723 , 0.94734409,\n",
       "       0.9460034 , 0.93495908, 0.9204652 , 0.91709679, 0.9141683 ,\n",
       "       0.9099963 , 0.90944027, 0.9062721 , 0.89805525, 0.89377461,\n",
       "       0.88768629, 0.87951166, 0.87909396, 0.87622999, 0.87416592,\n",
       "       0.85241161, 0.85241161, 0.84628589, 0.83960773, 0.83310096,\n",
       "       0.82469844, 0.81646719, 0.81013481, 0.80953097, 0.8069024 ,\n",
       "       0.7993628 , 0.79903424, 0.79135618, 0.78844944, 0.78546454,\n",
       "       0.77528786, 0.77518641, 0.7706222 , 0.76899425, 0.75627505,\n",
       "       0.75393296, 0.74970686, 0.74462177, 0.74422481, 0.74276371,\n",
       "       0.74188445, 0.74146092, 0.73980292, 0.73770617, 0.72793277,\n",
       "       0.71903804, 0.71753103, 0.71725282, 0.71360582, 0.70249025,\n",
       "       0.70101645, 0.69840393, 0.68902233, 0.68771862, 0.68406651,\n",
       "       0.68156096, 0.66783421, 0.66492355, 0.66441862, 0.66147721,\n",
       "       0.65892746, 0.65850117, 0.65778478, 0.64828071, 0.64705528,\n",
       "       0.64373116, 0.63992788, 0.63795427, 0.62938962, 0.62644718,\n",
       "       0.62603248, 0.62275915, 0.62231172, 0.62132247, 0.62074242,\n",
       "       0.61864634, 0.61864634, 0.61511053, 0.61501619, 0.6104747 ,\n",
       "       0.60927422, 0.59979224, 0.59490309, 0.59298583, 0.59089652,\n",
       "       0.5878982 , 0.58618777, 0.58420811, 0.58204831, 0.57893524,\n",
       "       0.57618368, 0.57490774, 0.57373385, 0.56736906, 0.56483031,\n",
       "       0.55828252, 0.55828252, 0.55497108, 0.5526135 , 0.55225415,\n",
       "       0.55026696, 0.54780482, 0.54741123, 0.54329389, 0.53938963,\n",
       "       0.53871437, 0.53719618, 0.53715602, 0.53662132, 0.53595484,\n",
       "       0.53350706, 0.52314092, 0.51911413, 0.51651758, 0.51359546,\n",
       "       0.51304704, 0.50708849, 0.49992838, 0.49946095, 0.49940538,\n",
       "       0.49587046, 0.49385133, 0.49218474, 0.48674938, 0.48640634,\n",
       "       0.48243936, 0.48168832, 0.47827588, 0.47794798, 0.47744236,\n",
       "       0.47560015, 0.466881  , 0.46474434, 0.46308972, 0.46245949,\n",
       "       0.46232277, 0.46025754, 0.45832292, 0.45735464, 0.45580234,\n",
       "       0.45331747, 0.45261766, 0.45159462, 0.45159462, 0.45128632,\n",
       "       0.4506543 , 0.45043278, 0.45002458, 0.44397421, 0.44364656,\n",
       "       0.44175862, 0.43657159, 0.43370949, 0.43202956, 0.43014778,\n",
       "       0.42932005, 0.42885536, 0.42804908, 0.42726163, 0.42476888,\n",
       "       0.42413537, 0.42405545, 0.42263812, 0.42230731, 0.42116916,\n",
       "       0.41953015, 0.41832081, 0.41792909, 0.41647579, 0.41362318,\n",
       "       0.41214252, 0.41092957, 0.41006435, 0.40738735, 0.40682129,\n",
       "       0.40681479, 0.40645807, 0.40235676, 0.40149628, 0.40065957,\n",
       "       0.40014374, 0.39973488, 0.39408373, 0.39315976, 0.39064467,\n",
       "       0.3888886 , 0.38868283, 0.38637851, 0.38341008, 0.3594402 ,\n",
       "              inf])"
      ]
     },
     "execution_count": 75,
     "metadata": {},
     "output_type": "execute_result"
    }
   ],
   "source": [
    "pdf = beta.pdf(norm, a1, b1)\n",
    "pdf"
   ]
  },
  {
   "cell_type": "code",
   "execution_count": 22,
   "metadata": {},
   "outputs": [],
   "source": [
    "arr = np.sort(arr)"
   ]
  },
  {
   "cell_type": "code",
   "execution_count": 74,
   "metadata": {
    "scrolled": true
   },
   "outputs": [
    {
     "data": {
      "text/plain": [
       "array([0.        , 0.        , 0.01171346, 0.01171346, 0.01340006,\n",
       "       0.01340006, 0.01340006, 0.01340006, 0.01340006, 0.01340006,\n",
       "       0.01340006, 0.01340006, 0.01340006, 0.01340006, 0.01340006,\n",
       "       0.01506811, 0.01506811, 0.01673617, 0.01673617, 0.01673617,\n",
       "       0.01673617, 0.01673617, 0.01673617, 0.01673617, 0.01673617,\n",
       "       0.01840423, 0.01840423, 0.02009082, 0.02009082, 0.02009082,\n",
       "       0.02009082, 0.02009082, 0.02009082, 0.02175887, 0.02175887,\n",
       "       0.02175887, 0.02175887, 0.02342693, 0.02342693, 0.02342693,\n",
       "       0.02342693, 0.02511352, 0.02511352, 0.02511352, 0.02678158,\n",
       "       0.02678158, 0.02678158, 0.02678158, 0.02678158, 0.02678158,\n",
       "       0.02678158, 0.02678158, 0.02678158, 0.02844963, 0.02844963,\n",
       "       0.02844963, 0.02844963, 0.02844963, 0.03013622, 0.03013622,\n",
       "       0.03013622, 0.03013622, 0.03013622, 0.03013622, 0.03013622,\n",
       "       0.03013622, 0.03180428, 0.03180428, 0.03180428, 0.03180428,\n",
       "       0.03180428, 0.03180428, 0.03180428, 0.03180428, 0.03180428,\n",
       "       0.03180428, 0.03180428, 0.03180428, 0.03347234, 0.03347234,\n",
       "       0.03347234, 0.03347234, 0.03347234, 0.03347234, 0.03515893,\n",
       "       0.03515893, 0.03515893, 0.03682699, 0.03682699, 0.03682699,\n",
       "       0.03682699, 0.03682699, 0.03682699, 0.03849504, 0.03849504,\n",
       "       0.03849504, 0.03849504, 0.03849504, 0.03849504, 0.03849504,\n",
       "       0.04018163, 0.04018163, 0.04018163, 0.04018163, 0.04018163,\n",
       "       0.04018163, 0.04018163, 0.04018163, 0.04018163, 0.04018163,\n",
       "       0.04018163, 0.04184969, 0.04184969, 0.04184969, 0.04184969,\n",
       "       0.04184969, 0.04184969, 0.04351775, 0.04351775, 0.04351775,\n",
       "       0.0451858 , 0.0451858 , 0.0451858 , 0.0451858 , 0.0451858 ,\n",
       "       0.0451858 , 0.0451858 , 0.0451858 , 0.04687239, 0.04687239,\n",
       "       0.04687239, 0.04687239, 0.04687239, 0.04687239, 0.04687239,\n",
       "       0.04687239, 0.04854045, 0.04854045, 0.04854045, 0.04854045,\n",
       "       0.04854045, 0.04854045, 0.05020851, 0.05020851, 0.05020851,\n",
       "       0.05020851, 0.05020851, 0.05020851, 0.05020851, 0.05020851,\n",
       "       0.05020851, 0.0518951 , 0.0518951 , 0.0518951 , 0.0518951 ,\n",
       "       0.0518951 , 0.0518951 , 0.0518951 , 0.0518951 , 0.0518951 ,\n",
       "       0.0518951 , 0.0518951 , 0.0518951 , 0.0518951 , 0.0518951 ,\n",
       "       0.05356315, 0.05356315, 0.05356315, 0.05356315, 0.05356315,\n",
       "       0.05523121, 0.05523121, 0.05523121, 0.0569178 , 0.0569178 ,\n",
       "       0.0569178 , 0.0569178 , 0.05858586, 0.05858586, 0.05858586,\n",
       "       0.06025392, 0.06025392, 0.06194051, 0.06436846, 0.06603651,\n",
       "       0.06733389, 0.06753776, 0.06763043, 0.06770457, 0.06892781,\n",
       "       0.06916875, 0.06916875, 0.06935409, 0.06942823, 0.06942823,\n",
       "       0.06953943, 0.06953943, 0.07037346, 0.07065147, 0.07065147,\n",
       "       0.07115189, 0.07122602, 0.07130016, 0.07131869, 0.07131869,\n",
       "       0.07224539, 0.07289408, 0.07382078, 0.07539616, 0.07539616,\n",
       "       0.07693448, 0.07849134, 0.07964044, 0.08937077, 0.09055695,\n",
       "       0.09055695, 0.09087202, 0.09109443, 0.0951719 , 0.10134371,\n",
       "       0.10316004, 0.10403114, 0.10527291, 0.10553239, 0.10571773,\n",
       "       0.10579186, 0.105866  , 0.10616254, 0.10651469, 0.1067371 ,\n",
       "       0.10712631, 0.10720044, 0.10760819, 0.10760819, 0.10770086,\n",
       "       0.10799741, 0.10855342, 0.1088129 , 0.11307571, 0.11637476,\n",
       "       0.11902511, 0.11998888, 0.12087851, 0.12087851, 0.12104532,\n",
       "       0.12137893, 0.1215272 , 0.1215272 , 0.12249096, 0.12265777,\n",
       "       0.12293578, 0.12454823, 0.12719859, 0.13374108, 0.13392642,\n",
       "       0.13474191, 0.13550181, 0.13570568, 0.13596516, 0.13689185,\n",
       "       0.13700306, 0.13741081, 0.13789269, 0.13980169, 0.14853118,\n",
       "       0.1490872 , 0.14912427, 0.14962469, 0.14968029, 0.1500695 ,\n",
       "       0.15049578, 0.15084793, 0.15084793, 0.15170049, 0.1520341 ,\n",
       "       0.1520341 , 0.15257159, 0.1528496 , 0.1530164 , 0.15396163,\n",
       "       0.16328422, 0.16337689, 0.16398851, 0.16406264, 0.16534149,\n",
       "       0.16539709, 0.16710221, 0.16754703, 0.16826985, 0.16826985,\n",
       "       0.16826985, 0.17623946, 0.17749977, 0.1785562 , 0.17909369,\n",
       "       0.17916783, 0.19088129, 0.19355018, 0.19490316, 0.19490316,\n",
       "       0.19490316, 0.1949773 , 0.20370679, 0.20822908, 0.20847002,\n",
       "       0.20891484, 0.21264016, 0.21769994, 0.21890464, 0.21996108,\n",
       "       0.22148086, 0.22168474, 0.22285238, 0.22592901, 0.22756   ,\n",
       "       0.22991382, 0.23313873, 0.23330553, 0.23445464, 0.23528867,\n",
       "       0.24438884, 0.24438884, 0.24705773, 0.25002317, 0.25297007,\n",
       "       0.2568622 , 0.26077287, 0.2638495 , 0.26414605, 0.26544343,\n",
       "       0.26922435, 0.26939116, 0.27333889, 0.27485868, 0.27643407,\n",
       "       0.28192012, 0.28197572, 0.28449634, 0.2854045 , 0.29266982,\n",
       "       0.29404133, 0.29654342, 0.29960152, 0.29984246, 0.30073209,\n",
       "       0.30126958, 0.30152905, 0.30254842, 0.3038458 , 0.31001761,\n",
       "       0.31581874, 0.31681957, 0.31700491, 0.31945139, 0.32710592,\n",
       "       0.32814382, 0.32999722, 0.33679918, 0.33776295, 0.34048744,\n",
       "       0.34237791, 0.35305347, 0.35538875, 0.3557965 , 0.35818738,\n",
       "       0.36028172, 0.36063386, 0.36122695, 0.36925215, 0.37030859,\n",
       "       0.37319989, 0.37655454, 0.37831526, 0.38611806, 0.38886109,\n",
       "       0.3892503 , 0.39234547, 0.39277175, 0.39371699, 0.39427301,\n",
       "       0.39629321, 0.39629321, 0.39974052, 0.39983319, 0.40433695,\n",
       "       0.40554166, 0.41527199, 0.42044296, 0.42250023, 0.42476138,\n",
       "       0.42804189, 0.42993235, 0.43213789, 0.43456584, 0.43810583,\n",
       "       0.44127514, 0.44275785, 0.44412937, 0.45169122, 0.45476786,\n",
       "       0.4628672 , 0.4628672 , 0.46705588, 0.47007692, 0.47054027,\n",
       "       0.47311649, 0.4763414 , 0.47686035, 0.4823464 , 0.48764711,\n",
       "       0.48857381, 0.49066815, 0.49072375, 0.49146511, 0.49239181,\n",
       "       0.49582059, 0.51079603, 0.51681957, 0.52076731, 0.52527106,\n",
       "       0.52612362, 0.53553887, 0.54723381, 0.54801223, 0.5481049 ,\n",
       "       0.5540543 , 0.55750162, 0.56037439, 0.56991938, 0.570531  ,\n",
       "       0.57768511, 0.57905662, 0.58535817, 0.58596979, 0.58691502,\n",
       "       0.59038087, 0.60726531, 0.61152813, 0.61486424, 0.61614308,\n",
       "       0.61642109, 0.62064684, 0.62465017, 0.62667037, 0.62993235,\n",
       "       0.63521453, 0.63671578, 0.63892132, 0.63892132, 0.63958855,\n",
       "       0.64096006, 0.64144194, 0.64233157, 0.6557687 , 0.65651005,\n",
       "       0.66080993, 0.67287554, 0.67969604, 0.68375498, 0.6883514 ,\n",
       "       0.69039014, 0.69153925, 0.69354091, 0.69550551, 0.70178853,\n",
       "       0.70340098, 0.70360486, 0.70723751, 0.70809008, 0.71103698,\n",
       "       0.71531832, 0.71850616, 0.71954406, 0.72341766, 0.73112779,\n",
       "       0.73518673, 0.73854138, 0.74095079, 0.74849412, 0.75010657,\n",
       "       0.7501251 , 0.75114447, 0.76304328, 0.76558243, 0.76806598,\n",
       "       0.7696043 , 0.77082754, 0.7881012 , 0.79099249, 0.7989621 ,\n",
       "       0.80461496, 0.80528218, 0.8128255 , 0.82274117, 0.91298304,\n",
       "       1.        ])"
      ]
     },
     "execution_count": 74,
     "metadata": {},
     "output_type": "execute_result"
    }
   ],
   "source": [
    "norm = np.sort(norm)\n",
    "norm"
   ]
  },
  {
   "cell_type": "code",
   "execution_count": 77,
   "metadata": {
    "scrolled": false
   },
   "outputs": [
    {
     "data": {
      "text/plain": [
       "[<matplotlib.lines.Line2D at 0x17523d4a430>]"
      ]
     },
     "execution_count": 77,
     "metadata": {},
     "output_type": "execute_result"
    },
    {
     "data": {
      "image/png": "[encoded data removed]",
      "text/plain": [
       "<Figure size 432x288 with 1 Axes>"
      ]
     },
     "metadata": {
      "needs_background": "light"
     },
     "output_type": "display_data"
    }
   ],
   "source": [
    "plt.plot(norm,pdf)"
   ]
  },
  {
   "cell_type": "code",
   "execution_count": 78,
   "metadata": {},
   "outputs": [
    {
     "data": {
      "text/plain": [
       "0.2515216766862366"
      ]
     },
     "execution_count": 78,
     "metadata": {},
     "output_type": "execute_result"
    }
   ],
   "source": [
    "beta.mean(a1, b1)"
   ]
  },
  {
   "cell_type": "code",
   "execution_count": 254,
   "metadata": {},
   "outputs": [],
   "source": [
    "convert = norm[0:10]"
   ]
  },
  {
   "cell_type": "code",
   "execution_count": 166,
   "metadata": {},
   "outputs": [
    {
     "data": {
      "text/plain": [
       "62.42352005805569"
      ]
     },
     "execution_count": 166,
     "metadata": {},
     "output_type": "execute_result"
    }
   ],
   "source": [
    "0.11569552415541784 * (normmax - normmin) + normmin"
   ]
  },
  {
   "cell_type": "code",
   "execution_count": 259,
   "metadata": {},
   "outputs": [
    {
     "data": {
      "text/plain": [
       "2014-12-02      0.00\n",
       "2014-12-03      0.00\n",
       "2013-12-18      6.32\n",
       "2020-12-19      6.32\n",
       "2020-12-08      7.23\n",
       "               ...  \n",
       "2007-12-05    434.49\n",
       "2011-12-02    438.56\n",
       "2008-12-01    443.91\n",
       "2005-12-06    492.60\n",
       "2005-12-07    539.55\n",
       "Name: 14, Length: 496, dtype: float64"
      ]
     },
     "execution_count": 259,
     "metadata": {},
     "output_type": "execute_result"
    }
   ],
   "source": [
    "final[11][14].sort_values()"
   ]
  },
  {
   "cell_type": "code",
   "execution_count": 80,
   "metadata": {},
   "outputs": [],
   "source": [
    "x = np.linspace(0, 1, 480)"
   ]
  },
  {
   "cell_type": "code",
   "execution_count": 81,
   "metadata": {
    "scrolled": true
   },
   "outputs": [
    {
     "data": {
      "text/plain": [
       "array([0.        , 0.00208768, 0.00417537, 0.00626305, 0.00835073,\n",
       "       0.01043841, 0.0125261 , 0.01461378, 0.01670146, 0.01878914,\n",
       "       0.02087683, 0.02296451, 0.02505219, 0.02713987, 0.02922756,\n",
       "       0.03131524, 0.03340292, 0.03549061, 0.03757829, 0.03966597,\n",
       "       0.04175365, 0.04384134, 0.04592902, 0.0480167 , 0.05010438,\n",
       "       0.05219207, 0.05427975, 0.05636743, 0.05845511, 0.0605428 ,\n",
       "       0.06263048, 0.06471816, 0.06680585, 0.06889353, 0.07098121,\n",
       "       0.07306889, 0.07515658, 0.07724426, 0.07933194, 0.08141962,\n",
       "       0.08350731, 0.08559499, 0.08768267, 0.08977035, 0.09185804,\n",
       "       0.09394572, 0.0960334 , 0.09812109, 0.10020877, 0.10229645,\n",
       "       0.10438413, 0.10647182, 0.1085595 , 0.11064718, 0.11273486,\n",
       "       0.11482255, 0.11691023, 0.11899791, 0.12108559, 0.12317328,\n",
       "       0.12526096, 0.12734864, 0.12943633, 0.13152401, 0.13361169,\n",
       "       0.13569937, 0.13778706, 0.13987474, 0.14196242, 0.1440501 ,\n",
       "       0.14613779, 0.14822547, 0.15031315, 0.15240084, 0.15448852,\n",
       "       0.1565762 , 0.15866388, 0.16075157, 0.16283925, 0.16492693,\n",
       "       0.16701461, 0.1691023 , 0.17118998, 0.17327766, 0.17536534,\n",
       "       0.17745303, 0.17954071, 0.18162839, 0.18371608, 0.18580376,\n",
       "       0.18789144, 0.18997912, 0.19206681, 0.19415449, 0.19624217,\n",
       "       0.19832985, 0.20041754, 0.20250522, 0.2045929 , 0.20668058,\n",
       "       0.20876827, 0.21085595, 0.21294363, 0.21503132, 0.217119  ,\n",
       "       0.21920668, 0.22129436, 0.22338205, 0.22546973, 0.22755741,\n",
       "       0.22964509, 0.23173278, 0.23382046, 0.23590814, 0.23799582,\n",
       "       0.24008351, 0.24217119, 0.24425887, 0.24634656, 0.24843424,\n",
       "       0.25052192, 0.2526096 , 0.25469729, 0.25678497, 0.25887265,\n",
       "       0.26096033, 0.26304802, 0.2651357 , 0.26722338, 0.26931106,\n",
       "       0.27139875, 0.27348643, 0.27557411, 0.2776618 , 0.27974948,\n",
       "       0.28183716, 0.28392484, 0.28601253, 0.28810021, 0.29018789,\n",
       "       0.29227557, 0.29436326, 0.29645094, 0.29853862, 0.3006263 ,\n",
       "       0.30271399, 0.30480167, 0.30688935, 0.30897704, 0.31106472,\n",
       "       0.3131524 , 0.31524008, 0.31732777, 0.31941545, 0.32150313,\n",
       "       0.32359081, 0.3256785 , 0.32776618, 0.32985386, 0.33194154,\n",
       "       0.33402923, 0.33611691, 0.33820459, 0.34029228, 0.34237996,\n",
       "       0.34446764, 0.34655532, 0.34864301, 0.35073069, 0.35281837,\n",
       "       0.35490605, 0.35699374, 0.35908142, 0.3611691 , 0.36325678,\n",
       "       0.36534447, 0.36743215, 0.36951983, 0.37160752, 0.3736952 ,\n",
       "       0.37578288, 0.37787056, 0.37995825, 0.38204593, 0.38413361,\n",
       "       0.38622129, 0.38830898, 0.39039666, 0.39248434, 0.39457203,\n",
       "       0.39665971, 0.39874739, 0.40083507, 0.40292276, 0.40501044,\n",
       "       0.40709812, 0.4091858 , 0.41127349, 0.41336117, 0.41544885,\n",
       "       0.41753653, 0.41962422, 0.4217119 , 0.42379958, 0.42588727,\n",
       "       0.42797495, 0.43006263, 0.43215031, 0.434238  , 0.43632568,\n",
       "       0.43841336, 0.44050104, 0.44258873, 0.44467641, 0.44676409,\n",
       "       0.44885177, 0.45093946, 0.45302714, 0.45511482, 0.45720251,\n",
       "       0.45929019, 0.46137787, 0.46346555, 0.46555324, 0.46764092,\n",
       "       0.4697286 , 0.47181628, 0.47390397, 0.47599165, 0.47807933,\n",
       "       0.48016701, 0.4822547 , 0.48434238, 0.48643006, 0.48851775,\n",
       "       0.49060543, 0.49269311, 0.49478079, 0.49686848, 0.49895616,\n",
       "       0.50104384, 0.50313152, 0.50521921, 0.50730689, 0.50939457,\n",
       "       0.51148225, 0.51356994, 0.51565762, 0.5177453 , 0.51983299,\n",
       "       0.52192067, 0.52400835, 0.52609603, 0.52818372, 0.5302714 ,\n",
       "       0.53235908, 0.53444676, 0.53653445, 0.53862213, 0.54070981,\n",
       "       0.54279749, 0.54488518, 0.54697286, 0.54906054, 0.55114823,\n",
       "       0.55323591, 0.55532359, 0.55741127, 0.55949896, 0.56158664,\n",
       "       0.56367432, 0.565762  , 0.56784969, 0.56993737, 0.57202505,\n",
       "       0.57411273, 0.57620042, 0.5782881 , 0.58037578, 0.58246347,\n",
       "       0.58455115, 0.58663883, 0.58872651, 0.5908142 , 0.59290188,\n",
       "       0.59498956, 0.59707724, 0.59916493, 0.60125261, 0.60334029,\n",
       "       0.60542797, 0.60751566, 0.60960334, 0.61169102, 0.61377871,\n",
       "       0.61586639, 0.61795407, 0.62004175, 0.62212944, 0.62421712,\n",
       "       0.6263048 , 0.62839248, 0.63048017, 0.63256785, 0.63465553,\n",
       "       0.63674322, 0.6388309 , 0.64091858, 0.64300626, 0.64509395,\n",
       "       0.64718163, 0.64926931, 0.65135699, 0.65344468, 0.65553236,\n",
       "       0.65762004, 0.65970772, 0.66179541, 0.66388309, 0.66597077,\n",
       "       0.66805846, 0.67014614, 0.67223382, 0.6743215 , 0.67640919,\n",
       "       0.67849687, 0.68058455, 0.68267223, 0.68475992, 0.6868476 ,\n",
       "       0.68893528, 0.69102296, 0.69311065, 0.69519833, 0.69728601,\n",
       "       0.6993737 , 0.70146138, 0.70354906, 0.70563674, 0.70772443,\n",
       "       0.70981211, 0.71189979, 0.71398747, 0.71607516, 0.71816284,\n",
       "       0.72025052, 0.7223382 , 0.72442589, 0.72651357, 0.72860125,\n",
       "       0.73068894, 0.73277662, 0.7348643 , 0.73695198, 0.73903967,\n",
       "       0.74112735, 0.74321503, 0.74530271, 0.7473904 , 0.74947808,\n",
       "       0.75156576, 0.75365344, 0.75574113, 0.75782881, 0.75991649,\n",
       "       0.76200418, 0.76409186, 0.76617954, 0.76826722, 0.77035491,\n",
       "       0.77244259, 0.77453027, 0.77661795, 0.77870564, 0.78079332,\n",
       "       0.782881  , 0.78496868, 0.78705637, 0.78914405, 0.79123173,\n",
       "       0.79331942, 0.7954071 , 0.79749478, 0.79958246, 0.80167015,\n",
       "       0.80375783, 0.80584551, 0.80793319, 0.81002088, 0.81210856,\n",
       "       0.81419624, 0.81628392, 0.81837161, 0.82045929, 0.82254697,\n",
       "       0.82463466, 0.82672234, 0.82881002, 0.8308977 , 0.83298539,\n",
       "       0.83507307, 0.83716075, 0.83924843, 0.84133612, 0.8434238 ,\n",
       "       0.84551148, 0.84759916, 0.84968685, 0.85177453, 0.85386221,\n",
       "       0.8559499 , 0.85803758, 0.86012526, 0.86221294, 0.86430063,\n",
       "       0.86638831, 0.86847599, 0.87056367, 0.87265136, 0.87473904,\n",
       "       0.87682672, 0.87891441, 0.88100209, 0.88308977, 0.88517745,\n",
       "       0.88726514, 0.88935282, 0.8914405 , 0.89352818, 0.89561587,\n",
       "       0.89770355, 0.89979123, 0.90187891, 0.9039666 , 0.90605428,\n",
       "       0.90814196, 0.91022965, 0.91231733, 0.91440501, 0.91649269,\n",
       "       0.91858038, 0.92066806, 0.92275574, 0.92484342, 0.92693111,\n",
       "       0.92901879, 0.93110647, 0.93319415, 0.93528184, 0.93736952,\n",
       "       0.9394572 , 0.94154489, 0.94363257, 0.94572025, 0.94780793,\n",
       "       0.94989562, 0.9519833 , 0.95407098, 0.95615866, 0.95824635,\n",
       "       0.96033403, 0.96242171, 0.96450939, 0.96659708, 0.96868476,\n",
       "       0.97077244, 0.97286013, 0.97494781, 0.97703549, 0.97912317,\n",
       "       0.98121086, 0.98329854, 0.98538622, 0.9874739 , 0.98956159,\n",
       "       0.99164927, 0.99373695, 0.99582463, 0.99791232, 1.        ])"
      ]
     },
     "execution_count": 81,
     "metadata": {},
     "output_type": "execute_result"
    }
   ],
   "source": [
    "x"
   ]
  },
  {
   "cell_type": "code",
   "execution_count": 101,
   "metadata": {
    "scrolled": false
   },
   "outputs": [
    {
     "data": {
      "text/plain": [
       "[<matplotlib.lines.Line2D at 0x2bd3cb6f550>]"
      ]
     },
     "execution_count": 101,
     "metadata": {},
     "output_type": "execute_result"
    },
    {
     "data": {
      "image/png": "[encoded data removed]",
      "text/plain": [
       "<Figure size 432x288 with 1 Axes>"
      ]
     },
     "metadata": {
      "needs_background": "light"
     },
     "output_type": "display_data"
    }
   ],
   "source": [
    "plt.plot(x,arr)"
   ]
  },
  {
   "cell_type": "code",
   "execution_count": 108,
   "metadata": {},
   "outputs": [],
   "source": [
    "test = beta.rvs(a,b, size=10000)"
   ]
  },
  {
   "cell_type": "code",
   "execution_count": 111,
   "metadata": {},
   "outputs": [],
   "source": [
    "test = np.sort(test)"
   ]
  },
  {
   "cell_type": "code",
   "execution_count": 112,
   "metadata": {},
   "outputs": [
    {
     "data": {
      "text/plain": [
       "[<matplotlib.lines.Line2D at 0x2bd3c8b9430>]"
      ]
     },
     "execution_count": 112,
     "metadata": {},
     "output_type": "execute_result"
    },
    {
     "data": {
      "image/png": "[encoded data removed]",
      "text/plain": [
       "<Figure size 432x288 with 1 Axes>"
      ]
     },
     "metadata": {
      "needs_background": "light"
     },
     "output_type": "display_data"
    }
   ],
   "source": [
    "plt.plot(test, arr)"
   ]
  },
  {
   "cell_type": "code",
   "execution_count": 114,
   "metadata": {},
   "outputs": [
    {
     "data": {
      "text/plain": [
       "count    496.000000\n",
       "mean     123.792077\n",
       "std      126.360875\n",
       "min        0.000000\n",
       "25%       24.380000\n",
       "50%       65.830000\n",
       "75%      203.407500\n",
       "max      539.550000\n",
       "Name: 14, dtype: float64"
      ]
     },
     "execution_count": 114,
     "metadata": {},
     "output_type": "execute_result"
    }
   ],
   "source": [
    "final[11][14].describe()"
   ]
  },
  {
   "cell_type": "code",
   "execution_count": null,
   "metadata": {},
   "outputs": [],
   "source": []
  }
 ],
 "metadata": {
  "kernelspec": {
   "display_name": "Python 3",
   "language": "python",
   "name": "python3"
  },
  "language_info": {
   "codemirror_mode": {
    "name": "ipython",
    "version": 3
   },
   "file_extension": ".py",
   "mimetype": "text/x-python",
   "name": "python",
   "nbconvert_exporter": "python",
   "pygments_lexer": "ipython3",
   "version": "3.8.3"
  }
 },
 "nbformat": 4,
 "nbformat_minor": 4
}
