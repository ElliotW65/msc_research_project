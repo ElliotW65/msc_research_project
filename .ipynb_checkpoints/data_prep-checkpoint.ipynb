{
 "cells": [
  {
   "cell_type": "code",
   "execution_count": null,
   "metadata": {
    "scrolled": true
   },
   "outputs": [],
   "source": [
    "%pylab inline"
   ]
  },
  {
   "cell_type": "code",
   "execution_count": null,
   "metadata": {},
   "outputs": [],
   "source": [
    "import pickle\n",
    "import datetime as dt\n",
    "import numpy as np\n",
    "import pandas as pd\n",
    "pd.set_option('display.max_rows', 500)\n",
    "\n",
    "from IdealDataInterface import IdealDataInterface\n",
    "from IdealMetadataInterface import IdealMetadataInterface\n",
    "from dateutil.relativedelta import relativedelta\n",
    "from datetime import timedelta"
   ]
  },
  {
   "cell_type": "code",
   "execution_count": null,
   "metadata": {},
   "outputs": [],
   "source": [
    "df = pickle.load(open(\"data/reduced_data.p\", 'rb'))"
   ]
  },
  {
   "cell_type": "code",
   "execution_count": null,
   "metadata": {},
   "outputs": [],
   "source": [
    "result = []\n",
    "for i in df:\n",
    "    result.append(len(df[i]))"
   ]
  },
  {
   "cell_type": "code",
   "execution_count": null,
   "metadata": {},
   "outputs": [],
   "source": [
    "np.mean(result)"
   ]
  },
  {
   "cell_type": "code",
   "execution_count": null,
   "metadata": {},
   "outputs": [],
   "source": [
    "for i in df:\n",
    "    df[i]['day'] = df[i].index.dayofweek"
   ]
  },
  {
   "cell_type": "code",
   "execution_count": null,
   "metadata": {},
   "outputs": [],
   "source": [
    "def increment_month(date):\n",
    "    if (date + timedelta(1)).month == date.month:\n",
    "        return date + relativedelta(months=1)\n",
    "    return (date + relativedelta(months=2)).replace(day=1) - timedelta(1)"
   ]
  },
  {
   "cell_type": "code",
   "execution_count": null,
   "metadata": {},
   "outputs": [],
   "source": [
    "def get_cut(data, start, end):\n",
    "    'Function to return a full cut of data for that month depending on year'\n",
    "    \n",
    "    cut = data[start : end]\n",
    "    \n",
    "    size = cut['day'].size\n",
    "    \n",
    "    lastdate = end\n",
    "    \n",
    "    if not cut.empty:\n",
    "        lastdate = cut.iloc[size - 1].name.to_pydatetime()\n",
    "    \n",
    "    if cut.empty or lastdate < end:\n",
    "        \n",
    "        start -= relativedelta(years=1)\n",
    "        end -= relativedelta(years=1)\n",
    "\n",
    "        cut = data[start : end]\n",
    "        \n",
    "    return cut"
   ]
  },
  {
   "cell_type": "code",
   "execution_count": null,
   "metadata": {},
   "outputs": [],
   "source": [
    "def aggregate_days(data):\n",
    "    'Function to take the average data for each hour of all weekdays and weekends'\n",
    "    \n",
    "    'Initiate first and last days of the month as datetime'\n",
    "    startdate = datetime.datetime(2017, 1, 31)\n",
    "    enddate = datetime.datetime(2017, 1, 31)\n",
    "    \n",
    "    'Create empty dictionary to contain result'\n",
    "    result = {}\n",
    "    \n",
    "    'If the first day in the dataset is after 1/1/2017, make start date 1/1/2018'\n",
    "    if data.index.min() > startdate:\n",
    "        \n",
    "        startdate = datetime.datetime(2018, 1, 1)\n",
    "        enddate = datetime.datetime(2018, 1, 31)\n",
    "    else:\n",
    "\n",
    "        startdate = datetime.datetime(2017, 1, 1)\n",
    "\n",
    "    'Iterate through 12 months and aggregate weekday and weekend data'\n",
    "    for i in range(12):\n",
    "        \n",
    "        'Get one month cut of the data using start and end dates of month'\n",
    "        df_cut = get_cut(data, startdate, enddate)            \n",
    "    \n",
    "        'Seperate weekday and weeekend data into different DataFrames'\n",
    "        weekday = df_cut.loc[df_cut['day'] < 5]\n",
    "        weekend = df_cut.loc[df_cut['day'] > 4]\n",
    "        \n",
    "        'Remove the day identifier column'\n",
    "        weekday.drop('day', axis=1, inplace=True)\n",
    "        weekend.drop('day', axis=1, inplace=True)\n",
    "        \n",
    "        'Group all data by hour and take the mean of each hour'        \n",
    "        weekday = weekday.groupby([weekday.index.hour]).mean()\n",
    "        weekend = weekend.groupby([weekend.index.hour]).mean()\n",
    "        \n",
    "        result[i] = {0: weekday, 1: weekend}\n",
    "        \n",
    "        'Move to next month'\n",
    "        startdate = increment_month(startdate)\n",
    "        enddate = increment_month(enddate)\n",
    "        \n",
    "    return result"
   ]
  },
  {
   "cell_type": "code",
   "execution_count": null,
   "metadata": {},
   "outputs": [],
   "source": [
    "def aggregate_house_data(data):\n",
    "    'Function to create final data for model run'\n",
    "    \n",
    "    result = {}\n",
    "    \n",
    "    for i in data:\n",
    "        result[i] = aggregate_days(data[i])\n",
    "        \n",
    "    return result"
   ]
  },
  {
   "cell_type": "code",
   "execution_count": null,
   "metadata": {},
   "outputs": [],
   "source": [
    "def empty_df_check(data):\n",
    "    'Function to check for any empty dataframes in data'\n",
    "    empty = []\n",
    "    for i in data.keys():\n",
    "        for x in range(12):\n",
    "            for n in range(2):\n",
    "                if data[i][x][n].empty:\n",
    "                    empty.append({\"house\": i, \"month\": x, \"day\": n})\n",
    "                    \n",
    "    return empty"
   ]
  },
  {
   "cell_type": "code",
   "execution_count": null,
   "metadata": {},
   "outputs": [],
   "source": [
    "def get_means(data):\n",
    "    'Function to get the mean values for each out hour, each aggreagted weekday and weekend for each month'\n",
    "    \n",
    "    means = {}\n",
    "\n",
    "    for i in range(12):\n",
    "        means[i] = {0:[], 1:[]}\n",
    "        for x in data.keys():\n",
    "            for n in range(2):\n",
    "                means[i][n].append(data[x][i][n])\n",
    "                \n",
    "    for i in means.keys():\n",
    "        for n in range(2):\n",
    "            means[i][n] = pd.concat(means[i][n], axis=1)\n",
    "            means[i][n]['mean'] = means[i][n].mean(axis=1)\n",
    "            means[i][n] = means[i][n]['mean']\n",
    "            \n",
    "    return means"
   ]
  },
  {
   "cell_type": "code",
   "execution_count": null,
   "metadata": {},
   "outputs": [],
   "source": [
    "def null_check(data):\n",
    "    'Function to check for any null values in the aggregated data'\n",
    "    \n",
    "    null_check = {}\n",
    "    for i in data.keys():\n",
    "        nulls = 0\n",
    "        for x in range(12):\n",
    "            for n in range(2):\n",
    "                nulls += data[i][x][n].isnull().sum()\n",
    "\n",
    "        null_check[i] = nulls\n",
    "    \n",
    "    result = pd.DataFrame(null_check).swapaxes(\"index\", \"columns\")\n",
    "    \n",
    "    return result"
   ]
  },
  {
   "cell_type": "code",
   "execution_count": null,
   "metadata": {},
   "outputs": [],
   "source": [
    "def fill_null(data, means):\n",
    "    'Function to fill missing values with the averages of other houses at that time'\n",
    "    \n",
    "    for i in data.keys():\n",
    "        for n in range(12):\n",
    "            for x in range(2):\n",
    "                data[i][n][x][data[i][n][x].isna()] = pd.DataFrame(means[n][x]).values\n",
    "                \n",
    "    return data"
   ]
  },
  {
   "cell_type": "code",
   "execution_count": null,
   "metadata": {},
   "outputs": [],
   "source": [
    "def prep_data(data):\n",
    "    'Function to prepare the data for simulation'\n",
    "    \n",
    "    'Add column to indicate the day of the week'\n",
    "    for i in data:\n",
    "        data[i]['day'] = data[i].index.dayofweek\n",
    "    \n",
    "    agg_data = aggregate_house_data(data)\n",
    "    \n",
    "    mean_data = get_means(agg_data)\n",
    "    \n",
    "    if len(empty_df_check(agg_data)) > 0:\n",
    "        return \"Empty dataframes present\"\n",
    "    \n",
    "    null_count = null_check(agg_data).sum().iloc[0]\n",
    "    \n",
    "    if null_count > 0:\n",
    "        agg_data = fill_null(agg_data, mean_data)\n",
    "        \n",
    "    return agg_data"
   ]
  },
  {
   "cell_type": "code",
   "execution_count": null,
   "metadata": {
    "scrolled": true
   },
   "outputs": [],
   "source": [
    "data = prep_data(df)"
   ]
  },
  {
   "cell_type": "code",
   "execution_count": null,
   "metadata": {},
   "outputs": [],
   "source": [
    "pickle.dump(data, open('aggregated_data.p', 'wb'))"
   ]
  }
 ],
 "metadata": {
  "kernelspec": {
   "display_name": "Python 3",
   "language": "python",
   "name": "python3"
  },
  "language_info": {
   "codemirror_mode": {
    "name": "ipython",
    "version": 3
   },
   "file_extension": ".py",
   "mimetype": "text/x-python",
   "name": "python",
   "nbconvert_exporter": "python",
   "pygments_lexer": "ipython3",
   "version": "3.8.3"
  }
 },
 "nbformat": 4,
 "nbformat_minor": 2
}
