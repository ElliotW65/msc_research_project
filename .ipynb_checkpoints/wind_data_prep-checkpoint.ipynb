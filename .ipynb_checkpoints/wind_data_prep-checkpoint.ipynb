{
 "cells": [
  {
   "cell_type": "code",
   "execution_count": 135,
   "metadata": {},
   "outputs": [],
   "source": [
    "import numpy as np\n",
    "import pandas as pd\n",
    "import datetime as dt\n",
    "import math\n",
    "from datetime import timedelta\n",
    "from dateutil.relativedelta import relativedelta\n",
    "import matplotlib.pyplot as plt\n",
    "from scipy.stats import weibull_min as wei\n",
    "from scipy.special import gamma\n",
    "import scipy.integrate as integrate"
   ]
  },
  {
   "cell_type": "code",
   "execution_count": 2,
   "metadata": {},
   "outputs": [],
   "source": [
    "path = 'C:/Users/Ellio/OneDrive/Documents/Masters/Y2/Dissertation/MSc-Project/data/'\n",
    "file = 'solar_irradiance_edinburgh.csv'\n",
    "filepath = path + file"
   ]
  },
  {
   "cell_type": "code",
   "execution_count": 3,
   "metadata": {},
   "outputs": [
    {
     "data": {
      "text/plain": [
       "'C:/Users/Ellio/OneDrive/Documents/Masters/Y2/Dissertation/MSc-Project/data/solar_irradiance_edinburgh.csv'"
      ]
     },
     "execution_count": 3,
     "metadata": {},
     "output_type": "execute_result"
    }
   ],
   "source": [
    "filepath"
   ]
  },
  {
   "cell_type": "code",
   "execution_count": 4,
   "metadata": {},
   "outputs": [],
   "source": [
    "df = pd.read_csv(filepath)\n",
    "df['time'] = df['time'].apply(lambda x: pd.to_datetime(x[0:4] + \"-\" + x[4:6] + \"-\" + x[6:8] + \" \" + x[9:11] + \":00\"))\n",
    "df.set_index('time', inplace=True)"
   ]
  },
  {
   "cell_type": "code",
   "execution_count": 5,
   "metadata": {
    "scrolled": false
   },
   "outputs": [
    {
     "data": {
      "image/png": "[encoded data removed]",
      "text/plain": [
       "<Figure size 432x288 with 1 Axes>"
      ]
     },
     "metadata": {
      "needs_background": "light"
     },
     "output_type": "display_data"
    }
   ],
   "source": [
    "hist = df['G(i)'].hist(bins=10)"
   ]
  },
  {
   "cell_type": "code",
   "execution_count": 6,
   "metadata": {},
   "outputs": [
    {
     "data": {
      "text/html": [
       "<div>\n",
       "<style scoped>\n",
       "    .dataframe tbody tr th:only-of-type {\n",
       "        vertical-align: middle;\n",
       "    }\n",
       "\n",
       "    .dataframe tbody tr th {\n",
       "        vertical-align: top;\n",
       "    }\n",
       "\n",
       "    .dataframe thead th {\n",
       "        text-align: right;\n",
       "    }\n",
       "</style>\n",
       "<table border=\"1\" class=\"dataframe\">\n",
       "  <thead>\n",
       "    <tr style=\"text-align: right;\">\n",
       "      <th></th>\n",
       "      <th>G(i)</th>\n",
       "      <th>H_sun</th>\n",
       "      <th>T2m</th>\n",
       "      <th>WS10m</th>\n",
       "      <th>Int</th>\n",
       "    </tr>\n",
       "    <tr>\n",
       "      <th>time</th>\n",
       "      <th></th>\n",
       "      <th></th>\n",
       "      <th></th>\n",
       "      <th></th>\n",
       "      <th></th>\n",
       "    </tr>\n",
       "  </thead>\n",
       "  <tbody>\n",
       "    <tr>\n",
       "      <th>2005-01-01 00:00:00</th>\n",
       "      <td>0.0</td>\n",
       "      <td>0.0</td>\n",
       "      <td>6.71</td>\n",
       "      <td>5.66</td>\n",
       "      <td>0</td>\n",
       "    </tr>\n",
       "    <tr>\n",
       "      <th>2005-01-01 01:00:00</th>\n",
       "      <td>0.0</td>\n",
       "      <td>0.0</td>\n",
       "      <td>6.74</td>\n",
       "      <td>5.59</td>\n",
       "      <td>0</td>\n",
       "    </tr>\n",
       "    <tr>\n",
       "      <th>2005-01-01 02:00:00</th>\n",
       "      <td>0.0</td>\n",
       "      <td>0.0</td>\n",
       "      <td>6.66</td>\n",
       "      <td>5.66</td>\n",
       "      <td>0</td>\n",
       "    </tr>\n",
       "    <tr>\n",
       "      <th>2005-01-01 03:00:00</th>\n",
       "      <td>0.0</td>\n",
       "      <td>0.0</td>\n",
       "      <td>6.60</td>\n",
       "      <td>5.72</td>\n",
       "      <td>0</td>\n",
       "    </tr>\n",
       "    <tr>\n",
       "      <th>2005-01-01 04:00:00</th>\n",
       "      <td>0.0</td>\n",
       "      <td>0.0</td>\n",
       "      <td>6.11</td>\n",
       "      <td>5.59</td>\n",
       "      <td>0</td>\n",
       "    </tr>\n",
       "    <tr>\n",
       "      <th>...</th>\n",
       "      <td>...</td>\n",
       "      <td>...</td>\n",
       "      <td>...</td>\n",
       "      <td>...</td>\n",
       "      <td>...</td>\n",
       "    </tr>\n",
       "    <tr>\n",
       "      <th>2020-12-31 19:00:00</th>\n",
       "      <td>0.0</td>\n",
       "      <td>0.0</td>\n",
       "      <td>3.18</td>\n",
       "      <td>3.72</td>\n",
       "      <td>0</td>\n",
       "    </tr>\n",
       "    <tr>\n",
       "      <th>2020-12-31 20:00:00</th>\n",
       "      <td>0.0</td>\n",
       "      <td>0.0</td>\n",
       "      <td>3.01</td>\n",
       "      <td>3.59</td>\n",
       "      <td>0</td>\n",
       "    </tr>\n",
       "    <tr>\n",
       "      <th>2020-12-31 21:00:00</th>\n",
       "      <td>0.0</td>\n",
       "      <td>0.0</td>\n",
       "      <td>2.81</td>\n",
       "      <td>3.45</td>\n",
       "      <td>0</td>\n",
       "    </tr>\n",
       "    <tr>\n",
       "      <th>2020-12-31 22:00:00</th>\n",
       "      <td>0.0</td>\n",
       "      <td>0.0</td>\n",
       "      <td>2.62</td>\n",
       "      <td>3.38</td>\n",
       "      <td>0</td>\n",
       "    </tr>\n",
       "    <tr>\n",
       "      <th>2020-12-31 23:00:00</th>\n",
       "      <td>0.0</td>\n",
       "      <td>0.0</td>\n",
       "      <td>2.25</td>\n",
       "      <td>3.31</td>\n",
       "      <td>0</td>\n",
       "    </tr>\n",
       "  </tbody>\n",
       "</table>\n",
       "<p>140256 rows × 5 columns</p>\n",
       "</div>"
      ],
      "text/plain": [
       "                     G(i)  H_sun   T2m  WS10m  Int\n",
       "time                                              \n",
       "2005-01-01 00:00:00   0.0    0.0  6.71   5.66    0\n",
       "2005-01-01 01:00:00   0.0    0.0  6.74   5.59    0\n",
       "2005-01-01 02:00:00   0.0    0.0  6.66   5.66    0\n",
       "2005-01-01 03:00:00   0.0    0.0  6.60   5.72    0\n",
       "2005-01-01 04:00:00   0.0    0.0  6.11   5.59    0\n",
       "...                   ...    ...   ...    ...  ...\n",
       "2020-12-31 19:00:00   0.0    0.0  3.18   3.72    0\n",
       "2020-12-31 20:00:00   0.0    0.0  3.01   3.59    0\n",
       "2020-12-31 21:00:00   0.0    0.0  2.81   3.45    0\n",
       "2020-12-31 22:00:00   0.0    0.0  2.62   3.38    0\n",
       "2020-12-31 23:00:00   0.0    0.0  2.25   3.31    0\n",
       "\n",
       "[140256 rows x 5 columns]"
      ]
     },
     "execution_count": 6,
     "metadata": {},
     "output_type": "execute_result"
    }
   ],
   "source": [
    "df"
   ]
  },
  {
   "cell_type": "code",
   "execution_count": 7,
   "metadata": {
    "scrolled": true
   },
   "outputs": [],
   "source": [
    "wind = pd.DataFrame(df['WS10m'])"
   ]
  },
  {
   "cell_type": "code",
   "execution_count": 8,
   "metadata": {},
   "outputs": [],
   "source": [
    "def increment_month(date):\n",
    "    if (date + timedelta(1)).month == date.month:\n",
    "        return date + relativedelta(months=1)\n",
    "    return (date + relativedelta(months=2)).replace(day=1) - timedelta(1)"
   ]
  },
  {
   "cell_type": "code",
   "execution_count": 9,
   "metadata": {},
   "outputs": [],
   "source": [
    "def reformat_wind_data(data):\n",
    "    'Funciton to remort the data to be catergorised into months days and years'\n",
    "    \n",
    "    result = {}\n",
    "    \n",
    "    start = dt.datetime(2005, 1, 1, 0)\n",
    "    end = dt.datetime(2005, 1, 1, 23)\n",
    "    month = dt.datetime(2005, 1, 31, 23)\n",
    "    \n",
    "    frames = []\n",
    "    \n",
    "    for i in range(12):\n",
    "        result[i] = []\n",
    "\n",
    "        temp_start = start\n",
    "        temp_end = end\n",
    "        temp_month = month\n",
    "\n",
    "        \n",
    "        for x in range(16):\n",
    "            \n",
    "            s = temp_start\n",
    "            e = temp_end\n",
    "            \n",
    "            for n in range(temp_month.day):\n",
    "                \n",
    "                temp_df = data[s:e].copy()\n",
    "                temp_df = temp_df.reset_index()\n",
    "                temp_df = temp_df.rename(columns = {'G(i)': s.date()})\n",
    "                temp_df = temp_df.drop(['time'], axis=1)\n",
    "               #print(temp_df)\n",
    "                temp_df= temp_df.swapaxes(\"index\", \"columns\")\n",
    "                \n",
    "                #print(temp_df)\n",
    "                \n",
    "                result[i].append(temp_df)\n",
    "                \n",
    "                s += relativedelta(days=1)\n",
    "                e += relativedelta(days=1)\n",
    "\n",
    "            \n",
    "            temp_start += relativedelta(years=1)\n",
    "            temp_end += relativedelta(years=1)\n",
    "            temp_month += relativedelta(years=1)\n",
    "            \n",
    "        start = increment_month(start)\n",
    "        end = increment_month(end)\n",
    "        month = increment_month(month)\n",
    "        \n",
    "    return result\n",
    "            \n",
    "        \n",
    "    "
   ]
  },
  {
   "cell_type": "code",
   "execution_count": 10,
   "metadata": {},
   "outputs": [],
   "source": [
    "def concat_months(data):\n",
    "    'Function to concatenate the monthly dataframes into one dataframe'\n",
    "    \n",
    "    for i in data:\n",
    "        data[i] = pd.concat(data[i], axis=0)\n",
    "        \n",
    "    return data"
   ]
  },
  {
   "cell_type": "code",
   "execution_count": 11,
   "metadata": {
    "scrolled": true
   },
   "outputs": [],
   "source": [
    "result = reformat_wind_data(wind)"
   ]
  },
  {
   "cell_type": "code",
   "execution_count": 12,
   "metadata": {},
   "outputs": [],
   "source": [
    "final = concat_months(result)"
   ]
  },
  {
   "cell_type": "code",
   "execution_count": null,
   "metadata": {},
   "outputs": [],
   "source": []
  },
  {
   "cell_type": "code",
   "execution_count": 184,
   "metadata": {},
   "outputs": [],
   "source": [
    "def get_wind_value(data, month, hour):\n",
    "    'Function to return the expected value from the beta distribution generated using historic data'\n",
    "    \n",
    "    cut = data[month][hour]\n",
    "    \n",
    "    sd = cut.std()\n",
    "    \n",
    "    mean = cut.mean()\n",
    "    \n",
    "    shape = (sd/mean)**-1.086\n",
    "    \n",
    "    scale = mean/gamma(1+1/shape)\n",
    "    \n",
    "    result = wei.mean(shape, scale=scale)\n",
    "    \n",
    "    rs = wei.rvs(shape, scale=scale)\n",
    "    \n",
    "    return rs\n"
   ]
  },
  {
   "cell_type": "code",
   "execution_count": 178,
   "metadata": {},
   "outputs": [],
   "source": [
    "output = get_wind_value(final, 10, 15)"
   ]
  },
  {
   "cell_type": "code",
   "execution_count": 180,
   "metadata": {},
   "outputs": [],
   "source": [
    "test = []\n",
    "for i in range(1000):\n",
    "    test.append(get_wind_value(final, 10, 15))"
   ]
  },
  {
   "cell_type": "code",
   "execution_count": 183,
   "metadata": {},
   "outputs": [
    {
     "data": {
      "text/plain": [
       "(array([ 63., 178., 240., 225., 144.,  93.,  42.,  12.,   1.,   2.]),\n",
       " array([ 0.03580966,  1.23494144,  2.43407321,  3.63320499,  4.83233677,\n",
       "         6.03146855,  7.23060032,  8.4297321 ,  9.62886388, 10.82799566,\n",
       "        12.02712743]),\n",
       " <a list of 10 Patch objects>)"
      ]
     },
     "execution_count": 183,
     "metadata": {},
     "output_type": "execute_result"
    },
    {
     "data": {
      "image/png": "[encoded data removed]",
      "text/plain": [
       "<Figure size 432x288 with 1 Axes>"
      ]
     },
     "metadata": {
      "needs_background": "light"
     },
     "output_type": "display_data"
    }
   ],
   "source": [
    "test=np.sort(test)\n",
    "plt.hist(test)"
   ]
  },
  {
   "cell_type": "code",
   "execution_count": null,
   "metadata": {},
   "outputs": [],
   "source": []
  },
  {
   "cell_type": "code",
   "execution_count": null,
   "metadata": {},
   "outputs": [],
   "source": []
  },
  {
   "cell_type": "code",
   "execution_count": null,
   "metadata": {},
   "outputs": [],
   "source": []
  },
  {
   "cell_type": "code",
   "execution_count": null,
   "metadata": {},
   "outputs": [],
   "source": []
  },
  {
   "cell_type": "code",
   "execution_count": null,
   "metadata": {},
   "outputs": [],
   "source": []
  },
  {
   "cell_type": "code",
   "execution_count": null,
   "metadata": {},
   "outputs": [],
   "source": []
  },
  {
   "cell_type": "code",
   "execution_count": 171,
   "metadata": {},
   "outputs": [
    {
     "data": {
      "text/plain": [
       "2.164092322105981"
      ]
     },
     "execution_count": 171,
     "metadata": {},
     "output_type": "execute_result"
    }
   ],
   "source": [
    "shape"
   ]
  },
  {
   "cell_type": "code",
   "execution_count": 172,
   "metadata": {},
   "outputs": [
    {
     "data": {
      "text/plain": [
       "4.488795086792658"
      ]
     },
     "execution_count": 172,
     "metadata": {},
     "output_type": "execute_result"
    }
   ],
   "source": [
    "scale"
   ]
  },
  {
   "cell_type": "code",
   "execution_count": 115,
   "metadata": {},
   "outputs": [],
   "source": [
    "data = final[6][12]"
   ]
  },
  {
   "cell_type": "code",
   "execution_count": 71,
   "metadata": {},
   "outputs": [
    {
     "data": {
      "text/plain": [
       "3.7572991071428565"
      ]
     },
     "execution_count": 71,
     "metadata": {},
     "output_type": "execute_result"
    }
   ],
   "source": [
    "mean"
   ]
  },
  {
   "cell_type": "code",
   "execution_count": null,
   "metadata": {},
   "outputs": [],
   "source": []
  },
  {
   "cell_type": "code",
   "execution_count": null,
   "metadata": {},
   "outputs": [],
   "source": [
    "samples = "
   ]
  },
  {
   "cell_type": "code",
   "execution_count": 87,
   "metadata": {},
   "outputs": [],
   "source": [
    "for i in data:\n",
    "    cdf1.append(-scale*math.log(i)**1/shape)"
   ]
  },
  {
   "cell_type": "code",
   "execution_count": 174,
   "metadata": {},
   "outputs": [],
   "source": [
    "inv1 = []\n",
    "for i in range(1000):\n",
    "    #print(i)\n",
    "    #inv.append(scale * (-math.log(1-i))**1/shape)\n",
    "    inv1.append(wei.rvs(shape, scale=scale))"
   ]
  },
  {
   "cell_type": "code",
   "execution_count": 175,
   "metadata": {
    "scrolled": true
   },
   "outputs": [
    {
     "data": {
      "text/plain": [
       "[<matplotlib.lines.Line2D at 0x24ccbdf1b50>]"
      ]
     },
     "execution_count": 175,
     "metadata": {},
     "output_type": "execute_result"
    },
    {
     "data": {
      "image/png": "[encoded data removed]",
      "text/plain": [
       "<Figure size 432x288 with 1 Axes>"
      ]
     },
     "metadata": {
      "needs_background": "light"
     },
     "output_type": "display_data"
    }
   ],
   "source": [
    "inv1 = np.sort(inv1)\n",
    "plt.plot(inv1)"
   ]
  },
  {
   "cell_type": "code",
   "execution_count": 176,
   "metadata": {},
   "outputs": [
    {
     "data": {
      "text/plain": [
       "(array([ 79., 159., 198., 200., 174., 106.,  43.,  29.,   8.,   4.]),\n",
       " array([ 0.33669127,  1.3990966 ,  2.46150192,  3.52390725,  4.58631257,\n",
       "         5.6487179 ,  6.71112322,  7.77352855,  8.83593387,  9.8983392 ,\n",
       "        10.96074452]),\n",
       " <a list of 10 Patch objects>)"
      ]
     },
     "execution_count": 176,
     "metadata": {},
     "output_type": "execute_result"
    },
    {
     "data": {
      "image/png": "[encoded data removed]",
      "text/plain": [
       "<Figure size 432x288 with 1 Axes>"
      ]
     },
     "metadata": {
      "needs_background": "light"
     },
     "output_type": "display_data"
    }
   ],
   "source": [
    "plt.hist(inv1)"
   ]
  },
  {
   "cell_type": "code",
   "execution_count": 72,
   "metadata": {},
   "outputs": [],
   "source": [
    "results = []\n",
    "\n",
    "for i in range(12):\n",
    "    results.append(get_wind_value(final, i, 4)[2])"
   ]
  },
  {
   "cell_type": "code",
   "execution_count": 73,
   "metadata": {},
   "outputs": [
    {
     "data": {
      "text/plain": [
       "[4.160967741935484,\n",
       " 3.7572991071428565,\n",
       " 3.6183669354838703,\n",
       " 3.0078333333333314,\n",
       " 2.7864112903225835,\n",
       " 2.456729166666666,\n",
       " 2.535100806451614,\n",
       " 2.816713709677419,\n",
       " 3.274854166666668,\n",
       " 3.483810483870969,\n",
       " 3.764541666666669,\n",
       " 3.9528629032258062]"
      ]
     },
     "execution_count": 73,
     "metadata": {},
     "output_type": "execute_result"
    }
   ],
   "source": [
    "results"
   ]
  },
  {
   "cell_type": "code",
   "execution_count": 167,
   "metadata": {},
   "outputs": [],
   "source": [
    "test = [0.852, 2.083, 2.915, 4.788, 2.305, 1.972, 2.401, 2.059, 4.934, 3.342, 2.989, 5.353, 3.213, 3.078, 3.504, 2.675, 3.067, 1.327, 5.16, 2.46, 3.23, 5.02, 3.156, 4.273, 3.818, 4.011, 3.018, 1.849, 5.06, 4.743, 4.93, 3.893, 1.96, 1.898, 0.841, 1.567, 4.319, 4.852, 1.341, 2.49, 2.489, 7.408, 2.989, 3.234, 2.222, 2.524, 4.891, 4.106, 4.307, 10.175, 2.514, 1.09, 1.721, 3.999, 1.975, 6.004, 1.692, 4.107, 6.486, 3.694, 1.929, 0.912, 2.507, 1.536, 3.032, 4.51, 4.062, 3.312, 5.537, 2.374, 2.449, 4.293, 3.351, 3.74, 5.45, 3.94, 7.584, 8.018, 3.129, 2.668, 5.857, 1.845, 2.505, 1.401, 6.28, 5.827, 2.488, 4.128, 6.597, 5.687, 4.419, 5.913, 2.266, 3.068, 4.566, 4.33, 6.275, 3.288, 4.423, 2.883, 4.203, 2.026, 1.619, 3.415, 6.771, 5.796, 5.431, 4.386, 6.341, 5.924, 4.118, 1.593, 4.079, 4.924, 3.042, 5.612, 2.894, 4.533, 2.069, 3.932, 3.8, 3.324, 5.15, 8.051, 4.393, 3.184, 1.614, 7.802, 4.479, 4.201, 2.829, 1.737, 1.286, 5.774, 4.505, 2.894, 4.514, 2.385, 3.256, 6.68, 5.157, 2.132, 2.418, 0.601, 2.22, 4.475, 3.302, 3.437, 1.964, 5.011, 1.249, 4.59, 4.462, 4.856, 3.15, 1.562, 7.204, 3.664, 2.896, 3.392, 3.021, 2.554, 5.678, 5.353, 4.778, 4.076, 3.413, 3.917, 2.624, 4.365, 6.959, 5.382, 4.401, 2.727, 8.637, 6.663, 2.622, 2.433, 4.236, 3.917, 4.824, 4.706, 3.031, 8.103, 2.828, 2.862, 4.145, 5.444, 3.278, 4.905, 3.685, 6.933, 4.685, 2.719, 5.334, 2.25, 6.743, 1.477, 2.742, 3.285, 3.906, 4.581, 2.402, 3.559, 5.013, 1.291, 1.625, 3.451, 1.033, 3.154, 5.094, 3.554, 5.995, 3.814, 1.519, 4.06, 5.13, 2.58, 4.946, 3.175, 3.199, 6.371, 8.197, 7.718, 2.957, 2.817, 2.677, 5.336, 5.777, 5.306, 3.349, 4.558, 5.593, 4.471, 2.377, 3.386, 1.639, 3.441, 5.368, 2.5, 1.919, 4.906, 2.438, 3.808, 1.532, 6.016, 2.634, 1.975, 2.202, 1.672, 2.308, 0.583, 1.462, 3.588, 1.465, 2.759, 4.742, 4.515, 2.504, 0.62, 2.271, 4.162, 6.589, 5.423, 3.811, 3.368, 2.401, 5.939, 2.21, 1.986, 3.529, 2.907, 2.826, 5.049, 6.958, 5.327, 2.566, 6.441, 8.358, 3.775, 1.501, 3.711, 4.704, 3.89, 3.212, 1.075, 2.496, 4.226, 5.042, 4.324, 1.711, 1.807, 4.83, 5.822, 2.383, 1.907, 4.167, 4.163, 3.935, 5.153, 1.052, 5.236, 2.769, 2.554, 3.86, 5.698, 2.291, 4.134, 6.02, 3.443, 3.823, 7.32, 1.841, 3.709, 4.38, 5.031, 1.606, 2.654, 3.543, 6.404, 2.004, 1.893, 2.812, 3.401, 2.102, 2.481, 1.775, 5.169, 4.458, 4.476, 3.901, 3.643, 3.25, 3.044, 3.443, 5.931, 7.316, 5.608, 3.139, 3.393, 3.685, 2.968, 5.618, 2.152, 4.418, 1.138, 4.712, 0.796, 6.597, 4.036, 6.929, 2.172, 4.175, 4.148, 5.469, 2.013, 2.622, 2.74, 4.111, 4.436, 5.412, 3.466, 4.137, 3.882, 1.698, 2.152, 1.119, 5.383, 4.647, 2.211, 2.484, 1.203, 3.157, 5.206, 4.165, 3.398, 5.026, 4.018, 2.201, 3.039, 0.837, 4.294, 1.463, 4.897, 2.314, 6.366, 3.238, 1.87, 4.856, 2.065, 0.676, 0.894, 1.404, 3.464, 5.343, 6.4, 5.02, 4.95, 5.949, 4.183, 5.338, 6.046, 2.875, 5.698, 8.086, 2.238, 7.075, 2.711, 4.482, 2.74, 4.631, 2.747, 3.767, 1.967, 2.881, 4.592, 4.531, 4.38, 1.702, 4.596, 2.533, 5.495, 3.261, 2.336, 6.977, 4.742, 2.379, 5.793, 2.005, 5.993, 1.815, 4.098, 3.228, 5.646, 3.352, 1.618, 2.271, 5.6, 3.061, 4.401, 3.687, 8.073, 4.859, 3.424, 6.078, 0.523, 5.508, 6.499, 3.898, 2.309, 4.07, 1.78, 2.781, 2.643, 7.185, 3.929, 2.53, 4.691, 2.31, 1.609, 1.675, 4.518, 1.899, 4.286, 4.531, 4.406, 2.928, 5.262, 3.133, 5.155, 6.031, 2.416, 3.324, 3.73, 3.171, 5.337, 1.45, 0.685, 3.412, 2.214, 4.528, 4.103, 4.26, 3.83, 1.329, 3.957, 3.946, 3.612, 2.003, 2.698, 4.585, 2.612, 2.099, 4.449, 5.164, 4.76, 5.345, 4.817, 1.07, 7.2, 0.166, 2.693, 4.942, 2.009, 4.053, 2.441, 4.202, 3.579, 2.992, 5.718, 4.927, 3.38, 7.152, 4.522, 0.225, 6.446, 3.305, 2.94, 0.843, 4.344, 3.05, 0.364, 2.988, 5.103, 1.874, 3.235, 5.239, 2.312, 3.039, 0.474, 4.505, 1.8, 2.581, 3.582, 2.535, 1.633, 2.109, 0.698, 2.623, 4.028, 4.26, 3.498, 4.783, 3.772, 0.772, 4.859, 7.682, 1.07, 2.916, 2.619, 2.202, 1.808, 1.573, 1.566, 3.138, 4.357, 8.155, 3.041, 2.015, 3.156, 5.058, 2.571, 3.016, 2.065, 2.8, 3.361, 1.016, 2.352, 2.205, 4.508, 3.93, 3.398, 4.249, 6.477, 5.784, 4.389, 6.9, 0.704, 3.881, 3.829, 4.26, 6.178, 1.261, 3.288, 2.396, 4.189, 4.396, 3.71, 4.999, 6.059, 2.485, 4.84, 3.199, 3.873, 3.462, 6.739, 4.146, 3.799, 5.064, 1.229, 2.608, 7.047, 3.87, 3.782, 6.931, 1.706, 5.055, 5.895, 2.007, 3.592, 0.736, 5.13, 2.381, 3.564, 6.457, 2.431, 3.102, 1.697, 3.469, 2.482, 4.214, 0.828, 3.31, 0.973, 2.31, 2.623, 4.179, 5.608, 1.428, 3.574, 4.505, 6.806, 2.829, 1.915, 2.586, 4.751, 3.598, 2.572, 2.591, 2.01, 4.492, 4.234, 4.437, 3.642, 5.711, 2.197, 0.394, 4.307, 2.155, 3.578, 4.43, 2.742, 1.519, 2.373, 5.53, 3.059, 1.519, 4.332, 2.344, 3.496, 4.214, 3.881, 2.527, 4.566, 5.047, 3.682, 1.412, 3.883, 3.509, 3.524, 4.631, 6.989, 8.524, 3.037, 6.58, 2.338, 0.398, 0.484, 3.95, 5.741, 5.925, 1.593, 4.713, 1.462, 3.63, 5.221, 4.6, 3.842, 4.397, 3.431, 6.199, 3.699, 5.587, 2.473, 5.793, 5.458, 1.829, 4.185, 3.76, 1.337, 5.155, 2.569, 4.129, 3.554, 2.731, 4.803, 3.608, 6.697, 3.6, 3.634, 7.136, 2.034, 5.121, 4.538, 5.809, 3.334, 0.832, 6.905, 5.925, 3.167, 4.016, 3.162, 5.003, 3.629, 3.901, 2.981, 3.423, 3.592, 4.019, 4.484, 5.202, 4.434, 1.425, 2.692, 1.604, 3.738, 3.684, 2.503, 4.981, 1.187, 2.815, 4.684, 5.988, 2.509, 3.18, 1.239, 4.083, 2.039, 7.357, 4.398, 2.79, 5.023, 1.024, 4.961, 5.018, 4.611, 2.98, 3.762, 2.771, 0.518, 5.427, 3.746, 2.665, 4.23, 7.297, 5.258, 4.395, 3.377, 2.398, 3.62, 5.131, 4.123, 3.262, 1.175, 6.557, 5.229, 2.189, 3.479, 4.679, 3.518, 5.13, 3.909, 3.892, 7.313, 5.286, 2.954, 5.29, 2.048, 1.302, 2.274, 5.211, 3.652, 2.291, 2.261, 4.488, 4.426, 5.436, 1.257, 2.738, 5.685, 3.105, 1.019, 3.289, 2.452, 2.137, 4.401, 4.326, 2.299, 5.761, 5.574, 3.612, 3.219, 3.277, 2.718, 2.963, 3.321, 3.139, 4.819, 0.915, 3.561, 5.061, 2.374, 3.064, 4.694, 4.084, 3.717, 2.993, 3.161, 5.971, 1.804, 5.309, 1.826, 5.098, 4.752, 5.794, 4.59, 2.79, 2.624, 3.676, 0.775, 3.851, 2.28, 0.259, 6.581, 1.765, 3.16, 5.477, 1.318, 6.35, 7.111, 4.433, 5.258, 3.34, 2.875, 3.054, 4.633, 2.175, 4.574, 2.587, 4.155, 6.534, 1.937, 0.86, 1.397, 3.015, 2.196, 6.449, 7.179, 5.933, 2.078, 3.52, 3.119, 4.287, 6.098, 6.184, 5.855, 4.134, 3.594, 3.553, 2.07, 2.719, 4.147, 5.435, 4.42, 2.165, 3.573, 2.14, 3.335, 5.823, 4.653, 1.846, 2.363, 6.278, 3.306, 1.58, 5.959, 5.389, 2.92, 3.249, 1.923, 3.137, 5.796, 5.763, 3.454, 3.988, 2.748, 3.896, 2.996, 1.183, 3.808, 0.622, 5.104, 4.433, 5.46, 1.956, 4.777, 6.728, 0.809, 2.204, 4.079, 5.625, 2.514, 2.76, 3.937, 1.658, 3.722, 7.12, 3.395, 3.064, 2.796, 5.898, 4.6, 2.406, 2.063, 4.2, 5.236, 3.978, 1.982, 2.209, 3.246, 4.901, 1.964, 0.855, 3.577, 1.999, 2.846, 1.293, 2.275, 5.996, 5.085, 3.436, 6.923, 2.247, 1.009, 5.239, 3.054, 2.129, 0.677, 4.089, 5.192, 6.229, 5.654, 4.549, 4.917, 3.507, 2.692, 4.97, 5.031, 1.862, 4.274, 2.411, 3.317, 2.401, 5.526, 2.593, 3.477, 4.34, 3.466, 5.307, 4.679, 2.615, 1.422, 0.88, 4.325, 5.944, 4.651, 2.354, 4.869, 4.968, 5.223, 4.224, 5.688, 5.268, 3.021, 5.344, 2.745, 0.508, 2.566, 5.465, 1.615]"
   ]
  },
  {
   "cell_type": "code",
   "execution_count": 168,
   "metadata": {},
   "outputs": [
    {
     "data": {
      "text/plain": [
       "[<matplotlib.lines.Line2D at 0x24ccbcd0490>]"
      ]
     },
     "execution_count": 168,
     "metadata": {},
     "output_type": "execute_result"
    },
    {
     "data": {
      "image/png": "[encoded data removed]",
      "text/plain": [
       "<Figure size 432x288 with 1 Axes>"
      ]
     },
     "metadata": {
      "needs_background": "light"
     },
     "output_type": "display_data"
    }
   ],
   "source": [
    "test = np.sort(test)\n",
    "plt.plot(test)"
   ]
  },
  {
   "cell_type": "code",
   "execution_count": null,
   "metadata": {},
   "outputs": [],
   "source": []
  }
 ],
 "metadata": {
  "kernelspec": {
   "display_name": "Python 3",
   "language": "python",
   "name": "python3"
  },
  "language_info": {
   "codemirror_mode": {
    "name": "ipython",
    "version": 3
   },
   "file_extension": ".py",
   "mimetype": "text/x-python",
   "name": "python",
   "nbconvert_exporter": "python",
   "pygments_lexer": "ipython3",
   "version": "3.8.3"
  }
 },
 "nbformat": 4,
 "nbformat_minor": 4
}
