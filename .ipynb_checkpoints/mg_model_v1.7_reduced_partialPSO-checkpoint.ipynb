{
 "cells": [
  {
   "cell_type": "code",
   "execution_count": null,
   "metadata": {},
   "outputs": [],
   "source": [
    "import pickle\n",
    "import mesa\n",
    "import mesa.time\n",
    "import numpy as np\n",
    "import pandas as pd\n",
    "import random\n",
    "import matplotlib.pyplot as plt\n",
    "import networkx as nx\n",
    "import math\n",
    "\n",
    "from scipy.stats import beta\n",
    "from scipy.stats import weibull_min as wei\n",
    "from scipy.special import gamma\n",
    "import geopandas as gp\n",
    "from mesa.space import NetworkGrid\n",
    "from shapely.geometry import Point\n",
    "\n",
    "import pyswarms as ps\n",
    "from pyswarms.utils.functions import single_obj as fx\n",
    "\n",
    "import pymoo\n",
    "from pymoo.algorithms.soo.nonconvex.pso import PSO, PSOAnimation\n",
    "from pymoo.optimize import minimize\n",
    "from pymoo.core.problem import Problem\n",
    "from pymoo.core.problem import ElementwiseProblem\n",
    "from pymoo.termination import get_termination\n",
    "from pymoo.termination.default import DefaultSingleObjectiveTermination\n",
    "from pymoo.operators.crossover.sbx import SBX\n",
    "from pymoo.operators.mutation.pm import PM\n",
    "from pymoo.operators.repair.rounding import RoundingRepair\n",
    "\n",
    "import os\n",
    "os.environ['NUMEXPR_MAX_THREADS'] = '1000'\n",
    "import time\n",
    "\n",
    "\n",
    "from pymoo.algorithms.moo.nsga2 import NSGA2\n",
    "from pymoo.visualization.scatter import Scatter"
   ]
  },
  {
   "cell_type": "code",
   "execution_count": null,
   "metadata": {},
   "outputs": [],
   "source": [
    "df = pickle.load(open(\"D:/Documents/MSc Project/data/aggregated_data.p\", 'rb'))"
   ]
  },
  {
   "cell_type": "code",
   "execution_count": null,
   "metadata": {},
   "outputs": [],
   "source": [
    "solar_data = pickle.load(open(\"D:/Documents/MSc Project/data/solar_data.p\", 'rb'))"
   ]
  },
  {
   "cell_type": "code",
   "execution_count": null,
   "metadata": {},
   "outputs": [],
   "source": [
    "wind_data = pickle.load(open(\"D:/Documents/MSc Project/data/wind_data.p\", 'rb'))"
   ]
  },
  {
   "cell_type": "code",
   "execution_count": 5,
   "metadata": {},
   "outputs": [],
   "source": [
    "gas_price_data = pd.read_csv(\"D:/Documents/MSc Project/data/ng_prices.csv\")"
   ]
  },
  {
   "cell_type": "code",
   "execution_count": 6,
   "metadata": {},
   "outputs": [],
   "source": [
    "G = nx.read_gpickle(\"D:/Documents/MSc Project/data/graph.p\")"
   ]
  },
  {
   "cell_type": "code",
   "execution_count": 7,
   "metadata": {},
   "outputs": [],
   "source": [
    "nodes = {0: {\"type\": \"home\"},\n",
    "             1: {\"type\": \"leisure\"},\n",
    "             2: {\"type\": \"work\"},\n",
    "             3: {\"type\": \"other\"},\n",
    "             4: {\"type\": \"leisure\"},\n",
    "             5: {\"type\": \"work\"}}"
   ]
  },
  {
   "cell_type": "code",
   "execution_count": 8,
   "metadata": {},
   "outputs": [],
   "source": [
    "edges = {(0, 1):{\"weight\": 4},\n",
    "        (0, 3):{\"weight\": 4},\n",
    "        (0, 2):{\"weight\": 3},\n",
    "        (0, 4):{\"weight\": 3},\n",
    "        (0, 5):{\"weight\": 5},\n",
    "        (1, 3):{\"weight\": 3},\n",
    "        (4, 2):{\"weight\": 4},\n",
    "        (5, 4):{\"weight\": 2},\n",
    "        (5, 2):{\"weight\": 2}}"
   ]
  },
  {
   "cell_type": "code",
   "execution_count": 9,
   "metadata": {},
   "outputs": [],
   "source": [
    "nx.set_node_attributes(G, nodes)"
   ]
  },
  {
   "cell_type": "code",
   "execution_count": 10,
   "metadata": {},
   "outputs": [],
   "source": [
    "nx.set_edge_attributes(G, edges)"
   ]
  },
  {
   "cell_type": "code",
   "execution_count": 11,
   "metadata": {},
   "outputs": [],
   "source": [
    "activities = {\"Home\": {\"node\": \"home\", \"time\" : 0},\n",
    "             \"Shopping\": {\"node\": \"leisure\", \"time\" : 2},\n",
    "             \"Other\": {\"node\": \"other\", \"time\" : 1},\n",
    "             \"Sport\": {\"node\": \"leisure\", \"time\" : 2},\n",
    "             \"Work1\": {\"node\": \"work\", \"time\" : 4},\n",
    "             \"Work2\": {\"node\": \"work\", \"time\" : 4},\n",
    "             \"Food\": {\"node\": \"leisure\", \"time\" : 1}}"
   ]
  },
  {
   "cell_type": "code",
   "execution_count": 12,
   "metadata": {},
   "outputs": [],
   "source": [
    "class RESAgent(mesa.Agent):\n",
    "    \n",
    "    'An agent for the renewable energy sources in the microgrid.'\n",
    "    \n",
    "    def __init__(self, model,pv_size, num_wt):\n",
    "        super().__init__(self, model)\n",
    "        \n",
    "        self.month = self.model.month\n",
    "        self.day = self.model.day\n",
    "        self.hour = self.model.hour\n",
    "        \n",
    "        self.solar_data = None\n",
    "        self.wind_data = None\n",
    "        self.name = \"RES_Agent\"\n",
    "        self.num_panels = pv_size\n",
    "        self.panel_size = 1.76774\n",
    "        self.panel_efficiency = 0.26\n",
    "        \n",
    "        self.wt_rated_power = 5.6\n",
    "        self.wt_rated_ws = 11\n",
    "        self.wt_cut_in = 2.5\n",
    "        self.wt = num_wt\n",
    "        self.num_agents = self.model.num_agents\n",
    "        \n",
    "    def update_params(self):\n",
    "        'Function to update the month, day and hour parameters'\n",
    "        self.month = self.model.month\n",
    "        self.day = self.model.day\n",
    "        self.hour = self.model.hour\n",
    "        \n",
    "    def update_solar_and_wind_data(self):\n",
    "        'Function to update the data in the time step'\n",
    "\n",
    "        self.solar_data = self.model.solar_data[self.month][self.hour]\n",
    "        self.wind_data = self.model.wind_data[self.month][self.hour]\n",
    "        \n",
    "    def get_solar_value(self):\n",
    "        'Function to return the expected value from the beta distribution generated using historic data'\n",
    "\n",
    "        cut = self.solar_data\n",
    "        \n",
    "        if not cut.sum() > 0:\n",
    "            return 0\n",
    "\n",
    "        norm_max = cut.max()\n",
    "        norm_min= cut.min()\n",
    "\n",
    "        'Normalise the data with min max normalisation'\n",
    "        cut = (cut - norm_min) / (norm_max - norm_min)\n",
    "\n",
    "        mean = cut.mean()\n",
    "        sd = cut.std()\n",
    "        \n",
    "        if mean < 0.025:\n",
    "            return 0\n",
    "\n",
    "        b = (1-mean)*((mean*(1+mean)/(sd**2))-1)\n",
    "        a = mean*b/1-mean\n",
    "\n",
    "        result = beta.rvs(a,b)\n",
    "\n",
    "        'Reverse normalisation to get value in W/m2'\n",
    "        result = result * (norm_max - norm_min) + norm_min\n",
    "\n",
    "        return result\n",
    "    \n",
    "    def get_wind_value(self):\n",
    "        'Function to return the expected value from the beta distribution generated using historic data'\n",
    "\n",
    "        cut = self.wind_data\n",
    "\n",
    "        sd = cut.std()\n",
    "\n",
    "        mean = cut.mean()\n",
    "\n",
    "        shape = (sd/mean)**-1.086\n",
    "\n",
    "        scale = mean/gamma(1+1/shape)\n",
    "\n",
    "        rs = wei.rvs(shape, scale=scale)\n",
    "\n",
    "        return rs\n",
    "    \n",
    "    def get_wt_output(self, ws):\n",
    "        'Function to calculate the output of the wind turbine given the input wind speed'\n",
    "        \n",
    "        power = 0\n",
    "        \n",
    "        if ws < self.wt_cut_in:\n",
    "            return 0\n",
    "        elif ws > self.wt_cut_in and ws < self.wt_rated_ws:\n",
    "            return ((ws-self.wt_cut_in)/(self.wt_rated_ws - self.wt_cut_in))\n",
    "        elif ws >= self.wt_rated_ws:\n",
    "            return self.wt_rated_power\n",
    "        else:\n",
    "            return \"Error\"\n",
    "    \n",
    "        \n",
    "    def step(self):\n",
    "        self.update_params()\n",
    "        self.update_solar_and_wind_data()\n",
    "        irr = self.get_solar_value()\n",
    "        wind_speed = self.get_wind_value()\n",
    "        wt_gen = self.get_wt_output(wind_speed)*self.wt\n",
    "        pv_gen = ((irr * self.panel_size * self.panel_efficiency)*self.num_panels)/1000\n",
    "        self.model.schedule.agents[self.num_agents].update_pv(pv_gen)\n",
    "        self.model.schedule.agents[self.num_agents].update_wt(wt_gen)\n",
    "        self.model.solar_gen[self.month][self.day].append(pv_gen)\n",
    "        self.model.wind_gen[self.month][self.day].append(wt_gen)\n"
   ]
  },
  {
   "cell_type": "code",
   "execution_count": 13,
   "metadata": {},
   "outputs": [],
   "source": [
    "class DGAgent(mesa.Agent):\n",
    "    \n",
    "    'An agent for the non-renewable energy sources in the microgrid.'\n",
    "    \n",
    "    def __init__(self, model,pv_size, num_wt):\n",
    "        super().__init__(self, model)\n",
    "        self.month = self.model.month\n",
    "        self.day = self.model.day\n",
    "        self.hour = self.model.hour\n",
    "        self.name = \"DG_Agent\"\n",
    "        self.num_agents = self.model.num_agents\n",
    "        \n",
    "    def fuel_consumption(self, price, power):\n",
    "        'Function to calculate the cost of fuel used by the fuel cell'\n",
    "        return price*power/0.56\n"
   ]
  },
  {
   "cell_type": "code",
   "execution_count": 14,
   "metadata": {},
   "outputs": [],
   "source": [
    "class BatteryAgent(mesa.Agent):\n",
    "    \n",
    "    'An agent to control the battery.'\n",
    "    \n",
    "    def __init__(self, model, capacity):\n",
    "        super().__init__(self, model)\n",
    "        self.month = self.model.month\n",
    "        self.day = self.model.day\n",
    "        self.hour = self.model.hour\n",
    "        self.name = \"Battery_Agent\"\n",
    "        self.eff = 0.98\n",
    "        self.cap = capacity\n",
    "        self.soc = 0.8\n",
    "        self.num_agents = self.model.num_agents\n",
    "        \n",
    "    def update_params(self):\n",
    "        'Function to update the month, day and hour parameters'\n",
    "        self.month = self.model.month\n",
    "        self.day = self.model.day\n",
    "        self.hour = self.model.hour\n",
    "        \n",
    "    def update_charge(self, power):\n",
    "        if self.cap > 0:\n",
    "            if power > 0 and self.soc < 0.8:\n",
    "                update = self.soc + 1/self.eff*power*1/self.cap\n",
    "\n",
    "                if update > 0.8:\n",
    "    #                 used_power = self.excess_power(self.soc, 0.8)\n",
    "    #                 surplus_power = power - used_power\n",
    "    #                 self.soc -= self.eff*-used_power*1/self.cap\n",
    "    #                 return surplus_power * -1\n",
    "\n",
    "\n",
    "                    surplus = update - 0.8\n",
    "                    surplus_power = self.excess_power(surplus, 0)\n",
    "                    power = power - surplus_power\n",
    "                    self.soc += 1/self.eff*power*1/self.cap\n",
    "                    self.soc = np.round(self.soc,3)\n",
    "                    return surplus_power\n",
    "                else:\n",
    "                    self.soc += 1/self.eff*power*1/self.cap\n",
    "                    self.soc = np.round(self.soc,3)\n",
    "                    return None\n",
    "\n",
    "            elif power < 0 and self.soc > 0.2:\n",
    "                update = self.soc - self.eff*-power*1/self.cap\n",
    "\n",
    "                if update < 0.2:\n",
    "                    used_power = self.excess_power(0.2, self.soc)\n",
    "                    surplus_power = power - used_power\n",
    "                    self.soc -= self.eff*-used_power*1/self.cap\n",
    "                    return surplus_power * -1\n",
    "                else:\n",
    "                    self.soc -= self.eff*-power*1/self.cap\n",
    "                    return None\n",
    "            else:\n",
    "                return power\n",
    "        else:\n",
    "            return None\n",
    "        \n",
    "    def excess_power(self, soc_pone, soc):\n",
    "\n",
    "        return (soc_pone-soc/1)*self.cap*0.98\n",
    "            \n",
    "    def get_soc(self):\n",
    "        return self.soc\n",
    "        \n",
    "    def step(self):\n",
    "        #print(\"Charge: \", self.soc)\n",
    "        self.update_params()\n",
    "        self.model.schedule.agents[self.num_agents].update_bess_soc(self.soc)\n"
   ]
  },
  {
   "cell_type": "code",
   "execution_count": 15,
   "metadata": {},
   "outputs": [],
   "source": [
    "class ResiLoadAgent(mesa.Agent):\n",
    "    \n",
    "    'An agent for the residential loads in the microgrid'\n",
    "    \n",
    "    def __init__(self, model, df):\n",
    "        super().__init__(self, model)\n",
    "        self.month = self.model.month\n",
    "        self.day = self.model.day\n",
    "        self.hour = self.model.hour\n",
    "        self.day = 0\n",
    "        self.month = self.model.month\n",
    "        self.name = \"Resi_Load_Agent\"\n",
    "        self.df = df\n",
    "        self.houses = self.df.keys()\n",
    "        self.total_load = 0\n",
    "        #print(\"Houses: \", self.houses)\n",
    "        self.num_agents = self.model.num_agents\n",
    "        \n",
    "    def update_params(self):\n",
    "        'Function to update the month, day and hour parameters'\n",
    "        self.month = self.model.month\n",
    "        self.day = self.model.day\n",
    "        self.hour = self.model.hour\n",
    "        \n",
    "    def update_load_data(self):\n",
    "        'Function to update the data in the dataframe to the latest days'\n",
    "        for i in self.houses:\n",
    "            self.df[i] = self.model.resi_df_format[i]\n",
    "            \n",
    "    def update_day(self):\n",
    "        'Update to whether weekday or weekend data is being taken'\n",
    "        self.day += 1 if self.day == 0 else -1\n",
    "        self.month += 1 if self.day == 1 else 0\n",
    "        \n",
    "    def sum_load(self):\n",
    "        'Function to calculate the total load for the current time period'\n",
    "        #self.total_load += 1\n",
    "        \n",
    "        for i in self.houses:\n",
    "            self.total_load += self.df[i].iloc[self.hour].values[0]\n",
    "\n",
    "    \n",
    "    \n",
    "    \n",
    "    def step(self):\n",
    "        self.update_params()\n",
    "        self.total_load = 0\n",
    "        self.update_load_data()\n",
    "        self.sum_load()\n",
    "        self.model.schedule.agents[self.num_agents].update_resi_load(self.total_load)\n",
    "        #self.update_day()\n",
    "        self.model.resi_cons[self.month][self.day].append(self.total_load)\n",
    "        \n",
    "    \n",
    "        \n",
    "        "
   ]
  },
  {
   "cell_type": "code",
   "execution_count": 98,
   "metadata": {},
   "outputs": [],
   "source": [
    "class EVAgent(mesa.Agent):\n",
    "    \n",
    "    'An agent to control the electric vehicles'\n",
    "    \n",
    "    def __init__(self, model, activities, name):\n",
    "        super().__init__(self, model)\n",
    "        G = self.model.graph\n",
    "        \n",
    "        self.month = self.model.month\n",
    "        self.day = self.model.day\n",
    "        self.hour = self.model.hour\n",
    "        \n",
    "        self.SOC = 60.0\n",
    "        self.SOC_perc = 0\n",
    "        self.get_soc_perc()\n",
    "        self.charge = False\n",
    "        self.discharge = False\n",
    "        self.location = 0\n",
    "        self.distance_travelled = 0\n",
    "        self.battery_soc = None\n",
    "        self.activity_dict = activities\n",
    "        self.activities = None\n",
    "        self.activity_counter = 0\n",
    "        self.current_activity = \"Home\"\n",
    "        self.move_check = False\n",
    "        self.activity_timer = 0\n",
    "        self.name = name\n",
    "        self.leave_time = self.leave_time()\n",
    "        self.num_agents = self.model.num_agents\n",
    "        \n",
    "    def update_params(self):\n",
    "        'Function to update the month, day and hour parameters'\n",
    "        self.month = self.model.month\n",
    "        self.day = self.model.day\n",
    "        self.hour = self.model.hour\n",
    "        \n",
    "        \n",
    "    def random_exclude(self, n, end, start = 0):\n",
    "        return list(range(1,n)) + list(range(n+1, end))\n",
    "    \n",
    "    def get_day(self):\n",
    "        'Function to plan the day'\n",
    "        time, activities = self.plan_day()\n",
    "        \n",
    "        while time > 10:\n",
    "            time, activities = self.plan_day()\n",
    "        \n",
    "            \n",
    "        return activities\n",
    "    \n",
    "    def plan_day(self):\n",
    "        'Function to select the activites to be done that day'\n",
    "        num_activities = len(self.activity_dict)\n",
    "        probs = [0.08, 0.08,0.08,0.08, 0.3, 0.3, 0.08]\n",
    "        n = np.random.choice(np.arange(3, 6))\n",
    "        choices = np.random.choice(list(self.activity_dict.keys()), size=n, replace=False, p=probs)\n",
    "        time = sum([self.activity_dict.get(x)['time'] for x in choices])\n",
    "        \n",
    "        return time, choices\n",
    "    \n",
    "    def find_node(self, activity):\n",
    "        'Function to find nodes that match the activity'\n",
    "        \n",
    "        for i in G.nodes():\n",
    "            value = self.activity_dict[activity]['node']\n",
    "            if G.nodes[i]['type'] == value:\n",
    "                return i\n",
    "            \n",
    "    def get_path(self, start, end):\n",
    "        'Function to return the shortest path from the starting node to the end node specified'\n",
    "        return nx.shortest_path(G,source=start,target=end)\n",
    "\n",
    "    \n",
    "    def get_distance(self, path):\n",
    "        'Function to compute the distance of the path specified'\n",
    "        \n",
    "        distance = 0\n",
    "        \n",
    "        for i in range(len(path)-1):\n",
    "            distance += G.edges[path[i], path[i+1]]['weight']\n",
    "            \n",
    "        return distance\n",
    "    \n",
    "    def leave_time(self):\n",
    "        'Function to decide a time to leave in the morning between 6 and 10 based on prob dist'\n",
    "        \n",
    "        return np.random.choice(np.arange(6, 10), p=[0.15, 0.35, 0.35, 0.15])\n",
    "    \n",
    "    def update_soc(self, distance):\n",
    "        'Function to calculate the SOC of the battery after the most recent trip'\n",
    "        \n",
    "        p_used = distance * 0.24\n",
    "        \n",
    "        self.SOC = self.SOC - p_used + 1 * (0.2 * 0 - 1/0.2 * 0)\n",
    "        \n",
    "        if self.SOC <= 20:\n",
    "            self.charge = True\n",
    "            \n",
    "    def V2G(self, v2g_charge):\n",
    "        'Funciton to reduce the EVs SOC by the amount taken for V2G'\n",
    "        self.SOC -= v2g_charge\n",
    "        self.get_soc_perc()\n",
    "            \n",
    "    def get_soc_perc(self):\n",
    "        'Function that updates the SOC as a percentage'\n",
    "        \n",
    "        self.SOC_perc = self.SOC / 75 *100\n",
    "            \n",
    "    def charging_check(self):\n",
    "        'Function to determine whether the EV is chargin or not'\n",
    "        if self.SOC_perc >= 100:\n",
    "            self.charge = False\n",
    "        elif self.SOC_perc < 80 and self.current_activity == \"Home\" or self.SOC_perc < 80 and self.current_activity == \"Work\" :\n",
    "            self.charge = True\n",
    "        elif self.current_activity == \"Home\" or self.current_activity == \"Work1\" or self.current_activity == \"Work2\" :\n",
    "            self.discharge = True\n",
    "        else:\n",
    "            self.charge = False\n",
    "            self.discharge = False\n",
    "            \n",
    "    def update_EV_charge(self, power):\n",
    "        'Function to charge the EV'\n",
    "        \n",
    "        self.SOC += power\n",
    "        self.get_soc_perc()\n",
    "        \n",
    "    def discharge_EV(self, power):\n",
    "        'Function to discharge the EV'\n",
    "        self.SOC -= power\n",
    "        self.get_soc_perc()\n",
    "        \n",
    "    def move_function(self):\n",
    "        'Function to determine the '\n",
    "    \n",
    "    \n",
    "    def move(self, next_activity):\n",
    "        'Function to move the EV agent'\n",
    "        \n",
    "        destination = self.find_node(next_activity)\n",
    "        path = self.get_path(self.location, destination)\n",
    "        \n",
    "        if path == -1:\n",
    "            while path == -1:\n",
    "                destination = self.find_node(next_activity)\n",
    "                path = self.get_path(self.location, destination)\n",
    "                \n",
    "        distance = self.get_distance(path)       \n",
    "        self.distance_travelled += distance\n",
    "        self.update_soc(distance)\n",
    "        self.get_soc_perc()\n",
    "        self.location = destination\n",
    "        self.model.graph.move_agent(self, self.location)\n",
    "        \n",
    "        \n",
    "    def step(self):\n",
    "        \n",
    "        self.update_params()\n",
    "        \n",
    "        if self.hour == 0:\n",
    "            if self.current_activity != 'Home':\n",
    "                self.move('Home')\n",
    "                \n",
    "            self.activities = self.get_day()\n",
    "            self.activity_counter = 0\n",
    "        \n",
    "        self.charging_check()\n",
    "        \n",
    "        if self.leave_time == self.hour:\n",
    "            self.move_check = True\n",
    "            \n",
    "        if self.charge or self.discharge:\n",
    "            \n",
    "            self.model.schedule.agents[self.num_agents-1].update_demand(7.104, self.SOC, self.name)\n",
    "        \n",
    "        if self.move_check:\n",
    "            \n",
    "            self.move_check = False\n",
    "            \n",
    "            if self.activity_counter >= len(self.activities):\n",
    "                next_activity = \"Home\"\n",
    "            else:\n",
    "                next_activity = self.activities[self.activity_counter]\n",
    "            \n",
    "            self.move(next_activity)\n",
    "            \n",
    "            self.current_activity = next_activity\n",
    "            self.activity_timer = self.activity_dict[self.current_activity]['time'] + 1\n",
    "            \n",
    "            self.activity_counter += 1\n",
    "    \n",
    "            \n",
    "        self.activity_timer -= 1\n",
    "        \n",
    "        if self.activity_timer == 0 and self.activity_counter <= len(self.activities):\n",
    "            self.move_check = True\n",
    "            \n",
    "        if not self.model.EV_charge[self.month][self.day].get(self.name):\n",
    "            self.model.EV_charge[self.month][self.day][self.name] = []\n",
    "            \n",
    "        self.model.EV_charge[self.month][self.day][self.name].append(self.SOC)\n",
    "            \n",
    "            \n"
   ]
  },
  {
   "cell_type": "code",
   "execution_count": 25,
   "metadata": {},
   "outputs": [],
   "source": [
    "class EVAggregatorAgent(mesa.Agent):\n",
    "    \n",
    "    'Agent to aggregate data from the EVs'\n",
    "    \n",
    "    def __init__(self, model):\n",
    "        super().__init__(self, model)\n",
    "        self.month = self.model.month\n",
    "        self.day = self.model.day\n",
    "        self.hour = self.model.hour\n",
    "        self.name = \"EV_Aggregator_Agent\"\n",
    "        self.EV_demand = {}\n",
    "        self.EV_SOC = {}\n",
    "        self.EV_status = {}\n",
    "        self.num_agents = self.model.num_agents\n",
    "        \n",
    "    def update_params(self):\n",
    "        'Function to update the month, day and hour parameters'\n",
    "        self.month = self.model.month\n",
    "        self.day = self.model.day\n",
    "        self.hour = self.model.hour\n",
    "        \n",
    "    def update_demand(self, demand, soc, id):\n",
    "        'Function to update the total EV demand, called by EV agents'\n",
    "        \n",
    "        self.EV_status[id] = {'name': id, \"soc\": soc, \"demand\": demand}        \n",
    "#         self.EV_demand[id] = demand\n",
    "#         self.EV_SOC[id] = soc\n",
    "        \n",
    "    def step(self):\n",
    "        self.update_params()\n",
    "        self.model.schedule.agents[self.num_agents].update_EV_load(self.EV_status)\n",
    "        self.EV_status = {}\n",
    "#         self.EV_demand = []\n",
    "#         self.EV_SOC = []\n",
    " \n"
   ]
  },
  {
   "cell_type": "code",
   "execution_count": 67,
   "metadata": {},
   "outputs": [],
   "source": [
    "class ControlAgent(mesa.Agent):\n",
    "    \n",
    "    'An agent to control the microgrid.'\n",
    "    \n",
    "    def __init__(self, model):\n",
    "        super().__init__(self, model)\n",
    "        self.month = self.model.month\n",
    "        self.day = self.model.day\n",
    "        self.hour = self.model.hour\n",
    "        self.name = \"Control_Agent\"\n",
    "        self.pv_output = 0\n",
    "        self.wt_output = 0\n",
    "        self.total_resi_load = 0\n",
    "        self.EV_status = None\n",
    "        self.total_EV_load = 0\n",
    "        self.total_demand = 0\n",
    "        self.total_gen = 0\n",
    "        self.resi = []\n",
    "        self.ev = []\n",
    "        self.vf = np.vectorize(self.array_charge)\n",
    "        self.bess_soc = 0\n",
    "        self.num_agents = self.model.num_agents\n",
    "        \n",
    "    def update_params(self):\n",
    "        'Function to update the month, day and hour parameters'\n",
    "        self.month = self.model.month\n",
    "        self.day = self.model.day\n",
    "        self.hour = self.model.hour\n",
    "        \n",
    "    def update_pv(self, new_pv):\n",
    "        self.pv_output = new_pv\n",
    "        \n",
    "    def update_wt(self, new_wt):\n",
    "        self.wt_output = new_wt\n",
    "        \n",
    "    def update_resi_load(self, load):\n",
    "        self.total_resi_load = load\n",
    "        \n",
    "    def update_EV_load(self, status):\n",
    "        self.EV_status = status\n",
    "        \n",
    "    def update_bess_soc(self, soc):\n",
    "        self.bess_soc = soc\n",
    "        \n",
    "    def add_charge_flag(self):\n",
    "        'Function to add a charge or discharge flag to the dictionary of EVs that want to charge'\n",
    "        for i in self.EV_status:\n",
    "            if self.EV_status[i][\"soc\"] / 75 >= 1:\n",
    "                self.EV_status[i][\"flag\"] = 0\n",
    "            elif self.EV_status[i][\"soc\"] / 75 < 0.5 or self.hour < 9:\n",
    "                self.EV_status[i][\"flag\"] = 1\n",
    "            else:\n",
    "                self.EV_status[i][\"flag\"] = np.random.choice([1,-1], p=[0.2,0.8])\n",
    "                #self.EV_status[i][\"flag\"] = -1\n",
    "                \n",
    "    def required_EV_charge(self, soc):\n",
    "        'Function to return the amount of charge needed'\n",
    "        perc = soc/60\n",
    "        remaining = 60 - soc\n",
    "        \n",
    "        if remaining < 7.104:\n",
    "            return remaining\n",
    "        else:\n",
    "            return 7.104\n",
    "        \n",
    "    def required_EV_discharge(self, soc, proposed_dis):\n",
    "        'Function to return the amount of charge needed'\n",
    "        post_dis = soc - proposed_dis\n",
    "        perc = post_dis /75\n",
    "        \n",
    "        if perc < 0.5:\n",
    "            return (soc - 37.5)*-1\n",
    "        else:\n",
    "            return proposed_dis *-1\n",
    "        \n",
    "        \n",
    "        \n",
    "    def obj_function(self, x, demand, charges):\n",
    "        'Objective function of charging PSO algorithm'\n",
    "        perc = x/charges*100\n",
    "        value = abs(demand-np.sum(x,axis=1)) + np.var(perc, axis=1)\n",
    "        return value\n",
    "    \n",
    "    def PSO_optimisation(self, deficit):\n",
    "        'Function to run the PSO charging algorithm'\n",
    "        \n",
    "        discharging_EVs = [i[\"soc\"] for i in self.EV_status.values() if i[\"flag\"] < 0]\n",
    "        \n",
    "        \n",
    "        \n",
    "        num_EVs = len(discharging_EVs)\n",
    "        \n",
    "        params = {'c1': 0.3, 'c2': 0.5, 'w':0.7}\n",
    "        bounds = (np.full(num_EVs,0), np.full(num_EVs,7))\n",
    "        optimizer = ps.single.GlobalBestPSO(n_particles=50, dimensions=num_EVs, options=params, bounds=bounds)\n",
    "        cost, pos = optimizer.optimize(self.obj_function, iters=50, demand=deficit, charges=np.array(discharging_EVs), verbose=False)\n",
    "\n",
    "        return pos\n",
    "    \n",
    "    def update_charges(self):\n",
    "        'Function to update the charges of the EVs'\n",
    "        \n",
    "        reformat = np.array(list(self.EV_status.values()))\n",
    "        vf = np.frompyfunc(self.array_charge,1,0)\n",
    "        vf(reformat)\n",
    "        \n",
    "        \n",
    "    def array_charge(self, i):\n",
    "        \n",
    "        next((x.update_EV_charge(i['power']) for x in self.model.schedule.agents if x.name == i['name']), None)\n",
    "        \n",
    "    def fuel_consumption(self,price, power):\n",
    "        'Function to calculate the cost of fuel used by the fuel cell'\n",
    "        return price*power/0.56\n",
    "    \n",
    "    def fc_emissions(self,power):\n",
    "        return power/0.56*0.43\n",
    "    \n",
    "    def grid_emissions(self,power):\n",
    "        return power*0.228\n",
    "            \n",
    "            \n",
    "        \n",
    "    def step(self):\n",
    "        \n",
    "        self.update_params()\n",
    "\n",
    "        self.total_EV_load = sum(i[\"demand\"] for i in self.EV_status.values())\n",
    "        self.total_demand = self.total_resi_load + self.total_EV_load\n",
    "        self.total_gen = self.pv_output + self.wt_output\n",
    "        deficit = self.total_demand - self.total_gen\n",
    "        \n",
    "        if deficit > 0 and self.bess_soc > 0.2:\n",
    "            surplus = self.model.schedule.agents[0].update_charge(deficit * -1)\n",
    "            if not surplus == None:\n",
    "                deficit = surplus\n",
    "            else:\n",
    "                deficit = 0\n",
    "                \n",
    "        \n",
    "        \n",
    "        if len(self.EV_status) > 0:\n",
    "            '*MOVE TO FUNCTION*'\n",
    "            self.add_charge_flag()\n",
    "        \n",
    "            if deficit > 0 and self.hour > 8:\n",
    "\n",
    "                'Update EV demand after removing cars with <50% charge'    \n",
    "                self.total_EV_load = sum(i[\"demand\"] for i in self.EV_status.values() if i[\"flag\"] > 0)\n",
    "                \n",
    "                chargeable_ev_load = sum(i[\"demand\"] for i in self.EV_status.values() if i[\"flag\"] < 0)\n",
    "\n",
    "                deficit -= chargeable_ev_load\n",
    "                \n",
    "                self.total_demand -= chargeable_ev_load\n",
    "\n",
    "                \n",
    "\n",
    "                if deficit > 0 and sum(i[\"demand\"] for i in self.EV_status.values() if i[\"flag\"] < 0) > 0:\n",
    "                    V2G_charges = self.PSO_optimisation(deficit)\n",
    "                    self.total_gen += V2G_charges.sum()\n",
    "                    deficit -= V2G_charges.sum()\n",
    "                    \n",
    "                    \n",
    "                for i in range(len(self.EV_status)):\n",
    "                    k = list(self.EV_status.keys())\n",
    "                    k_counter = 0\n",
    "                    EV = self.EV_status[k[i]]\n",
    "                    if EV[\"flag\"] < 0 and deficit > 0:\n",
    "                        EV[\"power\"] = self.required_EV_discharge(EV[\"soc\"],V2G_charges[k_counter])\n",
    "                        k_counter += 1\n",
    "                    elif EV[\"flag\"] < 0:\n",
    "                        EV[\"power\"] = self.required_EV_charge(EV[\"soc\"])\n",
    "                    elif EV[\"flag\"] >= 0:\n",
    "                        EV[\"power\"] = self.required_EV_charge(EV[\"soc\"])\n",
    "                        \n",
    "                self.update_charges()\n",
    "            \n",
    "        fc_use = 0\n",
    "        fc_cost = 0\n",
    "        fc_ems = 0\n",
    "\n",
    "        if deficit > 0:\n",
    "            if deficit > self.model.fc_capacity:\n",
    "                deficit -= self.model.fc_capacity\n",
    "                fc_use = self.model.fc_capacity\n",
    "                self.total_gen += fc_use\n",
    "                fc_cost = self.fuel_consumption(5.4, fc_use)\n",
    "                fc_ems = self.fc_emissions(fc_use)\n",
    "            else:\n",
    "                fc_use = deficit\n",
    "                self.total_gen += fc_use\n",
    "                fc_cost = self.fuel_consumption(5.4, fc_use)\n",
    "                fc_ems = self.fc_emissions(fc_use)\n",
    "                deficit = 0\n",
    "\n",
    "        grid_purchase = 0\n",
    "        grid_ems = 0\n",
    "\n",
    "        if deficit > 0:\n",
    "            grid_purchase = deficit\n",
    "            grid_ems = self.grid_emissions(grid_purchase)\n",
    "\n",
    "        if deficit < 0:\n",
    "            surplus = self.model.schedule.agents[0].update_charge(deficit*-1)\n",
    "            #If surplus not None sell to grid\n",
    "\n",
    "\n",
    "\n",
    "\n",
    "\n",
    "        \n",
    "    \n",
    "                    \n",
    "            \n",
    "        \n",
    "\n",
    "        \n",
    "        \n",
    "        self.model.production[self.month][self.day].append(self.total_gen)\n",
    "        self.model.cons[self.month][self.day].append(self.total_demand)\n",
    "        self.model.fc_use[self.month][self.day].append(fc_use)\n",
    "        self.model.fc_ems[self.month][self.day].append(fc_ems)\n",
    "        self.model.grid_use[self.month][self.day].append(grid_purchase)\n",
    "        self.model.grid_ems[self.month][self.day].append(grid_ems)\n",
    "\n",
    "        \n"
   ]
  },
  {
   "cell_type": "code",
   "execution_count": 206,
   "metadata": {},
   "outputs": [],
   "source": [
    "class MicrogridModel(mesa.Model):\n",
    "    \n",
    "    'A model to simulate a microgrid.'\n",
    "    \n",
    "    def __init__(self, num_evs, pv_size, num_wt, fc_cap, bess_cap, irr, ws, df, graph, activities):\n",
    "        self.month = 0\n",
    "        self.day = 0\n",
    "        self.hour = 0\n",
    "        self.num_evs = num_evs\n",
    "        self.num_agents = self.num_evs + 4\n",
    "        self.panel_size = pv_size\n",
    "        self.wt = num_wt\n",
    "        self.fc_capacity = fc_cap\n",
    "        self.bess_cap = bess_cap\n",
    "        self.solar_data = irr\n",
    "        self.wind_data = ws\n",
    "        self.resi_df = df\n",
    "        self.resi_df_format = {}\n",
    "        self.houses = self.resi_df.keys()\n",
    "        self.graph = NetworkGrid(graph)\n",
    "        self.activities= activities        \n",
    "        \n",
    "        self.solar_gen = {}\n",
    "        self.wind_gen = {}\n",
    "        self.resi_cons = {}\n",
    "        self.EV_charge = {}\n",
    "        self.production = {}\n",
    "        self.cons = {}\n",
    "        self.fc_use = {}\n",
    "        self.fc_ems = {}\n",
    "        self.grid_use = {}\n",
    "        self.grid_ems = {}\n",
    "        self.bess_charges = {}\n",
    "        \n",
    "        self.schedule = mesa.time.BaseScheduler(self)\n",
    "        \n",
    "        self.day = 0\n",
    "        self.month = 0\n",
    "        \n",
    "        self.update_load_data()\n",
    "        \n",
    "        #Create agents\n",
    "        \n",
    "        bess = BatteryAgent(self, self.bess_cap)\n",
    "        res = RESAgent(self, self.panel_size, self.wt)\n",
    "        residential = ResiLoadAgent(self, self.resi_df_format)\n",
    "        evs = [EVAgent(self, activities, \"EV\"+str(i)) for i in range(self.num_evs)]\n",
    "        ev_agg = EVAggregatorAgent(self)\n",
    "        ctrl = ControlAgent(self)\n",
    "\n",
    "        self.schedule.add(bess)\n",
    "        self.schedule.add(res)\n",
    "        self.schedule.add(residential)\n",
    "        for i in evs:\n",
    "            self.schedule.add(i)\n",
    "            self.graph.place_agent(i, 0)\n",
    "        self.schedule.add(ev_agg)\n",
    "        self.schedule.add(ctrl)\n",
    "\n",
    "        \n",
    "        \n",
    "    def update_date(self):\n",
    "        'Update to whether weekday or weekend data is being taken'\n",
    "        self.month += 1 if self.day == 1 else 0\n",
    "        self.day += 1 if self.day == 0 else -1\n",
    "        \n",
    "    def update_load_data(self):\n",
    "        'Function to update the data in the dataframe to the latest days'\n",
    "        for i in self.houses:\n",
    "            self.resi_df_format[i] = self.resi_df[i][self.month][self.day]\n",
    "            \n",
    "    def get_solar_gen(self):\n",
    "        return self.solar_gen\n",
    "    \n",
    "    def get_wind_gen(self):\n",
    "        return self.wind_gen\n",
    "    \n",
    "    def get_resi_cons(self):\n",
    "        return self.resi_cons\n",
    "    \n",
    "    def get_EV_cons(self):\n",
    "        return self.EV_charge\n",
    "    \n",
    "    def get_production(self):\n",
    "        return self.production\n",
    "    \n",
    "    def get_cons(self):\n",
    "        return self.cons\n",
    "    \n",
    "    def get_fc_use(self):\n",
    "        return self.fc_use\n",
    "\n",
    "    def get_fc_ems(self):\n",
    "        return self.cons\n",
    "\n",
    "    def get_fc_cost(self):\n",
    "        return self.fc_ems\n",
    "\n",
    "    def get_grid_use(self):\n",
    "        return self.grid_use\n",
    "    \n",
    "    def get_bess_charges(self):\n",
    "        return self.bess_charges\n",
    "        \n",
    "        \n",
    "    def step(self):\n",
    "        'Move the model forward by one time step'\n",
    "        self.update_load_data()\n",
    "        #print(\"Data: \", self.resi_df_format)\n",
    "        for m in range(1):\n",
    "            self.month = m\n",
    "            self.solar_gen[self.month] = {}\n",
    "            self.wind_gen[self.month] = {}\n",
    "            self.resi_cons[self.month] = {}\n",
    "            self.EV_charge[self.month] = {}\n",
    "            self.production[self.month] = {}\n",
    "            self.cons[self.month] = {}\n",
    "            self.fc_use[self.month] = {}\n",
    "            self.fc_ems[self.month] = {}\n",
    "            self.grid_use[self.month] = {}\n",
    "            self.grid_ems[self.month] = {}\n",
    "            self.bess_charges[self.month] = {}\n",
    "            #print(\"\\nMonth: \", m)\n",
    "            for d in range(1):\n",
    "                self.day = d\n",
    "                self.solar_gen[self.month][self.day] = []\n",
    "                self.wind_gen[self.month][self.day] = []\n",
    "                self.resi_cons[self.month][self.day] = []\n",
    "                self.EV_charge[self.month][self.day] = {}\n",
    "                self.production[self.month][self.day] = []\n",
    "                self.cons[self.month][self.day] = []\n",
    "                self.fc_use[self.month][self.day] = []\n",
    "                self.fc_ems[self.month][self.day] = []\n",
    "                self.grid_use[self.month][self.day] = []\n",
    "                self.grid_ems[self.month][self.day] = []\n",
    "                self.bess_charges[self.month][self.day] = []\n",
    "                \n",
    "                \n",
    "                #print(\"Day: \", m)\n",
    "                for h in range(24):\n",
    "                    self.hour = h\n",
    "                    #print(\"\\nHour: \", h)\n",
    "                    self.schedule.step()\n",
    "                    self.bess_charges[self.month][self.day].append(self.schedule.agents[0].get_soc())\n",
    "        #print(self.deficit)\n",
    "            \n",
    "            \n",
    "    "
   ]
  },
  {
   "cell_type": "code",
   "execution_count": 207,
   "metadata": {
    "scrolled": false
   },
   "outputs": [
    {
     "name": "stdout",
     "output_type": "stream",
     "text": [
      "0.2773478031158447\n"
     ]
    }
   ],
   "source": [
    "mg = MicrogridModel(5, 1, 1, 1, 100,solar_data, wind_data, df, G, activities)\n",
    "start = time.time()\n",
    "mg.step()\n",
    "end = time.time()\n",
    "print(end - start)"
   ]
  },
  {
   "cell_type": "code",
   "execution_count": 275,
   "metadata": {},
   "outputs": [],
   "source": [
    "def sum_dict(obj):\n",
    "        \n",
    "        return np.sum(np.fromiter((np.sum(np.concatenate(list(np.array(list(obj.values()))[i].values()))) for i in list(obj)),float))"
   ]
  },
  {
   "cell_type": "code",
   "execution_count": null,
   "metadata": {},
   "outputs": [],
   "source": [
    "prod = sum_dict(mg.get_production())"
   ]
  },
  {
   "cell_type": "code",
   "execution_count": null,
   "metadata": {},
   "outputs": [],
   "source": [
    "cons = sum_dict(mg.get_cons())"
   ]
  },
  {
   "cell_type": "code",
   "execution_count": null,
   "metadata": {},
   "outputs": [],
   "source": [
    "prod,cons"
   ]
  },
  {
   "cell_type": "code",
   "execution_count": null,
   "metadata": {},
   "outputs": [],
   "source": [
    "prod/cons"
   ]
  },
  {
   "cell_type": "code",
   "execution_count": null,
   "metadata": {},
   "outputs": [],
   "source": [
    "5/0"
   ]
  },
  {
   "cell_type": "code",
   "execution_count": null,
   "metadata": {
    "scrolled": false
   },
   "outputs": [],
   "source": [
    "list(list(list(list(mg.get_EV_cons().values())[0].values()))[0].values())[0]"
   ]
  },
  {
   "cell_type": "code",
   "execution_count": 259,
   "metadata": {},
   "outputs": [],
   "source": [
    "class MicroGridProblem(ElementwiseProblem):\n",
    "    \n",
    "    def __init__(self, evs):\n",
    "        super().__init__(n_var=4, n_obj=2, xl=0.0, xu=np.array([100,150,500,500]))\n",
    "        self.evs = evs\n",
    "        \n",
    "    def calculate_cost(self, mg, bess_cap):\n",
    "        solar_gen = mg.get_solar_gen()\n",
    "        wind_gen = mg.get_wind_gen()\n",
    "        fuel_cell = mg.get_fc_use()\n",
    "        bess_cost = mg.get_bess_charges()\n",
    "        \n",
    "        solar_total = self.sum_dict(solar_gen)\n",
    "        wind_total = self.sum_dict(wind_gen)\n",
    "        fc_total = self.sum_dict(fuel_cell)\n",
    "        bess_total = bess_cap*self.sum_dict(bess_cost)\n",
    "        \n",
    "        solar_total *= 0.2076275\n",
    "        wind_total *= 0.046\n",
    "        fc_total *= 0.23\n",
    "        bess_total *= 0.25\n",
    "        \n",
    "        return np.sum([solar_total, wind_total, fc_total, bess_total])\n",
    "    \n",
    "    def calculate_autonomy(self, mg):\n",
    "        prod = self.sum_dict(mg.get_production())\n",
    "        cons = self.sum_dict(mg.get_cons())\n",
    "        grid_gen = mg.get_grid_use()\n",
    "        grid_total = self.sum_dict(grid_gen)\n",
    "        \n",
    "        return -(prod/cons)\n",
    "    \n",
    "    def calculate_emmissions(self, mg, bess_cap):\n",
    "        fc_ems = mg.get_fc_ems()\n",
    "        \n",
    "        \n",
    "        solar_gen = mg.get_solar_gen()\n",
    "        wind_gen = mg.get_wind_gen()\n",
    "        bess_cost = mg.get_bess_charges()\n",
    "        grid_gen = mg.get_grid_use()\n",
    "\n",
    "        \n",
    "        solar_total = self.sum_dict(solar_gen)\n",
    "        wind_total = self.sum_dict(wind_gen)\n",
    "        fc_total = self.sum_dict(fc_ems)\n",
    "        grid_total = self.sum_dict(grid_gen)\n",
    "        bess_total = bess_cap*self.sum_dict(bess_cost)\n",
    "        \n",
    "        \n",
    "        solar_total *= 0.2076\n",
    "        wind_total *= 0.2240\n",
    "        bess_total *= 0.054\n",
    "        grid_total *= 0.228\n",
    "        fc_total *= 0.43\n",
    "         \n",
    "        return np.sum([solar_total, wind_total, fc_total, bess_total, grid_total])\n",
    "        \n",
    "    \n",
    "    def sum_dict(self, obj):\n",
    "        \n",
    "        return np.sum(np.fromiter((np.sum(np.concatenate(list(np.array(list(obj.values()))[i].values()))) for i in list(obj)),float))\n",
    "        \n",
    "        \n",
    "        \n",
    "    def _evaluate(self, x, out, *args, **kwargs):\n",
    "        #print(\"X: \", x)\n",
    "        panels = x[0]\n",
    "        turbines = x[1]\n",
    "        fc_cap = x[2]\n",
    "        bess_cap = x[3]\n",
    "        mg = MicrogridModel(self.evs, panels, turbines, fc_cap, bess_cap, solar_data, wind_data, df, G, activities)\n",
    "        mg.step()\n",
    "        cost = self.calculate_cost(mg, bess_cap)\n",
    "        auto = self.calculate_autonomy(mg)\n",
    "        em = self.calculate_emmissions(mg, bess_cap)\n",
    "        out[\"F\"] = [cost, em]"
   ]
  },
  {
   "cell_type": "code",
   "execution_count": 260,
   "metadata": {},
   "outputs": [],
   "source": [
    "algorithm = NSGA2(pop_size=10,\n",
    "                 crossover=SBX(prob=1.0, eta=3.0, vtype=float, repair=RoundingRepair()),\n",
    "                 mutation=PM(prob=1.0, eta=3.0, vtype=float, repair=RoundingRepair()),\n",
    "                 eliminate_duplicates=True\n",
    "                 )"
   ]
  },
  {
   "cell_type": "code",
   "execution_count": 261,
   "metadata": {},
   "outputs": [],
   "source": [
    "problem = MicroGridProblem(50)"
   ]
  },
  {
   "cell_type": "code",
   "execution_count": 262,
   "metadata": {},
   "outputs": [
    {
     "name": "stdout",
     "output_type": "stream",
     "text": [
      "33.47244310379028\n"
     ]
    }
   ],
   "source": [
    "start = time.time()\n",
    "res = minimize(problem,\n",
    "               algorithm,\n",
    "               ('n_gen',10),\n",
    "               seed=1,\n",
    "               verbose=False)\n",
    "end = time.time()\n",
    "print(end - start)"
   ]
  },
  {
   "cell_type": "code",
   "execution_count": 263,
   "metadata": {},
   "outputs": [
    {
     "data": {
      "text/plain": [
       "<pymoo.visualization.scatter.Scatter at 0x1bfff5ce940>"
      ]
     },
     "execution_count": 263,
     "metadata": {},
     "output_type": "execute_result"
    },
    {
     "data": {
      "image/png": "[encoded data removed]",
      "text/plain": [
       "<Figure size 576x432 with 1 Axes>"
      ]
     },
     "metadata": {
      "needs_background": "light"
     },
     "output_type": "display_data"
    }
   ],
   "source": [
    "plot = Scatter()\n",
    "plot.add(problem.pareto_front(), plot_type=\"line\", color=\"black\", alpha=0.7)\n",
    "plot.add(res.F, facecolor=\"none\", edgecolor=\"red\")\n",
    "plot.show()"
   ]
  },
  {
   "cell_type": "markdown",
   "metadata": {},
   "source": [
    "grid_emissions and fc emmissions from: Emission and economic performance assessment of a solid oxide fuel\n",
    "cell micro-combined heat and power system in a domestic building"
   ]
  },
  {
   "cell_type": "code",
   "execution_count": 264,
   "metadata": {},
   "outputs": [
    {
     "data": {
      "text/plain": [
       "array([[   8.13402003, 3417.74787215],\n",
       "       [ 841.94143982, 1988.50869835],\n",
       "       [  70.15940191, 2726.62572774],\n",
       "       [ 726.91195387, 2046.05222102],\n",
       "       [   8.24066056, 3304.32611982],\n",
       "       [ 491.71409006, 2249.76987547],\n",
       "       [ 300.23285121, 2435.49148386],\n",
       "       [ 118.9245219 , 2557.40277548],\n",
       "       [ 402.40440782, 2343.74261004],\n",
       "       [ 196.20088032, 2491.35002145]])"
      ]
     },
     "execution_count": 264,
     "metadata": {},
     "output_type": "execute_result"
    }
   ],
   "source": [
    "np.set_printoptions(suppress=True)\n",
    "res.F"
   ]
  },
  {
   "cell_type": "code",
   "execution_count": 265,
   "metadata": {},
   "outputs": [
    {
     "data": {
      "text/plain": [
       "array([[ 84,  11,  88,   0],\n",
       "       [100,  61, 458,  43],\n",
       "       [ 96,  12,   5,  40],\n",
       "       [100,  12, 334,  18],\n",
       "       [ 79,  11,  88,   0],\n",
       "       [ 96,  12, 205,  40],\n",
       "       [ 96,  12, 104,  40],\n",
       "       [ 79,  15,  51,   1],\n",
       "       [ 36,  35, 167,  28],\n",
       "       [ 79,  12,  84,   8]])"
      ]
     },
     "execution_count": 265,
     "metadata": {},
     "output_type": "execute_result"
    }
   ],
   "source": [
    "np.round(res.X)"
   ]
  },
  {
   "cell_type": "code",
   "execution_count": 266,
   "metadata": {},
   "outputs": [
    {
     "name": "stdout",
     "output_type": "stream",
     "text": [
      "0.3336043357849121\n"
     ]
    }
   ],
   "source": [
    "mg = MicrogridModel(50,100, 61, 458, 43,solar_data, wind_data, df, G, activities)\n",
    "start = time.time()\n",
    "mg.step()\n",
    "end = time.time()\n",
    "print(end - start)"
   ]
  },
  {
   "cell_type": "code",
   "execution_count": 267,
   "metadata": {
    "scrolled": true
   },
   "outputs": [
    {
     "data": {
      "text/plain": [
       "[<matplotlib.lines.Line2D at 0x1bfffcc7940>]"
      ]
     },
     "execution_count": 267,
     "metadata": {},
     "output_type": "execute_result"
    },
    {
     "data": {
      "image/png": "[encoded data removed]",
      "text/plain": [
       "<Figure size 432x288 with 1 Axes>"
      ]
     },
     "metadata": {
      "needs_background": "light"
     },
     "output_type": "display_data"
    }
   ],
   "source": [
    "plt.plot(list(mg.get_wind_gen().values())[0][0])"
   ]
  },
  {
   "cell_type": "code",
   "execution_count": 268,
   "metadata": {},
   "outputs": [
    {
     "data": {
      "text/plain": [
       "[<matplotlib.lines.Line2D at 0x1bf817896d0>]"
      ]
     },
     "execution_count": 268,
     "metadata": {},
     "output_type": "execute_result"
    },
    {
     "data": {
      "image/png": "[encoded data removed]",
      "text/plain": [
       "<Figure size 432x288 with 1 Axes>"
      ]
     },
     "metadata": {
      "needs_background": "light"
     },
     "output_type": "display_data"
    }
   ],
   "source": [
    "plt.plot(list(mg.get_bess_charges().values())[0][0])"
   ]
  },
  {
   "cell_type": "code",
   "execution_count": 269,
   "metadata": {},
   "outputs": [
    {
     "data": {
      "text/plain": [
       "[<matplotlib.lines.Line2D at 0x1bffc585190>]"
      ]
     },
     "execution_count": 269,
     "metadata": {},
     "output_type": "execute_result"
    },
    {
     "data": {
      "image/png": "[encoded data removed]",
      "text/plain": [
       "<Figure size 432x288 with 1 Axes>"
      ]
     },
     "metadata": {
      "needs_background": "light"
     },
     "output_type": "display_data"
    }
   ],
   "source": [
    "plt.plot(list(mg.get_solar_gen().values())[0][0])"
   ]
  },
  {
   "cell_type": "code",
   "execution_count": 270,
   "metadata": {},
   "outputs": [
    {
     "data": {
      "text/plain": [
       "[<matplotlib.lines.Line2D at 0x1bfff3fc9a0>]"
      ]
     },
     "execution_count": 270,
     "metadata": {},
     "output_type": "execute_result"
    },
    {
     "data": {
      "image/png": "[encoded data removed]",
      "text/plain": [
       "<Figure size 432x288 with 1 Axes>"
      ]
     },
     "metadata": {
      "needs_background": "light"
     },
     "output_type": "display_data"
    }
   ],
   "source": [
    "plt.plot(list(mg.get_grid_use().values())[0][0])"
   ]
  },
  {
   "cell_type": "code",
   "execution_count": 271,
   "metadata": {},
   "outputs": [
    {
     "data": {
      "text/plain": [
       "[<matplotlib.lines.Line2D at 0x1bffede2ee0>]"
      ]
     },
     "execution_count": 271,
     "metadata": {},
     "output_type": "execute_result"
    },
    {
     "data": {
      "image/png": "[encoded data removed]",
      "text/plain": [
       "<Figure size 432x288 with 1 Axes>"
      ]
     },
     "metadata": {
      "needs_background": "light"
     },
     "output_type": "display_data"
    }
   ],
   "source": [
    "plt.plot(list(mg.get_cons().values())[0][0])"
   ]
  },
  {
   "cell_type": "code",
   "execution_count": 272,
   "metadata": {},
   "outputs": [
    {
     "data": {
      "text/plain": [
       "[<matplotlib.lines.Line2D at 0x1bf81660070>]"
      ]
     },
     "execution_count": 272,
     "metadata": {},
     "output_type": "execute_result"
    },
    {
     "data": {
      "image/png": "[encoded data removed]",
      "text/plain": [
       "<Figure size 432x288 with 1 Axes>"
      ]
     },
     "metadata": {
      "needs_background": "light"
     },
     "output_type": "display_data"
    }
   ],
   "source": [
    "plt.plot(list(list(list(list(mg.get_EV_cons().values())[0].values()))[0].values())[0])"
   ]
  },
  {
   "cell_type": "code",
   "execution_count": 273,
   "metadata": {},
   "outputs": [
    {
     "data": {
      "text/plain": [
       "[<matplotlib.lines.Line2D at 0x1bfff37d2b0>]"
      ]
     },
     "execution_count": 273,
     "metadata": {},
     "output_type": "execute_result"
    },
    {
     "data": {
      "image/png": "[encoded data removed]",
      "text/plain": [
       "<Figure size 432x288 with 1 Axes>"
      ]
     },
     "metadata": {
      "needs_background": "light"
     },
     "output_type": "display_data"
    }
   ],
   "source": [
    "plt.plot(list(mg.get_fc_use().values())[0][0])"
   ]
  },
  {
   "cell_type": "code",
   "execution_count": 274,
   "metadata": {},
   "outputs": [
    {
     "data": {
      "text/plain": [
       "[<matplotlib.lines.Line2D at 0x1bfff489730>]"
      ]
     },
     "execution_count": 274,
     "metadata": {},
     "output_type": "execute_result"
    },
    {
     "data": {
      "image/png": "[encoded data removed]",
      "text/plain": [
       "<Figure size 432x288 with 1 Axes>"
      ]
     },
     "metadata": {
      "needs_background": "light"
     },
     "output_type": "display_data"
    }
   ],
   "source": [
    "plt.plot(list(mg.get_EV_cons()[0][0].values())[1])"
   ]
  },
  {
   "cell_type": "code",
   "execution_count": 231,
   "metadata": {},
   "outputs": [
    {
     "data": {
      "text/plain": [
       "298.3333333333333"
      ]
     },
     "execution_count": 231,
     "metadata": {},
     "output_type": "execute_result"
    }
   ],
   "source": [
    "-(500/300)+300\n"
   ]
  },
  {
   "cell_type": "code",
   "execution_count": 276,
   "metadata": {},
   "outputs": [],
   "source": [
    "def calculate_autonomy(mg):\n",
    "    prod = sum_dict(mg.get_production())\n",
    "    cons = sum_dict(mg.get_cons())\n",
    "    grid_gen = mg.get_grid_use()\n",
    "    grid_total = sum_dict(grid_gen)\n",
    "\n",
    "    return -(prod/cons)"
   ]
  },
  {
   "cell_type": "code",
   "execution_count": 277,
   "metadata": {},
   "outputs": [
    {
     "data": {
      "text/plain": [
       "-1.003373664646527"
      ]
     },
     "execution_count": 277,
     "metadata": {},
     "output_type": "execute_result"
    }
   ],
   "source": [
    "calculate_autonomy(mg)"
   ]
  },
  {
   "cell_type": "code",
   "execution_count": null,
   "metadata": {},
   "outputs": [],
   "source": []
  }
 ],
 "metadata": {
  "kernelspec": {
   "display_name": "Python 3",
   "language": "python",
   "name": "python3"
  },
  "language_info": {
   "codemirror_mode": {
    "name": "ipython",
    "version": 3
   },
   "file_extension": ".py",
   "mimetype": "text/x-python",
   "name": "python",
   "nbconvert_exporter": "python",
   "pygments_lexer": "ipython3",
   "version": "3.8.3"
  }
 },
 "nbformat": 4,
 "nbformat_minor": 4
}
