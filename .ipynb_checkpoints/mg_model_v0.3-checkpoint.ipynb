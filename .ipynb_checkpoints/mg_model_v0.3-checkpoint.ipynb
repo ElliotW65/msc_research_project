{
 "cells": [
  {
   "cell_type": "code",
   "execution_count": 23,
   "metadata": {},
   "outputs": [],
   "source": [
    "import pickle\n",
    "import mesa\n",
    "import mesa.time\n",
    "import numpy as np\n",
    "import pandas as pd\n",
    "import random\n",
    "import matplotlib.pyplot as plt\n",
    "import networkx as nx\n",
    "\n",
    "from scipy.stats import beta\n",
    "from scipy.stats import weibull_min as wei\n",
    "from scipy.special import gamma\n",
    "import geopandas as gp\n",
    "from mesa.space import NetworkGrid\n",
    "from shapely.geometry import Point"
   ]
  },
  {
   "cell_type": "code",
   "execution_count": 2,
   "metadata": {},
   "outputs": [],
   "source": [
    "df = pickle.load(open(\"D:/Documents/MSc Project/data/aggregated_data.p\", 'rb'))"
   ]
  },
  {
   "cell_type": "code",
   "execution_count": 3,
   "metadata": {},
   "outputs": [],
   "source": [
    "solar_data = pickle.load(open(\"D:/Documents/MSc Project/data/solar_data.p\", 'rb'))"
   ]
  },
  {
   "cell_type": "code",
   "execution_count": 4,
   "metadata": {},
   "outputs": [],
   "source": [
    "wind_data = pickle.load(open(\"D:/Documents/MSc Project/data/wind_data.p\", 'rb'))"
   ]
  },
  {
   "cell_type": "code",
   "execution_count": 5,
   "metadata": {
    "scrolled": false
   },
   "outputs": [],
   "source": [
    "G = nx.read_graphml(\"D:/Documents/MSc Project/data/edin_graph.graphml\")"
   ]
  },
  {
   "cell_type": "code",
   "execution_count": 6,
   "metadata": {},
   "outputs": [],
   "source": [
    "road_nodes = gp.read_file(\"D:/Documents/MSc Project/data/road_nodes.shp\")"
   ]
  },
  {
   "cell_type": "code",
   "execution_count": 28,
   "metadata": {},
   "outputs": [],
   "source": [
    "node_list = road_nodes['osmid'].tolist()"
   ]
  },
  {
   "cell_type": "code",
   "execution_count": 9,
   "metadata": {},
   "outputs": [
    {
     "data": {
      "text/plain": [
       "{'y': '55.9254306',\n",
       " 'x': '-3.4153838',\n",
       " 'ref': '2',\n",
       " 'highway': 'motorway_junction',\n",
       " 'street_count': '3'}"
      ]
     },
     "execution_count": 9,
     "metadata": {},
     "output_type": "execute_result"
    }
   ],
   "source": [
    "G.nodes['354026']"
   ]
  },
  {
   "cell_type": "code",
   "execution_count": 20,
   "metadata": {},
   "outputs": [],
   "source": [
    "for i in G.nodes:\n",
    "    node = None\n",
    "    #print(i)\n",
    "    x = float(G.nodes[i]['x'])\n",
    "    y = float(G.nodes[i]['y'])\n",
    "    xdiff = abs(x-55.947970)\n",
    "    ydiff = abs(y--3.206374)\n",
    "    if xdiff <= 0.01 and ydiff<=0.01:\n",
    "        print(i)"
   ]
  },
  {
   "cell_type": "code",
   "execution_count": 27,
   "metadata": {},
   "outputs": [],
   "source": [
    "road_nodes['distances'] = [ pt.distance(Point(-3.206374,55.947970))  for i, pt in enumerate(road_nodes['geometry'])]"
   ]
  },
  {
   "cell_type": "code",
   "execution_count": 29,
   "metadata": {},
   "outputs": [
    {
     "data": {
      "text/plain": [
       "3.776890255193257e-05"
      ]
     },
     "execution_count": 29,
     "metadata": {},
     "output_type": "execute_result"
    }
   ],
   "source": [
    "road_nodes['distances'].min()"
   ]
  },
  {
   "cell_type": "code",
   "execution_count": 30,
   "metadata": {},
   "outputs": [
    {
     "data": {
      "text/html": [
       "<div>\n",
       "<style scoped>\n",
       "    .dataframe tbody tr th:only-of-type {\n",
       "        vertical-align: middle;\n",
       "    }\n",
       "\n",
       "    .dataframe tbody tr th {\n",
       "        vertical-align: top;\n",
       "    }\n",
       "\n",
       "    .dataframe thead th {\n",
       "        text-align: right;\n",
       "    }\n",
       "</style>\n",
       "<table border=\"1\" class=\"dataframe\">\n",
       "  <thead>\n",
       "    <tr style=\"text-align: right;\">\n",
       "      <th></th>\n",
       "      <th>osmid</th>\n",
       "      <th>y</th>\n",
       "      <th>x</th>\n",
       "      <th>ref</th>\n",
       "      <th>highway</th>\n",
       "      <th>street_cou</th>\n",
       "      <th>geometry</th>\n",
       "      <th>distances</th>\n",
       "    </tr>\n",
       "  </thead>\n",
       "  <tbody>\n",
       "    <tr>\n",
       "      <th>10775</th>\n",
       "      <td>2283503255</td>\n",
       "      <td>55.947978</td>\n",
       "      <td>-3.206337</td>\n",
       "      <td>None</td>\n",
       "      <td>None</td>\n",
       "      <td>4</td>\n",
       "      <td>POINT (-3.20634 55.94798)</td>\n",
       "      <td>0.000038</td>\n",
       "    </tr>\n",
       "  </tbody>\n",
       "</table>\n",
       "</div>"
      ],
      "text/plain": [
       "            osmid          y         x   ref highway  street_cou  \\\n",
       "10775  2283503255  55.947978 -3.206337  None    None           4   \n",
       "\n",
       "                        geometry  distances  \n",
       "10775  POINT (-3.20634 55.94798)   0.000038  "
      ]
     },
     "execution_count": 30,
     "metadata": {},
     "output_type": "execute_result"
    }
   ],
   "source": [
    "road_nodes[road_nodes['distances'] == road_nodes['distances'].min()]"
   ]
  },
  {
   "cell_type": "code",
   "execution_count": null,
   "metadata": {},
   "outputs": [],
   "source": []
  },
  {
   "cell_type": "code",
   "execution_count": null,
   "metadata": {},
   "outputs": [],
   "source": []
  },
  {
   "cell_type": "code",
   "execution_count": null,
   "metadata": {},
   "outputs": [],
   "source": []
  },
  {
   "cell_type": "code",
   "execution_count": null,
   "metadata": {},
   "outputs": [],
   "source": []
  },
  {
   "cell_type": "code",
   "execution_count": 47,
   "metadata": {},
   "outputs": [
    {
     "data": {
      "text/plain": [
       "[38451009,\n",
       " 209067303,\n",
       " 683354,\n",
       " 845860997,\n",
       " 1908933617,\n",
       " 647757,\n",
       " 5313523778,\n",
       " 2375495680,\n",
       " 6750720244,\n",
       " 3448693695]"
      ]
     },
     "execution_count": 47,
     "metadata": {},
     "output_type": "execute_result"
    }
   ],
   "source": [
    "visualise_list = random.choices(node_list, k=10)\n",
    "visualise_list"
   ]
  },
  {
   "cell_type": "code",
   "execution_count": 21,
   "metadata": {},
   "outputs": [],
   "source": [
    "road_edges = gp.read_file(\"D:/Documents/MSc Project/data/road_edges.shp\")"
   ]
  },
  {
   "cell_type": "code",
   "execution_count": 23,
   "metadata": {},
   "outputs": [
    {
     "data": {
      "text/plain": [
       "array(['motorway_junction', None, 'traffic_signals', 'crossing',\n",
       "       'mini_roundabout', 'turning_loop', 'turning_circle', 'give_way'],\n",
       "      dtype=object)"
      ]
     },
     "execution_count": 23,
     "metadata": {},
     "output_type": "execute_result"
    }
   ],
   "source": [
    "road_nodes['highway'].unique()"
   ]
  },
  {
   "cell_type": "code",
   "execution_count": null,
   "metadata": {},
   "outputs": [],
   "source": []
  },
  {
   "cell_type": "code",
   "execution_count": null,
   "metadata": {},
   "outputs": [],
   "source": [
    "class RESAgent(mesa.Agent):\n",
    "    \n",
    "    'An agent for the renewable energy sources in the microgrid.'\n",
    "    \n",
    "    def __init__(self, pv_size, model):\n",
    "        super().__init__(pv_size, model)\n",
    "        self.stepper = 0\n",
    "        self.month = self.model.month\n",
    "        self.day = 0\n",
    "        self.solar_data = None\n",
    "        self.wind_data = None\n",
    "        self.agent_name = \"RES_Agent\"\n",
    "        self.panel_size = pv_size\n",
    "        self.panel_efficiency = 0.26\n",
    "        \n",
    "        self.wt_rated_power = 1.5\n",
    "        self.wt_rated_ws = 12.5\n",
    "        self.wt_cut_in = 3.4\n",
    "        self.wt_cut_out = 22\n",
    "        \n",
    "    def update_solar_and_wind_data(self):\n",
    "        'Function to update the data in the time step'\n",
    "        self.solar_data = self.model.solar_data[self.month][self.stepper]\n",
    "        self.wind_data = self.model.wind_data[self.month][self.stepper]\n",
    "        \n",
    "    def get_solar_value(self):\n",
    "        'Function to return the expected value from the beta distribution generated using historic data'\n",
    "\n",
    "        cut = self.solar_data\n",
    "        \n",
    "        if not cut.sum() > 0:\n",
    "            return 0\n",
    "\n",
    "        norm_max = cut.max()\n",
    "        norm_min= cut.min()\n",
    "\n",
    "        'Normalise the data with min max normalisation'\n",
    "        cut = (cut - norm_min) / (norm_max - norm_min)\n",
    "\n",
    "        mean = cut.mean()\n",
    "        sd = cut.std()\n",
    "\n",
    "        a = (1-mean)*((mean*(1+mean)/(sd**2))-1)\n",
    "        b = mean*a/1-mean\n",
    "\n",
    "        result = beta.mean(a,b)\n",
    "\n",
    "        'Reverse normalisation to get value in W/m2'\n",
    "        result = result * (norm_max - norm_min) + norm_min\n",
    "\n",
    "        return result\n",
    "    \n",
    "    def get_wind_value(self):\n",
    "        'Function to return the expected value from the beta distribution generated using historic data'\n",
    "\n",
    "        cut = self.wind_data\n",
    "\n",
    "        sd = cut.std()\n",
    "\n",
    "        mean = cut.mean()\n",
    "\n",
    "        shape = (sd/mean)**-1.086\n",
    "\n",
    "        scale = mean/gamma(1+1/shape)\n",
    "\n",
    "        rs = wei.rvs(shape, scale=scale)\n",
    "\n",
    "        return rs\n",
    "    \n",
    "    def get_wt_output(self, ws):\n",
    "        'Function to calculate the output of the wind turbine given the input wind speed'\n",
    "        \n",
    "        power = 0\n",
    "        \n",
    "        if ws < self.wt_cut_in:\n",
    "            return 0\n",
    "        elif ws > self.wt_cut_in and ws < self.wt_rated_ws:\n",
    "            return ((ws-self.wt_cut_in)/(self.wt_rated_ws - self.wt_cut_in))\n",
    "        elif self.wt_rated_ws <= ws and ws <= self.wt_cut_out:\n",
    "            return self.wt_rated_power\n",
    "        elif ws > self.wt_cut_out:\n",
    "            return 0\n",
    "        else:\n",
    "            return \"Error\"\n",
    "    \n",
    "        \n",
    "    def step(self):\n",
    "        self.update_solar_and_wind_data()\n",
    "        irr = self.get_solar_value()\n",
    "        wind_speed = self.get_wind_value()\n",
    "        wt_gen = self.get_wt_output(wind_speed)\n",
    "        pv_gen = (irr * self.panel_size * self.panel_efficiency)/1000\n",
    "        self.model.schedule.agents[6].update_pv(pv_gen)\n",
    "        self.model.schedule.agents[6].update_wt(wt_gen)\n",
    "        self.stepper += 1"
   ]
  },
  {
   "cell_type": "code",
   "execution_count": null,
   "metadata": {},
   "outputs": [],
   "source": [
    "class BatteryAgent(mesa.Agent):\n",
    "    \n",
    "    'An agent to control the battery.'\n",
    "    \n",
    "    def __init__(self, model):\n",
    "        super().__init__(self, model)\n",
    "        self.stepper = 0\n",
    "        self.agent_name = \"Battery_Agent\"\n",
    "        \n",
    "    def update_pv(self, new_pv):\n",
    "        self.pv_output = new_pv\n",
    "        \n",
    "    def step(self):\n",
    "        #print(\"PV Ouptut: \", self.pv_output)\n",
    "        self.stepper += 1"
   ]
  },
  {
   "cell_type": "code",
   "execution_count": null,
   "metadata": {},
   "outputs": [],
   "source": [
    "class ResiLoadAgent(mesa.Agent):\n",
    "    \n",
    "    'An agent for the residential loads in the microgrid'\n",
    "    \n",
    "    def __init__(self, model, df):\n",
    "        super().__init__(self, model)\n",
    "        self.stepper = 0\n",
    "        self.day = 0\n",
    "        self.month = self.model.month\n",
    "        self.agent_name = \"Resi_Load_Agent\"\n",
    "        self.df = df\n",
    "        self.houses = self.df.keys()\n",
    "        self.total_load = 0\n",
    "        #print(\"Houses: \", self.houses)\n",
    "        \n",
    "    def update_load_data(self):\n",
    "        'Function to update the data in the dataframe to the latest days'\n",
    "        for i in self.houses:\n",
    "            self.df[i] = self.model.resi_df_format[i]\n",
    "            \n",
    "    def update_day(self):\n",
    "        'Update to whether weekday or weekend data is being taken'\n",
    "        self.day += 1 if self.day == 0 else -1\n",
    "        self.month += 1 if self.day == 1 else 0\n",
    "        \n",
    "    def sum_load(self):\n",
    "        'Function to calculate the total load for the current time period'\n",
    "        #self.total_load += 1\n",
    "        \n",
    "        for i in self.houses:\n",
    "            self.total_load += self.df[i].iloc[self.stepper].values[0]\n",
    "\n",
    "    \n",
    "    \n",
    "    \n",
    "    def step(self):\n",
    "        self.total_load = 0\n",
    "        self.update_load_data()\n",
    "        self.sum_load()\n",
    "        self.model.schedule.agents[6].update_resi_load(self.total_load)\n",
    "        self.update_day()\n",
    "        self.stepper += 1\n",
    "        \n",
    "    \n",
    "        \n",
    "        "
   ]
  },
  {
   "cell_type": "code",
   "execution_count": null,
   "metadata": {},
   "outputs": [],
   "source": [
    "class EVAgent(mesa.Agent):\n",
    "    \n",
    "    'An agent to control the electric vehicles'\n",
    "    \n",
    "    def __init__(self, model, activities, name):\n",
    "        super().__init__(self, model)\n",
    "        G = self.model.graph\n",
    "        self.stepper = 0\n",
    "        \n",
    "        self.SOC = 60.0\n",
    "        self.SOC_perc = 0\n",
    "        self.get_soc_perc()\n",
    "        self.charge = False\n",
    "        self.location = 0\n",
    "        self.distance_travelled = 0\n",
    "        self.battery_soc = None\n",
    "        self.activity_dict = activities\n",
    "        self.activities = self.get_day()\n",
    "        self.activity_counter = 0\n",
    "        self.current_activity = \"Home\"\n",
    "        self.move_check = False\n",
    "        self.activity_timer = 0\n",
    "        self.name = name\n",
    "        self.leave_time = self.leave_time()\n",
    "        print(self.name, \": Activities: \", self.activities)\n",
    "        \n",
    "    def random_exclude(self, n, end, start = 0):\n",
    "        return list(range(1,n)) + list(range(n+1, end))\n",
    "    \n",
    "    def get_day(self):\n",
    "        'Function to plan the day'\n",
    "        time, activities = time, activities = self.plan_day()\n",
    "        \n",
    "        while time > 10:\n",
    "            time, activities = self.plan_day()\n",
    "        \n",
    "            \n",
    "        return activities\n",
    "    \n",
    "    def plan_day(self):\n",
    "        'Function to select the activites to be done that day'\n",
    "        num_activities = len(self.activity_dict)\n",
    "        probs = [0.08, 0.08,0.08,0.08, 0.3, 0.3, 0.08]\n",
    "        n = np.random.choice(np.arange(3, 6))\n",
    "        choices = np.random.choice(np.arange(1,num_activities), size=n, replace=False, p=probs)\n",
    "        result = []\n",
    "        time = 0\n",
    "        for x in choices:\n",
    "            result.append(self.activity_dict[x]['name'])\n",
    "            time += self.activity_dict[x]['time']\n",
    "        return time, result\n",
    "    \n",
    "    def find_node(self, activity):\n",
    "        'Function to find nodes that match the activity'\n",
    "        nodes = []\n",
    "        for i in G.nodes():\n",
    "            if G.nodes[i]['name'] == activity:\n",
    "                nodes.append(self.activity_dict[i]['node'])\n",
    "        target = random.choice(nodes)\n",
    "        return target\n",
    "            \n",
    "    def get_path(self, start, end):\n",
    "        'Function to return the shortest path from the starting node to the end node specified'\n",
    "        \n",
    "        return nx.shortest_path(G,source=start,target=end)\n",
    "    \n",
    "    def get_distance(self, path):\n",
    "        'Function to compute the distance of the path specified'\n",
    "        \n",
    "        distance = 0\n",
    "        \n",
    "        for i in range(len(path)-1):\n",
    "            distance += G.edges[path[i], path[i+1]]['weight']\n",
    "            \n",
    "        return distance\n",
    "    \n",
    "    def leave_time(self):\n",
    "        'Function to decide a time to leave in the morning between 6 and 10 based on prob dist'\n",
    "        \n",
    "        return np.random.choice(np.arange(6, 10), p=[0.15, 0.35, 0.35, 0.15])\n",
    "    \n",
    "    def update_soc(self, distance):\n",
    "        'Function to calculate the SOC of the battery after the most recent trip'\n",
    "        \n",
    "        p_used = distance * 0.24\n",
    "        \n",
    "        self.SOC = self.SOC - p_used + 1 * (0.2 * 0 - 1/0.2 * 0)\n",
    "        \n",
    "        if self.SOC <= 20:\n",
    "            self.charge = True\n",
    "            print(self.name, \" Needs Charging\")\n",
    "            \n",
    "    def get_soc_perc(self):\n",
    "        'Function that updates the SOC as a percentage'\n",
    "        \n",
    "        self.SOC_perc = self.SOC / 75 *100\n",
    "            \n",
    "    def charging_check(self):\n",
    "        'Function to determine whether the EV is chargin or not'\n",
    "        \n",
    "        if self.SOC_perc < 80 and self.current_activity == \"Home\" or self.SOC_perc < 80 and self.current_activity == \"Work\" :\n",
    "            self.charge = True\n",
    "        else:\n",
    "            self.charge = False\n",
    "            \n",
    "    def charge_EV(self):\n",
    "        'Function to charge the EV'\n",
    "        \n",
    "        self.SOC += 7.104\n",
    "        self.get_soc_perc()\n",
    "        \n",
    "    \n",
    "    \n",
    "    def move(self, destination_node):\n",
    "        self.location = destination_node\n",
    "        self.model.graph.move_agent(self, self.location)\n",
    "        \n",
    "        \n",
    "    def step(self):\n",
    "        \n",
    "        self.charging_check()\n",
    "        \n",
    "        if self.leave_time == self.stepper:\n",
    "            self.move_check = True\n",
    "            \n",
    "        if self.charge:\n",
    "            #print(self.name, \" Charging... \", self.SOC_perc, \", Location: \", self.current_activity)\n",
    "            self.model.schedule.agents[5].update_demand(7.104)\n",
    "            self.charge_EV()\n",
    "            #print(self.name, \" Charging at end of hour \", self.SOC_perc)\n",
    "        \n",
    "        if self.move_check:\n",
    "            self.move_check = False\n",
    "            if self.activity_counter >= len(self.activities):\n",
    "                next_activity = \"Home\"\n",
    "            else:\n",
    "                next_activity = self.activities[self.activity_counter]\n",
    "\n",
    "            destination = self.find_node(next_activity)\n",
    "            path = self.get_path(self.location, destination)\n",
    "            distance = self.get_distance(path)\n",
    "            self.distance_travelled += distance\n",
    "            self.update_soc(distance)\n",
    "            self.get_soc_perc()\n",
    "            \n",
    "            self.move(destination)\n",
    "            \n",
    "            self.current_activity = next_activity\n",
    "            self.activity_timer = self.activity_dict[destination]['time'] + 1\n",
    "            \n",
    "            self.activity_counter += 1\n",
    "\n",
    "\n",
    "            #self.distance_travelled += distance\n",
    "            'Work out battery SOC'\n",
    "            \n",
    "        self.activity_timer -= 1\n",
    "        \n",
    "        if self.activity_timer == 0 and self.activity_counter <= len(self.activities):\n",
    "            self.move_check = True\n",
    "            \n",
    "        self.stepper += 1 \n",
    "            \n"
   ]
  },
  {
   "cell_type": "code",
   "execution_count": null,
   "metadata": {},
   "outputs": [],
   "source": [
    "class EVAggregatorAgent(mesa.Agent):\n",
    "    \n",
    "    'Agent to aggregate data from the EVs'\n",
    "    \n",
    "    def __init__(self, model):\n",
    "        super().__init__(self, model)\n",
    "        self.stepper = 0\n",
    "        self.agent_name = \"EV_Aggregator_Agent\"\n",
    "        self.EV_demand = 0\n",
    "        \n",
    "    def update_demand(self, demand):\n",
    "        'Function to update the total EV demand, called by EV agents'\n",
    "        \n",
    "        self.EV_demand += demand\n",
    "        \n",
    "    def step(self):\n",
    "        self.model.schedule.agents[6].update_EV_load(self.EV_demand)\n",
    "        self.EV_demand = 0\n"
   ]
  },
  {
   "cell_type": "code",
   "execution_count": null,
   "metadata": {},
   "outputs": [],
   "source": [
    "class ControlAgent(mesa.Agent):\n",
    "    \n",
    "    'An agent to control the microgrid.'\n",
    "    \n",
    "    def __init__(self, model):\n",
    "        super().__init__(self, model)\n",
    "        self.stepper = 0\n",
    "        self.agent_name = \"Control_Agent\"\n",
    "        self.pv_output = 0\n",
    "        self.wt_output = 0\n",
    "        self.total_resi_load = 0\n",
    "        self.EV_load = 0\n",
    "        self.total_demand = 0\n",
    "        self.total_gen = 0\n",
    "        self.resi = []\n",
    "        self.ev = []\n",
    "        \n",
    "    def update_pv(self, new_pv):\n",
    "        self.pv_output = new_pv\n",
    "        \n",
    "    def update_wt(self, new_wt):\n",
    "        self.wt_output = new_wt\n",
    "        \n",
    "    def update_resi_load(self, load):\n",
    "        self.total_resi_load = load\n",
    "        \n",
    "    def update_EV_load(self, load):\n",
    "        self.EV_load = load\n",
    "        \n",
    "    def step(self):\n",
    "        \n",
    "        self.total_demand = self.total_resi_load + self.EV_load\n",
    "        self.total_gen = self.pv_output + self.wt_output\n",
    "        print(\"\\nTotal Generation: \", self.total_gen)\n",
    "        print(\"Total Demand: \", self.total_demand)\n",
    "        self.resi.append(self.total_resi_load)\n",
    "        self.ev.append(self.EV_load)\n",
    "        \n",
    "#         if self.stepper == 23:\n",
    "#             print(\"Load: \", self.resi)\n",
    "#             print(\"EV: \", self.ev)\n",
    "        \n",
    "        self.stepper += 1"
   ]
  },
  {
   "cell_type": "code",
   "execution_count": null,
   "metadata": {},
   "outputs": [],
   "source": [
    "class MicrogridModel(mesa.Model):\n",
    "    \n",
    "    'A model to simulate a microgrid.'\n",
    "    \n",
    "    def __init__(self, pv_size, irr, ws, df, graph, activities):\n",
    "        self.month = 0\n",
    "        self.panel_size = pv_size\n",
    "        self.solar_data = irr\n",
    "        self.wind_data = ws\n",
    "        self.resi_df = df\n",
    "        self.resi_df_format = {}\n",
    "        self.houses = self.resi_df.keys()\n",
    "        self.graph = NetworkGrid(graph)\n",
    "        self.activities= activities\n",
    "        \n",
    "        self.schedule = mesa.time.BaseScheduler(self)\n",
    "        \n",
    "        self.day = 0\n",
    "        self.month = 0\n",
    "        \n",
    "        self.update_load_data()\n",
    "        \n",
    "        #Create agents\n",
    "        \n",
    "        #print(type(self.graph))\n",
    "        \n",
    "        res = RESAgent(self.panel_size, self)\n",
    "        residential = ResiLoadAgent(self, self.resi_df_format)\n",
    "        ev1 = EVAgent(self, activities, \"EV1\")\n",
    "        ev2 = EVAgent(self, activities, \"EV2\")\n",
    "        ev3= EVAgent(self, activities, \"EV3\")\n",
    "        ev_agg = EVAggregatorAgent(self)\n",
    "        ctrl = ControlAgent(self)\n",
    "\n",
    "        self.schedule.add(res)\n",
    "        self.schedule.add(residential)\n",
    "        self.schedule.add(ev1)\n",
    "        self.schedule.add(ev2)\n",
    "        self.schedule.add(ev3)\n",
    "        self.schedule.add(ev_agg)\n",
    "        self.schedule.add(ctrl)\n",
    "        \n",
    "        self.graph.place_agent(ev1, 0)\n",
    "        self.graph.place_agent(ev2, 0)\n",
    "        self.graph.place_agent(ev3, 0)\n",
    "        \n",
    "    def update_date(self):\n",
    "        'Update to whether weekday or weekend data is being taken'\n",
    "        self.month += 1 if self.day == 1 else 0\n",
    "        self.day += 1 if self.day == 0 else -1\n",
    "        \n",
    "    def update_load_data(self):\n",
    "        'Function to update the data in the dataframe to the latest days'\n",
    "        for i in self.houses:\n",
    "            self.resi_df_format[i] = self.resi_df[i][self.month][self.day]\n",
    "        \n",
    "        \n",
    "    def step(self):\n",
    "        'Move the model forward by one time step'\n",
    "        self.update_load_data()\n",
    "        #print(\"Data: \", self.resi_df_format)\n",
    "        for i in range(24):\n",
    "            print(\"\\nHour: \", i)\n",
    "            self.schedule.step()\n",
    "            \n",
    "    "
   ]
  },
  {
   "cell_type": "code",
   "execution_count": null,
   "metadata": {},
   "outputs": [],
   "source": []
  },
  {
   "cell_type": "markdown",
   "metadata": {},
   "source": [
    "activities = {0: {\"name\": \"Home\", \"time\" : 0},\n",
    "             1: {\"name\": \"Shopping\", \"time\" : 2},\n",
    "             2: {\"name\": \"Other\", \"time\" : 1},\n",
    "             3: {\"name\": \"Sport\", \"time\" : 2},\n",
    "             4: {\"name\": \"Other\", \"time\" : 1},\n",
    "             5: {\"name\": \"Work\", \"time\" : 8}}"
   ]
  },
  {
   "cell_type": "code",
   "execution_count": null,
   "metadata": {},
   "outputs": [],
   "source": [
    "activities = {0: {\"name\": \"Home\", \"node\": 0, \"time\" : 0},\n",
    "             1: {\"name\": \"Shopping\", \"node\": 1, \"time\" : 2},\n",
    "             2: {\"name\": \"Other\", \"node\": 2, \"time\" : 1},\n",
    "             3: {\"name\": \"Sport\", \"node\": 3, \"time\" : 2},\n",
    "             4: {\"name\": \"Other\", \"node\": 4, \"time\" : 1},\n",
    "             5: {\"name\": \"Work\", \"node\": 5, \"time\" : 4},\n",
    "             6: {\"name\": \"Work\", \"node\": 5, \"time\" : 4},\n",
    "             7: {\"name\": \"Food\", \"node\": 2, \"time\" : 1}}"
   ]
  },
  {
   "cell_type": "code",
   "execution_count": null,
   "metadata": {},
   "outputs": [],
   "source": [
    "probs = [0.1, 0.1,0.1,0.1, 0.25, 0.25, 0.1]"
   ]
  },
  {
   "cell_type": "code",
   "execution_count": null,
   "metadata": {},
   "outputs": [],
   "source": [
    "nodes = {0: {\"name\": \"Home\"},\n",
    "             1: {\"name\": \"Shopping\"},\n",
    "             2: {\"name\": \"Food\"},\n",
    "             3: {\"name\": \"Sport\"},\n",
    "             4: {\"name\": \"Other\"},\n",
    "             5: {\"name\": \"Work\"}}"
   ]
  },
  {
   "cell_type": "code",
   "execution_count": null,
   "metadata": {},
   "outputs": [],
   "source": [
    "edges = {(0, 1):{\"weight\": 4},\n",
    "        (0, 3):{\"weight\": 4},\n",
    "        (0, 2):{\"weight\": 3},\n",
    "        (0, 4):{\"weight\": 3},\n",
    "        (0, 5):{\"weight\": 5},\n",
    "        (1, 3):{\"weight\": 3},\n",
    "        (4, 2):{\"weight\": 4},\n",
    "        (5, 4):{\"weight\": 2},\n",
    "        (5, 2):{\"weight\": 2}}"
   ]
  },
  {
   "cell_type": "code",
   "execution_count": null,
   "metadata": {},
   "outputs": [],
   "source": [
    "nx.set_node_attributes(G, nodes)"
   ]
  },
  {
   "cell_type": "code",
   "execution_count": null,
   "metadata": {},
   "outputs": [],
   "source": [
    "nx.set_edge_attributes(G, edges)"
   ]
  },
  {
   "cell_type": "code",
   "execution_count": null,
   "metadata": {},
   "outputs": [],
   "source": []
  },
  {
   "cell_type": "code",
   "execution_count": null,
   "metadata": {
    "scrolled": false
   },
   "outputs": [],
   "source": [
    "empty_model = MicrogridModel(10, solar_data, wind_data, df, G, activities)\n",
    "empty_model.step()"
   ]
  },
  {
   "cell_type": "markdown",
   "metadata": {},
   "source": [
    "Use method of moments to get alpha and beta parameters of beta distribution"
   ]
  },
  {
   "cell_type": "code",
   "execution_count": null,
   "metadata": {
    "scrolled": true
   },
   "outputs": [],
   "source": [
    "for i in range(10):\n",
    "\n",
    "    n = np.random.choice(np.arange(3, 6))\n",
    "    #c= np.random.choice(np.arange(1, 6))\n",
    "    choices = np.random.choice(np.arange(1,6), size=4, replace=False, p=probs)\n",
    "    result = []\n",
    "    for x in choices:\n",
    "        result.append(activities[x]['name'])\n",
    "    print(\"Activities: \", result)\n"
   ]
  },
  {
   "cell_type": "code",
   "execution_count": null,
   "metadata": {},
   "outputs": [],
   "source": []
  },
  {
   "cell_type": "code",
   "execution_count": null,
   "metadata": {},
   "outputs": [],
   "source": [
    "for i in range(10):\n",
    "\n",
    "    n = np.random.choice(np.arange(3, 6))\n",
    "    c= np.random.choice(np.arange(1, 6))\n",
    "    choices = []\n",
    "    for x in range(n):\n",
    "        choices.append(self.activity_dict[c]['name'])\n",
    "    return choices"
   ]
  },
  {
   "cell_type": "code",
   "execution_count": null,
   "metadata": {},
   "outputs": [],
   "source": [
    "for i in range(10):\n",
    "    \n",
    "    n = np.random.choice(np.arange(3, 6))\n",
    "    choices = []\n",
    "    \n",
    "    while len(choices) < n:\n",
    "        \n",
    "    "
   ]
  },
  {
   "cell_type": "code",
   "execution_count": null,
   "metadata": {},
   "outputs": [],
   "source": [
    "\n",
    "np.random.choice(np.arange(1,6), size=4, replace=False, p=probs)"
   ]
  },
  {
   "cell_type": "code",
   "execution_count": null,
   "metadata": {},
   "outputs": [],
   "source": [
    "def random_exclude(n, end, start = 0):\n",
    "        return list(range(1,n)) + list(range(n+1, end))"
   ]
  },
  {
   "cell_type": "code",
   "execution_count": null,
   "metadata": {},
   "outputs": [],
   "source": [
    "probs = {0:0, 1: 0.15, 2:0.15, 3:0.15, 4:0.15, 5:0.25}"
   ]
  },
  {
   "cell_type": "code",
   "execution_count": null,
   "metadata": {},
   "outputs": [],
   "source": [
    "test = random_exclude(3, 6)\n",
    "test"
   ]
  },
  {
   "cell_type": "code",
   "execution_count": null,
   "metadata": {},
   "outputs": [],
   "source": [
    "for i in test:\n",
    "    print(probs[i])"
   ]
  },
  {
   "cell_type": "code",
   "execution_count": null,
   "metadata": {},
   "outputs": [],
   "source": [
    "def find_node(activity):\n",
    "    'Function to find nodes that match the activity'\n",
    "    nodes = []\n",
    "    for i in G.nodes():\n",
    "        #value = self.activity_dict[activity]['name']\n",
    "        if G.nodes[i]['name'] == activity:\n",
    "            nodes.append(i)\n",
    "    target = random.choice(nodes)\n",
    "    return target"
   ]
  },
  {
   "cell_type": "code",
   "execution_count": null,
   "metadata": {},
   "outputs": [],
   "source": [
    "find_node(\"Other\")"
   ]
  },
  {
   "cell_type": "code",
   "execution_count": null,
   "metadata": {},
   "outputs": [],
   "source": [
    "resi_load = [13.164893779020925, 10.783805214169792, 10.143040788078107, 9.837462577116227, 9.77838491162489, 11.14028582098871, 16.495833611239746, 30.98065868305863, 27.529982385924445, 21.288067242026145, 20.07174397622505, 19.28994558049473, 20.513706130503387, 19.774460240322465, 20.25812093792483, 20.798077155360403, 28.26896730199621, 38.66891444532874, 43.36328627052155, 41.60449969182103, 38.28635595832651, 33.09338967300022, 26.076822613513002, 18.485800593604502]"
   ]
  },
  {
   "cell_type": "code",
   "execution_count": null,
   "metadata": {},
   "outputs": [],
   "source": [
    "ev_load = [21.312, 21.312, 21.312, 21.312, 21.312, 21.312, 0, 0, 0, 0, 0, 0, 0, 0, 0, 0, 0, 0, 0, 0, 0, 0, 7.104, 7.104]"
   ]
  },
  {
   "cell_type": "code",
   "execution_count": null,
   "metadata": {},
   "outputs": [],
   "source": [
    "plt.plot(resi_load)"
   ]
  },
  {
   "cell_type": "code",
   "execution_count": null,
   "metadata": {},
   "outputs": [],
   "source": [
    "plt.plot(ev_load)"
   ]
  },
  {
   "cell_type": "code",
   "execution_count": null,
   "metadata": {},
   "outputs": [],
   "source": []
  }
 ],
 "metadata": {
  "kernelspec": {
   "display_name": "Python 3",
   "language": "python",
   "name": "python3"
  },
  "language_info": {
   "codemirror_mode": {
    "name": "ipython",
    "version": 3
   },
   "file_extension": ".py",
   "mimetype": "text/x-python",
   "name": "python",
   "nbconvert_exporter": "python",
   "pygments_lexer": "ipython3",
   "version": "3.8.3"
  }
 },
 "nbformat": 4,
 "nbformat_minor": 4
}
