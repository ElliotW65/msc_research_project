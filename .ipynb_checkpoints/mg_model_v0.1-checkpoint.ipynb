{
 "cells": [
  {
   "cell_type": "code",
   "execution_count": 1,
   "metadata": {},
   "outputs": [],
   "source": [
    "import pickle\n",
    "import mesa\n",
    "import mesa.time\n",
    "from mesa.space import NetworkGrid\n",
    "import numpy as np\n",
    "import pandas as pd\n",
    "import random\n",
    "import matplotlib.pyplot as plt\n",
    "import networkx as nx\n"
   ]
  },
  {
   "cell_type": "code",
   "execution_count": 47,
   "metadata": {},
   "outputs": [],
   "source": [
    "df = pickle.load(open(\"C:/Users/Ellio/OneDrive/Documents/Masters/Y2/Dissertation/MSc-Project/data/aggregated_data.p\", 'rb'))"
   ]
  },
  {
   "cell_type": "code",
   "execution_count": 48,
   "metadata": {},
   "outputs": [],
   "source": [
    "G = nx.read_gpickle(\"C:/Users/Ellio/OneDrive/Documents/Masters/Y2/Dissertation/MSc-Project/data/graph.p\")"
   ]
  },
  {
   "cell_type": "code",
   "execution_count": 2,
   "metadata": {},
   "outputs": [],
   "source": [
    "class RESAgent(mesa.Agent):\n",
    "    \n",
    "    'An agent for the renewable energy sources in the microgrid.'\n",
    "    \n",
    "    def __init__(self, pv_size, model):\n",
    "        super().__init__(pv_size, model)\n",
    "        self.stepper = 0\n",
    "        self.agent_name = \"RES_Agent\"\n",
    "        self.panel_size = pv_size\n",
    "        self.panel_efficiency = 0.26\n",
    "        self.irr = self.model.irradiance\n",
    "        \n",
    "    def step(self):\n",
    "#         pv_gen = self.irr[self.stepper] * self.panel_size * self.panel_efficiency\n",
    "#         self.model.schedule.agents[2].update_pv(pv_gen)\n",
    "         self.stepper += 1"
   ]
  },
  {
   "cell_type": "code",
   "execution_count": 3,
   "metadata": {},
   "outputs": [],
   "source": [
    "class BatteryAgent(mesa.Agent):\n",
    "    \n",
    "    'An agent to control the battery.'\n",
    "    \n",
    "    def __init__(self, model):\n",
    "        super().__init__(self, model)\n",
    "        self.stepper = 0\n",
    "        self.agent_name = \"Battery_Agent\"\n",
    "        \n",
    "    def update_pv(self, new_pv):\n",
    "        self.pv_output = new_pv\n",
    "        \n",
    "    def step(self):\n",
    "#         print(\"PV Ouptut: \", self.pv_output)\n",
    "         self.stepper += 1"
   ]
  },
  {
   "cell_type": "code",
   "execution_count": 4,
   "metadata": {},
   "outputs": [],
   "source": [
    "class ResiLoadAgent(mesa.Agent):\n",
    "    \n",
    "    'An agent for the residential loads in the microgrid'\n",
    "    \n",
    "    def __init__(self, model, df):\n",
    "        super().__init__(self, model)\n",
    "        self.stepper = 0\n",
    "        self.day = 0\n",
    "        self.month = 0\n",
    "        self.agent_name = \"Resi_Load_Agent\"\n",
    "        self.df = df\n",
    "        self.houses = self.df.keys()\n",
    "        self.total_load = 0\n",
    "        print(\"Houses: \", self.houses)\n",
    "        \n",
    "    def update_load_data(self):\n",
    "        'Function to update the data in the dataframe to the latest days'\n",
    "        for i in self.houses:\n",
    "            self.df[i] = self.model.resi_df_format[i]\n",
    "            \n",
    "    def update_day(self):\n",
    "        'Update to whether weekday or weekend data is being taken'\n",
    "        self.day += 1 if self.day == 0 else -1\n",
    "        self.month += 1 if self.day == 1 else 0\n",
    "        \n",
    "    def sum_load(self):\n",
    "        'Function to calculate the total load for the current time period'\n",
    "        #self.total_load += 1\n",
    "        for i in self.houses:\n",
    "            #print(\"i: \", i)\n",
    "            self.total_load += self.df[i].iloc[self.stepper]\n",
    "\n",
    "    \n",
    "    \n",
    "    \n",
    "    def step(self):\n",
    "#         self.total_load = 0\n",
    "#         self.update_load_data()\n",
    "#         self.sum_load()\n",
    "#         self.model.schedule.agents[2].update_resi_load(self.total_load.iloc[0])\n",
    "#         #self.update_day()\n",
    "         self.stepper += 1\n",
    "        \n",
    "    \n",
    "        \n",
    "        "
   ]
  },
  {
   "cell_type": "code",
   "execution_count": 5,
   "metadata": {},
   "outputs": [],
   "source": [
    "class EVAgent(mesa.Agent):\n",
    "    \n",
    "    'An agent to control the electric vehicles'\n",
    "    \n",
    "    def __init__(self, model, activities, name):\n",
    "        super().__init__(self, model)\n",
    "        G = self.model.graph\n",
    "        self.stepper = 0\n",
    "        \n",
    "        self.SOC = 64\n",
    "        self.SOC_perc = 0\n",
    "        self.get_soc_perc()\n",
    "        self.charge = False\n",
    "        self.location = 0\n",
    "        self.distance_travelled = 0\n",
    "        self.battery_soc = None\n",
    "        self.activity_dict = activities\n",
    "        self.activity = 0\n",
    "        self.move_check = False\n",
    "        self.activity_timer = 0\n",
    "        self.name = name\n",
    "        self.leave_time = self.leave_time()\n",
    "        \n",
    "    def random_exclude(self, n, end, start = 0):\n",
    "        return list(range(1,n)) + list(range(n+1, end))\n",
    "    \n",
    "    def find_node(self, activity):\n",
    "        'Function to find nodes that match the activity'\n",
    "        \n",
    "        for i in G.nodes():\n",
    "            value = self.activity_dict[activity]['name']\n",
    "            if G.nodes[i]['name'] == activity:\n",
    "                return i\n",
    "            \n",
    "    def get_path(self, start, end):\n",
    "        'Function to return the shortest path from the starting node to the end node specified'\n",
    "        \n",
    "        return nx.shortest_path(G,source=start,target=end)\n",
    "    \n",
    "    def get_distance(self, path):\n",
    "        'Function to compute the distance of the path specified'\n",
    "        \n",
    "        distance = 0\n",
    "        \n",
    "        for i in range(len(path)-1):\n",
    "            distance += G.edges[path[i], path[i+1]]['weight']\n",
    "            \n",
    "        return distance\n",
    "    \n",
    "    def leave_time(self):\n",
    "        'Function to decide a time to leave in the morning between 6 and 10 based on prob dist'\n",
    "        \n",
    "        return np.random.choice(np.arange(6, 10), p=[0.15, 0.35, 0.35, 0.15])\n",
    "    \n",
    "    def update_soc(self, distance):\n",
    "        'Function to calculate the SOC of the battery after the most recent trip'\n",
    "        \n",
    "        p_used = distance * 0.24\n",
    "        \n",
    "        self.SOC = self.SOC - p_used + 1 * (0.2 * 0 - 1/0.2 * 0)\n",
    "        \n",
    "        if self.SOC <= 20:\n",
    "            self.charge = True\n",
    "            print(self.name, \" Needs Charging\")\n",
    "            \n",
    "    def get_soc_perc(self):\n",
    "        'Function that updates the SOC as a percentage'\n",
    "        \n",
    "        self.SOC_perc = self.SOC / 75 *100\n",
    "            \n",
    "    def charging_check(self):\n",
    "        'Function to determine whether the EV is chargin or not'\n",
    "        \n",
    "        if self.SOC_perc < 80 and self.activity == 0 or self.SOC_perc < 80 and self.activity == 3 :\n",
    "            self.charge = True\n",
    "        \n",
    "    \n",
    "    \n",
    "    def move(self, destination_node):\n",
    "        self.location = destination_node\n",
    "        self.model.graph.move_agent(self, self.location)\n",
    "        \n",
    "        \n",
    "    def step(self):\n",
    "        \n",
    "        self.charging_check()\n",
    "        \n",
    "        if self.leave_time == self.stepper:\n",
    "            self.move_check = True\n",
    "            \n",
    "        if self.charge:\n",
    "            print(self.name, \": Charging\")\n",
    "        \n",
    "            #print(self.name,\": Location: \", self.location, \" Activity: \", self.activity_dict[self.activity]['name'], \"\\nLeave Time: \",\n",
    "                 #self.leave_time)\n",
    "        \n",
    "        if self.move_check:\n",
    "            self.move_check = False\n",
    "            #num = random.choice(self.random_exclude(self.activity, len(self.activity_dict)))\n",
    "            num = random.choice(self.random_exclude(self.activity, 4))\n",
    "\n",
    "            destination = self.find_node(num)\n",
    "            path = self.get_path(self.location, num)\n",
    "            #print(self.name, \": Path: \", path)\n",
    "            distance = self.get_distance(path)\n",
    "            self.distance_travelled += distance\n",
    "            self.update_soc(distance)\n",
    "            self.get_soc_perc()\n",
    "            print(self.name, \": Location: \", self.activity_dict[num]['name'], \" Distance: \", self.distance_travelled, \" New SOC: \", self.SOC, \" kWh, Perc: \", self.SOC_perc, \"%\" )\n",
    "            self.activity = num\n",
    "            #time = self.activity_dict[num]['time']\n",
    "            #print(self.name,\": Destination: \", self.activity_dict[num]['name'])\n",
    "            self.move(num)\n",
    "            self.activity_timer = self.activity_dict[num]['time'] + 1\n",
    "\n",
    "\n",
    "            #self.distance_travelled += distance\n",
    "            'Work out battery SOC'\n",
    "            \n",
    "        self.activity_timer -= 1\n",
    "        \n",
    "        if self.activity_timer == 0:\n",
    "            self.move_check = True\n",
    "            \n",
    "        self.stepper += 1 \n",
    "            \n"
   ]
  },
  {
   "cell_type": "code",
   "execution_count": 6,
   "metadata": {},
   "outputs": [],
   "source": [
    "class ControlAgent(mesa.Agent):\n",
    "    \n",
    "    'An agent to control the microgrid.'\n",
    "    \n",
    "    def __init__(self, model):\n",
    "        super().__init__(self, model)\n",
    "        self.stepper = 0\n",
    "        self.agent_name = \"Control_Agent\"\n",
    "        self.pv_output = 0\n",
    "        self.total_resi_load = 0\n",
    "        \n",
    "    def update_pv(self, new_pv):\n",
    "        self.pv_output = new_pv\n",
    "        \n",
    "    def update_resi_load(self, load):\n",
    "        self.total_resi_load = load\n",
    "        \n",
    "    def step(self):\n",
    "#         print(\"Hour: \", self.stepper)\n",
    "#         print(\"PV Ouptut: \", self.pv_output)\n",
    "#         print(\"Load Ouptut: \", self.total_resi_load)\n",
    "        print(\"Stepper: \", self.stepper)\n",
    "        self.stepper += 1"
   ]
  },
  {
   "cell_type": "code",
   "execution_count": 7,
   "metadata": {},
   "outputs": [],
   "source": [
    "class MicrogridModel(mesa.Model):\n",
    "    \n",
    "    'A model to simulate a microgrid.'\n",
    "    \n",
    "    def __init__(self, pv_size, df, graph, activities):\n",
    "        self.panel_size = pv_size\n",
    "        self.irradiance = [298.64,433.69,121.76,116.84,89.31,6.3]\n",
    "        self.resi_df = df\n",
    "        self.resi_df_format = {}\n",
    "        self.houses = self.resi_df.keys()\n",
    "        self.graph = NetworkGrid(graph)\n",
    "        self.activities= activities\n",
    "        \n",
    "        self.schedule = mesa.time.BaseScheduler(self)\n",
    "        \n",
    "        self.day = 0\n",
    "        self.month = 0\n",
    "        \n",
    "        self.update_load_data()\n",
    "        \n",
    "        #Create agents\n",
    "        \n",
    "        print(type(self.graph))\n",
    "        \n",
    "        res = RESAgent(self.panel_size, self)\n",
    "        residential = ResiLoadAgent(self, self.resi_df_format)\n",
    "        ev1 = EVAgent(self, activities, \"EV1\")\n",
    "        ev2 = EVAgent(self, activities, \"EV2\")\n",
    "        ev3= EVAgent(self, activities, \"EV3\")\n",
    "        ctrl = ControlAgent(self)\n",
    "\n",
    "        self.schedule.add(res)\n",
    "        self.schedule.add(residential)\n",
    "        self.schedule.add(ev1)\n",
    "        self.schedule.add(ev2)\n",
    "        self.schedule.add(ev3)\n",
    "        self.schedule.add(ctrl)\n",
    "        \n",
    "        self.graph.place_agent(ev1, 0)\n",
    "        self.graph.place_agent(ev2, 0)\n",
    "        self.graph.place_agent(ev3, 0)\n",
    "        \n",
    "    def update_date(self):\n",
    "        'Update to whether weekday or weekend data is being taken'\n",
    "        self.month += 1 if self.day == 1 else 0\n",
    "        self.day += 1 if self.day == 0 else -1\n",
    "        \n",
    "    def update_load_data(self):\n",
    "        'Function to update the data in the dataframe to the latest days'\n",
    "        for i in self.houses:\n",
    "            self.resi_df_format[i] = self.resi_df[i][self.month][self.day]\n",
    "        \n",
    "        \n",
    "    def step(self):\n",
    "        'Move the model forward by one time step'\n",
    "        self.update_load_data()\n",
    "        #print(\"Data: \", self.resi_df_format)\n",
    "        for i in range(24):\n",
    "            self.schedule.step()\n",
    "            \n",
    "    "
   ]
  },
  {
   "cell_type": "markdown",
   "metadata": {},
   "source": [
    "G = nx.random_geometric_graph(6, 0.5)"
   ]
  },
  {
   "cell_type": "code",
   "execution_count": 49,
   "metadata": {},
   "outputs": [],
   "source": [
    "activities = {0: {\"name\": \"Home\", \"time\" : 0},\n",
    "             1: {\"name\": \"Shopping\", \"time\" : 2},\n",
    "             2: {\"name\": \"Other\", \"time\" : 1},\n",
    "             3: {\"name\": \"Sport\", \"time\" : 2},\n",
    "             4: {\"name\": \"Other\", \"time\" : 1},\n",
    "             5: {\"name\": \"Work\", \"time\" : 8}}"
   ]
  },
  {
   "cell_type": "code",
   "execution_count": 50,
   "metadata": {},
   "outputs": [],
   "source": [
    "nodes = {0: {\"name\": \"Home\"},\n",
    "             1: {\"name\": \"Shopping\"},\n",
    "             2: {\"name\": \"Other\"},\n",
    "             3: {\"name\": \"Sport\"},\n",
    "             4: {\"name\": \"Other\"},\n",
    "             5: {\"name\": \"Work\"}}"
   ]
  },
  {
   "cell_type": "code",
   "execution_count": 56,
   "metadata": {},
   "outputs": [],
   "source": [
    "edges = {(0, 1):{\"weight\": 4},\n",
    "        (0, 3):{\"weight\": 4},\n",
    "        (0, 2):{\"weight\": 3},\n",
    "        (0, 4):{\"weight\": 3},\n",
    "        (0, 5):{\"weight\": 5},\n",
    "        (1, 3):{\"weight\": 3},\n",
    "        (4, 2):{\"weight\": 4},\n",
    "        (5, 4):{\"weight\": 2},\n",
    "        (5, 2):{\"weight\": 2}}"
   ]
  },
  {
   "cell_type": "code",
   "execution_count": 57,
   "metadata": {},
   "outputs": [],
   "source": [
    "nx.set_node_attributes(G, nodes)"
   ]
  },
  {
   "cell_type": "code",
   "execution_count": 58,
   "metadata": {},
   "outputs": [],
   "source": [
    "nx.set_edge_attributes(G, edges)"
   ]
  },
  {
   "cell_type": "code",
   "execution_count": 59,
   "metadata": {
    "scrolled": true
   },
   "outputs": [
    {
     "data": {
      "image/png": "[encoded data removed]",
      "text/plain": [
       "<Figure size 432x288 with 1 Axes>"
      ]
     },
     "metadata": {},
     "output_type": "display_data"
    }
   ],
   "source": [
    "nx.draw(G, with_labels=True)"
   ]
  },
  {
   "cell_type": "code",
   "execution_count": 62,
   "metadata": {
    "scrolled": true
   },
   "outputs": [
    {
     "name": "stdout",
     "output_type": "stream",
     "text": [
      "<class 'mesa.space.NetworkGrid'>\n",
      "Houses:  dict_keys([59, 61, 62, 64, 63, 65, 67, 66, 68, 70, 73, 69, 75, 72, 74, 78, 71, 77, 76, 79, 81, 88, 86, 83, 82, 85, 89, 90, 92, 93, 98, 94, 96, 97, 100, 101, 99, 102, 107, 106, 109, 110, 105, 114, 115, 116, 118, 121, 126, 129, 117, 119, 122, 123, 125, 133, 134, 135, 128, 167])\n",
      "Stepper:  0\n",
      "Stepper:  1\n",
      "Stepper:  2\n",
      "Stepper:  3\n",
      "Stepper:  4\n",
      "Stepper:  5\n",
      "EV1 : Location:  Shopping  Distance:  4  New SOC:  63.04  kWh, Perc:  84.05333333333334 %\n",
      "EV2 : Location:  Sport  Distance:  4  New SOC:  63.04  kWh, Perc:  84.05333333333334 %\n",
      "EV3 : Location:  Shopping  Distance:  4  New SOC:  63.04  kWh, Perc:  84.05333333333334 %\n",
      "Stepper:  6\n",
      "Stepper:  7\n",
      "Stepper:  8\n",
      "EV1 : Location:  Sport  Distance:  7  New SOC:  62.32  kWh, Perc:  83.09333333333333 %\n",
      "EV2 : Location:  Shopping  Distance:  7  New SOC:  62.32  kWh, Perc:  83.09333333333333 %\n",
      "EV3 : Location:  Other  Distance:  11  New SOC:  61.36  kWh, Perc:  81.81333333333333 %\n",
      "Stepper:  9\n",
      "Stepper:  10\n",
      "EV3 : Location:  Shopping  Distance:  18  New SOC:  59.68  kWh, Perc:  79.57333333333332 %\n",
      "Stepper:  11\n",
      "EV1 : Location:  Shopping  Distance:  10  New SOC:  61.6  kWh, Perc:  82.13333333333334 %\n",
      "EV2 : Location:  Other  Distance:  14  New SOC:  60.64  kWh, Perc:  80.85333333333334 %\n",
      "Stepper:  12\n",
      "Stepper:  13\n",
      "EV2 : Location:  Shopping  Distance:  21  New SOC:  58.96  kWh, Perc:  78.61333333333333 %\n",
      "EV3 : Location:  Sport  Distance:  21  New SOC:  58.96  kWh, Perc:  78.61333333333333 %\n",
      "Stepper:  14\n",
      "EV1 : Location:  Sport  Distance:  13  New SOC:  60.88  kWh, Perc:  81.17333333333335 %\n",
      "EV3 : Charging\n",
      "Stepper:  15\n",
      "EV3 : Charging\n",
      "Stepper:  16\n",
      "EV2 : Location:  Sport  Distance:  24  New SOC:  58.24  kWh, Perc:  77.65333333333334 %\n",
      "EV3 : Charging\n",
      "EV3 : Location:  Shopping  Distance:  24  New SOC:  58.24  kWh, Perc:  77.65333333333334 %\n",
      "Stepper:  17\n",
      "EV1 : Location:  Other  Distance:  20  New SOC:  59.2  kWh, Perc:  78.93333333333334 %\n",
      "EV2 : Charging\n",
      "EV3 : Charging\n",
      "Stepper:  18\n",
      "EV2 : Charging\n",
      "EV3 : Charging\n",
      "Stepper:  19\n",
      "EV1 : Location:  Sport  Distance:  27  New SOC:  57.52  kWh, Perc:  76.69333333333334 %\n",
      "EV2 : Charging\n",
      "EV2 : Location:  Shopping  Distance:  27  New SOC:  57.52  kWh, Perc:  76.69333333333334 %\n",
      "EV3 : Charging\n",
      "EV3 : Location:  Other  Distance:  31  New SOC:  56.56  kWh, Perc:  75.41333333333333 %\n",
      "Stepper:  20\n",
      "EV1 : Charging\n",
      "EV2 : Charging\n",
      "EV3 : Charging\n",
      "Stepper:  21\n",
      "EV1 : Charging\n",
      "EV2 : Charging\n",
      "EV3 : Charging\n",
      "EV3 : Location:  Sport  Distance:  38  New SOC:  54.88  kWh, Perc:  73.17333333333333 %\n",
      "Stepper:  22\n",
      "EV1 : Charging\n",
      "EV1 : Location:  Shopping  Distance:  30  New SOC:  56.800000000000004  kWh, Perc:  75.73333333333335 %\n",
      "EV2 : Charging\n",
      "EV2 : Location:  Other  Distance:  34  New SOC:  55.84  kWh, Perc:  74.45333333333333 %\n",
      "EV3 : Charging\n",
      "Stepper:  23\n"
     ]
    }
   ],
   "source": [
    "empty_model = MicrogridModel(10, df, G, activities)\n",
    "empty_model.step()"
   ]
  },
  {
   "cell_type": "markdown",
   "metadata": {},
   "source": [
    "Use method of moments to get alpha and beta parameters of beta distribution"
   ]
  },
  {
   "cell_type": "code",
   "execution_count": 170,
   "metadata": {},
   "outputs": [],
   "source": [
    "samples = [np.random.choice(np.arange(6, 10), p=[0.20, 0.40, 0.30, 0.10]) for i in range(1000)]\n",
    "sampels = np.sort(samples)"
   ]
  },
  {
   "cell_type": "code",
   "execution_count": 171,
   "metadata": {
    "scrolled": true
   },
   "outputs": [
    {
     "data": {
      "text/plain": [
       "(array([188.,   0.,   0., 402.,   0.,   0., 320.,   0.,   0.,  90.]),\n",
       " array([6. , 6.3, 6.6, 6.9, 7.2, 7.5, 7.8, 8.1, 8.4, 8.7, 9. ]),\n",
       " <a list of 10 Patch objects>)"
      ]
     },
     "execution_count": 171,
     "metadata": {},
     "output_type": "execute_result"
    },
    {
     "data": {
      "image/png": "[encoded data removed]",
      "text/plain": [
       "<Figure size 432x288 with 1 Axes>"
      ]
     },
     "metadata": {
      "needs_background": "light"
     },
     "output_type": "display_data"
    }
   ],
   "source": [
    "plt.hist(sampels)"
   ]
  },
  {
   "cell_type": "markdown",
   "metadata": {},
   "source": [
    "Optimal operation of microgrids through simultaneous scheduling of electrical vehicles and responsive loads considering wind and PV units uncertainties"
   ]
  },
  {
   "cell_type": "markdown",
   "metadata": {},
   "source": [
    "EV Battery equation taken from: Evaluation of the electric vehicle impact in the power demand curve\n",
    "in a smart grid environment"
   ]
  },
  {
   "cell_type": "markdown",
   "metadata": {},
   "source": [
    "SOC = SOC(t-1) - E(trip) + dt * (G2V efficiency * charge in t - 1/V2G efficiency * discharge in t)"
   ]
  },
  {
   "cell_type": "code",
   "execution_count": 215,
   "metadata": {},
   "outputs": [],
   "source": [
    "perc = 75\n",
    "activity = 2\n",
    "\n",
    "if perc < 80 and activity == 0 or perc < 80 and activity and activity == 3:\n",
    "    print(\"True\")"
   ]
  },
  {
   "cell_type": "code",
   "execution_count": null,
   "metadata": {},
   "outputs": [],
   "source": []
  }
 ],
 "metadata": {
  "kernelspec": {
   "display_name": "Python 3",
   "language": "python",
   "name": "python3"
  },
  "language_info": {
   "codemirror_mode": {
    "name": "ipython",
    "version": 3
   },
   "file_extension": ".py",
   "mimetype": "text/x-python",
   "name": "python",
   "nbconvert_exporter": "python",
   "pygments_lexer": "ipython3",
   "version": "3.8.3"
  }
 },
 "nbformat": 4,
 "nbformat_minor": 4
}
