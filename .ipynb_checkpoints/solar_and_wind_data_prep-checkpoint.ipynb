{
 "cells": [
  {
   "cell_type": "code",
   "execution_count": 16,
   "metadata": {},
   "outputs": [],
   "source": [
    "import numpy as np\n",
    "import pickle\n",
    "import pandas as pd\n",
    "import datetime as dt\n",
    "from datetime import timedelta\n",
    "from dateutil.relativedelta import relativedelta\n",
    "import matplotlib.pyplot as plt\n",
    "from scipy.stats import beta\n",
    "import scipy.integrate as integrate\n",
    "import random\n",
    "from scipy.special import gamma"
   ]
  },
  {
   "cell_type": "code",
   "execution_count": 2,
   "metadata": {},
   "outputs": [],
   "source": [
    "path = 'D:/Documents/MSc Project/data/'\n",
    "file = 'solar_irradiance_edinburgh.csv'\n",
    "filepath = path + file"
   ]
  },
  {
   "cell_type": "code",
   "execution_count": 3,
   "metadata": {},
   "outputs": [
    {
     "data": {
      "text/plain": [
       "'D:/Documents/MSc Project/data/solar_irradiance_edinburgh.csv'"
      ]
     },
     "execution_count": 3,
     "metadata": {},
     "output_type": "execute_result"
    }
   ],
   "source": [
    "filepath"
   ]
  },
  {
   "cell_type": "code",
   "execution_count": 4,
   "metadata": {},
   "outputs": [],
   "source": [
    "df = pd.read_csv(filepath)\n",
    "df['time'] = df['time'].apply(lambda x: pd.to_datetime(x[0:4] + \"-\" + x[4:6] + \"-\" + x[6:8] + \" \" + x[9:11] + \":00\"))\n",
    "df.set_index('time', inplace=True)"
   ]
  },
  {
   "cell_type": "code",
   "execution_count": 5,
   "metadata": {},
   "outputs": [
    {
     "data": {
      "image/png": "[encoded data removed]",
      "text/plain": [
       "<Figure size 432x288 with 1 Axes>"
      ]
     },
     "metadata": {
      "needs_background": "light"
     },
     "output_type": "display_data"
    }
   ],
   "source": [
    "hist = df['G(i)'].hist(bins=10)"
   ]
  },
  {
   "cell_type": "code",
   "execution_count": 5,
   "metadata": {
    "scrolled": true
   },
   "outputs": [],
   "source": [
    "gi = pd.DataFrame(df['G(i)'])"
   ]
  },
  {
   "cell_type": "code",
   "execution_count": 6,
   "metadata": {},
   "outputs": [
    {
     "data": {
      "text/html": [
       "<div>\n",
       "<style scoped>\n",
       "    .dataframe tbody tr th:only-of-type {\n",
       "        vertical-align: middle;\n",
       "    }\n",
       "\n",
       "    .dataframe tbody tr th {\n",
       "        vertical-align: top;\n",
       "    }\n",
       "\n",
       "    .dataframe thead th {\n",
       "        text-align: right;\n",
       "    }\n",
       "</style>\n",
       "<table border=\"1\" class=\"dataframe\">\n",
       "  <thead>\n",
       "    <tr style=\"text-align: right;\">\n",
       "      <th></th>\n",
       "      <th>G(i)</th>\n",
       "    </tr>\n",
       "    <tr>\n",
       "      <th>time</th>\n",
       "      <th></th>\n",
       "    </tr>\n",
       "  </thead>\n",
       "  <tbody>\n",
       "    <tr>\n",
       "      <th>2005-01-01 00:00:00</th>\n",
       "      <td>0.0</td>\n",
       "    </tr>\n",
       "    <tr>\n",
       "      <th>2005-01-01 01:00:00</th>\n",
       "      <td>0.0</td>\n",
       "    </tr>\n",
       "    <tr>\n",
       "      <th>2005-01-01 02:00:00</th>\n",
       "      <td>0.0</td>\n",
       "    </tr>\n",
       "    <tr>\n",
       "      <th>2005-01-01 03:00:00</th>\n",
       "      <td>0.0</td>\n",
       "    </tr>\n",
       "    <tr>\n",
       "      <th>2005-01-01 04:00:00</th>\n",
       "      <td>0.0</td>\n",
       "    </tr>\n",
       "    <tr>\n",
       "      <th>...</th>\n",
       "      <td>...</td>\n",
       "    </tr>\n",
       "    <tr>\n",
       "      <th>2020-12-31 19:00:00</th>\n",
       "      <td>0.0</td>\n",
       "    </tr>\n",
       "    <tr>\n",
       "      <th>2020-12-31 20:00:00</th>\n",
       "      <td>0.0</td>\n",
       "    </tr>\n",
       "    <tr>\n",
       "      <th>2020-12-31 21:00:00</th>\n",
       "      <td>0.0</td>\n",
       "    </tr>\n",
       "    <tr>\n",
       "      <th>2020-12-31 22:00:00</th>\n",
       "      <td>0.0</td>\n",
       "    </tr>\n",
       "    <tr>\n",
       "      <th>2020-12-31 23:00:00</th>\n",
       "      <td>0.0</td>\n",
       "    </tr>\n",
       "  </tbody>\n",
       "</table>\n",
       "<p>140256 rows × 1 columns</p>\n",
       "</div>"
      ],
      "text/plain": [
       "                     G(i)\n",
       "time                     \n",
       "2005-01-01 00:00:00   0.0\n",
       "2005-01-01 01:00:00   0.0\n",
       "2005-01-01 02:00:00   0.0\n",
       "2005-01-01 03:00:00   0.0\n",
       "2005-01-01 04:00:00   0.0\n",
       "...                   ...\n",
       "2020-12-31 19:00:00   0.0\n",
       "2020-12-31 20:00:00   0.0\n",
       "2020-12-31 21:00:00   0.0\n",
       "2020-12-31 22:00:00   0.0\n",
       "2020-12-31 23:00:00   0.0\n",
       "\n",
       "[140256 rows x 1 columns]"
      ]
     },
     "execution_count": 6,
     "metadata": {},
     "output_type": "execute_result"
    }
   ],
   "source": [
    "gi"
   ]
  },
  {
   "cell_type": "code",
   "execution_count": 7,
   "metadata": {},
   "outputs": [],
   "source": [
    "def increment_month(date):\n",
    "    if (date + timedelta(1)).month == date.month:\n",
    "        return date + relativedelta(months=1)\n",
    "    return (date + relativedelta(months=2)).replace(day=1) - timedelta(1)"
   ]
  },
  {
   "cell_type": "code",
   "execution_count": 8,
   "metadata": {},
   "outputs": [],
   "source": [
    "def reformat_solar_data(data):\n",
    "    'Funciton to remort the data to be catergorised into months days and years'\n",
    "    \n",
    "    result = {}\n",
    "    \n",
    "    start = dt.datetime(2005, 1, 1, 0)\n",
    "    end = dt.datetime(2005, 1, 1, 23)\n",
    "    month = dt.datetime(2005, 1, 31, 23)\n",
    "    \n",
    "    frames = []\n",
    "    \n",
    "    for i in range(12):\n",
    "        result[i] = []\n",
    "\n",
    "        temp_start = start\n",
    "        temp_end = end\n",
    "        temp_month = month\n",
    "\n",
    "        \n",
    "        for x in range(16):\n",
    "            \n",
    "            s = temp_start\n",
    "            e = temp_end\n",
    "            \n",
    "            for n in range(temp_month.day):\n",
    "                \n",
    "                temp_df = data[s:e].copy()\n",
    "                temp_df = temp_df.reset_index()\n",
    "                temp_df = temp_df.rename(columns = {'G(i)': s.date()})\n",
    "                temp_df = temp_df.drop(['time'], axis=1)\n",
    "               #print(temp_df)\n",
    "                temp_df= temp_df.swapaxes(\"index\", \"columns\")\n",
    "                \n",
    "                #print(temp_df)\n",
    "                \n",
    "                result[i].append(temp_df)\n",
    "                \n",
    "                s += relativedelta(days=1)\n",
    "                e += relativedelta(days=1)\n",
    "\n",
    "            \n",
    "            temp_start += relativedelta(years=1)\n",
    "            temp_end += relativedelta(years=1)\n",
    "            temp_month += relativedelta(years=1)\n",
    "            \n",
    "        start = increment_month(start)\n",
    "        end = increment_month(end)\n",
    "        month = increment_month(month)\n",
    "        \n",
    "    return result\n",
    "            \n",
    "        \n",
    "    "
   ]
  },
  {
   "cell_type": "code",
   "execution_count": 9,
   "metadata": {},
   "outputs": [],
   "source": [
    "def concat_months(data):\n",
    "    'Function to concatenate the monthly dataframes into one dataframe'\n",
    "    \n",
    "    for i in data:\n",
    "        data[i] = pd.concat(data[i], axis=0)\n",
    "        \n",
    "    return data"
   ]
  },
  {
   "cell_type": "code",
   "execution_count": 10,
   "metadata": {
    "scrolled": true
   },
   "outputs": [],
   "source": [
    "result = reformat_solar_data(gi)"
   ]
  },
  {
   "cell_type": "code",
   "execution_count": 11,
   "metadata": {},
   "outputs": [],
   "source": [
    "final = concat_months(result)"
   ]
  },
  {
   "cell_type": "code",
   "execution_count": 12,
   "metadata": {},
   "outputs": [
    {
     "data": {
      "text/html": [
       "<div>\n",
       "<style scoped>\n",
       "    .dataframe tbody tr th:only-of-type {\n",
       "        vertical-align: middle;\n",
       "    }\n",
       "\n",
       "    .dataframe tbody tr th {\n",
       "        vertical-align: top;\n",
       "    }\n",
       "\n",
       "    .dataframe thead th {\n",
       "        text-align: right;\n",
       "    }\n",
       "</style>\n",
       "<table border=\"1\" class=\"dataframe\">\n",
       "  <thead>\n",
       "    <tr style=\"text-align: right;\">\n",
       "      <th></th>\n",
       "      <th>0</th>\n",
       "      <th>1</th>\n",
       "      <th>2</th>\n",
       "      <th>3</th>\n",
       "      <th>4</th>\n",
       "      <th>5</th>\n",
       "      <th>6</th>\n",
       "      <th>7</th>\n",
       "      <th>8</th>\n",
       "      <th>9</th>\n",
       "      <th>...</th>\n",
       "      <th>14</th>\n",
       "      <th>15</th>\n",
       "      <th>16</th>\n",
       "      <th>17</th>\n",
       "      <th>18</th>\n",
       "      <th>19</th>\n",
       "      <th>20</th>\n",
       "      <th>21</th>\n",
       "      <th>22</th>\n",
       "      <th>23</th>\n",
       "    </tr>\n",
       "  </thead>\n",
       "  <tbody>\n",
       "    <tr>\n",
       "      <th>2005-01-01</th>\n",
       "      <td>0.0</td>\n",
       "      <td>0.0</td>\n",
       "      <td>0.0</td>\n",
       "      <td>0.0</td>\n",
       "      <td>0.0</td>\n",
       "      <td>0.0</td>\n",
       "      <td>0.0</td>\n",
       "      <td>0.0</td>\n",
       "      <td>0.0</td>\n",
       "      <td>0.00</td>\n",
       "      <td>...</td>\n",
       "      <td>9.03</td>\n",
       "      <td>3.61</td>\n",
       "      <td>0.00</td>\n",
       "      <td>0.0</td>\n",
       "      <td>0.0</td>\n",
       "      <td>0.0</td>\n",
       "      <td>0.0</td>\n",
       "      <td>0.0</td>\n",
       "      <td>0.0</td>\n",
       "      <td>0.0</td>\n",
       "    </tr>\n",
       "    <tr>\n",
       "      <th>2005-01-02</th>\n",
       "      <td>0.0</td>\n",
       "      <td>0.0</td>\n",
       "      <td>0.0</td>\n",
       "      <td>0.0</td>\n",
       "      <td>0.0</td>\n",
       "      <td>0.0</td>\n",
       "      <td>0.0</td>\n",
       "      <td>0.0</td>\n",
       "      <td>0.0</td>\n",
       "      <td>0.00</td>\n",
       "      <td>...</td>\n",
       "      <td>126.70</td>\n",
       "      <td>13.55</td>\n",
       "      <td>0.00</td>\n",
       "      <td>0.0</td>\n",
       "      <td>0.0</td>\n",
       "      <td>0.0</td>\n",
       "      <td>0.0</td>\n",
       "      <td>0.0</td>\n",
       "      <td>0.0</td>\n",
       "      <td>0.0</td>\n",
       "    </tr>\n",
       "    <tr>\n",
       "      <th>2005-01-03</th>\n",
       "      <td>0.0</td>\n",
       "      <td>0.0</td>\n",
       "      <td>0.0</td>\n",
       "      <td>0.0</td>\n",
       "      <td>0.0</td>\n",
       "      <td>0.0</td>\n",
       "      <td>0.0</td>\n",
       "      <td>0.0</td>\n",
       "      <td>0.0</td>\n",
       "      <td>0.00</td>\n",
       "      <td>...</td>\n",
       "      <td>9.03</td>\n",
       "      <td>6.32</td>\n",
       "      <td>0.00</td>\n",
       "      <td>0.0</td>\n",
       "      <td>0.0</td>\n",
       "      <td>0.0</td>\n",
       "      <td>0.0</td>\n",
       "      <td>0.0</td>\n",
       "      <td>0.0</td>\n",
       "      <td>0.0</td>\n",
       "    </tr>\n",
       "    <tr>\n",
       "      <th>2005-01-04</th>\n",
       "      <td>0.0</td>\n",
       "      <td>0.0</td>\n",
       "      <td>0.0</td>\n",
       "      <td>0.0</td>\n",
       "      <td>0.0</td>\n",
       "      <td>0.0</td>\n",
       "      <td>0.0</td>\n",
       "      <td>0.0</td>\n",
       "      <td>0.0</td>\n",
       "      <td>0.00</td>\n",
       "      <td>...</td>\n",
       "      <td>417.75</td>\n",
       "      <td>187.25</td>\n",
       "      <td>0.00</td>\n",
       "      <td>0.0</td>\n",
       "      <td>0.0</td>\n",
       "      <td>0.0</td>\n",
       "      <td>0.0</td>\n",
       "      <td>0.0</td>\n",
       "      <td>0.0</td>\n",
       "      <td>0.0</td>\n",
       "    </tr>\n",
       "    <tr>\n",
       "      <th>2005-01-05</th>\n",
       "      <td>0.0</td>\n",
       "      <td>0.0</td>\n",
       "      <td>0.0</td>\n",
       "      <td>0.0</td>\n",
       "      <td>0.0</td>\n",
       "      <td>0.0</td>\n",
       "      <td>0.0</td>\n",
       "      <td>0.0</td>\n",
       "      <td>0.0</td>\n",
       "      <td>0.00</td>\n",
       "      <td>...</td>\n",
       "      <td>9.03</td>\n",
       "      <td>317.68</td>\n",
       "      <td>0.00</td>\n",
       "      <td>0.0</td>\n",
       "      <td>0.0</td>\n",
       "      <td>0.0</td>\n",
       "      <td>0.0</td>\n",
       "      <td>0.0</td>\n",
       "      <td>0.0</td>\n",
       "      <td>0.0</td>\n",
       "    </tr>\n",
       "    <tr>\n",
       "      <th>...</th>\n",
       "      <td>...</td>\n",
       "      <td>...</td>\n",
       "      <td>...</td>\n",
       "      <td>...</td>\n",
       "      <td>...</td>\n",
       "      <td>...</td>\n",
       "      <td>...</td>\n",
       "      <td>...</td>\n",
       "      <td>...</td>\n",
       "      <td>...</td>\n",
       "      <td>...</td>\n",
       "      <td>...</td>\n",
       "      <td>...</td>\n",
       "      <td>...</td>\n",
       "      <td>...</td>\n",
       "      <td>...</td>\n",
       "      <td>...</td>\n",
       "      <td>...</td>\n",
       "      <td>...</td>\n",
       "      <td>...</td>\n",
       "      <td>...</td>\n",
       "    </tr>\n",
       "    <tr>\n",
       "      <th>2020-01-27</th>\n",
       "      <td>0.0</td>\n",
       "      <td>0.0</td>\n",
       "      <td>0.0</td>\n",
       "      <td>0.0</td>\n",
       "      <td>0.0</td>\n",
       "      <td>0.0</td>\n",
       "      <td>0.0</td>\n",
       "      <td>0.0</td>\n",
       "      <td>0.0</td>\n",
       "      <td>26.78</td>\n",
       "      <td>...</td>\n",
       "      <td>600.27</td>\n",
       "      <td>357.68</td>\n",
       "      <td>0.00</td>\n",
       "      <td>0.0</td>\n",
       "      <td>0.0</td>\n",
       "      <td>0.0</td>\n",
       "      <td>0.0</td>\n",
       "      <td>0.0</td>\n",
       "      <td>0.0</td>\n",
       "      <td>0.0</td>\n",
       "    </tr>\n",
       "    <tr>\n",
       "      <th>2020-01-28</th>\n",
       "      <td>0.0</td>\n",
       "      <td>0.0</td>\n",
       "      <td>0.0</td>\n",
       "      <td>0.0</td>\n",
       "      <td>0.0</td>\n",
       "      <td>0.0</td>\n",
       "      <td>0.0</td>\n",
       "      <td>0.0</td>\n",
       "      <td>0.0</td>\n",
       "      <td>27.62</td>\n",
       "      <td>...</td>\n",
       "      <td>493.49</td>\n",
       "      <td>125.63</td>\n",
       "      <td>0.00</td>\n",
       "      <td>0.0</td>\n",
       "      <td>0.0</td>\n",
       "      <td>0.0</td>\n",
       "      <td>0.0</td>\n",
       "      <td>0.0</td>\n",
       "      <td>0.0</td>\n",
       "      <td>0.0</td>\n",
       "    </tr>\n",
       "    <tr>\n",
       "      <th>2020-01-29</th>\n",
       "      <td>0.0</td>\n",
       "      <td>0.0</td>\n",
       "      <td>0.0</td>\n",
       "      <td>0.0</td>\n",
       "      <td>0.0</td>\n",
       "      <td>0.0</td>\n",
       "      <td>0.0</td>\n",
       "      <td>0.0</td>\n",
       "      <td>0.0</td>\n",
       "      <td>158.96</td>\n",
       "      <td>...</td>\n",
       "      <td>30.71</td>\n",
       "      <td>18.97</td>\n",
       "      <td>0.00</td>\n",
       "      <td>0.0</td>\n",
       "      <td>0.0</td>\n",
       "      <td>0.0</td>\n",
       "      <td>0.0</td>\n",
       "      <td>0.0</td>\n",
       "      <td>0.0</td>\n",
       "      <td>0.0</td>\n",
       "    </tr>\n",
       "    <tr>\n",
       "      <th>2020-01-30</th>\n",
       "      <td>0.0</td>\n",
       "      <td>0.0</td>\n",
       "      <td>0.0</td>\n",
       "      <td>0.0</td>\n",
       "      <td>0.0</td>\n",
       "      <td>0.0</td>\n",
       "      <td>0.0</td>\n",
       "      <td>0.0</td>\n",
       "      <td>0.0</td>\n",
       "      <td>28.63</td>\n",
       "      <td>...</td>\n",
       "      <td>204.23</td>\n",
       "      <td>101.72</td>\n",
       "      <td>2.71</td>\n",
       "      <td>0.0</td>\n",
       "      <td>0.0</td>\n",
       "      <td>0.0</td>\n",
       "      <td>0.0</td>\n",
       "      <td>0.0</td>\n",
       "      <td>0.0</td>\n",
       "      <td>0.0</td>\n",
       "    </tr>\n",
       "    <tr>\n",
       "      <th>2020-01-31</th>\n",
       "      <td>0.0</td>\n",
       "      <td>0.0</td>\n",
       "      <td>0.0</td>\n",
       "      <td>0.0</td>\n",
       "      <td>0.0</td>\n",
       "      <td>0.0</td>\n",
       "      <td>0.0</td>\n",
       "      <td>0.0</td>\n",
       "      <td>0.0</td>\n",
       "      <td>39.95</td>\n",
       "      <td>...</td>\n",
       "      <td>107.93</td>\n",
       "      <td>72.85</td>\n",
       "      <td>4.52</td>\n",
       "      <td>0.0</td>\n",
       "      <td>0.0</td>\n",
       "      <td>0.0</td>\n",
       "      <td>0.0</td>\n",
       "      <td>0.0</td>\n",
       "      <td>0.0</td>\n",
       "      <td>0.0</td>\n",
       "    </tr>\n",
       "  </tbody>\n",
       "</table>\n",
       "<p>496 rows × 24 columns</p>\n",
       "</div>"
      ],
      "text/plain": [
       "             0    1    2    3    4    5    6    7    8       9   ...      14  \\\n",
       "2005-01-01  0.0  0.0  0.0  0.0  0.0  0.0  0.0  0.0  0.0    0.00  ...    9.03   \n",
       "2005-01-02  0.0  0.0  0.0  0.0  0.0  0.0  0.0  0.0  0.0    0.00  ...  126.70   \n",
       "2005-01-03  0.0  0.0  0.0  0.0  0.0  0.0  0.0  0.0  0.0    0.00  ...    9.03   \n",
       "2005-01-04  0.0  0.0  0.0  0.0  0.0  0.0  0.0  0.0  0.0    0.00  ...  417.75   \n",
       "2005-01-05  0.0  0.0  0.0  0.0  0.0  0.0  0.0  0.0  0.0    0.00  ...    9.03   \n",
       "...         ...  ...  ...  ...  ...  ...  ...  ...  ...     ...  ...     ...   \n",
       "2020-01-27  0.0  0.0  0.0  0.0  0.0  0.0  0.0  0.0  0.0   26.78  ...  600.27   \n",
       "2020-01-28  0.0  0.0  0.0  0.0  0.0  0.0  0.0  0.0  0.0   27.62  ...  493.49   \n",
       "2020-01-29  0.0  0.0  0.0  0.0  0.0  0.0  0.0  0.0  0.0  158.96  ...   30.71   \n",
       "2020-01-30  0.0  0.0  0.0  0.0  0.0  0.0  0.0  0.0  0.0   28.63  ...  204.23   \n",
       "2020-01-31  0.0  0.0  0.0  0.0  0.0  0.0  0.0  0.0  0.0   39.95  ...  107.93   \n",
       "\n",
       "                15    16   17   18   19   20   21   22   23  \n",
       "2005-01-01    3.61  0.00  0.0  0.0  0.0  0.0  0.0  0.0  0.0  \n",
       "2005-01-02   13.55  0.00  0.0  0.0  0.0  0.0  0.0  0.0  0.0  \n",
       "2005-01-03    6.32  0.00  0.0  0.0  0.0  0.0  0.0  0.0  0.0  \n",
       "2005-01-04  187.25  0.00  0.0  0.0  0.0  0.0  0.0  0.0  0.0  \n",
       "2005-01-05  317.68  0.00  0.0  0.0  0.0  0.0  0.0  0.0  0.0  \n",
       "...            ...   ...  ...  ...  ...  ...  ...  ...  ...  \n",
       "2020-01-27  357.68  0.00  0.0  0.0  0.0  0.0  0.0  0.0  0.0  \n",
       "2020-01-28  125.63  0.00  0.0  0.0  0.0  0.0  0.0  0.0  0.0  \n",
       "2020-01-29   18.97  0.00  0.0  0.0  0.0  0.0  0.0  0.0  0.0  \n",
       "2020-01-30  101.72  2.71  0.0  0.0  0.0  0.0  0.0  0.0  0.0  \n",
       "2020-01-31   72.85  4.52  0.0  0.0  0.0  0.0  0.0  0.0  0.0  \n",
       "\n",
       "[496 rows x 24 columns]"
      ]
     },
     "execution_count": 12,
     "metadata": {},
     "output_type": "execute_result"
    }
   ],
   "source": [
    "final[0]"
   ]
  },
  {
   "cell_type": "code",
   "execution_count": 24,
   "metadata": {},
   "outputs": [],
   "source": [
    "def get_solar_value(data, month, hour):\n",
    "    'Function to return the expected value from the beta distribution generated using historic data'\n",
    "    \n",
    "    cut = data[month][hour]\n",
    "    \n",
    "    norm_max = cut.max()\n",
    "    norm_min= cut.min()\n",
    "    \n",
    "    'Normalise the data with min max normalisation'\n",
    "    cut = (cut - norm_min) / (norm_max - norm_min)\n",
    "    \n",
    "    mean = cut.mean()\n",
    "    sd = cut.std()\n",
    "    b = (1-mean)*((mean*(1+mean)/(sd**2))-1)\n",
    "    a = mean*b/1-mean\n",
    "    \n",
    "    #cut = np.sort(cut)\n",
    "    \n",
    "    #pdf = beta.pdf(norm, a1, b1)\n",
    "    \n",
    "    rvs = np.array([beta.rvs(a,b) * (norm_max - norm_min) + norm_min for i in range(100)])\n",
    "    \n",
    "    twenty_fifth = rvs[rvs<np.percentile(rvs, 25)].mean()\n",
    "    \n",
    "    seventy_fifth = rvs[rvs>np.percentile(rvs, 75)].mean()\n",
    "    #print(seventy_fifth)\n",
    "    \n",
    "    fiftieth  = rvs[np.where((rvs>twenty_fifth) & (rvs<seventy_fifth))].mean()\n",
    "    \n",
    "    arr = [twenty_fifth, fiftieth, seventy_fifth]\n",
    "    \n",
    "    result = np.random.choice(arr, p=[0.25, 0.50, 0.25])\n",
    "    \n",
    "    'Reverse normalisation to get value in W/m2'\n",
    "    #result = result * (norm_max - norm_min) + norm_min\n",
    "    \n",
    "    return result\n"
   ]
  },
  {
   "cell_type": "code",
   "execution_count": 13,
   "metadata": {},
   "outputs": [],
   "source": [
    "def get_solar_value(data, month, hour):\n",
    "    'Function to return the expected value from the beta distribution generated using historic data'\n",
    "    \n",
    "    cut = data[month][hour]\n",
    "    \n",
    "    norm_max = cut.max()\n",
    "    norm_min = cut.min()\n",
    "    \n",
    "    'Normalise the data with min max normalisation'\n",
    "    cut = (cut - norm_min) / (norm_max - norm_min)\n",
    "    \n",
    "    mean = cut.mean()\n",
    "    sd = cut.std()\n",
    "    \n",
    "    \n",
    "    b = (1-mean)*((mean*(1+mean)/(sd**2))-1)\n",
    "    a = mean*b/1-mean\n",
    "    \n",
    "    print(\"a: \", a, \" b: \", b)\n",
    "    \n",
    "    result = beta.rvs(a,b)\n",
    "    \n",
    "    'Reverse normalisation to get value in W/m2'\n",
    "    result = result * (norm_max - norm_min) + norm_min\n",
    "    \n",
    "    return result"
   ]
  },
  {
   "cell_type": "code",
   "execution_count": 14,
   "metadata": {
    "scrolled": true
   },
   "outputs": [
    {
     "name": "stdout",
     "output_type": "stream",
     "text": [
      "a:  1.5809508867929327  b:  4.523197708910722\n"
     ]
    },
    {
     "data": {
      "text/plain": [
       "73.60079778976902"
      ]
     },
     "execution_count": 14,
     "metadata": {},
     "output_type": "execute_result"
    }
   ],
   "source": [
    "get_solar_value(final, 6, 13)"
   ]
  },
  {
   "cell_type": "code",
   "execution_count": 38,
   "metadata": {},
   "outputs": [],
   "source": [
    "a = 1.5809508867929327\n",
    "b =  4.523197708910722\n",
    "s = 0.00001"
   ]
  },
  {
   "cell_type": "code",
   "execution_count": 43,
   "metadata": {},
   "outputs": [],
   "source": [
    "def g_beta(s):\n",
    "    return gamma(a+b)/gamma(a)*gamma(b)*s**(a-1)*(1-s)**b-1"
   ]
  },
  {
   "cell_type": "code",
   "execution_count": 44,
   "metadata": {},
   "outputs": [],
   "source": [
    "values = np.linspace(0,1,1000)"
   ]
  },
  {
   "cell_type": "code",
   "execution_count": 50,
   "metadata": {},
   "outputs": [],
   "source": [
    "pdf = beta.pdf(values,b,a)"
   ]
  },
  {
   "cell_type": "code",
   "execution_count": 46,
   "metadata": {},
   "outputs": [
    {
     "data": {
      "text/plain": [
       "[<matplotlib.lines.Line2D at 0x2459e8cfbe0>]"
      ]
     },
     "execution_count": 46,
     "metadata": {},
     "output_type": "execute_result"
    },
    {
     "data": {
      "image/png": "[encoded data removed]",
      "text/plain": [
       "<Figure size 432x288 with 1 Axes>"
      ]
     },
     "metadata": {
      "needs_background": "light"
     },
     "output_type": "display_data"
    }
   ],
   "source": [
    "plt.plot(pdf)"
   ]
  },
  {
   "cell_type": "code",
   "execution_count": 51,
   "metadata": {},
   "outputs": [
    {
     "data": {
      "text/plain": [
       "[<matplotlib.lines.Line2D at 0x2459e25ebb0>]"
      ]
     },
     "execution_count": 51,
     "metadata": {},
     "output_type": "execute_result"
    },
    {
     "data": {
      "image/png": "[encoded data removed]",
      "text/plain": [
       "<Figure size 432x288 with 1 Axes>"
      ]
     },
     "metadata": {
      "needs_background": "light"
     },
     "output_type": "display_data"
    }
   ],
   "source": [
    "plt.plot(pdf)"
   ]
  },
  {
   "cell_type": "code",
   "execution_count": null,
   "metadata": {},
   "outputs": [],
   "source": []
  },
  {
   "cell_type": "code",
   "execution_count": null,
   "metadata": {},
   "outputs": [],
   "source": []
  },
  {
   "cell_type": "code",
   "execution_count": null,
   "metadata": {},
   "outputs": [],
   "source": []
  },
  {
   "cell_type": "code",
   "execution_count": null,
   "metadata": {},
   "outputs": [],
   "source": []
  },
  {
   "cell_type": "code",
   "execution_count": 242,
   "metadata": {},
   "outputs": [],
   "source": [
    "rvs = []\n",
    "for i in range(1000):\n",
    "    rvs.append(get_solar_value(final, 6, 13))"
   ]
  },
  {
   "cell_type": "code",
   "execution_count": 220,
   "metadata": {},
   "outputs": [],
   "source": [
    "values = np.linspace(0,1,1000)"
   ]
  },
  {
   "cell_type": "code",
   "execution_count": 221,
   "metadata": {},
   "outputs": [],
   "source": [
    "pdf = beta.pdf(values, 1.2938880762893963, 1.560362594112176)\n"
   ]
  },
  {
   "cell_type": "code",
   "execution_count": 222,
   "metadata": {},
   "outputs": [
    {
     "data": {
      "text/plain": [
       "[<matplotlib.lines.Line2D at 0x23340559790>]"
      ]
     },
     "execution_count": 222,
     "metadata": {},
     "output_type": "execute_result"
    },
    {
     "data": {
      "image/png": "[encoded data removed]",
      "text/plain": [
       "<Figure size 432x288 with 1 Axes>"
      ]
     },
     "metadata": {
      "needs_background": "light"
     },
     "output_type": "display_data"
    }
   ],
   "source": [
    "plt.plot(pdf)"
   ]
  },
  {
   "cell_type": "code",
   "execution_count": 227,
   "metadata": {
    "scrolled": true
   },
   "outputs": [
    {
     "data": {
      "text/plain": [
       "0.453319706536972"
      ]
     },
     "execution_count": 227,
     "metadata": {},
     "output_type": "execute_result"
    }
   ],
   "source": [
    "fit = beta.fit(final[6][13])\n",
    "beta.mean(fit[0],fit[1])"
   ]
  },
  {
   "cell_type": "code",
   "execution_count": 243,
   "metadata": {},
   "outputs": [
    {
     "data": {
      "image/png": "[encoded data removed]",
      "text/plain": [
       "<Figure size 432x288 with 1 Axes>"
      ]
     },
     "metadata": {
      "needs_background": "light"
     },
     "output_type": "display_data"
    }
   ],
   "source": [
    "plt.hist(rvs);"
   ]
  },
  {
   "cell_type": "code",
   "execution_count": null,
   "metadata": {},
   "outputs": [],
   "source": [
    "np.percentile(rvs,25)"
   ]
  },
  {
   "cell_type": "code",
   "execution_count": null,
   "metadata": {},
   "outputs": [],
   "source": [
    "results = []\n",
    "\n",
    "for i in range(12):\n",
    "    results.append(get_solar_value(final, i, 12))"
   ]
  },
  {
   "cell_type": "code",
   "execution_count": null,
   "metadata": {
    "scrolled": true
   },
   "outputs": [],
   "source": [
    "plt.plot(results)"
   ]
  },
  {
   "cell_type": "code",
   "execution_count": null,
   "metadata": {},
   "outputs": [],
   "source": [
    "plt.plot(results)"
   ]
  },
  {
   "cell_type": "code",
   "execution_count": null,
   "metadata": {},
   "outputs": [],
   "source": [
    "pickle.dump(final, open('C:/Users/Ellio/OneDrive/Documents/Masters/Y2/Dissertation/MSc-Project/data/solar_data.p', 'wb'))"
   ]
  },
  {
   "cell_type": "code",
   "execution_count": null,
   "metadata": {},
   "outputs": [],
   "source": [
    "results"
   ]
  },
  {
   "cell_type": "code",
   "execution_count": null,
   "metadata": {},
   "outputs": [],
   "source": [
    "def get_solar_value(data, month, hour):\n",
    "    'Function to return the expected value from the beta distribution generated using historic data'\n",
    "    \n",
    "    cut = data[month][hour]\n",
    "    \n",
    "    norm_max = cut.max()\n",
    "    norm_min= cut.min()\n",
    "    \n",
    "    'Normalise the data with min max normalisation'\n",
    "    cut = (cut - norm_min) / (norm_max - norm_min)\n",
    "    \n",
    "    mean = cut.mean()\n",
    "    sd = cut.std()\n",
    "    \n",
    "    \n",
    "    b = (1-mean)*((mean*(1+mean)/(sd**2))-1)\n",
    "    a = mean*b/1-mean\n",
    "    \n",
    "    values = np.linspace(0,1,1000)\n",
    "    \n",
    "    pdf = beta.pdf(, a , b)\n",
    "\n",
    "    twenty_fifth = pdf[pdf<np.percentile(pdf, 25)].mean()\n",
    "    \n",
    "    seventy_fifth = pdf[pdf>np.percentile(pdf, 75)].mean()\n",
    "    \n",
    "    fiftieth  = pdf[np.where((pdf>twenty_fifth) & (pdf<seventy_fifth))].mean()\n",
    "    \n",
    "    arr = [twenty_fifth, fiftieth, seventy_fifth]\n",
    "    \n",
    "    #print(arr)\n",
    "    \n",
    "    result = np.random.choice(arr, p=[0.25, 0.50, 0.25])\n",
    "    \n",
    "    #result = beta.mean(a,b)\n",
    "    \n",
    "    'Reverse normalisation to get value in W/m2'\n",
    "    result = result * (norm_max - norm_min) + norm_min\n",
    "    \n",
    "    return result\n"
   ]
  },
  {
   "cell_type": "code",
   "execution_count": null,
   "metadata": {},
   "outputs": [],
   "source": [
    "values = []\n",
    "for i in range(3):\n",
    "    values.append(get_solar_value(final, 11, 15))"
   ]
  },
  {
   "cell_type": "code",
   "execution_count": null,
   "metadata": {},
   "outputs": [],
   "source": [
    "np.unique(np.array(values))"
   ]
  },
  {
   "cell_type": "code",
   "execution_count": 228,
   "metadata": {
    "scrolled": true
   },
   "outputs": [],
   "source": [
    "cut = final[6][13]"
   ]
  },
  {
   "cell_type": "code",
   "execution_count": 229,
   "metadata": {},
   "outputs": [],
   "source": [
    "norm_max = cut.max()\n",
    "norm_min= cut.min()"
   ]
  },
  {
   "cell_type": "code",
   "execution_count": 230,
   "metadata": {},
   "outputs": [],
   "source": [
    "cut = (cut - norm_min) / (norm_max - norm_min)"
   ]
  },
  {
   "cell_type": "code",
   "execution_count": 231,
   "metadata": {},
   "outputs": [],
   "source": [
    "mean = cut.mean()\n",
    "sd = cut.std()"
   ]
  },
  {
   "cell_type": "code",
   "execution_count": 232,
   "metadata": {},
   "outputs": [],
   "source": [
    "fit = beta.fit(cut)"
   ]
  },
  {
   "cell_type": "code",
   "execution_count": 233,
   "metadata": {},
   "outputs": [],
   "source": [
    "a = fit[0]\n",
    "b= fit[1]"
   ]
  },
  {
   "cell_type": "code",
   "execution_count": 234,
   "metadata": {},
   "outputs": [
    {
     "data": {
      "text/plain": [
       "(1.2951491784611542, 1.563158669557411)"
      ]
     },
     "execution_count": 234,
     "metadata": {},
     "output_type": "execute_result"
    }
   ],
   "source": [
    "a,b"
   ]
  },
  {
   "cell_type": "code",
   "execution_count": 237,
   "metadata": {},
   "outputs": [],
   "source": [
    "bmean= beta.mean(a,b)"
   ]
  },
  {
   "cell_type": "code",
   "execution_count": 238,
   "metadata": {},
   "outputs": [
    {
     "data": {
      "text/plain": [
       "0.45311745526605085"
      ]
     },
     "execution_count": 238,
     "metadata": {},
     "output_type": "execute_result"
    }
   ],
   "source": [
    "bmean"
   ]
  },
  {
   "cell_type": "code",
   "execution_count": 239,
   "metadata": {},
   "outputs": [
    {
     "data": {
      "text/plain": [
       "466.729103622243"
      ]
     },
     "execution_count": 239,
     "metadata": {},
     "output_type": "execute_result"
    }
   ],
   "source": [
    "bmean * (norm_max - norm_min) + norm_min"
   ]
  },
  {
   "cell_type": "code",
   "execution_count": null,
   "metadata": {},
   "outputs": [],
   "source": []
  },
  {
   "cell_type": "code",
   "execution_count": null,
   "metadata": {},
   "outputs": [],
   "source": [
    "b = (1-mean)*((mean*(1+mean)/(sd**2))-1)\n",
    "a = mean*b/1-mean"
   ]
  },
  {
   "cell_type": "code",
   "execution_count": null,
   "metadata": {},
   "outputs": [],
   "source": [
    "a,b"
   ]
  },
  {
   "cell_type": "code",
   "execution_count": null,
   "metadata": {},
   "outputs": [],
   "source": [
    "pdf = beta.pdf(np.sort(cut), a,b)"
   ]
  },
  {
   "cell_type": "code",
   "execution_count": null,
   "metadata": {},
   "outputs": [],
   "source": [
    "plt.plot(pdf)"
   ]
  },
  {
   "cell_type": "code",
   "execution_count": null,
   "metadata": {},
   "outputs": [],
   "source": []
  },
  {
   "cell_type": "code",
   "execution_count": null,
   "metadata": {},
   "outputs": [],
   "source": []
  },
  {
   "cell_type": "code",
   "execution_count": null,
   "metadata": {},
   "outputs": [],
   "source": [
    "values = np.linspace(0,1,1000)"
   ]
  },
  {
   "cell_type": "code",
   "execution_count": null,
   "metadata": {},
   "outputs": [],
   "source": [
    "b = 4.523197708910722"
   ]
  },
  {
   "cell_type": "code",
   "execution_count": null,
   "metadata": {},
   "outputs": [],
   "source": [
    "a = 1.5809508867929327"
   ]
  },
  {
   "cell_type": "code",
   "execution_count": null,
   "metadata": {},
   "outputs": [],
   "source": [
    "beta.mean(a,b)"
   ]
  },
  {
   "cell_type": "code",
   "execution_count": null,
   "metadata": {},
   "outputs": [],
   "source": [
    "pdf = beta.pdf(values, a, b)"
   ]
  },
  {
   "cell_type": "code",
   "execution_count": null,
   "metadata": {},
   "outputs": [],
   "source": [
    "plt.plot(pdf)"
   ]
  },
  {
   "cell_type": "code",
   "execution_count": null,
   "metadata": {},
   "outputs": [],
   "source": [
    "np.percentile(pdf, 50)"
   ]
  },
  {
   "cell_type": "code",
   "execution_count": null,
   "metadata": {},
   "outputs": [],
   "source": [
    "twentyfive = pdf[pdf<0.08461073087338536]\n",
    "twentyfive.max()"
   ]
  },
  {
   "cell_type": "code",
   "execution_count": null,
   "metadata": {},
   "outputs": [],
   "source": [
    "fifty = pdf[np.where((pdf<0.742704471319821) & (pdf>0.08461073087338536))]"
   ]
  },
  {
   "cell_type": "code",
   "execution_count": null,
   "metadata": {},
   "outputs": [],
   "source": [
    "seventyfive = pdf[pdf>0.742704471319821]"
   ]
  },
  {
   "cell_type": "code",
   "execution_count": null,
   "metadata": {},
   "outputs": [],
   "source": [
    "twentyfive.mean()"
   ]
  },
  {
   "cell_type": "code",
   "execution_count": null,
   "metadata": {},
   "outputs": [],
   "source": [
    "fifty.mean()"
   ]
  },
  {
   "cell_type": "code",
   "execution_count": null,
   "metadata": {},
   "outputs": [],
   "source": [
    "seventyfive.mean()"
   ]
  },
  {
   "cell_type": "code",
   "execution_count": null,
   "metadata": {},
   "outputs": [],
   "source": [
    "pdf[pdf<0.08461073087338536].mean()"
   ]
  },
  {
   "cell_type": "code",
   "execution_count": null,
   "metadata": {},
   "outputs": [],
   "source": []
  }
 ],
 "metadata": {
  "kernelspec": {
   "display_name": "Python 3",
   "language": "python",
   "name": "python3"
  },
  "language_info": {
   "codemirror_mode": {
    "name": "ipython",
    "version": 3
   },
   "file_extension": ".py",
   "mimetype": "text/x-python",
   "name": "python",
   "nbconvert_exporter": "python",
   "pygments_lexer": "ipython3",
   "version": "3.8.3"
  }
 },
 "nbformat": 4,
 "nbformat_minor": 4
}
