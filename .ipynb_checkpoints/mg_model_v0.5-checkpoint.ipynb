{
 "cells": [
  {
   "cell_type": "code",
   "execution_count": 2,
   "metadata": {},
   "outputs": [],
   "source": [
    "import pickle\n",
    "import mesa\n",
    "import mesa.time\n",
    "import numpy as np\n",
    "import pandas as pd\n",
    "import random\n",
    "import matplotlib.pyplot as plt\n",
    "import networkx as nx\n",
    "\n",
    "from scipy.stats import beta\n",
    "from scipy.stats import weibull_min as wei\n",
    "from scipy.special import gamma\n",
    "import geopandas as gp\n",
    "from mesa.space import NetworkGrid\n",
    "from shapely.geometry import Point\n",
    "\n",
    "import pyswarms as ps\n",
    "from pyswarms.utils.functions import single_obj as fx"
   ]
  },
  {
   "cell_type": "code",
   "execution_count": 2,
   "metadata": {},
   "outputs": [],
   "source": [
    "df = pickle.load(open(\"D:/Documents/MSc Project/data/aggregated_data.p\", 'rb'))"
   ]
  },
  {
   "cell_type": "code",
   "execution_count": 3,
   "metadata": {},
   "outputs": [],
   "source": [
    "solar_data = pickle.load(open(\"D:/Documents/MSc Project/data/solar_data.p\", 'rb'))"
   ]
  },
  {
   "cell_type": "code",
   "execution_count": 4,
   "metadata": {},
   "outputs": [],
   "source": [
    "wind_data = pickle.load(open(\"D:/Documents/MSc Project/data/wind_data.p\", 'rb'))"
   ]
  },
  {
   "cell_type": "code",
   "execution_count": 5,
   "metadata": {
    "scrolled": false
   },
   "outputs": [],
   "source": [
    "G = nx.read_graphml(\"D:/Documents/MSc Project/data/edin_graph.graphml\")"
   ]
  },
  {
   "cell_type": "code",
   "execution_count": 8,
   "metadata": {},
   "outputs": [],
   "source": [
    "node_attr = pickle.load(open(\"D:/Documents/MSc Project/data/node_attributes.p\", 'rb'))"
   ]
  },
  {
   "cell_type": "code",
   "execution_count": 9,
   "metadata": {},
   "outputs": [],
   "source": [
    "nx.set_node_attributes(G, node_attr)"
   ]
  },
  {
   "cell_type": "code",
   "execution_count": 10,
   "metadata": {},
   "outputs": [],
   "source": [
    "road_nodes = gp.read_file(\"D:/Documents/MSc Project/data/road_nodes.shp\")"
   ]
  },
  {
   "cell_type": "code",
   "execution_count": 11,
   "metadata": {},
   "outputs": [],
   "source": [
    "road_edges = gp.read_file(\"D:/Documents/MSc Project/data/road_edges.shp\")"
   ]
  },
  {
   "cell_type": "code",
   "execution_count": 12,
   "metadata": {},
   "outputs": [],
   "source": [
    "class RESAgent(mesa.Agent):\n",
    "    \n",
    "    'An agent for the renewable energy sources in the microgrid.'\n",
    "    \n",
    "    def __init__(self, pv_size, model):\n",
    "        super().__init__(pv_size, model)\n",
    "        self.stepper = 0\n",
    "        self.month = self.model.month\n",
    "        self.day = 0\n",
    "        self.solar_data = None\n",
    "        self.wind_data = None\n",
    "        self.agent_name = \"RES_Agent\"\n",
    "        self.panel_size = pv_size\n",
    "        self.panel_efficiency = 0.26\n",
    "        \n",
    "        self.wt_rated_power = 1.5\n",
    "        self.wt_rated_ws = 12.5\n",
    "        self.wt_cut_in = 3.4\n",
    "        self.wt_cut_out = 22\n",
    "        \n",
    "    def update_solar_and_wind_data(self):\n",
    "        'Function to update the data in the time step'\n",
    "        self.solar_data = self.model.solar_data[self.month][self.stepper]\n",
    "        self.wind_data = self.model.wind_data[self.month][self.stepper]\n",
    "        \n",
    "    def get_solar_value(self):\n",
    "        'Function to return the expected value from the beta distribution generated using historic data'\n",
    "\n",
    "        cut = self.solar_data\n",
    "        \n",
    "        if not cut.sum() > 0:\n",
    "            return 0\n",
    "\n",
    "        norm_max = cut.max()\n",
    "        norm_min= cut.min()\n",
    "\n",
    "        'Normalise the data with min max normalisation'\n",
    "        cut = (cut - norm_min) / (norm_max - norm_min)\n",
    "\n",
    "        mean = cut.mean()\n",
    "        sd = cut.std()\n",
    "\n",
    "        a = (1-mean)*((mean*(1+mean)/(sd**2))-1)\n",
    "        b = mean*a/1-mean\n",
    "\n",
    "        result = beta.mean(a,b)\n",
    "\n",
    "        'Reverse normalisation to get value in W/m2'\n",
    "        result = result * (norm_max - norm_min) + norm_min\n",
    "\n",
    "        return result\n",
    "    \n",
    "    def get_wind_value(self):\n",
    "        'Function to return the expected value from the beta distribution generated using historic data'\n",
    "\n",
    "        cut = self.wind_data\n",
    "\n",
    "        sd = cut.std()\n",
    "\n",
    "        mean = cut.mean()\n",
    "\n",
    "        shape = (sd/mean)**-1.086\n",
    "\n",
    "        scale = mean/gamma(1+1/shape)\n",
    "\n",
    "        rs = wei.rvs(shape, scale=scale)\n",
    "\n",
    "        return rs\n",
    "    \n",
    "    def get_wt_output(self, ws):\n",
    "        'Function to calculate the output of the wind turbine given the input wind speed'\n",
    "        \n",
    "        power = 0\n",
    "        \n",
    "        if ws < self.wt_cut_in:\n",
    "            return 0\n",
    "        elif ws > self.wt_cut_in and ws < self.wt_rated_ws:\n",
    "            return ((ws-self.wt_cut_in)/(self.wt_rated_ws - self.wt_cut_in))\n",
    "        elif self.wt_rated_ws <= ws and ws <= self.wt_cut_out:\n",
    "            return self.wt_rated_power\n",
    "        elif ws > self.wt_cut_out:\n",
    "            return 0\n",
    "        else:\n",
    "            return \"Error\"\n",
    "    \n",
    "        \n",
    "    def step(self):\n",
    "        self.update_solar_and_wind_data()\n",
    "        irr = self.get_solar_value()\n",
    "        wind_speed = self.get_wind_value()\n",
    "        wt_gen = self.get_wt_output(wind_speed)\n",
    "        pv_gen = (irr * self.panel_size * self.panel_efficiency)/1000\n",
    "        self.model.schedule.agents[6].update_pv(pv_gen)\n",
    "        self.model.schedule.agents[6].update_wt(wt_gen)\n",
    "        self.stepper += 1"
   ]
  },
  {
   "cell_type": "code",
   "execution_count": 13,
   "metadata": {},
   "outputs": [],
   "source": [
    "class BatteryAgent(mesa.Agent):\n",
    "    \n",
    "    'An agent to control the battery.'\n",
    "    \n",
    "    def __init__(self, model):\n",
    "        super().__init__(self, model)\n",
    "        self.stepper = 0\n",
    "        self.agent_name = \"Battery_Agent\"\n",
    "        \n",
    "    def update_pv(self, new_pv):\n",
    "        self.pv_output = new_pv\n",
    "        \n",
    "    def step(self):\n",
    "        #print(\"PV Ouptut: \", self.pv_output)\n",
    "        self.stepper += 1"
   ]
  },
  {
   "cell_type": "code",
   "execution_count": 14,
   "metadata": {},
   "outputs": [],
   "source": [
    "class ResiLoadAgent(mesa.Agent):\n",
    "    \n",
    "    'An agent for the residential loads in the microgrid'\n",
    "    \n",
    "    def __init__(self, model, df):\n",
    "        super().__init__(self, model)\n",
    "        self.stepper = 0\n",
    "        self.day = 0\n",
    "        self.month = self.model.month\n",
    "        self.agent_name = \"Resi_Load_Agent\"\n",
    "        self.df = df\n",
    "        self.houses = self.df.keys()\n",
    "        self.total_load = 0\n",
    "        #print(\"Houses: \", self.houses)\n",
    "        \n",
    "    def update_load_data(self):\n",
    "        'Function to update the data in the dataframe to the latest days'\n",
    "        for i in self.houses:\n",
    "            self.df[i] = self.model.resi_df_format[i]\n",
    "            \n",
    "    def update_day(self):\n",
    "        'Update to whether weekday or weekend data is being taken'\n",
    "        self.day += 1 if self.day == 0 else -1\n",
    "        self.month += 1 if self.day == 1 else 0\n",
    "        \n",
    "    def sum_load(self):\n",
    "        'Function to calculate the total load for the current time period'\n",
    "        #self.total_load += 1\n",
    "        \n",
    "        for i in self.houses:\n",
    "            self.total_load += self.df[i].iloc[self.stepper].values[0]\n",
    "\n",
    "    \n",
    "    \n",
    "    \n",
    "    def step(self):\n",
    "        self.total_load = 0\n",
    "        self.update_load_data()\n",
    "        self.sum_load()\n",
    "        self.model.schedule.agents[6].update_resi_load(self.total_load)\n",
    "        self.update_day()\n",
    "        self.stepper += 1\n",
    "        \n",
    "    \n",
    "        \n",
    "        "
   ]
  },
  {
   "cell_type": "code",
   "execution_count": 74,
   "metadata": {},
   "outputs": [],
   "source": [
    "class EVAgent(mesa.Agent):\n",
    "    \n",
    "    'An agent to control the electric vehicles'\n",
    "    \n",
    "    def __init__(self, model, activities, name):\n",
    "        super().__init__(self, model)\n",
    "        G = self.model.graph\n",
    "        self.stepper = 0\n",
    "        \n",
    "        self.SOC = 20.0\n",
    "        self.SOC_perc = 0\n",
    "        self.get_soc_perc()\n",
    "        self.charge = False\n",
    "        self.location = '647313'\n",
    "        self.distance_travelled = 0\n",
    "        self.battery_soc = None\n",
    "        self.activity_dict = activities\n",
    "        self.activities = self.get_day()\n",
    "        self.activity_counter = 0\n",
    "        self.current_activity = \"Home\"\n",
    "        self.move_check = False\n",
    "        self.activity_timer = 0\n",
    "        self.name = name\n",
    "        self.leave_time = self.leave_time()\n",
    "        print(self.name, \": Activities: \", self.activities)\n",
    "        \n",
    "    def random_exclude(self, n, end, start = 0):\n",
    "        return list(range(1,n)) + list(range(n+1, end))\n",
    "    \n",
    "    def get_day(self):\n",
    "        'Function to plan the day'\n",
    "        time, activities = self.plan_day()\n",
    "        \n",
    "        while time > 10:\n",
    "            time, activities = self.plan_day()\n",
    "        \n",
    "            \n",
    "        return activities\n",
    "    \n",
    "    def plan_day(self):\n",
    "        'Function to select the activites to be done that day'\n",
    "        num_activities = len(self.activity_dict)\n",
    "        probs = [0.08, 0.08,0.08,0.08, 0.3, 0.3, 0.08]\n",
    "        n = np.random.choice(np.arange(3, 6))\n",
    "        choices = np.random.choice(list(self.activity_dict.keys()), size=n, replace=False, p=probs)\n",
    "        result = []\n",
    "        time = 0\n",
    "        for x in choices:\n",
    "            result.append(x)\n",
    "            time += self.activity_dict[x]['time']\n",
    "        return time, result\n",
    "    \n",
    "    def find_node(self, activity):\n",
    "        'Function to find nodes that match the activity'\n",
    "        nodes = []\n",
    "        act_type = self.activity_dict[activity]['node']\n",
    "        for i in G.nodes():\n",
    "            if G.nodes[i]['type'] == act_type:\n",
    "                nodes.append(i)\n",
    "        target = random.choice(nodes)\n",
    "        return target\n",
    "            \n",
    "    def get_path(self, start, end):\n",
    "        'Function to return the shortest path from the starting node to the end node specified'\n",
    "        \n",
    "        return nx.shortest_path(G,source=str(start),target=str(end))\n",
    "    \n",
    "    def get_distance(self, path):\n",
    "        'Function to compute the distance of the path specified'\n",
    "        \n",
    "        distance = 0\n",
    "        \n",
    "        for i in range(len(path)-1):\n",
    "            distance += float(G.edges[(path[i], path[i+1], 0)]['length']) * 0.000621371\n",
    "            \n",
    "        return distance\n",
    "    \n",
    "    def leave_time(self):\n",
    "        'Function to decide a time to leave in the morning between 6 and 10 based on prob dist'\n",
    "        \n",
    "        return np.random.choice(np.arange(6, 10), p=[0.15, 0.35, 0.35, 0.15])\n",
    "    \n",
    "    def update_soc(self, distance):\n",
    "        'Function to calculate the SOC of the battery after the most recent trip'\n",
    "        \n",
    "        p_used = distance * 0.24\n",
    "        \n",
    "        self.SOC = self.SOC - p_used + 1 * (0.2 * 0 - 1/0.2 * 0)\n",
    "        \n",
    "        if self.SOC <= 20:\n",
    "            self.charge = True\n",
    "            print(self.name, \" Needs Charging\")\n",
    "            \n",
    "    def get_soc_perc(self):\n",
    "        'Function that updates the SOC as a percentage'\n",
    "        \n",
    "        self.SOC_perc = self.SOC / 75 *100\n",
    "            \n",
    "    def charging_check(self):\n",
    "        'Function to determine whether the EV is chargin or not'\n",
    "        \n",
    "        if self.SOC_perc < 80 and self.current_activity == \"Home\" or self.SOC_perc < 80 and self.current_activity == \"Work\" :\n",
    "            self.charge = True\n",
    "        else:\n",
    "            self.charge = False\n",
    "            \n",
    "    def charge_EV(self):\n",
    "        'Function to charge the EV'\n",
    "        \n",
    "        self.SOC += 7.104\n",
    "        self.get_soc_perc()\n",
    "        \n",
    "    \n",
    "    \n",
    "    def move(self, destination_node):\n",
    "        self.location = destination_node\n",
    "        self.model.graph.move_agent(self, self.location)\n",
    "        \n",
    "        \n",
    "    def step(self):\n",
    "        \n",
    "        self.charging_check()\n",
    "        \n",
    "        if self.leave_time == self.stepper:\n",
    "            self.move_check = True\n",
    "            \n",
    "        if self.charge:\n",
    "            print(self.name, \" Charging... \", self.SOC_perc, \", Location: \", self.current_activity)\n",
    "            self.model.schedule.agents[5].update_demand(7.104)\n",
    "            self.charge_EV()\n",
    "            print(self.name, \" Charging at end of hour \", self.SOC_perc)\n",
    "        \n",
    "        if self.move_check:\n",
    "            self.move_check = False\n",
    "            if self.activity_counter >= len(self.activities):\n",
    "                next_activity = \"Home\"\n",
    "            else:\n",
    "                next_activity = self.activities[self.activity_counter]\n",
    "\n",
    "            destination = self.find_node(next_activity)\n",
    "            path = self.get_path(self.location, destination)\n",
    "            #print(self.name ,\": Path: \", path)\n",
    "            distance = self.get_distance(path)\n",
    "            #print(self.name, \": Distance: \", distance)\n",
    "            self.distance_travelled += distance\n",
    "            self.update_soc(distance)\n",
    "            self.get_soc_perc()\n",
    "            \n",
    "            self.move(destination)\n",
    "            \n",
    "            self.current_activity = next_activity\n",
    "            self.activity_timer = self.activity_dict[self.current_activity]['time'] + 1\n",
    "            \n",
    "            self.activity_counter += 1\n",
    "\n",
    "\n",
    "            #self.distance_travelled += distance\n",
    "            'Work out battery SOC'\n",
    "            \n",
    "        self.activity_timer -= 1\n",
    "        \n",
    "        if self.activity_timer == 0 and self.activity_counter <= len(self.activities):\n",
    "            self.move_check = True\n",
    "            \n",
    "        self.stepper += 1 \n",
    "            \n"
   ]
  },
  {
   "cell_type": "code",
   "execution_count": 22,
   "metadata": {},
   "outputs": [],
   "source": [
    "class EVAggregatorAgent(mesa.Agent):\n",
    "    \n",
    "    'Agent to aggregate data from the EVs'\n",
    "    \n",
    "    def __init__(self, model):\n",
    "        super().__init__(self, model)\n",
    "        self.stepper = 0\n",
    "        self.agent_name = \"EV_Aggregator_Agent\"\n",
    "        self.EV_demand = 0\n",
    "        \n",
    "    def update_demand(self, demand):\n",
    "        'Function to update the total EV demand, called by EV agents'\n",
    "        \n",
    "        self.EV_demand += demand\n",
    "        \n",
    "    def step(self):\n",
    "        self.model.schedule.agents[6].update_EV_load(self.EV_demand)\n",
    "        self.EV_demand = 0\n"
   ]
  },
  {
   "cell_type": "code",
   "execution_count": 23,
   "metadata": {},
   "outputs": [],
   "source": [
    "class ControlAgent(mesa.Agent):\n",
    "    \n",
    "    'An agent to control the microgrid.'\n",
    "    \n",
    "    def __init__(self, model):\n",
    "        super().__init__(self, model)\n",
    "        self.stepper = 0\n",
    "        self.agent_name = \"Control_Agent\"\n",
    "        self.pv_output = 0\n",
    "        self.wt_output = 0\n",
    "        self.total_resi_load = 0\n",
    "        self.EV_load = 0\n",
    "        self.total_demand = 0\n",
    "        self.total_gen = 0\n",
    "        self.resi = []\n",
    "        self.ev = []\n",
    "        \n",
    "    def update_pv(self, new_pv):\n",
    "        self.pv_output = new_pv\n",
    "        \n",
    "    def update_wt(self, new_wt):\n",
    "        self.wt_output = new_wt\n",
    "        \n",
    "    def update_resi_load(self, load):\n",
    "        self.total_resi_load = load\n",
    "        \n",
    "    def update_EV_load(self, load):\n",
    "        self.EV_load = load\n",
    "        \n",
    "    def step(self):\n",
    "        \n",
    "        self.total_demand = self.total_resi_load + self.EV_load\n",
    "        self.total_gen = self.pv_output + self.wt_output\n",
    "        print(\"\\nTotal Generation: \", self.total_gen)\n",
    "        print(\"Total Demand: \", self.total_demand)\n",
    "        self.resi.append(self.total_resi_load)\n",
    "        self.ev.append(self.EV_load)\n",
    "        \n",
    "#         if self.stepper == 23:\n",
    "#             print(\"Load: \", self.resi)\n",
    "#             print(\"EV: \", self.ev)\n",
    "        \n",
    "        self.stepper += 1"
   ]
  },
  {
   "cell_type": "code",
   "execution_count": 28,
   "metadata": {},
   "outputs": [],
   "source": [
    "class MicrogridModel(mesa.Model):\n",
    "    \n",
    "    'A model to simulate a microgrid.'\n",
    "    \n",
    "    def __init__(self, pv_size, irr, ws, df, graph, activities):\n",
    "        self.month = 0\n",
    "        self.panel_size = pv_size\n",
    "        self.solar_data = irr\n",
    "        self.wind_data = ws\n",
    "        self.resi_df = df\n",
    "        self.resi_df_format = {}\n",
    "        self.houses = self.resi_df.keys()\n",
    "        self.graph = NetworkGrid(graph)\n",
    "        self.activities= activities\n",
    "        \n",
    "        self.schedule = mesa.time.BaseScheduler(self)\n",
    "        \n",
    "        self.day = 0\n",
    "        self.month = 0\n",
    "        \n",
    "        self.update_load_data()\n",
    "        \n",
    "        #Create agents\n",
    "        \n",
    "        #print(type(self.graph))\n",
    "        \n",
    "        res = RESAgent(self.panel_size, self)\n",
    "        residential = ResiLoadAgent(self, self.resi_df_format)\n",
    "        ev1 = EVAgent(self, activities, \"EV1\")\n",
    "        ev2 = EVAgent(self, activities, \"EV2\")\n",
    "        ev3= EVAgent(self, activities, \"EV3\")\n",
    "        ev_agg = EVAggregatorAgent(self)\n",
    "        ctrl = ControlAgent(self)\n",
    "\n",
    "        self.schedule.add(res)\n",
    "        self.schedule.add(residential)\n",
    "        self.schedule.add(ev1)\n",
    "        self.schedule.add(ev2)\n",
    "        self.schedule.add(ev3)\n",
    "        self.schedule.add(ev_agg)\n",
    "        self.schedule.add(ctrl)\n",
    "        \n",
    "        self.graph.place_agent(ev1, '647313')\n",
    "        self.graph.place_agent(ev2, '647313')\n",
    "        self.graph.place_agent(ev3, '647313')\n",
    "        \n",
    "    def update_date(self):\n",
    "        'Update to whether weekday or weekend data is being taken'\n",
    "        self.month += 1 if self.day == 1 else 0\n",
    "        self.day += 1 if self.day == 0 else -1\n",
    "        \n",
    "    def update_load_data(self):\n",
    "        'Function to update the data in the dataframe to the latest days'\n",
    "        for i in self.houses:\n",
    "            self.resi_df_format[i] = self.resi_df[i][self.month][self.day]\n",
    "        \n",
    "        \n",
    "    def step(self):\n",
    "        'Move the model forward by one time step'\n",
    "        self.update_load_data()\n",
    "        #print(\"Data: \", self.resi_df_format)\n",
    "        for i in range(24):\n",
    "            print(\"\\nHour: \", i)\n",
    "            self.schedule.step()\n",
    "            \n",
    "    "
   ]
  },
  {
   "cell_type": "code",
   "execution_count": null,
   "metadata": {},
   "outputs": [],
   "source": []
  },
  {
   "cell_type": "code",
   "execution_count": 33,
   "metadata": {},
   "outputs": [],
   "source": [
    "activities = {\"Home\": {\"node\": \"home\", \"time\" : 0},\n",
    "             \"Shopping\": {\"node\": \"leisure\", \"time\" : 2},\n",
    "             \"Other\": {\"node\": \"other\", \"time\" : 1},\n",
    "             \"Sport\": {\"node\": \"leisure\", \"time\" : 2},\n",
    "             \"Work1\": {\"node\": \"work\", \"time\" : 4},\n",
    "             \"Work2\": {\"node\": \"work\", \"time\" : 4},\n",
    "             \"Food\": {\"node\": \"leisure\", \"time\" : 1}}"
   ]
  },
  {
   "cell_type": "code",
   "execution_count": 34,
   "metadata": {},
   "outputs": [],
   "source": [
    "probs = [0.1, 0.1,0.1,0.1, 0.25, 0.25, 0.1]"
   ]
  },
  {
   "cell_type": "code",
   "execution_count": null,
   "metadata": {},
   "outputs": [],
   "source": []
  },
  {
   "cell_type": "code",
   "execution_count": 75,
   "metadata": {
    "scrolled": false
   },
   "outputs": [
    {
     "name": "stdout",
     "output_type": "stream",
     "text": [
      "EV1 : Activities:  ['Work2', 'Food', 'Work1', 'Home', 'Other']\n",
      "EV2 : Activities:  ['Food', 'Work2', 'Work1', 'Home']\n",
      "EV3 : Activities:  ['Work2', 'Work1', 'Food', 'Home']\n",
      "\n",
      "Hour:  0\n",
      "EV1  Charging...  26.666666666666668 , Location:  Home\n",
      "EV1  Charging at end of hour  36.138666666666666\n",
      "EV2  Charging...  26.666666666666668 , Location:  Home\n",
      "EV2  Charging at end of hour  36.138666666666666\n",
      "EV3  Charging...  26.666666666666668 , Location:  Home\n",
      "EV3  Charging at end of hour  36.138666666666666\n",
      "\n",
      "Total Generation:  0.0\n",
      "Total Demand:  34.476893779020926\n",
      "\n",
      "Hour:  1\n",
      "EV1  Charging...  36.138666666666666 , Location:  Home\n",
      "EV1  Charging at end of hour  45.61066666666667\n",
      "EV2  Charging...  36.138666666666666 , Location:  Home\n",
      "EV2  Charging at end of hour  45.61066666666667\n",
      "EV3  Charging...  36.138666666666666 , Location:  Home\n",
      "EV3  Charging at end of hour  45.61066666666667\n",
      "\n",
      "Total Generation:  0.0\n",
      "Total Demand:  32.09580521416979\n",
      "\n",
      "Hour:  2\n",
      "EV1  Charging...  45.61066666666667 , Location:  Home\n",
      "EV1  Charging at end of hour  55.08266666666667\n",
      "EV2  Charging...  45.61066666666667 , Location:  Home\n",
      "EV2  Charging at end of hour  55.08266666666667\n",
      "EV3  Charging...  45.61066666666667 , Location:  Home\n",
      "EV3  Charging at end of hour  55.08266666666667\n",
      "\n",
      "Total Generation:  0.3207931670579745\n",
      "Total Demand:  31.455040788078108\n",
      "\n",
      "Hour:  3\n",
      "EV1  Charging...  55.08266666666667 , Location:  Home\n",
      "EV1  Charging at end of hour  64.55466666666666\n",
      "EV2  Charging...  55.08266666666667 , Location:  Home\n",
      "EV2  Charging at end of hour  64.55466666666666\n",
      "EV3  Charging...  55.08266666666667 , Location:  Home\n",
      "EV3  Charging at end of hour  64.55466666666666\n",
      "\n",
      "Total Generation:  0.0\n",
      "Total Demand:  31.14946257711623\n",
      "\n",
      "Hour:  4\n",
      "EV1  Charging...  64.55466666666666 , Location:  Home\n",
      "EV1  Charging at end of hour  74.02666666666666\n",
      "EV2  Charging...  64.55466666666666 , Location:  Home\n",
      "EV2  Charging at end of hour  74.02666666666666\n",
      "EV3  Charging...  64.55466666666666 , Location:  Home\n",
      "EV3  Charging at end of hour  74.02666666666666\n",
      "\n",
      "Total Generation:  0.0\n",
      "Total Demand:  31.09038491162489\n",
      "\n",
      "Hour:  5\n",
      "EV1  Charging...  74.02666666666666 , Location:  Home\n",
      "EV1  Charging at end of hour  83.49866666666667\n",
      "EV2  Charging...  74.02666666666666 , Location:  Home\n",
      "EV2  Charging at end of hour  83.49866666666667\n",
      "EV3  Charging...  74.02666666666666 , Location:  Home\n",
      "EV3  Charging at end of hour  83.49866666666667\n",
      "\n",
      "Total Generation:  0.16263188504581697\n",
      "Total Demand:  32.45228582098871\n",
      "\n",
      "Hour:  6\n",
      "\n",
      "Total Generation:  0.023970626122736854\n",
      "Total Demand:  16.495833611239746\n",
      "\n",
      "Hour:  7\n",
      "\n",
      "Total Generation:  0.18350366359356418\n",
      "Total Demand:  30.98065868305863\n",
      "\n",
      "Hour:  8\n",
      "\n",
      "Total Generation:  0.0\n",
      "Total Demand:  27.529982385924445\n",
      "\n",
      "Hour:  9\n",
      "\n",
      "Total Generation:  1.037243032235986\n",
      "Total Demand:  21.288067242026145\n",
      "\n",
      "Hour:  10\n",
      "\n",
      "Total Generation:  1.2465070713214852\n",
      "Total Demand:  20.07174397622505\n",
      "\n",
      "Hour:  11\n",
      "\n",
      "Total Generation:  1.5253715069590155\n",
      "Total Demand:  19.28994558049473\n",
      "\n",
      "Hour:  12\n",
      "\n",
      "Total Generation:  1.6168672658100507\n",
      "Total Demand:  20.513706130503387\n",
      "\n",
      "Hour:  13\n",
      "\n",
      "Total Generation:  1.585765589827303\n",
      "Total Demand:  19.774460240322465\n",
      "\n",
      "Hour:  14\n",
      "\n",
      "Total Generation:  1.3423308125147595\n",
      "Total Demand:  20.25812093792483\n",
      "\n",
      "Hour:  15\n",
      "\n",
      "Total Generation:  0.9455758879682651\n",
      "Total Demand:  20.798077155360403\n",
      "\n",
      "Hour:  16\n",
      "\n",
      "Total Generation:  1.0045323577412424\n",
      "Total Demand:  28.26896730199621\n",
      "\n",
      "Hour:  17\n",
      "\n",
      "Total Generation:  0.0\n",
      "Total Demand:  38.66891444532874\n",
      "\n",
      "Hour:  18\n",
      "\n",
      "Total Generation:  0.0\n",
      "Total Demand:  43.36328627052155\n",
      "\n",
      "Hour:  19\n",
      "\n",
      "Total Generation:  0.05701327141977666\n",
      "Total Demand:  41.60449969182103\n",
      "\n",
      "Hour:  20\n",
      "EV1  Charging...  79.49392778792458 , Location:  Home\n",
      "EV1  Charging at end of hour  88.96592778792457\n",
      "\n",
      "Total Generation:  0.0\n",
      "Total Demand:  45.39035595832651\n",
      "\n",
      "Hour:  21\n",
      "EV2  Charging...  78.26689404680458 , Location:  Home\n",
      "EV2  Charging at end of hour  87.73889404680459\n",
      "EV3  Charging...  78.5711067499524 , Location:  Home\n",
      "EV3  Charging at end of hour  88.04310674995241\n",
      "\n",
      "Total Generation:  0.10642086175881581\n",
      "Total Demand:  47.301389673000216\n",
      "\n",
      "Hour:  22\n",
      "\n",
      "Total Generation:  0.013457345180196676\n",
      "Total Demand:  26.076822613513002\n",
      "\n",
      "Hour:  23\n",
      "\n",
      "Total Generation:  0.23777324332241584\n",
      "Total Demand:  18.485800593604502\n"
     ]
    }
   ],
   "source": [
    "empty_model = MicrogridModel(10, solar_data, wind_data, df, G, activities)\n",
    "empty_model.step()"
   ]
  },
  {
   "cell_type": "code",
   "execution_count": 67,
   "metadata": {},
   "outputs": [
    {
     "data": {
      "text/plain": [
       "{'y': '55.9352985',\n",
       " 'x': '-3.3069659',\n",
       " 'street_count': '3',\n",
       " 'type': 'home',\n",
       " 'agent': [<__main__.EVAgent at 0x1a3450f8bb0>,\n",
       "  <__main__.EVAgent at 0x1a3450f8c10>,\n",
       "  <__main__.EVAgent at 0x1a34513d0a0>]}"
      ]
     },
     "execution_count": 67,
     "metadata": {},
     "output_type": "execute_result"
    }
   ],
   "source": [
    "G.nodes['647313']"
   ]
  },
  {
   "cell_type": "code",
   "execution_count": 69,
   "metadata": {},
   "outputs": [
    {
     "data": {
      "text/plain": [
       "{'y': '55.9415554',\n",
       " 'x': '-3.1782155',\n",
       " 'street_count': '3',\n",
       " 'type': 'work',\n",
       " 'agent': []}"
      ]
     },
     "execution_count": 69,
     "metadata": {},
     "output_type": "execute_result"
    }
   ],
   "source": [
    "G.nodes['13796018']"
   ]
  },
  {
   "cell_type": "code",
   "execution_count": 41,
   "metadata": {},
   "outputs": [
    {
     "data": {
      "text/plain": [
       "array([7])"
      ]
     },
     "execution_count": 41,
     "metadata": {},
     "output_type": "execute_result"
    }
   ],
   "source": [
    "np.array([7])"
   ]
  },
  {
   "cell_type": "code",
   "execution_count": 42,
   "metadata": {},
   "outputs": [],
   "source": [
    "max_bound = np.array([0])\n",
    "min_bound = np.array([7])\n",
    "bounds = (min_bound, max_bound)"
   ]
  },
  {
   "cell_type": "code",
   "execution_count": 43,
   "metadata": {},
   "outputs": [],
   "source": []
  },
  {
   "cell_type": "code",
   "execution_count": 94,
   "metadata": {},
   "outputs": [],
   "source": [
    "optimizer = ps.single.GlobalBestPSO(n_particles=10, dimensions=2, options=options, bounds=bounds)"
   ]
  },
  {
   "cell_type": "code",
   "execution_count": 29,
   "metadata": {},
   "outputs": [
    {
     "name": "stderr",
     "output_type": "stream",
     "text": [
      "2022-07-27 14:12:50,139 - pyswarms.single.global_best - INFO - Optimize for 1000 iters with {'c1': 0.5, 'c2': 0.3, 'w': 0.9}\n",
      "pyswarms.single.global_best: 100%|██████████|1000/1000, best_cost=0      \n",
      "2022-07-27 14:12:51,179 - pyswarms.single.global_best - INFO - Optimization finished | best cost: 0.0, best pos: [-3.03322400e-09  1.48090581e-09]\n"
     ]
    }
   ],
   "source": []
  },
  {
   "cell_type": "code",
   "execution_count": 30,
   "metadata": {},
   "outputs": [
    {
     "data": {
      "text/plain": [
       "array([-3.03322400e-09,  1.48090581e-09])"
      ]
     },
     "execution_count": 30,
     "metadata": {},
     "output_type": "execute_result"
    }
   ],
   "source": [
    "pos"
   ]
  },
  {
   "cell_type": "code",
   "execution_count": 93,
   "metadata": {},
   "outputs": [],
   "source": [
    "x_max = 10 * np.ones(2)\n",
    "x_min = -1 * x_max\n",
    "bounds = (x_min, x_max)"
   ]
  },
  {
   "cell_type": "code",
   "execution_count": 114,
   "metadata": {},
   "outputs": [],
   "source": [
    "def obj_function2(x, a, b, c=0):\n",
    "    print(\"x: \", x.shape)\n",
    "    f = (a - x[:, 0]) ** 2 + b * (x[:, 1] - x[:, 0] ** 2) ** 2 + c\n",
    "    print(f.shape)\n",
    "    return f"
   ]
  },
  {
   "cell_type": "code",
   "execution_count": 268,
   "metadata": {},
   "outputs": [],
   "source": [
    "def obj_function(x, demand, charges):\n",
    "    perc = x/charges*100\n",
    "    #print(\"Perc: \", perc)\n",
    "    #print(\"Var: \",np.var(perc, axis=1) )\n",
    "    value = abs(demand-np.sum(x,axis=1)) + np.var(perc, axis=1)\n",
    "    return value"
   ]
  },
  {
   "cell_type": "code",
   "execution_count": 146,
   "metadata": {
    "scrolled": true
   },
   "outputs": [
    {
     "ename": "NameError",
     "evalue": "name 'obj_function2' is not defined",
     "output_type": "error",
     "traceback": [
      "\u001b[1;31m---------------------------------------------------------------------------\u001b[0m",
      "\u001b[1;31mNameError\u001b[0m                                 Traceback (most recent call last)",
      "\u001b[1;32m<ipython-input-146-a193174e221c>\u001b[0m in \u001b[0;36m<module>\u001b[1;34m\u001b[0m\n\u001b[1;32m----> 1\u001b[1;33m \u001b[0mcost\u001b[0m\u001b[1;33m,\u001b[0m \u001b[0mpos\u001b[0m \u001b[1;33m=\u001b[0m \u001b[0moptimizer\u001b[0m\u001b[1;33m.\u001b[0m\u001b[0moptimize\u001b[0m\u001b[1;33m(\u001b[0m\u001b[0mobj_function2\u001b[0m\u001b[1;33m,\u001b[0m \u001b[0miters\u001b[0m\u001b[1;33m=\u001b[0m\u001b[1;36m10\u001b[0m\u001b[1;33m,\u001b[0m \u001b[0ma\u001b[0m\u001b[1;33m=\u001b[0m\u001b[1;36m1\u001b[0m\u001b[1;33m,\u001b[0m \u001b[0mb\u001b[0m\u001b[1;33m=\u001b[0m\u001b[1;36m100\u001b[0m\u001b[1;33m,\u001b[0m \u001b[0mc\u001b[0m\u001b[1;33m=\u001b[0m\u001b[1;36m0\u001b[0m\u001b[1;33m)\u001b[0m\u001b[1;33m\u001b[0m\u001b[1;33m\u001b[0m\u001b[0m\n\u001b[0m",
      "\u001b[1;31mNameError\u001b[0m: name 'obj_function2' is not defined"
     ]
    }
   ],
   "source": [
    "cost, pos = optimizer.optimize(obj_function2, iters=10, a=1, b=100, c=0)"
   ]
  },
  {
   "cell_type": "code",
   "execution_count": 65,
   "metadata": {},
   "outputs": [],
   "source": [
    "x = np.array([6.95863279, 1.85542729, 2.72346594,3.20903745, 6.20776393, 1.61877223,  5.9358496 ])\n"
   ]
  },
  {
   "cell_type": "code",
   "execution_count": 73,
   "metadata": {},
   "outputs": [
    {
     "data": {
      "text/plain": [
       "28.508949230000002"
      ]
     },
     "execution_count": 73,
     "metadata": {},
     "output_type": "execute_result"
    }
   ],
   "source": [
    "x.sum()"
   ]
  },
  {
   "cell_type": "code",
   "execution_count": 356,
   "metadata": {},
   "outputs": [],
   "source": [
    "options = {'c1': 0.3, 'c2': 0.5, 'w':0.7}"
   ]
  },
  {
   "cell_type": "code",
   "execution_count": 357,
   "metadata": {},
   "outputs": [],
   "source": [
    "bounds = (np.array([0,0,0]),np.array([7,7,7]))"
   ]
  },
  {
   "cell_type": "code",
   "execution_count": 358,
   "metadata": {},
   "outputs": [],
   "source": [
    "optimizer = ps.single.GlobalBestPSO(n_particles=50, dimensions=3, options=options, bounds=bounds)"
   ]
  },
  {
   "cell_type": "code",
   "execution_count": 359,
   "metadata": {
    "scrolled": true
   },
   "outputs": [
    {
     "name": "stderr",
     "output_type": "stream",
     "text": [
      "2022-07-27 15:39:03,869 - pyswarms.single.global_best - INFO - Optimize for 100 iters with {'c1': 0.3, 'c2': 0.5, 'w': 0.7}\n",
      "pyswarms.single.global_best: 100%|██████████|100/100, best_cost=0.000221\n",
      "2022-07-27 15:39:03,963 - pyswarms.single.global_best - INFO - Optimization finished | best cost: 0.00022125593555870154, best pos: [5.61189226 0.80078865 5.58731909]\n"
     ]
    }
   ],
   "source": [
    "cost, pos = optimizer.optimize(obj_function, iters=100, demand=12, charges=np.array([70, 10, 70]))"
   ]
  },
  {
   "cell_type": "code",
   "execution_count": 360,
   "metadata": {},
   "outputs": [
    {
     "data": {
      "text/plain": [
       "array([5.61189226, 0.80078865, 5.58731909])"
      ]
     },
     "execution_count": 360,
     "metadata": {},
     "output_type": "execute_result"
    }
   ],
   "source": [
    "pos"
   ]
  },
  {
   "cell_type": "code",
   "execution_count": 361,
   "metadata": {},
   "outputs": [
    {
     "data": {
      "text/plain": [
       "11.9999999985025"
      ]
     },
     "execution_count": 361,
     "metadata": {},
     "output_type": "execute_result"
    }
   ],
   "source": [
    "pos.sum()"
   ]
  },
  {
   "cell_type": "code",
   "execution_count": null,
   "metadata": {},
   "outputs": [],
   "source": []
  },
  {
   "cell_type": "code",
   "execution_count": null,
   "metadata": {},
   "outputs": [],
   "source": []
  },
  {
   "cell_type": "code",
   "execution_count": null,
   "metadata": {},
   "outputs": [],
   "source": []
  },
  {
   "cell_type": "code",
   "execution_count": null,
   "metadata": {},
   "outputs": [],
   "source": []
  },
  {
   "cell_type": "code",
   "execution_count": 167,
   "metadata": {},
   "outputs": [],
   "source": [
    "charges = np.array([[75, 60, 37.5], [50, 50, 50],[10,10,10]])"
   ]
  },
  {
   "cell_type": "code",
   "execution_count": 168,
   "metadata": {},
   "outputs": [],
   "source": [
    "values = np.array([5, 2, 4])"
   ]
  },
  {
   "cell_type": "code",
   "execution_count": 170,
   "metadata": {},
   "outputs": [
    {
     "data": {
      "text/plain": [
       "array([[ 6.66666667,  3.33333333, 10.66666667],\n",
       "       [10.        ,  4.        ,  8.        ],\n",
       "       [50.        , 20.        , 40.        ]])"
      ]
     },
     "execution_count": 170,
     "metadata": {},
     "output_type": "execute_result"
    }
   ],
   "source": [
    "m = values/charges*100\n",
    "m"
   ]
  },
  {
   "cell_type": "code",
   "execution_count": 172,
   "metadata": {},
   "outputs": [
    {
     "data": {
      "text/plain": [
       "36.666666666666664"
      ]
     },
     "execution_count": 172,
     "metadata": {},
     "output_type": "execute_result"
    }
   ],
   "source": [
    "np.mean(m[2])"
   ]
  },
  {
   "cell_type": "code",
   "execution_count": 171,
   "metadata": {},
   "outputs": [
    {
     "data": {
      "text/plain": [
       "array([ 6.88888889,  7.33333333, 36.66666667])"
      ]
     },
     "execution_count": 171,
     "metadata": {},
     "output_type": "execute_result"
    }
   ],
   "source": [
    "np.mean(m, axis=1)"
   ]
  },
  {
   "cell_type": "code",
   "execution_count": 144,
   "metadata": {},
   "outputs": [
    {
     "data": {
      "text/plain": [
       "array([[16.66666667, 13.33333333, 20.66666667],\n",
       "       [20.        , 14.        , 18.        ]])"
      ]
     },
     "execution_count": 144,
     "metadata": {},
     "output_type": "execute_result"
    }
   ],
   "source": [
    "m+10\n"
   ]
  },
  {
   "cell_type": "code",
   "execution_count": 190,
   "metadata": {},
   "outputs": [
    {
     "data": {
      "text/plain": [
       "array([  8.98765432,   6.22222222, 155.55555556])"
      ]
     },
     "execution_count": 190,
     "metadata": {},
     "output_type": "execute_result"
    }
   ],
   "source": [
    "np.var(m, axis=1)"
   ]
  },
  {
   "cell_type": "code",
   "execution_count": null,
   "metadata": {},
   "outputs": [],
   "source": []
  }
 ],
 "metadata": {
  "kernelspec": {
   "display_name": "Python 3",
   "language": "python",
   "name": "python3"
  },
  "language_info": {
   "codemirror_mode": {
    "name": "ipython",
    "version": 3
   },
   "file_extension": ".py",
   "mimetype": "text/x-python",
   "name": "python",
   "nbconvert_exporter": "python",
   "pygments_lexer": "ipython3",
   "version": "3.8.3"
  }
 },
 "nbformat": 4,
 "nbformat_minor": 4
}
